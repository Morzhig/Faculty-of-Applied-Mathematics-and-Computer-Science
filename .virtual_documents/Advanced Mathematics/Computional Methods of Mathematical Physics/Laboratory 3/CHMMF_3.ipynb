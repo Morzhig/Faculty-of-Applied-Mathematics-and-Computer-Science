import pandas as pd
import numpy as np
import matplotlib.pyplot as plt

from sklearn.metrics import mean_squared_error








def generate_grids(left_border, right_border, num_x_points, upper_bound, num_t_points):
    h = (right_border-left_border) / num_x_points
    nodes_x = np.linspace(left_border, right_border, num_x_points+1)
    tau = upper_bound / num_t_points
    nodes_t = np.linspace(0, upper_bound, num_t_points + 1)
    
    return nodes_x, nodes_t, h, tau





def u(x, t, a, u_0):
    return u_0(x - a * t)
    
a = 10

def u_0(x):
    return x**2

def mu(t):
    return 100*t**2






def diff_scheme_solve(nodes_x, nodes_t, h, tau, sigma, u_0, a):
    gamma = a * tau / h
    y = np.zeros((len(nodes_x), len(nodes_t)))

    for k in range(len(nodes_x)):
        y[k, 0] = u_0(nodes_x[k])
        
    for j in range(len(nodes_t)):
        y[0, j] = mu(nodes_t[j])

    for k in range(len(nodes_x)-1):
        for j in range(len(nodes_t)-1):
            y[k, j + 1] = (1 + sigma * gamma)**(-1) * (y[k, j] * (1 - (1 - sigma) * gamma) + y[k-1, j] * ((1 - sigma) * gamma) + y[k-1, j+1] * sigma * gamma)
            
    return y





nodes_x, nodes_t, h, tau = generate_grids(0, 3, 5, 1/4, 5)
sigma = 1 / 2

print(f'h = {h}')
print(f'tau = {tau}')





print(h > a * tau * (sigma - 1))





y = diff_scheme_solve(nodes_x, nodes_t, h, tau, sigma, u_0, a)

for j, t in enumerate(nodes_t):
    plt.figure(figsize=(16, 8))
    plt.plot(nodes_x[:-1], y[:-1, j], label='numerical solution')
    plt.plot(nodes_x, u(nodes_x, t, a, u_0), label='exact solution')
    plt.grid(True)
    plt.xlabel('x')
    plt.ylabel('u(x,t)')
    plt.title('Approximation in t_' + str(j) + '=' + str(round(t, 2)))
    plt.legend()
    plt.show()











print(sigma > 1/2 + h / (2 * a * tau))





sigma = 5 / 4 

print(sigma > 1 / 2 + h / (2 * a * tau))





y = diff_scheme_solve(nodes_x, nodes_t, h, tau, sigma, u_0, a)

for j, t in enumerate(nodes_t):
    plt.figure(figsize=(16, 8))
    plt.plot(nodes_x[:-1], y[:-1, j], label='numerical solution')
    plt.plot(nodes_x, u(nodes_x, t, a, u_0), label='exact solution')
    plt.grid(True)
    plt.xlabel('x')
    plt.ylabel('u(x,t)')
    plt.title('Approximation in t_' + str(j) + '=' + str(round(t, 2)))
    plt.legend()
    plt.show()



