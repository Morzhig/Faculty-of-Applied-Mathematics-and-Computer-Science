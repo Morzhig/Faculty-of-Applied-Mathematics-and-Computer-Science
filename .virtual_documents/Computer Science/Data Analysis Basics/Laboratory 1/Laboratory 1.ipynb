


import pandas as pd
import numpy as np





df = pd.DataFrame(pd.read_csv(r'avianHabitat.csv'))

df





df.isna().sum()





df['HHt'].describe()





print(f'Медиана = {df['HHt'].median()}')
print(f'Мода = {df['HHt'].mode()}')
print(f'Дисперсия = {df['HHt'].var()}')
print(f'Среднеквадратичное отклонение = {df['HHt'].var()**(1/2)}')
print(f'Ассиметрия = {df['HHt'].skew()}')
print(f'Эксцесс = {df['HHt'].kurtosis()}')





import seaborn as sns
from matplotlib import pyplot as plt

sns.boxplot(df['HHt'])

plt.show()





sns.boxplot(df[['HHt','LHt']])

plt.show()





df_sorted = sorted(df['HHt'])

cdf = pd.DataFrame( {0: df_sorted, 1:np.arange(len(df_sorted))/len(df_sorted)} )
cdf





cdf.plot(0,1, grid=True, label='ЭФР', xlabel='Высота травяных растений')

plt.show()





from statsmodels.distributions.empirical_distribution import ECDF

cdf.plot(0, 1, grid=True, label='Вручную', xlabel='Высота травяных растений')

ecdf = ECDF(df['HHt'])
x = np.linspace(min(df['HHt']), max(df['HHt']))
y = ecdf(x)

plt.step(x, y, label='Автоматически')
plt.xlabel('Значение')
plt.ylabel('Эмпирическая Функция Распределения')

data_normal = np.random.normal(loc=2.3, scale=1, size=1000)
ecdf_normal = ECDF(data_normal)
x_normal = np.linspace(min(data_normal), max(data_normal))
y_normal = ecdf_normal(x_normal)

plt.step(x_normal, y_normal, label='Нормальное распределение', linestyle='--')
plt.title('Эмпирическая Функция Распределения')
plt.legend()
plt.grid(True)
plt.show()








sns.histplot(df['HHt'], kde=True)

plt.title('Histogram and kde of HHt')
plt.show()





import statsmodels.api as sm

sm.qqplot(df['HHt'], line='r')

plt.show()






