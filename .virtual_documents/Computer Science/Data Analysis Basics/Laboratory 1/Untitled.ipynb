


import pandas as pd
import numpy as np





df = pd.DataFrame(pd.read_csv(r'avianHabitat.csv'))

df





df.isna().sum()





df['HHt'].describe()





print(f'Медиана = {df['HHt'].median()}')
print(f'Мода = {df['HHt'].mode()}')
print(f'Дисперсия = {df['HHt'].var()}')
print(f'Среднеквадратичное отклонение = {df['HHt'].var()**(1/2)}')
print(f'Ассиметрия = {df['HHt'].skew()}')
print(f'Эксцесс = {df['HHt'].kurtosis()}')





import seaborn as sns

sns.boxplot(df['HHt'])





sns.boxplot(df[['HHt','LHt']])





df_sorted = sorted(df['HHt'])

cdf = pd.DataFrame( {0: df_sorted, 1:np.arange(len(df_sorted))/len(df_sorted)} )
cdf





cdf.plot(0,1, grid=True, label='ЭФР', xlabel='Высота травяных растений')



