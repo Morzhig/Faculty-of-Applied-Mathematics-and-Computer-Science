


import pandas as pd
import numpy as np
import seaborn as sns

from matplotlib import pyplot as plt
from scipy.stats import norm, lognorm, expon
from statsmodels.distributions.empirical_distribution import ECDF





df = pd.read_csv(r'train.csv')

df





df['SalePrice'].describe()





df = df[df['SalePrice'] < 419248]
data = df['SalePrice']

data.describe()





sns.histplot(data, kde=True)

plt.title('Histogram of Sale Prices')
plt.show()





df_chi2 = len(data) - 1
chi2_dist = np.random.chisquare(df_chi2, len(data))
sns.histplot(chi2_dist, kde=True)
plt.xlabel('SalePrice')
plt.ylabel('Density')
plt.title('Chi-squared Distribution')
plt.show()

loc, scale = expon.fit(data)
ex_dist = np.random.exponential(scale, len(data))
sns.histplot(ex_dist, kde=True)
plt.xlabel('SalePrice')
plt.ylabel('Density')
plt.title('Exponential Distribution')
plt.show()

mu, std = norm.fit(data)
n_dist = np.random.normal(mu, std, len(data))
sns.histplot(n_dist, kde=True)
plt.xlabel('SalePrice')
plt.ylabel('Density')
plt.title('Normal Distribution')
plt.show()





print(f'Параметры распределения для хи-квадрат распределения: {chi2_dist}.')
print(f'Параметры распределения для экспоненциального распределения: {loc}, {scale}.')
print(f'Параметры распредлеения для нормального распределения: {mu}, {std}')





import scipy

def chi_square(data_approx, data):
    if np.sum(data_approx) != np.sum(data):
        data_approx = data_approx * np.sum(data) / np.sum(data_approx)

    chi_2 = np.sum((data_approx - data)**2 / data)

    df = len(data) - 1
    p_value = 1 - scipy.stats.chi2.cdf(chi_2, df)
    return chi_2, p_value

print(f'Тест Хи-квадрат для хи-квадрат распределения: {chi_square(chi2_dist, data)}')
print(f'Тест Хи-квадрат для экспоненчиального распределения: {chi_square(ex_dist, data)}')
print(f'Тест Хи-квадрат для нормального распределения: {chi_square(n_dist, data)}')








for dist in [chi2_dist, ex_dist, n_dist]:
    if np.sum(dist) != np.sum(data):
        dist = dist * np.sum(data) / np.sum(dist)

    print(f'Тест Хи-квадрат для {dist}: {scipy.stats.chisquare(dist, data)}')


