import pandas as pd 
import numpy as np


df_titanic = pd.read_csv(r'D:/Faculty-of-Applied-Mathematics-and-Computer-Science/Computer Science/Methods and Algorithms of Data Analysis/Laboratory 2/Datasets/Titanic/train.csv')

df_titanic = df_titanic.drop(columns=['PassengerId', 'Survived', 'Name', 'SibSp', 'Parch', 'Ticket', 'Fare', 'Cabin', 'Embarked'])

df_titanic


def typeofcolumn(df):
    titanic = []
    titanic = df.columns
    
    for a in titanic:
        if df[a].dtype == 'int64':
            print(f'Столбец {a} отражает шкалу отношений')
        elif df[a].dtype == 'object':
            print(f'Столбец {a} отражает номинальную шкалу')
        else:
            print(f'Столбец {a} отражает порядковую шкалу')

typeofcolumn(df_titanic)


def to_nominal(df):
    df_nominal = pd.DataFrame(columns=['Age', 'Sex', 'Pclass'])

    for index, row in df.iterrows():
        if row['Age'] < 20:
            df_nominal = pd.concat([df_nominal, pd.DataFrame({'Age': ['young']})], ignore_index=True)
        elif row['Age'] >= 20 and row['Age'] < 40:
            df_nominal = pd.concat([df_nominal, pd.DataFrame({'Age': ['middle aged']})], ignore_index=True)
        else:
            df_nominal = pd.concat([df_nominal, pd.DataFrame({'Age': ['old']})], ignore_index=True)

        if row['Pclass'] == 1:
            df_nominal.at[index, 'Pclass'] = 'cheap'
        elif row['Pclass'] == 2:
            df_nominal.at[index, 'Pclass'] = 'middle'
        else:
            df_nominal.at[index, 'Pclass'] = 'premium'

    df_nominal['Sex'] = df['Sex']
    
    return df_nominal

to_nominal(df_titanic)


def to_order(df):
    



