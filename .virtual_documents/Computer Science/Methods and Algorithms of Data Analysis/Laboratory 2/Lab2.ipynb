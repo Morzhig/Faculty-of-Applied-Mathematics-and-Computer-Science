


import pandas as pd 
import numpy as np
import matplotlib.pyplot as plt

from scipy.stats import ttest_ind





df_titanic = pd.read_csv(r'D:/Faculty-of-Applied-Mathematics-and-Computer-Science/Computer Science/Methods and Algorithms of Data Analysis/Laboratory 2/Datasets/Titanic.csv')
df_happy = pd.read_csv(r'D:/Faculty-of-Applied-Mathematics-and-Computer-Science/Computer Science/Methods and Algorithms of Data Analysis/Laboratory 2/Datasets/Happy.csv')
df_stud = pd.read_csv(r'D:/Faculty-of-Applied-Mathematics-and-Computer-Science/Computer Science/Methods and Algorithms of Data Analysis/Laboratory 2/Datasets/StudentsPerformance.csv')





df_titanic = df_titanic.drop(columns=['PassengerId', 'Survived', 'Name', 'SibSp', 'Parch', 'Ticket', 'Fare', 'Cabin', 'Embarked'])

df_titanic





df_titanic.isna().sum()





df_titanic = df_titanic.dropna().reset_index()

df_titanic


def typeofcolumn(df):
    titanic = []
    titanic = df.columns[1:]
    
    for a in titanic:
        if df[a].dtype == 'int64':
            print(f'Столбец {a} отражает шкалу отношений')
        elif df[a].dtype == 'object':
            print(f'Столбец {a} отражает номинальную шкалу')
        else:
            print(f'Столбец {a} отражает порядковую шкалу')

typeofcolumn(df_titanic)





def to_nominal(df):
    df_nominal = pd.DataFrame(columns=['Pclass', 'Sex', 'Age'])

    for index, row in df.iterrows():
        if pd.isnull(row['Age']):
            age_group = 'unknown'
        elif row['Age'] < 20:
            age_group = 'young'
        elif row['Age'] >= 20 and row['Age'] < 40:
            age_group = 'middle aged'
        else:
            age_group = 'old'

        if row['Pclass'] == 1:
            pclass_group = 'cheap'
        elif row['Pclass'] == 2:
            pclass_group = 'middle'
        elif row['Pclass'] == 3:
            pclass_group = 'premium'

        temp_df = pd.DataFrame({'Pclass': [pclass_group], 'Sex': [row['Sex']], 'Age': [age_group]})
        df_nominal = pd.concat([df_nominal, temp_df], ignore_index=True)

    return df_nominal

to_nominal(df_titanic)





def stats(df):
    print(f'Среднее значение для класса билетов: {df['Pclass'].mean()}')
    print(f'Мода пола: {df['Sex'].mode()}')
    print(f'Медиана возраста: {df['Age'].median()}')

stats(df_titanic)








df_happy


df_happy.describe()


df_happy.isna().sum()





typeofcolumn(df_happy)


def create_charts(df):
    plt.figure(figsize=(10, 6))
    df['Region'].value_counts().plot(kind='bar', color='skyblue')
    plt.title('Распределение регионов')
    plt.xlabel('Регион')
    plt.ylabel('Количество')
    plt.xticks(rotation=45)
    plt.show()

    plt.figure(figsize=(12, 6))
    plt.hist(df['Happiness Score'], bins=5, color='lightcoral', alpha=0.7, label='Happiness Score')
    plt.hist(df['Economy (GDP per Capita)'], bins=5, color='lightblue', alpha=0.7, label='Economy (GDP per Capita)')
    plt.hist(df['Health (Life Expectancy)'], bins=5, color='lightgreen', alpha=0.7, label='Health (Life Expectancy)')
    plt.legend()
    plt.title('Распределение по показателям Happiness Score, Economy и Health')
    plt.xlabel('Значение')
    plt.ylabel('Частота')
    plt.show()

create_charts(df_happy)





df_stud


df_stud.isna().sum()





def analyze_data(group1, group2):
    t_stat, p_val = ttest_ind(group1, group2)

    plt.figure(figsize=(10, 6))
    plt.hist(group1, alpha=0.5, label='Мужчины', color='blue')
    plt.hist(group2, alpha=0.5, label='Женщины', color='green')
    plt.xlabel('Оценка')
    plt.ylabel('Количество')
    plt.title('Распределение оценок двух групп')
    plt.legend()
    plt.show()

    print(f'p-значение t-статистики равно {p_val}')

group1 = df_stud[df_stud['gender'] == 'male']['math score']
group2 = df_stud[df_stud['gender'] == 'female']['math score']
 
analyze_data(group1, group2)



