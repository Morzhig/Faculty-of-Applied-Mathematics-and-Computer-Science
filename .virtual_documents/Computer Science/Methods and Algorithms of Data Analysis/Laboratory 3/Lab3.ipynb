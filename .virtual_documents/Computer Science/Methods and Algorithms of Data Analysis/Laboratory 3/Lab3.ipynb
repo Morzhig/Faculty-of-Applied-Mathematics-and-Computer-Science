


import pandas as pd
import numpy as np
import random
import matplotlib.pyplot as plt

from datetime import date, datetime, timedelta





df_retail = pd.read_csv(r'Datasets/online_retail_II.csv')


df_retail.head()
df_retail.info()





for a in df_retail.columns:
    print(f'Пустых полей в колонке {a}: {df_retail[a].isna().sum()}')





for a in df_retail.columns:
    if any(df_retail[a].isna()):
        print(f'Пустые поля в {a} составляют {df_retail[a].isna().sum()/df_retail[a].count() * 100}%')








df_temperatures = pd.read_csv(r'Datasets/GlobalTemperatures.csv')


df_temperatures.head()


df_temperatures.info()


def format(df):
    list = []
    
    for a in df['dt']:
        if datetime.strptime(a, '%Y-%M-%d'):
            list.append('Correct format')
        else:
            list.append('Wrong format')
    df['format'] = list

format(df_temperatures)

df_temperatures['format'].value_counts()








df_covid = pd.read_csv(r'Datasets/covid19_tweets.csv')


df_covid.head()


df_covid.info()





df_covid['date'] = [datetime.strptime(a, "%Y-%m-%d %H:%M:%S").date() for a in df_covid['date']]





def is_fresh(df):
    today = date.today()
    list = []
    
    for a in df['date']:
        if (today - a).days > 14:
            list.append('Outdated')
        else:
            list.append('Fresh')
    df['Freshness'] = list

is_fresh(df_covid)

df_covid['Freshness'].value_counts()





start_date = df_covid['date'][0]
end_date = date.today()
num_dates = df_covid['date'].count()

random_dates = [start_date + timedelta(days=random.randint(0, (end_date - start_date).days)) for _ in range(num_dates)]

df_covid['date'] = random_dates





df_covid.head()





is_fresh(df_covid)

df_covid['Freshness'].value_counts()





df_covid[df_covid['Freshness']=='Fresh']





df_cancer = pd.read_csv(r'Datasets/cancer.csv')


df_cancer.head()





df_countries = pd.DataFrame(data = df_cancer['Country'].unique(), columns=['Country'])

df_countries.count()





df_countries['Country'] = df_countries['Country'].replace({'China (People\'s Republic of)': 'China', 'Slovak Republic': 'Slovakia', 'Czech Republic':'Czechia', 'Korea':'South Korea'})





from country_list import countries_for_language

countries = dict(countries_for_language('en'))

df_all_countries = pd.DataFrame(data=countries.values(), columns=['Country'])

df_all_countries.count()


df_countries = pd.concat([df_countries, df_all_countries], ignore_index=True)

df_countries


unique_countries = df_countries[~df_countries.duplicated('Country', keep=False)].reset_index()

print(unique_countries)



