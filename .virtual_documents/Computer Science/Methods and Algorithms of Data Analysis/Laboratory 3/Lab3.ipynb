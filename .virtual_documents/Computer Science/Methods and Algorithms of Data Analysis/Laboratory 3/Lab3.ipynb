


import pandas as pd
import numpy as np
import matplotlib.pyplot as plt

from datetime import date, datetime





df_retail = pd.read_csv(r'D:/Faculty-of-Applied-Mathematics-and-Computer-Science/Computer Science/Methods and Algorithms of Data Analysis/Laboratory 3/Datasets/online_retail_II.csv')


df_retail.head()
df_retail.info()





for a in df_retail.columns:
    print(f'Пустых полей в колонке {a}: {df_retail[a].isna().sum()}')





for a in df_retail.columns:
    if any(df_retail[a].isna()):
        print(f'Пустые поля в {a} составляют {df_retail[a].isna().sum()/df_retail[a].count() * 100}%')








df_temperatures = pd.read_csv(r'D:/Faculty-of-Applied-Mathematics-and-Computer-Science/Computer Science/Methods and Algorithms of Data Analysis/Laboratory 3/Datasets/GlobalTemperatures.csv')


df_temperatures.head()


df_temperatures.info()


def format(df):
    list = []
    
    for a in df['dt']:
        if not (datetime.strptime(a, '%Y-%M-%d')):
            list.append('Wrong format')
        else:
            list.append('Correct format')
    df['format'] = list

format(df_temperatures)

df_temperatures['format'].value_counts()








df_covid = pd.read_csv(r'D:/Faculty-of-Applied-Mathematics-and-Computer-Science/Computer Science/Methods and Algorithms of Data Analysis/Laboratory 3/Datasets/covid19_tweets.csv')


df_covid.head()





df_covid['date'] = [datetime.strptime(a, "%Y-%m-%d %H:%M:%S").date() for a in df_covid['date']]





def is_fresh(df):
    today = date.today()
    list = []
    
    for a in df['date']:
        if (today - a).days > 14:
            list.append('Outdated')
        else:
            list.append('Fresh')
    df['Freshness'] = list

is_fresh(df_covid)

df_covid['Freshness'].value_counts()









