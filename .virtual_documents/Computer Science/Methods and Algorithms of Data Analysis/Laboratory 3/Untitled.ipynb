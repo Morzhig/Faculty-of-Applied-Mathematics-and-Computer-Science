


import pandas as pd
import numpy as np
import matplotlib.pyplot as plt

from datetime import date, datetime





df_retail = pd.read_csv(r'D:/Faculty-of-Applied-Mathematics-and-Computer-Science/Computer Science/Methods and Algorithms of Data Analysis/Laboratory 3/Datasets/online_retail_II.csv')


df_retail.head()
df_retail.info()





for a in df_retail.columns:
    print(f'Пустых полей в колонке {a}: {df_retail[a].isna().sum()}')





for a in df_retail.columns:
    if any(df_retail[a].isna()):
        print(f'Пустые поля в {a} составляют {df_retail[a].isna().sum()/df_retail[a].count() * 100}%')














df_covid = pd.read_csv(r'D:/Faculty-of-Applied-Mathematics-and-Computer-Science/Computer Science/Methods and Algorithms of Data Analysis/Laboratory 3/Datasets/covid19_tweets.csv')


df_covid.head()





df_covid['date'] = [datetime.strptime(a.split()[0], "%Y-%m-%d").date() for a in df_covid['date']]





def is_fresh(df):
    today = date.today()
    if df_covid['date'] - today > 14:
        return 'Outdated'
    return 'Fresh'

is_fresh(df_covid)



