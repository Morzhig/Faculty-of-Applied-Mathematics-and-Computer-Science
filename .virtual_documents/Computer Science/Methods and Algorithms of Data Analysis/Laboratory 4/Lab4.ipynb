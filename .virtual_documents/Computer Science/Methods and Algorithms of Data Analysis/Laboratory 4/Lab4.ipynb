


import pandas as pd
import numpy as np
import seaborn as sns

from matplotlib import pyplot as plt





df_cars = pd.read_csv(r'Datasets/CarDetails.csv')

df_cars


df_cars.info()


df_cars.describe()





year = dict(df_cars.value_counts(subset='year'))


x = list(year.keys())
height = list(year.values())

plt.bar(x, height)
plt.xlabel('Years')
plt.ylabel('Values')
plt.title('Bar Chart of Values Over the Years')
plt.xticks(x, [str(year) for year in x], rotation='vertical')

plt.show()





plt.hist(df_cars['km_driven'])
plt.xlabel('Mileage')
plt.ylabel('Value')
plt.title('Histogram of Values over the mileage')

plt.show()





plt.plot(df_cars['km_driven'], df_cars['selling_price'])
plt.xlabel('Mileage')
plt.ylabel('Price')
plt.title('Linear plot of Price over the Mileage')

plt.show()





sns.boxplot(df_cars['selling_price'])
plt.ylabel('Price')
plt.title('Boxplot of Selling prices')

plt.show()


sns.boxplot(df_cars['km_driven'])
plt.ylabel('Mileage')
plt.title('Boxplot of Mileage')

plt.show()





df_cars['make'] = [a.split()[0] for a in df_cars['name']]

df_cars['make'].value_counts()


df_cars['make'] = [a.split()[0] for a in df_cars['name']]

make_dict = df_cars['make'].value_counts().to_dict()

updated_make_dict = {}
other_count = 0

for idx, (key, value) in enumerate(make_dict.items()):
    if value > 10:
        updated_make_dict[key] = value
    else:
        other_count += value

updated_make_dict['Other make'] = other_count


plt.pie(updated_make_dict.values(), labels=updated_make_dict.keys())
plt.title('Pie diagram for makes of cars')

plt.show()


plt.scatter(df_cars['selling_price'],df_cars['km_driven'])

plt.xlabel('Selling Price')
plt.ylabel('Mileage')
plt.title('Scatter plot of Selling Price to Mileage')
plt.show()





df_pressure = pd.read_csv(r'Datasets\pressure.csv')
df_humidity = pd.read_csv(r'Datasets\humidity.csv')
df_temperature = pd.read_csv(r'Datasets\temperature.csv')

df_pressure = df_pressure['Vancouver']
df_humidity = df_humidity['Vancouver']
df_temperature = df_temperature['Vancouver']


df_pressure.isna().sum()


df_humidity.isna().sum()


df_temperature.isna().sum()


df_pressure = df_pressure.dropna(ignore_index=True)
df_humidity = df_humidity.dropna(ignore_index=True)
df_temperature = df_temperature.dropna(ignore_index=True)


df = pd.DataFrame({'pressure':df_pressure, 'humidity':df_humidity, 'temperature':df_temperature}).dropna(ignore_index=True)

df


sns.heatmap(df.corr())

plt.title('Heatmap for Vancouver')
plt.show()





df_elections = pd.read_csv(r'Datasets\presidentelections.csv')

df_elections


statename_to_abbr = {'ALABAMA': 'AL',
 'ALASKA': 'AK',
 'ARIZONA': 'AZ',
 'ARKANSAS': 'AR',
 'CALIFORNIA': 'CA',
 'COLORADO': 'CO',
 'CONNECTICUT': 'CT',
 'DELAWARE': 'DE',
 'DISTRICT OF COLUMBIA': 'DC',
 'FLORIDA': 'FL',
 'GEORGIA': 'GA',
 'HAWAII': 'HI',
 'IDAHO': 'ID',
 'ILLINOIS': 'IL',
 'INDIANA': 'IN',
 'IOWA': 'IA',
 'KANSAS': 'KS',
 'KENTUCKY': 'KY',
 'LOUISIANA': 'LA',
 'MAINE': 'ME',
 'MARYLAND': 'MD',
 'MASSACHUSETTS': 'MA',
 'MICHIGAN': 'MI',
 'MINNESOTA': 'MN',
 'MISSISSIPPI': 'MS',
 'MISSOURI': 'MO',
 'MONTANA': 'MT',
 'NEBRASKA': 'NE',
 'NEVADA': 'NV',
 'NEW HAMPSHIRE': 'NH',
 'NEW JERSEY': 'NJ',
 'NEW MEXICO': 'NM',
 'NEW YORK': 'NY',
 'NORTH CAROLINA': 'NC',
 'NORTH DAKOTA': 'ND',
 'OHIO': 'OH',
 'OKLAHOMA': 'OK',
 'OREGON': 'OR',
 'PENNSYLVANIA': 'PA',
 'RHODE ISLAND': 'RI',
 'SOUTH CAROLINA': 'SC',
 'SOUTH DAKOTA': 'SD',
 'TENNESSEE': 'TN',
 'TEXAS': 'TX',
 'UTAH': 'UT',
 'VERMONT': 'VT',
 'VIRGINIA': 'VA',
 'WASHINGTON': 'WA',
 'WEST VIRGINIA': 'WV',
 'WISCONSIN': 'WI',
 'WYOMING': 'WY'}


df_elections_2020 = df_elections[df_elections['year']==2020].reset_index()

def convert_state_to_code(state_name):
    return statename_to_abbr.get(state_name, None)

df_elections_2020['code'] = df_elections_2020['state'].apply(convert_state_to_code)

df_elections_2020


df_elections_2020_max = df_elections_2020.loc[df_elections_2020.groupby('state')['totalvotes'].idxmax()].reset_index()

df_elections_2020_max.head(7)


import plotly.express as px

fig = px.choropleth(data_frame=df_elections_2020_max, locations='code',
                        locationmode='USA-states', color='candidatevotes',
                        scope="usa", title='Results of the 2020 US Presidential Election by States',
                        labels={'candidatevotes':'Candidate Votes'},hover_data={'state': True, 'candidate': True, 'party_detailed': True})
fig.show()





df_confirmed = pd.read_csv(r'Datasets\covid_conf.csv')
df_death = pd.read_csv(r'Datasets\covid_deaths.csv')

df_confirmed.head(7)


df_death.head(7)


confirmed_by_date = df_confirmed.drop(['Province/State', 'Country/Region', 'Lat', 'Long'], axis=1).sum()
deaths_by_date = df_death.drop(['Province/State', 'Country/Region', 'Lat', 'Long'], axis=1).sum()


confirmed_by_date.index = pd.to_datetime(confirmed_by_date.index)

plt.figure(figsize=(14, 7))

plt.subplot(2, 1, 1)
plt.plot(confirmed_by_date, color='b')
plt.title('COVID-19: Number of Confirmed Cases Over Time')
plt.xlabel('Date')
plt.ylabel('Number of Cases')
plt.grid(True)

plt.show()


deaths_by_date.index = pd.to_datetime(deaths_by_date.index)

plt.figure(figsize=(14, 7))

plt.subplot(2, 1, 2)
plt.plot(deaths_by_date, color='r')
plt.title('COVID-19: Number of Deaths Over Time')
plt.xlabel('Date')
plt.ylabel('Number of Deaths')
plt.grid(True)

plt.show()





import geopandas as gpd

gdf_terror = gpd.read_file(r'Datasets\globalterrorismdb_0718dist.csv')

gdf_terror


gdf_terror = gdf_terror[(gdf_terror['latitude']!='') & (gdf_terror['longitude']!='')][5:]

gdf_terror[gdf_terror['longitude']==''].count()


world = gpd.read_file(r'Datasets\ne_110m_admin_0_countries.zip')

world.plot()


from shapely.geometry import Point, Polygon

crs = {'init':'EPSG:4326'}
geometry = [Point(xy) for xy in zip(gdf_terror['longitude'], gdf_terror['latitude'])]

geo_df = gpd.GeoDataFrame(gdf_terror, 
                          crs = 'EPSG:4326', 
                          geometry = geometry)


fig, ax = plt.subplots(figsize = (10,10))
world.to_crs(epsg=4326).plot(ax=ax, color='lightgrey')
geo_df.sample(n=10000).plot(ax=ax)
ax.set_title('Terrorism attacks')
plt.show()
