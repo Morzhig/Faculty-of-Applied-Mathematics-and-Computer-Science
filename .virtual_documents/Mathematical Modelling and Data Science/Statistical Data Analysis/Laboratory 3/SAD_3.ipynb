


import pandas as pd
import scipy.stats
import statsmodels.api as sm
import matplotlib.pyplot as plt
import seaborn as sns
import numpy as np
import sklearn

from sklearn import datasets
from sklearn.cluster import KMeans
from statistics import correlation
from scipy.stats import norm, skew, kurtosis, shapiro, chisquare, gaussian_kde, kstest, ttest_ind, spearmanr
import statsmodels.api as sm





ds = datasets.load_iris()

ext_target = ds.target[:, None]
df = pd.DataFrame(
    np.concatenate((ds.data, ds.target_names[ext_target]), axis=1),
    columns=ds.feature_names + ['target_name'])

df = df.loc[df['target_name'] != 'versicolor'].reset_index(drop=True)

df





sepalwid_df = df[['sepal width (cm)', 'target_name']]
sepalwid_df


sepalwid = sepalwid_df['sepal width (cm)'].astype(float)

sepalwid





sns.displot(sepalwid, kde=True)

plt.show()





print(kstest(sepalwid, 'norm'))
print(scipy.stats.shapiro(sepalwid))
print(scipy.stats.chisquare(sepalwid))





describe = pd.DataFrame(pd.concat([sepalwid.describe(),
                        pd.Series(sepalwid.median(), index=['median']),
                        pd.Series(sepalwid.mode().to_string(index=False), index = ['mode']),
                        pd.Series(sepalwid.skew(), index=['skewness']),
                        pd.Series(sepalwid.kurt(), index=['kurtosis'])])).T

describe





sns.boxplot(pd.DataFrame(sepalwid))

plt.show()





fig = sm.qqplot(sepalwid, line='r')

plt.show()








sns.pairplot(df[['sepal length (cm)', 'sepal width (cm)', 'petal length (cm)', 'petal width (cm)']].astype(float), kind='reg')

plt.show()





sepallen = df['sepal length (cm)'].astype(float)

sns.regplot(x = sepallen, y = sepalwid)

plt.show()





sns.histplot(sepallen, kde=True)

plt.show()





fig = sm.qqplot(sepallen, line='r')

plt.show()





print(kstest(sepallen, 'norm'))
print(scipy.stats.shapiro(sepallen))
print(scipy.stats.chisquare(sepallen))





rho, p = spearmanr(sepallen, sepalwid)

print('Spearman correlation coefficient:', rho)
print('Spearman P-value:', p)








petallen = df['petal length (cm)'].astype(float)

sns.regplot(x=petallen, y=sepalwid)

plt.show()





sns.histplot(petallen, kde='r')

plt.show()





fig = sm.qqplot(petallen, line='r')

plt.show()





print(kstest(petallen, 'norm'))
print(scipy.stats.shapiro(petallen))
print(scipy.stats.chisquare(petallen))





rho, p = spearmanr(petallen, sepalwid)

print('Spearman correlation coefficient:', rho)
print('Spearman P-value:', p)








petalwid = df['petal width (cm)'].astype(float)

sns.regplot(x=petalwid, y=sepalwid)

plt.show()





sns.histplot(petalwid, kde='r')

plt.show()





fig = sm.qqplot(petalwid, line='r')

plt.show()





print(kstest(petalwid, 'norm'))
print(scipy.stats.shapiro(petalwid))
print(scipy.stats.chisquare(petalwid))





rho, p = spearmanr(petalwid, sepalwid)

print('Spearman correlation coefficient:', rho)
print('Spearman P-value:', p)








corr = df[['sepal length (cm)', 'sepal width (cm)', 'petal length (cm)', 'petal width (cm)']].astype(float).corr(method='spearman')
corr.style.background_gradient(cmap='coolwarm')





import statsmodels.api as sm

x, y = df[['sepal length (cm)', 'petal length (cm)', 'petal width (cm)']].astype(float), df['sepal width (cm)'].astype(float)
x = sm.add_constant (x)

model = sm. OLS (y, x). fit ()
print(model. summary ())





x, y = df[['sepal length (cm)', 'petal length (cm)']].astype(float), df['sepal width (cm)'].astype(float)
x = sm.add_constant (x)

model = sm. OLS (y, x). fit ()
print(model. summary ())





x, y = df[['sepal length (cm)']].astype(float), df['sepal width (cm)'].astype(float)
x = sm.add_constant (x)

model = sm. OLS (y, x). fit ()
print(model. summary ())





raw_residuals = model.resid

sns.displot(pd.DataFrame(raw_residuals), kde=True)
plt.show()





fig = sm.qqplot(raw_residuals, line='r')
plt.show()





sns.regplot(x = raw_residuals, y = model.predict())

plt.show()





df_ren = df.rename(columns={'sepal width (cm)': 'sepalwid', 'sepal length (cm)': 'sepallen', 'petal length (cm)': 'petallen', 'petal width (cm)':'petalwid'})

model = sm.formula.ols('sepalwid ~ sepallen', data=df_ren[['sepallen', 'sepalwid', 'petallen', 'petalwid']].astype(float)).fit()
anovatable = sm.stats.anova_lm(model, typ=2)

print(anovatable)

raw_residuals = model.resid





x, y = df[['sepal length (cm)']].astype(float), df['sepal width (cm)'].astype(float)
x = sm.add_constant (x)

model = sm. OLS (y, x). fit ()

y_pred = model.predict(x)

print(sklearn.metrics.mean_squared_error(y, y_pred))





x, y = df[['sepal length (cm)', 'petal length (cm)']].astype(float), df['sepal width (cm)'].astype(float)
x = sm.add_constant (x)

model = sm. OLS (y, x). fit ()
print(model. summary ())





raw_residuals = model.resid

sns.displot(pd.DataFrame(raw_residuals), kde=True)
plt.show()





fig = sm.qqplot(raw_residuals, line='r')
plt.show()





sns.regplot(x = raw_residuals, y = model.predict())

plt.show()





df_ren = df.rename(columns={'sepal width (cm)': 'sepalwid', 'sepal length (cm)': 'sepallen', 'petal length (cm)': 'petallen', 'petal width (cm)':'petalwid'})

model = sm.formula.ols('sepalwid ~ sepallen', data=df_ren[['sepallen', 'sepalwid', 'petallen', 'petalwid']].astype(float)).fit()
anovatable = sm.stats.anova_lm(model, typ=2)

print(anovatable)

raw_residuals = model.resid





x = df[['sepal length (cm)', 'petal width (cm)']].astype(float)
y = df['sepal width (cm)'].astype(float)

x = sm.add_constant(x)

model = sm.OLS(y, x).fit()

y_pred = model.predict(x)

print(sklearn.metrics.mean_squared_error(y, y_pred))



