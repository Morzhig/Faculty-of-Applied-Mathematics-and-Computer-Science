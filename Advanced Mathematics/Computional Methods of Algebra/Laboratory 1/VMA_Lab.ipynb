{
 "cells": [
  {
   "cell_type": "code",
   "execution_count": 32,
   "id": "4a9b8c16-1cc5-4cc7-9d2d-741d4ea848b9",
   "metadata": {
    "tags": []
   },
   "outputs": [
    {
     "name": "stdout",
     "output_type": "stream",
     "text": [
      "Обратная матрица к A: [[ 2.33635850e-02 -6.70058463e-05 -4.78196227e-03 -4.39143488e-03\n",
      "  -6.22524886e-03 -2.66158074e-03  1.76200363e-03 -8.19351934e-06]\n",
      " [-4.86254825e-03  2.88906815e-02 -2.89354987e-04 -3.50589935e-03\n",
      "  -4.54788246e-03 -4.47524392e-04  1.56518956e-03 -2.64830414e-03]\n",
      " [ 3.32300284e-04 -7.39315682e-03  3.90273636e-02 -4.57700965e-03\n",
      "  -3.21668298e-03  1.08402472e-03 -1.45238350e-03 -8.58366373e-04]\n",
      " [-2.34441511e-03 -1.70046810e-03 -6.84705910e-03  2.72497170e-02\n",
      "   3.66129483e-03 -1.84460378e-03 -4.10078091e-03 -4.89720535e-03]\n",
      " [ 5.72050761e-04  1.22128681e-04 -4.32666568e-03  1.34363392e-03\n",
      "   3.73572597e-02 -6.23633452e-03 -4.49298715e-03 -5.01963342e-03]\n",
      " [-3.13834384e-03 -4.63671723e-03 -1.72855498e-03 -1.69630333e-03\n",
      "  -4.33233930e-03  2.63591964e-02  5.94692819e-04 -1.16620888e-03]\n",
      " [-3.83860190e-03  5.61258340e-05 -3.16233271e-03 -3.19822385e-03\n",
      "  -7.37644250e-03  7.46481207e-04  2.68161410e-02  7.47700391e-04]\n",
      " [ 1.55280036e-03 -1.33618639e-04 -4.46082671e-03 -4.08120441e-03\n",
      "  -6.44801621e-03 -1.29245933e-03 -2.22792587e-03  3.41858694e-02]]\n",
      "Определитель матрицы A: 2062374978103.4443\n",
      "Число обусловленности для A: 6.441461287356724\n",
      "Число обусловленности для A*A.T: 23.312222259434446\n"
     ]
    }
   ],
   "source": [
    "def transponse(matrix): # Транспонирование матрицы\n",
    "    return [[matrix[j, i] for j in range(n)] for i in range(n)]\n",
    "\n",
    "def determinant(matrix): # Определитель матрицы\n",
    "    if len(matrix) == 2:\n",
    "        return matrix[0][0] * matrix[1][1] - matrix[0][1] * matrix[1][0]\n",
    "\n",
    "    det = 0\n",
    "\n",
    "    for j in range(len(matrix)):\n",
    "        submatrix = []\n",
    "\n",
    "        for i in range(1, len(matrix)):\n",
    "            row = []\n",
    "            for k in range(len(matrix)):\n",
    "                if k != j:\n",
    "                    row.append(matrix[i][k])\n",
    "            submatrix.append(row)\n",
    "\n",
    "        sub_det = determinant(submatrix)\n",
    "\n",
    "        det += (-1) ** j * matrix[0][j] * sub_det\n",
    "\n",
    "    return det\n",
    "\n",
    "def matrix_norm(matrix): # Норма матрицы, наверное, первая\n",
    "    column_sums = np.zeros(n)\n",
    "    \n",
    "    for j in range(n):\n",
    "        for i in range(n):\n",
    "            column_sums[j] += abs(matrix[i][j])\n",
    "    \n",
    "    norm = max(column_sums)\n",
    "    return norm\n",
    "\n",
    "print(f\"Обратная матрица к A: {np.linalg.inv(a)}\") \n",
    "print(f\"Определитель матрицы A: {determinant(a)}\")\n",
    "A_n = np.dot(a, transponse(a))\n",
    "print(f\"Число обусловленности для A: {matrix_norm(a) * matrix_norm(np.linalg.inv(a))}\")\n",
    "print(f\"Число обусловленности для A: {matrix_norm(a) * matrix_norm(np.linalg.inv(a))}\")\n",
    "print(f\"Число обусловленности для A*A.T: {matrix_norm(A_n) * matrix_norm(np.linalg.inv(A_n))}\")"
   ]
  },
  {
   "cell_type": "code",
   "execution_count": 27,
   "id": "09e86947-a3a0-4e35-935b-0442670030b3",
   "metadata": {
    "tags": []
   },
   "outputs": [
    {
     "name": "stdout",
     "output_type": "stream",
     "text": [
      "[[ 4.51400000e+01  4.18000000e+00  9.13000000e+00  9.94000000e+00\n",
      "   9.42000000e+00  7.34000000e+00  5.20000000e-01  3.61000000e+00]\n",
      " [ 0.00000000e+00  3.59377093e+01  2.43315463e+00  5.60350022e+00\n",
      "   5.08957466e+00  2.32387240e+00  6.39255649e-02  4.47302171e+00]\n",
      " [ 0.00000000e+00  0.00000000e+00  2.72266174e+01  5.02544164e+00\n",
      "   2.69761843e+00 -1.25285853e-01  2.84187230e+00  1.73320470e+00]\n",
      " [ 8.88178420e-16  0.00000000e+00  0.00000000e+00  3.84117079e+01\n",
      "  -1.38503797e+00  2.44721747e+00  6.02392323e+00  5.25092730e+00]\n",
      " [ 2.15841118e-16  0.00000000e+00  0.00000000e+00  0.00000000e+00\n",
      "   2.93621547e+01  7.01908382e+00  5.13266687e+00  4.43853780e+00]\n",
      " [-9.72146327e-17  0.00000000e+00  0.00000000e+00  0.00000000e+00\n",
      "   0.00000000e+00  3.80226006e+01 -7.34116272e-01  1.31315056e+00]\n",
      " [-1.62587687e-16  0.00000000e+00  0.00000000e+00  0.00000000e+00\n",
      "   8.88178420e-16  0.00000000e+00  3.72233339e+01 -8.14134663e-01]\n",
      " [-1.47914474e-16  0.00000000e+00  0.00000000e+00  0.00000000e+00\n",
      "  -5.78834387e-17  0.00000000e+00  0.00000000e+00  2.92518522e+01]]\n"
     ]
    }
   ],
   "source": [
    "# Прямой ход схемы единственного деления\n",
    "A = a.copy()\n",
    "B = b.copy()\n",
    "\n",
    "for i in range(n):\n",
    "    if A[i, i] == 0:\n",
    "        print('Деление на ноль невозможно')\n",
    "        break\n",
    "\n",
    "    for k in range(i + 1, n):\n",
    "        q = A[k, i] / A[i, i]\n",
    "\n",
    "        for j in range(n):\n",
    "            A[k, j] -= q * A[i, j]\n",
    "        B[k] -= q * B[i]        \n",
    "\n",
    "print(A) # Вывод получившейся матрицы"
   ]
  },
  {
   "cell_type": "code",
   "execution_count": 28,
   "id": "f25ebff1-bce0-43e8-9205-2ba54d1c766b",
   "metadata": {
    "tags": []
   },
   "outputs": [
    {
     "name": "stdout",
     "output_type": "stream",
     "text": [
      "[[2.28]\n",
      " [5.25]\n",
      " [5.07]\n",
      " [1.2 ]\n",
      " [2.4 ]\n",
      " [6.09]\n",
      " [5.11]\n",
      " [4.04]]\n",
      "Решение схемой единственного деления: [[2.27990117]\n",
      " [5.25031941]\n",
      " [5.06933156]\n",
      " [1.20029998]\n",
      " [2.40015948]\n",
      " [6.09026875]\n",
      " [5.1096017 ]\n",
      " [4.04040979]]\n"
     ]
    }
   ],
   "source": [
    "# Обратный ход схемы единственного деления\n",
    "x1 = np.zeros((n, 1), dtype='float')\n",
    "x1[n - 1] = B[n - 1, 0] / A[n - 1, n - 1]\n",
    "\n",
    "for i in range(n - 2, -1, -1):\n",
    "    sum = 0\n",
    "\n",
    "    for j in range(i + 1, n):\n",
    "        sum += A[i, j] * x1[j]\n",
    "\n",
    "    x1[i] = (B[i, 0] - sum) / A[i, i]\n",
    "\n",
    "x1 = np.reshape(x1, (n, 1))\n",
    "print(x)\n",
    "\n",
    "print(f\"Решение схемой единственного деления: {x1}\")"
   ]
  },
  {
   "cell_type": "code",
   "execution_count": 18,
   "id": "fa076df2-4098-4b14-8112-da153207b057",
   "metadata": {
    "tags": []
   },
   "outputs": [
    {
     "name": "stdout",
     "output_type": "stream",
     "text": [
      "[[ 8.62420431 11.40725526 10.95795004]\n",
      " [ 0.          4.98805848  2.72097185]\n",
      " [ 0.          0.          8.36742153]]\n",
      "[[274.29332779]\n",
      " [  0.56051568]\n",
      " [ 21.0458341 ]]\n"
     ]
    }
   ],
   "source": [
    "# Прямой ход метода вращений\n",
    "def givens_rotation(A, b):\n",
    "    n = len(b)\n",
    "    \n",
    "    for i in range(n-1):\n",
    "        for j in range(i+1, n):\n",
    "            if A[j, i] != 0:\n",
    "                cos_phi = A[i, i] / np.sqrt(A[i, i]**2 + A[j, i]**2)\n",
    "                sin_phi = -A[j, i] / np.sqrt(A[i, i]**2 + A[j, i]**2)\n",
    "                \n",
    "                for k in range(i, n):\n",
    "                    temp_aik = A[i, k]\n",
    "                    temp_ajk = A[j, k]\n",
    "                    A[i, k] = temp_aik * cos_phi - temp_ajk * sin_phi\n",
    "                    A[j, k] = temp_aik * sin_phi + temp_ajk * cos_phi\n",
    "                \n",
    "                temp_b_i = b[i]\n",
    "                temp_b_j = b[j]\n",
    "                b[i] = temp_b_i * cos_phi - temp_b_j * sin_phi\n",
    "                b[j] = temp_b_i * sin_phi + temp_b_j * cos_phi\n",
    "    \n",
    "    return A, b\n",
    "\n",
    "# Копируем матрицу a и вектор b\n",
    "A = np.copy(a)\n",
    "B = np.copy(b)\n",
    "\n",
    "A, B = givens_rotation(A, B)\n",
    "print(f\"{A}\")\n",
    "print(B)"
   ]
  },
  {
   "cell_type": "code",
   "execution_count": 19,
   "id": "84dfcf7c-b351-48b9-8481-aaefdf3ddf4d",
   "metadata": {
    "tags": []
   },
   "outputs": [
    {
     "name": "stdout",
     "output_type": "stream",
     "text": [
      "Решение, полученное методом вращений: [[30.27538841]\n",
      " [-1.25966923]\n",
      " [ 2.51521141]]\n"
     ]
    }
   ],
   "source": [
    "#Обратный ход метода вращений, такой же, как у схемы единственного деления\n",
    "x = np.zeros((n, 1), dtype='float')\n",
    "x[n - 1] = B[n - 1, 0] / A[n - 1, n - 1]\n",
    "\n",
    "for i in range(n - 2, -1, -1):\n",
    "    sum = 0\n",
    "\n",
    "    for j in range(i + 1, n):\n",
    "        sum += A[i, j] * x[j]\n",
    "\n",
    "    x[i] = (B[i, 0] - sum) / A[i, i]\n",
    "\n",
    "x = np.reshape(x, (n, 1))\n",
    "\n",
    "print(f\"Решение, полученное методом вращений: {x}\")"
   ]
  },
  {
   "cell_type": "code",
   "execution_count": 29,
   "id": "4bcc6082-13f1-4b3b-93df-305da643ace8",
   "metadata": {
    "tags": []
   },
   "outputs": [
    {
     "name": "stdout",
     "output_type": "stream",
     "text": [
      "Матрица А: [[34.61  8.34  2.15  6.42  1.48  7.47  7.66  0.09]\n",
      " [ 8.34 38.63  7.71  5.65  2.54  8.3   2.5   2.59]\n",
      " [ 2.15  7.71 44.39  9.91  5.29  5.28  6.94  6.11]\n",
      " [ 6.42  5.65  9.91 44.83  1.86  6.07  7.38  6.54]\n",
      " [ 1.48  2.54  5.29  1.86 36.96  7.79  9.98  7.02]\n",
      " [ 7.47  8.3   5.28  6.07  7.79 41.62  2.38  3.33]\n",
      " [ 7.66  2.5   6.94  7.38  9.98  2.38 42.74  4.9 ]\n",
      " [ 0.09  2.59  6.11  6.54  7.02  3.33  4.9  31.58]]\n",
      "[[-0.00093722]\n",
      " [-0.00105682]\n",
      " [-0.00155996]\n",
      " [-0.0008676 ]\n",
      " [-0.0007312 ]\n",
      " [ 0.00013331]\n",
      " [ 0.00045225]\n",
      " [ 0.00054189]]\n",
      "Решение, полученное методом релаксации: [[3.79769214]\n",
      " [4.35037095]\n",
      " [1.72371335]\n",
      " [1.32372224]\n",
      " [1.4223416 ]\n",
      " [6.35240866]\n",
      " [4.92210723]\n",
      " [4.95042713]]\n"
     ]
    }
   ],
   "source": [
    "# Метод релаксации\n",
    "A = a.copy()\n",
    "\n",
    "def simmetry(A): # Необходимо выполнение условия симметричности\n",
    "    for i in range(n):\n",
    "        for j in range(n):\n",
    "            if i != j:\n",
    "                A[i, j] = A[j, i]\n",
    "        diagonal_sum = np.sum(A[i]) - A[i, i]\n",
    "        A[i, i] = diagonal_sum + 1\n",
    "        \n",
    "    return\n",
    "\n",
    "simmetry(A)\n",
    "\n",
    "def sum1(A, x, i, n):\n",
    "    s = 0\n",
    "\n",
    "    for j in range(i):\n",
    "        s += A[i, j] * x[j]\n",
    "\n",
    "    return s\n",
    "\n",
    "def sum2(A, x, i, n):\n",
    "    s = 0\n",
    "    \n",
    "    for j in range(i + 1, n):\n",
    "        s += A[i, j] * x[j]\n",
    "        \n",
    "    return s\n",
    "\n",
    "def relaxation_method(A, b, n, epsilon = 1e-4, max_iterations = 300, w = 1.5):\n",
    "    x = np.zeros((n, 1))\n",
    "\n",
    "    for _ in range(max_iterations):\n",
    "        x_new = np.zeros_like(x)\n",
    "\n",
    "        for i in range(n):\n",
    "            x_new[i] = (1 - w) * x[i] + (w / A[i, i]) * (b[i] - sum1(A, x_new, i, n) - sum2(A, x, i, n))\n",
    "\n",
    "        if np.max(np.abs(x_new - x)) < epsilon:\n",
    "            return x_new\n",
    "\n",
    "        x = x_new\n",
    "\n",
    "    return x\n",
    "\n",
    "print(f\"Матрица А: {A}\")\n",
    "print(b - A @ relaxation_method(A, b, n))\n",
    "print(f\"Решение, полученное методом релаксации: {relaxation_method(A, b, n)}\")"
   ]
  },
  {
   "cell_type": "code",
   "execution_count": 30,
   "id": "c2184769-f2cc-42fb-8bd1-bfa91af8e337",
   "metadata": {},
   "outputs": [
    {
     "name": "stdout",
     "output_type": "stream",
     "text": [
      "Решение x: [[3.79766547]\n",
      " [4.35035244]\n",
      " [1.72367912]\n",
      " [1.32370648]\n",
      " [1.42231293]\n",
      " [6.3524285 ]\n",
      " [4.92213424]\n",
      " [4.95045585]]\n"
     ]
    }
   ],
   "source": [
    "# Метод минимальных невязок\n",
    "def minimal_residual_method(A, b, max_iterations=100, epsilon=1e-6):\n",
    "    x = np.zeros(n)\n",
    "    r = b - np.dot(A, x)\n",
    "\n",
    "    for i in range(max_iterations):\n",
    "        Ar = np.dot(A, r)\n",
    "        alpha = np.dot(Ar, r) / np.dot(Ar, Ar)\n",
    "        x = x + alpha * r\n",
    "        r = b - np.dot(A, x)\n",
    "        residual_norm = np.linalg.norm(r)\n",
    "\n",
    "        if residual_norm < epsilon:\n",
    "            break\n",
    "\n",
    "    return x\n",
    "\n",
    "def to_tuple(b): # Перевод столбца в tuple\n",
    "    return [b[0, i] for i in range(n)]\n",
    "\n",
    "print(b - A @ relaxation_method(A, b, n))\n",
    "print(\"Решение x:\", minimal_residual_method(A, to_tuple(b.reshape((1, n)))).reshape((n, 1)))"
   ]
  },
  {
   "cell_type": "code",
   "execution_count": null,
   "id": "3d6407ce-e2cc-4c24-8dac-24b1bca235ac",
   "metadata": {},
   "outputs": [],
   "source": []
  }
 ],
 "metadata": {
  "kernelspec": {
   "display_name": "Python 3 (ipykernel)",
   "language": "python",
   "name": "python3"
  },
  "language_info": {
   "codemirror_mode": {
    "name": "ipython",
    "version": 3
   },
   "file_extension": ".py",
   "mimetype": "text/x-python",
   "name": "python",
   "nbconvert_exporter": "python",
   "pygments_lexer": "ipython3",
   "version": "3.11.4"
  }
 },
 "nbformat": 4,
 "nbformat_minor": 5
}
