{
 "cells": [
  {
   "cell_type": "code",
   "execution_count": 1,
   "id": "af95ad74-17a3-4074-95d6-70ed4cae2304",
   "metadata": {
    "tags": []
   },
   "outputs": [
    {
     "name": "stdout",
     "output_type": "stream",
     "text": [
      "A = [[1.03645277 5.95373274 5.22957572 0.0363437  1.23934224 9.94112623\n",
      "  5.29209935 4.11593403 3.22822057 1.91957068]\n",
      " [7.96217077 7.303551   4.60091353 0.76425585 5.15527034 3.67053775\n",
      "  0.38861194 3.20437307 4.29534413 5.26508739]\n",
      " [6.2728624  9.41353434 9.25084507 0.49060073 1.41868627 3.09365411\n",
      "  6.28596892 6.32924638 3.41179442 7.50752851]\n",
      " [0.53105797 6.4535926  1.90787213 9.09122128 4.19445671 2.7726026\n",
      "  8.02147834 5.7623913  6.94309032 4.85825886]\n",
      " [5.54255558 7.86139289 5.06903357 3.58679613 6.16090982 6.66459496\n",
      "  6.74438348 9.93395905 4.31849094 9.39364144]\n",
      " [8.70026336 9.52854568 2.49209165 7.77884576 2.29612439 2.44494608\n",
      "  4.25946258 5.57052745 5.63057433 1.67701281]\n",
      " [4.90909768 6.10094886 0.64994785 3.17289164 1.05496196 4.27585963\n",
      "  8.69970874 9.07693859 6.05130789 8.99410721]\n",
      " [0.01066548 4.38373673 9.85588528 2.00944987 0.1174059  6.32540775\n",
      "  0.06871678 5.85268597 1.54362374 9.38960036]\n",
      " [0.15161484 4.87158878 9.64924104 4.73529674 6.95331169 6.86457577\n",
      "  4.96424609 2.6560461  5.46263801 0.97632693]\n",
      " [9.98300717 8.74624556 5.61082834 9.7360793  2.39823952 9.89306863\n",
      "  1.01426352 4.66290525 4.13818244 3.7241138 ]]\n"
     ]
    }
   ],
   "source": [
    "import numpy as np\n",
    "import random\n",
    "\n",
    "# n = int(input('Введите размерность матрицы: ')) # Можно вводить с клавиатуры\n",
    "# a = int(input('В каком диапазоне генерируются элементы матрицы: ')) # Можно вводить с клавиатуры\n",
    "\n",
    "n = 10\n",
    "a = 10\n",
    "\n",
    "A = np.random.rand(n, n) * a # Рандомная матрица n на n\n",
    "\n",
    "print(f\"A = {A}\")"
   ]
  },
  {
   "cell_type": "code",
   "execution_count": 2,
   "id": "37842beb-3aa8-4876-a08e-97a2bedcfe89",
   "metadata": {
    "tags": []
   },
   "outputs": [
    {
     "name": "stdout",
     "output_type": "stream",
     "text": [
      "Собственные значения с помощью метода Крылова:\n",
      "[49.06397107+0.j         -8.52471192+0.j          9.92108664+0.j\n",
      "  1.82915659+6.84221326j  1.82915659-6.84221326j -1.64632439+5.02911804j\n",
      " -1.64632439-5.02911804j  3.5909695 +0.j          2.30504646+3.26653326j\n",
      "  2.30504646-3.26653326j] \n",
      "\n",
      "Собственные значения с помощью np.linalg.eigvals():\n",
      "[(49.06397106546089+0j), (9.921086662265665+0j), (3.5909693644273584+0j), (2.305046529142263+3.266533347137314j), (2.305046529142263-3.266533347137314j), (1.8291565826225071+6.842213297816473j), (1.8291565826225071-6.842213297816473j), (-1.6463244280325051+5.029118054486421j), (-1.6463244280325051-5.029118054486421j), (-8.524711916381552+0j)] \n",
      "\n"
     ]
    }
   ],
   "source": [
    "def krylov_method(A):\n",
    "    n = A.shape[0]\n",
    "\n",
    "    C = np.zeros((n, n+1))\n",
    "    C[:, 0] = np.random.rand(n)\n",
    "    \n",
    "    for i in range(n):\n",
    "        c = np.dot(A, C[:, i])\n",
    "        C[:, i + 1] = c\n",
    "\n",
    "    return C\n",
    "\n",
    "C = krylov_method(A)\n",
    "n = A.shape[0]\n",
    "\n",
    "# print(C)\n",
    "\n",
    "coef = np.append(np.linalg.solve(C[:, :n], C[:, n]), -1)\n",
    "coef = list(reversed(-coef))\n",
    "\n",
    "eigenvalues = np.roots(coef)\n",
    "\n",
    "print(\"Собственные значения с помощью метода Крылова:\")\n",
    "print(eigenvalues, '\\n')\n",
    "\n",
    "print(\"Собственные значения с помощью np.linalg.eigvals():\")\n",
    "print(sorted(np.linalg.eigvals(A), reverse=True), '\\n')"
   ]
  },
  {
   "cell_type": "code",
   "execution_count": 3,
   "id": "1cb38abb-899a-45e0-96ad-a2a3ee15672d",
   "metadata": {
    "tags": []
   },
   "outputs": [
    {
     "name": "stdout",
     "output_type": "stream",
     "text": [
      "Максимальное собственное значение: 49.06397027673624\n",
      "Соответствующий собственный вектор: [0.23493872 0.26464053 0.32862234 0.32602531 0.41242862 0.30103998\n",
      " 0.32665734 0.2527152  0.31239618 0.36276748]\n",
      "Количесвто итераций: 9\n",
      "(49.06397106546089+0j)\n",
      "(0.00991703320966874-0.014359639113277096j)\n"
     ]
    }
   ],
   "source": [
    "import math\n",
    "\n",
    "def power_method(A, epsilon = 1e-6, iterations = 1000):\n",
    "    n = A.shape[0]\n",
    "    y = np.random.rand(n)\n",
    "\n",
    "    lambda_k = 0\n",
    "    \n",
    "    for i in range(iterations):\n",
    "        y = np.dot(A, y)\n",
    "        y = y / np.linalg.norm(y)\n",
    "        lambda_k1 = np.dot(np.dot(A, y), y) / np.dot(y, y)\n",
    "        \n",
    "        if np.abs(lambda_k1 - lambda_k) <= epsilon:\n",
    "            break\n",
    "        \n",
    "        lambda_k = lambda_k1\n",
    "\n",
    "    lambda1 = lambda_k\n",
    "    \n",
    "    x1 = y\n",
    "    \n",
    "    return lambda1, x1, i\n",
    "\n",
    "eigenvalue, eigenvector, i = power_method(A)\n",
    "print(\"Максимальное собственное значение:\", eigenvalue)\n",
    "print(\"Соответствующий собственный вектор:\", eigenvector)\n",
    "print(\"Количесвто итераций:\", i)\n",
    "\n",
    "value, vector = np.linalg.eig(A)\n",
    "\n",
    "print(sorted(value, reverse=True)[0])\n",
    "print(np.dot(vector[0], eigenvector))"
   ]
  },
  {
   "cell_type": "code",
   "execution_count": null,
   "id": "875e2e0a-5e85-456b-a436-426900a7de0c",
   "metadata": {},
   "outputs": [],
   "source": []
  },
  {
   "cell_type": "code",
   "execution_count": null,
   "id": "b68ed8f6-a292-463f-9db8-708581054ba3",
   "metadata": {},
   "outputs": [],
   "source": []
  },
  {
   "cell_type": "code",
   "execution_count": null,
   "id": "5a9507e0-eb43-4089-9542-3e873b3ab909",
   "metadata": {},
   "outputs": [],
   "source": []
  }
 ],
 "metadata": {
  "kernelspec": {
   "display_name": "Python 3 (ipykernel)",
   "language": "python",
   "name": "python3"
  },
  "language_info": {
   "codemirror_mode": {
    "name": "ipython",
    "version": 3
   },
   "file_extension": ".py",
   "mimetype": "text/x-python",
   "name": "python",
   "nbconvert_exporter": "python",
   "pygments_lexer": "ipython3",
   "version": "3.11.4"
  }
 },
 "nbformat": 4,
 "nbformat_minor": 5
}
