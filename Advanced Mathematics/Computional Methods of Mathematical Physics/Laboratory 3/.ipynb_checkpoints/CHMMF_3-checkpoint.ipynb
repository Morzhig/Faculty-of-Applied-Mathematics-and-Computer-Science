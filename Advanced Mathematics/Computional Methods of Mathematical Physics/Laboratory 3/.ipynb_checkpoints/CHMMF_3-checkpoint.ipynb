{
 "cells": [
  {
   "cell_type": "code",
   "execution_count": 4,
   "id": "2c4706b8-40cb-4e90-afa9-8d90b4c14afb",
   "metadata": {},
   "outputs": [],
   "source": [
    "import pandas as pd\n",
    "import numpy as np\n",
    "import matplotlib.pyplot as plt\n",
    "\n",
    "from sklearn.metrics import mean_squared_error"
   ]
  },
  {
   "cell_type": "markdown",
   "id": "f5dc1d23-0da1-4a93-a9f2-2e77d8b957d6",
   "metadata": {},
   "source": [
    "## Принцип максимума"
   ]
  },
  {
   "cell_type": "code",
   "execution_count": 7,
   "id": "570bd1b7-93ae-4742-b184-b69dec7086bd",
   "metadata": {},
   "outputs": [],
   "source": [
    "def generate_grids(left_border, right_border, num_x_points, upper_bound, num_t_points):\n",
    "    h = (right_border-left_border) / num_x_points\n",
    "    nodes_x = np.linspace(left_border, right_border, num_x_points+1)\n",
    "    tau = upper_bound / num_t_points\n",
    "    nodes_t = np.linspace(0, upper_bound, num_t_points+1)\n",
    "    \n",
    "    print('h =', h)\n",
    "    print('tau =', tau)\n",
    "    \n",
    "    return nodes_x, nodes_t, h, tau"
   ]
  },
  {
   "cell_type": "code",
   "execution_count": 9,
   "id": "6149c25d-9788-43ad-9959-9b91e714edc4",
   "metadata": {},
   "outputs": [],
   "source": [
    "def u(x, t, a, u_0):\n",
    "    return u_0(x - a * t)\n",
    "    \n",
    "a = 10\n",
    "\n",
    "def u_0(x):\n",
    "    return x**2\n"
   ]
  },
  {
   "cell_type": "code",
   "execution_count": null,
   "id": "cae0bb26-cdfd-4fb8-8fec-5df205a0f107",
   "metadata": {},
   "outputs": [],
   "source": [
    "def diff_scheme_solve(nodes_x, nodes_t, h, tau, u_0, a):\n",
    "    gamma = a * tau / h\n",
    "    y = np.zeros((len(nodes_x), len(nodes_t)))\n",
    "    \n",
    "    for k in range(len(nodes_x)):\n",
    "        y[k, 0] = u_0(nodes_x[k])\n",
    "        \n",
    "    for k in range(len(nodes_x)-1):\n",
    "        for j in range(len(nodes_t)-1):\n",
    "            y[k, j+1] = (1-gamma) * y[k, j] + gamma * y[k+1, j]\n",
    "            \n",
    "    return y"
   ]
  }
 ],
 "metadata": {
  "kernelspec": {
   "display_name": "Python 3 (ipykernel)",
   "language": "python",
   "name": "python3"
  },
  "language_info": {
   "codemirror_mode": {
    "name": "ipython",
    "version": 3
   },
   "file_extension": ".py",
   "mimetype": "text/x-python",
   "name": "python",
   "nbconvert_exporter": "python",
   "pygments_lexer": "ipython3",
   "version": "3.12.4"
  }
 },
 "nbformat": 4,
 "nbformat_minor": 5
}
