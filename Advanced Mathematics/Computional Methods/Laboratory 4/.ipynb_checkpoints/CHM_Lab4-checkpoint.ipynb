{
 "cells": [
  {
   "cell_type": "markdown",
   "id": "a90df298-906d-41ba-8ebc-c221f01f667b",
   "metadata": {},
   "source": [
    "/section*{Численное интегрирование}\n",
    "\n",
    "/subsection*{Постановка задач}\n",
    "1. Построить квадратурную формулу максимально возможной степени точности вида  $$\\int\\limits_a^b f(x)dx \\approx A_0 f(a) + A_1 f(b) + A_2 f'(a) + A_3 f'(b).$$\n",
    "2. Определить алгебраическую степень точности указанной квадратурной формулы $$\\int\\limits_{-1}^1 f(x)dx \\approx \\dfrac{1}{6}[f(-1) + f(1)] + \\dfrac{5}{6}[f(-\\dfrac{1}{\\sqrt5}) + f(\\dfrac{1}{\\sqrt5})].$$\n",
    "3. Используя правило Рунге, провести сравнительный анализ квадратурных формул средних прямоугольников и трапеций на примере вычисления интеграла $$I = \\int\\limits_1^3 \\dfrac{\\ln(\\sin^2x + 3)}{x^2+2x-1}dx.$$\n",
    "4. Вычислить с точностью $\\epsilon = 10^{-4}$ интеграл $$I = \\int\\limits_{-1}^1 \\frac{1}{\\sqrt{(1-x^2)}} \\dfrac{\\sin x^2}{1 + \\ln^2(x+1)}dx.$$\n",
    "5. Найти с точностью до $\\epsilon = 10^{-4}$ решение уравнения $$\\int\\limits_{0}^X (t-1)^6 (\\lg \\sqrt{t^2 + 1} + 2)dt = 5. $$"
   ]
  },
  {
   "cell_type": "markdown",
   "id": "d28eda37-71ab-46b7-94de-5ae95fa6ee79",
   "metadata": {},
   "source": [
    "\\subsection*{Задача 1}\n",
    "\n",
    "Для построения квадратурной формы с алгребраической степенью точности $m$ необходимо составить соотношения\n",
    "\\begin{eqnarray}\n",
    "\\begin{cases}\n",
    "\\int\\limits_a^b \\rho(x) x^idx = \\sum\\limits_{k=0}^{n}A_kx^i_k,\\quad i=\\overline{0,m},\\\\\n",
    "\\int\\limits_a^b \\rho(x) x^{m+1}dx \\ne \\sum\\limits_{k=0}^{n}A_kx^i_k;\n",
    "\\end{cases}\n",
    "\\end{eqnarray}\n",
    "Из этих соотношений можно составить систему для нахождения коэффициентов $A_0, A_1, A_2, A_3$\n",
    "\\begin{cases}\n",
    "x^0: \\int\\limits_a^b 1 dx = A_0 + A_1,\\\\\n",
    "x^1: \\int\\limits_a^b x dx = A_0a + A_1b + A_2 + A_3, \\\\\n",
    "x^2: \\int\\limits_a^b x^2 dx = A_0a^2 + A_1b^2 + 2A_2a + 2A_3b,\\\\\n",
    "x^3: \\int\\limits_a^b x^3 dx = A_0a^3 + A_1b^3 + 3A_2a^2 + 3A_3b^2.\n",
    "\\end{cases}\n",
    "Раскроем интегралы и получим\n",
    "\\begin{cases}\n",
    "b-a = A_0 + A_1,\\\\\n",
    "\\frac{(b-a)^2}{2} = A_0a + A_1b + A_2 + A_3, \\\\\n",
    "\\frac{(b-a)^3}{3} = A_0a^2 + A_1b^2 + 2A_2a + 2A_3b,\\\\\n",
    "\\frac{(b-a)^4}{4} = A_0a^3 + A_1b^3 + 3A_2a^2 + 3A_3b^2.\n",
    "\\end{cases}\n",
    "Найдем решение системы программно, используя инструменты языка Python"
   ]
  },
  {
   "cell_type": "code",
   "execution_count": 4,
   "id": "4826c87e-1f08-4606-b642-063e38ac1c22",
   "metadata": {
    "tags": []
   },
   "outputs": [
    {
     "name": "stdout",
     "output_type": "stream",
     "text": [
      "A0: (-3*a**3 - a**2*b - a*b**2 + b**3)/(2*(a**2 - 2*a*b + b**2))\n",
      "A1: (a**3 + 7*a**2*b - 5*a*b**2 + b**3)/(2*(a**2 - 2*a*b + b**2))\n",
      "A2: (7*a**3 + 3*a**2*b + 3*a*b**2 - b**3)/(12*(a - b))\n",
      "A3: (17*a**3 - 3*a**2*b - 3*a*b**2 + b**3)/(12*(a - b))\n"
     ]
    }
   ],
   "source": [
    "import math\n",
    "import numpy as np\n",
    "import sympy as sp\n",
    "import pandas as pd\n",
    "\n",
    "a, b, A0, A1, A2, A3 = sp.symbols('a b A0 A1 A2 A3')\n",
    "\n",
    "eq1 = sp.Eq(b - a, A0 + A1)\n",
    "eq2 = sp.Eq(((b - a)**2)/2, A0*a + A1*b + A2 + A3)\n",
    "eq3 = sp.Eq(((b - a)**3)/3, A0*a**2 + A1*b**2 + 2*A2*a + 2*A3*b)\n",
    "eq4 = sp.Eq(((b - a)**4)/4, A0*a**3 + A1*b**3 + 3*A2*a**2 + 3*A3*b**2)\n",
    "\n",
    "solution = sp.solve((eq1, eq2, eq3, eq4), (A0, A1, A2, A3))\n",
    "\n",
    "simplified_solution = {key: sp.simplify(value) for key, value in solution.items()}\n",
    "\n",
    "for key, value in simplified_solution.items():\n",
    "    print(f\"{key}: {value}\")"
   ]
  },
  {
   "cell_type": "markdown",
   "id": "9c2df123-8fb0-4eaa-9c0a-4e4118de73bb",
   "metadata": {},
   "source": [
    "Получили, что $$A_0 = \\frac{(-3) a^3 - a^2b-ab^2+b^3}{2(a^2-2ab+b^2)},$$\n",
    "$$A_1 = \\frac{a^3+7a^2b-5ab^2+b^3}{2(a^2-2ab+b^2)},$$\n",
    "$$A_2 = \\frac{7a^3+3a^2b+3ab^2-b^3}{12(a-b)},$$\n",
    "$$A_3 = \\frac{17a^3-3a^2b-3ab^2+b^3}{12(a-b)}.$$\n",
    "Проверим полученное решение с помощью тех же инструментов Python"
   ]
  },
  {
   "cell_type": "code",
   "execution_count": 6,
   "id": "3b8e46c3-148f-489d-80c0-0f9ef29cc8e7",
   "metadata": {
    "tags": []
   },
   "outputs": [
    {
     "name": "stdout",
     "output_type": "stream",
     "text": [
      "True\n",
      "True\n",
      "True\n",
      "True\n"
     ]
    }
   ],
   "source": [
    "eq1_sub = sp.simplify(eq1.subs(solution))\n",
    "eq2_sub = sp.simplify(eq2.subs(solution))\n",
    "eq3_sub = sp.simplify(eq3.subs(solution))\n",
    "eq4_sub = sp.simplify(eq4.subs(solution))\n",
    "\n",
    "print(eq1_sub)\n",
    "print(eq2_sub)\n",
    "print(eq3_sub)\n",
    "print(eq4_sub)"
   ]
  },
  {
   "cell_type": "markdown",
   "id": "05b9ce25-a86c-45bd-9731-f9b7f4d0e54e",
   "metadata": {},
   "source": [
    "Таким образом, решение получено правильно и, соответственно, квадратурная форма будет иметь вид:\n",
    "$$\\int\\limits_a^b f(x)dx \\approx \\frac{(-3) a^3 - a^2b-ab^2+b^3}{2(a^2-2ab+b^2)} f(a) + \\frac{a^3+7a^2b-5ab^2+b^3}{2(a^2-2ab+b^2)} f(b) + \\frac{7a^3+3a^2b+3ab^2-b^3}{12(a-b)} f'(a) + \\frac{17a^3-3a^2b-3ab^2+b^3}{12(a-b)} f'(b)$$\n",
    "Найдем АСТ для получившейся квадратурной формулы, для этого построим соотношение $x^4:$\n",
    "$$\\int\\limits_a^b x^4 dx = A_0a^4 + A_1b^4 + 4A_2a^3 + 4A_3b^3.$$\n",
    "Подставим коэффициенты и вычислим интеграл\n",
    "$$\\frac{(b-a)^5}{5} = \\frac{(-3) a^3 - a^2b-ab^2+b^3}{2(a^2-2ab+b^2)} a^4 + \\frac{a^3+7a^2b-5ab^2+b^3}{2(a^2-2ab+b^2)} b^4 + 4 \\frac{7a^3+3a^2b+3ab^2-b^3}{12(a-b)} a^3 + 4\\frac{17a^3-3a^2b-3ab^2+b^3}{12(a-b)} b^3$$\n",
    "Посмотрим, выполняется ли равенство"
   ]
  },
  {
   "cell_type": "code",
   "execution_count": 8,
   "id": "b712c868-e62f-4d30-9a10-7bb9ff0d5465",
   "metadata": {
    "tags": []
   },
   "outputs": [
    {
     "name": "stdout",
     "output_type": "stream",
     "text": [
      "Eq((a - b)**5/5, -(10*a**6 - 12*a**5*b - 18*a**4*b**2 + 23*a**3*b**3 - 27*a**2*b**4 + 15*a*b**5 - 3*b**6)/(12*(a - b)))\n"
     ]
    }
   ],
   "source": [
    "eq5 = sp.Eq(((b - a)**5)/5, A0*a**4 + A1*b**4 + 4*A2*a**3 + 3*A3*b**3)\n",
    "eq5_sub = sp.simplify(eq5.subs(solution))\n",
    "\n",
    "print(eq5_sub)"
   ]
  },
  {
   "cell_type": "markdown",
   "id": "5f28eec6-73cc-493f-a8b6-8266d7e5f824",
   "metadata": {},
   "source": [
    "При подстановке мы получаем следующее\n",
    "$$\\frac{(a-b)^5}{5} \\overset{?}{=} -\\frac{10a^6-12a^5b-18a^4b^2+23a^3b^3-27a^2b^4+15ab^5-3b^6}{12(a-b)}.$$\n",
    "Раскроем левую часть\n",
    "$$\\frac{(a-b)^5}{5} = \\frac{a^5-5a^4b+10a^3b^2-10a^2b^3+5ab^4-b^5}{5}$$\n",
    "$$\\frac{a^5-5a^4b+10a^3b^2-10a^2b^3+5ab^4-b^5}{5} \\neq -\\frac{10a^6-12a^5b-18a^4b^2+23a^3b^3-27a^2b^4+15ab^5-3b^6}{12(a-b)}$$\n",
    "Таким образом алгебраическая степень точности равна 4."
   ]
  },
  {
   "cell_type": "markdown",
   "id": "006492f0-c1b0-4a84-a717-1059551a6eb3",
   "metadata": {},
   "source": [
    "\\subsection*{Задача 2}\n",
    "\n",
    "Рассмотрим обший вид квадратурной формулы\n",
    "$$I(f) = \\int\\limits_a^b \\rho(x)f(x)dx \\approx A_0 f(x_0) + A_1 f(x_1) + A_2 f(x_2) + A_3 f(x_3).$$\n",
    "\n",
    "Для построения квадратурной формы с алгребраической степенью точности $m$ необходимо составить соотношения\n",
    "\\begin{eqnarray}\n",
    "\\begin{cases}\n",
    "\\int\\limits_a^b \\rho(x) x^idx = \\sum\\limits_{k=0}^{n}A_kx^i_k,\\quad i=\\overline{0,m},\\\\\n",
    "\\int\\limits_a^b \\rho(x) x^{m+1}dx \\ne \\sum\\limits_{k=0}^{n}A_kx^i_k;\n",
    "\\end{cases}\n",
    "\\end{eqnarray}\n",
    "\n",
    "Таким образом, в нашем примере мы имеем $$[a, b] = [-1, 1], \\ \\rho(x) = 1,$$\n",
    "$$A_0 = A_1 = \\frac{1}{6},\\  A_2 = A_3 = \\frac{5}{6},$$\n",
    "$$x_0 = -1, \\ x_1 = 1, \\ x_2 = -\\frac{1}{\\sqrt{5}},\\  x_3 = \\frac{1}{\\sqrt{5}}.$$\n",
    "Для определения алгебраической степени точности, необходимо строить по одному уравнению из нашего соотношения до тех пор, пока равенство не обратится в неравенство.\n",
    "\n",
    "Найдем решение интеграла для любого $i:$\n",
    "$$\\int\\limits_{-1}^1 x^i dx = \\dfrac{x^{i+1}}{i+1}\\bigg|^{1}_{-1} = \\dfrac{1 - (-1)^{i+1}}{i+1}$$\n",
    "Подставим соотношение для $i-$го порядка:\n",
    "$$\\dfrac{1 - (-1)^{i+1}}{i+1} = \\frac{1}{6} \\cdot (-1)^{i} + \\frac{1}{6} \\cdot 1 + \\frac{5}{6} \\cdot \\Bigr(-\\frac{1}{\\sqrt{5}} \\Bigl)^i + \\frac{5}{6} \\cdot \\Bigr(\\frac{1}{\\sqrt{5}} \\Bigl)^i$$\n",
    "Нетрудно заметить, что при нечетных $i$ и левая, и правая части будут равны $0$, поэтому сразу будем рассматривать четные $i$, при которых получим\n",
    "$$\\dfrac{2}{i+1} = \\frac{1}{3} + \\frac{5}{3 \\cdot(\\sqrt{5})^i}$$\n",
    "\n",
    "Начнем с $i=0:$\n",
    "$$x^0: 2 \\overset{?}{=} \\frac{1}{6} + \\frac{1}{6} + \\frac{5}{6} + \\frac{5}{6} = 2 \\Rightarrow \\text{Равенство выполняется}.$$\n",
    "$$x^2: \\dfrac{2}{3} \\overset{?}{=} \\frac{1}{3} + \\frac{5}{3 \\cdot 5} = \\dfrac{2}{3}\\Rightarrow \\text{Равенство выполняется}.$$\n",
    "$$x^4: \\dfrac{2}{5} \\overset{?}{=} \\frac{1}{3} + \\frac{5}{3 \\cdot 5 \\cdot {\\sqrt5}} = \\frac{1}{3} + \\frac{1}{3 \\cdot {\\sqrt5}} \\neq \\dfrac{2}{5} \\Rightarrow \\text{Равенство не выполняется}.$$\n",
    "\n",
    "Таким образом, АСТ нашей квадратурной формулы равна 3."
   ]
  },
  {
   "cell_type": "markdown",
   "id": "d0b20943-c7f8-4e41-a3a2-399fd0722248",
   "metadata": {},
   "source": [
    "\\subsection*{Задача 3}\n",
    "\n",
    "Зададим нашу функцию $f(x)=\\dfrac{\\ln(\\sin^2x + 3)}{x^2+2x-1}$ программно"
   ]
  },
  {
   "cell_type": "code",
   "execution_count": 12,
   "id": "eb6dd8d6-b3bd-4a3d-aeaa-d1c931cd1428",
   "metadata": {},
   "outputs": [],
   "source": [
    "def f(x):\n",
    "    return math.log(math.sin(x)**2 + 3) / (x**2 + 2*x - 1)\n",
    "\n",
    "a, b, n = 1, 3, 10"
   ]
  },
  {
   "cell_type": "markdown",
   "id": "c18b8fc2-5908-4c8b-8c1a-7246028f6aaa",
   "metadata": {},
   "source": [
    "Рассмотрим общий вид составной квадратурной формулы средних прямоугольников\n",
    "$$I_{\\text{сс}}=h \\sum_{k=0}^{N-1} f(a+(k + \\dfrac{1}{2)}h),$$\n",
    "и зададим его программно."
   ]
  },
  {
   "cell_type": "code",
   "execution_count": 14,
   "id": "9ab0aefb-ef8f-4527-8843-0113875b12bf",
   "metadata": {},
   "outputs": [],
   "source": [
    "def mean_rect(a, b, f, h):\n",
    "    I = 0\n",
    "    N = int((b - a) / h)\n",
    "    \n",
    "    for k in range(N):\n",
    "        I += f(a + (k + 1/2) * h)\n",
    "        \n",
    "    return h * I"
   ]
  },
  {
   "cell_type": "markdown",
   "id": "d47687eb-5fad-45db-a1a8-9bad560fec58",
   "metadata": {},
   "source": [
    "Рассмотрим так же составную квадратурную формулу трапеций\n",
    "$$I_{\\text{тс}} = h \\Bigr[ \\dfrac{f(a) + f(b)}{2} + \\sum_{k=0}^{N-1}f(x_k)  \\Bigl]$$"
   ]
  },
  {
   "cell_type": "code",
   "execution_count": 16,
   "id": "59475737-9274-4e20-a96e-af2732fbe0b4",
   "metadata": {},
   "outputs": [],
   "source": [
    "def trap(a, b, f, h):\n",
    "    I = 0\n",
    "    N = int((b - a) / h)\n",
    "    \n",
    "    x = np.linspace(a, b, N)\n",
    "    \n",
    "    for k in range(N):\n",
    "        I += f(x[k])\n",
    "\n",
    "    return h * ((f(a) + f(b)) / 2 + I)"
   ]
  },
  {
   "cell_type": "markdown",
   "id": "ee9d2c38-9bb2-4630-9c52-f1877aa0e9c1",
   "metadata": {},
   "source": [
    "Для использования правила Рунге используем выражение для главной части остатка квадратурной формулы\n",
    "$$R(h, f) \\approx \\dfrac{I_{h_2} - I_{h_1}}{1 - \\Bigr( \\dfrac{h_2}{h_1} \\Bigl)^m}$$\n",
    "\n",
    "$m \\ -$ алгебраическая степень точности методов, которая в нашем случае равна $2$ для каждого метода.\n",
    "\n",
    "Подбирать шаги будем следующим образом $$h_1 = \\dfrac{b-a}{N}, \\ h_2 = \\dfrac{h_1}{2}$$\n",
    "\n",
    "Посмотрим, для какой квадратурной формулы мы быстрее сможем подобрать такие шаги $h_1, h_2$, при которых $$|R(h,f)| \\leq \\epsilon.$$ Погрешность в этом задании возьмем $\\epsilon = 10^{-4}$, начальные шаги $$h_1=b-a, h_2 = \\frac{h_1}{2}$$ подбор будем делать по правилу $$|R(h,f)| \\nleq \\epsilon \\Rightarrow h_1 = h_2, h_2 = \\frac{h_1}{2}$$\n",
    "Если же неравенство будет выполняться, то мы подобрали шаг при котором, достигается нужная точность.\n",
    "Зададим правило Рунге программно"
   ]
  },
  {
   "cell_type": "code",
   "execution_count": 18,
   "id": "d6c3de38-73f1-4d9a-9d7f-6aea762f43f5",
   "metadata": {},
   "outputs": [],
   "source": [
    "def runge_rule(m, a, b, I, f, epsilon = 1e-4):\n",
    "    h1 = b - a\n",
    "    h2 = h1 / 2\n",
    "    \n",
    "    R = (I(a, b, f, h1) - I(a, b, f, h2)) / (1 - (h2 / h1)**m)\n",
    "    array = [R]\n",
    "    h_1 = [h1]\n",
    "    h_2 = [h2]\n",
    "    \n",
    "    while abs(R) > epsilon:\n",
    "        h1 = h2\n",
    "        h2 = h1 / 2\n",
    "        \n",
    "        R = (I(a, b, f, h1) - I(a, b, f, h2)) / (1 - (h2 / h1)**m)\n",
    "        \n",
    "        array.append(R)\n",
    "        \n",
    "        h_1.append(h1)\n",
    "        h_2.append(h2)\n",
    "        \n",
    "    return h_1, h_2, array, (I(a, b, f, h1) + R)"
   ]
  },
  {
   "cell_type": "code",
   "execution_count": 19,
   "id": "24d39f17-94c4-41cf-b8b1-cef374f7e0f9",
   "metadata": {
    "tags": []
   },
   "outputs": [
    {
     "data": {
      "text/html": [
       "<div>\n",
       "<style scoped>\n",
       "    .dataframe tbody tr th:only-of-type {\n",
       "        vertical-align: middle;\n",
       "    }\n",
       "\n",
       "    .dataframe tbody tr th {\n",
       "        vertical-align: top;\n",
       "    }\n",
       "\n",
       "    .dataframe thead th {\n",
       "        text-align: right;\n",
       "    }\n",
       "</style>\n",
       "<table border=\"1\" class=\"dataframe\">\n",
       "  <thead>\n",
       "    <tr style=\"text-align: right;\">\n",
       "      <th></th>\n",
       "      <th>Количество узлов</th>\n",
       "      <th>Трапеции</th>\n",
       "      <th>Средние прямоугольники</th>\n",
       "    </tr>\n",
       "  </thead>\n",
       "  <tbody>\n",
       "    <tr>\n",
       "      <th>0</th>\n",
       "      <td>1</td>\n",
       "      <td>1.257883</td>\n",
       "      <td>-0.080852</td>\n",
       "    </tr>\n",
       "    <tr>\n",
       "      <th>1</th>\n",
       "      <td>2</td>\n",
       "      <td>0.461537</td>\n",
       "      <td>-0.032575</td>\n",
       "    </tr>\n",
       "    <tr>\n",
       "      <th>2</th>\n",
       "      <td>4</td>\n",
       "      <td>0.194290</td>\n",
       "      <td>-0.010381</td>\n",
       "    </tr>\n",
       "    <tr>\n",
       "      <th>3</th>\n",
       "      <td>8</td>\n",
       "      <td>0.089161</td>\n",
       "      <td>-0.002848</td>\n",
       "    </tr>\n",
       "    <tr>\n",
       "      <th>4</th>\n",
       "      <td>16</td>\n",
       "      <td>0.042803</td>\n",
       "      <td>-0.000732</td>\n",
       "    </tr>\n",
       "    <tr>\n",
       "      <th>5</th>\n",
       "      <td>32</td>\n",
       "      <td>0.020992</td>\n",
       "      <td>-0.000184</td>\n",
       "    </tr>\n",
       "    <tr>\n",
       "      <th>6</th>\n",
       "      <td>64</td>\n",
       "      <td>0.010399</td>\n",
       "      <td>-0.000046</td>\n",
       "    </tr>\n",
       "    <tr>\n",
       "      <th>7</th>\n",
       "      <td>128</td>\n",
       "      <td>0.005176</td>\n",
       "      <td></td>\n",
       "    </tr>\n",
       "    <tr>\n",
       "      <th>8</th>\n",
       "      <td>256</td>\n",
       "      <td>0.002582</td>\n",
       "      <td></td>\n",
       "    </tr>\n",
       "    <tr>\n",
       "      <th>9</th>\n",
       "      <td>512</td>\n",
       "      <td>0.001290</td>\n",
       "      <td></td>\n",
       "    </tr>\n",
       "    <tr>\n",
       "      <th>10</th>\n",
       "      <td>1024</td>\n",
       "      <td>0.000644</td>\n",
       "      <td></td>\n",
       "    </tr>\n",
       "    <tr>\n",
       "      <th>11</th>\n",
       "      <td>2048</td>\n",
       "      <td>0.000322</td>\n",
       "      <td></td>\n",
       "    </tr>\n",
       "    <tr>\n",
       "      <th>12</th>\n",
       "      <td>4096</td>\n",
       "      <td>0.000161</td>\n",
       "      <td></td>\n",
       "    </tr>\n",
       "    <tr>\n",
       "      <th>13</th>\n",
       "      <td>8192</td>\n",
       "      <td>0.000081</td>\n",
       "      <td></td>\n",
       "    </tr>\n",
       "  </tbody>\n",
       "</table>\n",
       "</div>"
      ],
      "text/plain": [
       "    Количество узлов  Трапеции Средние прямоугольники\n",
       "0                  1  1.257883              -0.080852\n",
       "1                  2  0.461537              -0.032575\n",
       "2                  4  0.194290              -0.010381\n",
       "3                  8  0.089161              -0.002848\n",
       "4                 16  0.042803              -0.000732\n",
       "5                 32  0.020992              -0.000184\n",
       "6                 64  0.010399              -0.000046\n",
       "7                128  0.005176                       \n",
       "8                256  0.002582                       \n",
       "9                512  0.001290                       \n",
       "10              1024  0.000644                       \n",
       "11              2048  0.000322                       \n",
       "12              4096  0.000161                       \n",
       "13              8192  0.000081                       "
      ]
     },
     "execution_count": 19,
     "metadata": {},
     "output_type": "execute_result"
    }
   ],
   "source": [
    "m = max(len(runge_rule(2, a, b, mean_rect, f)[2]), len(runge_rule(2, a, b, trap, f)[2]))\n",
    "\n",
    "h1 = runge_rule(2, a, b, trap, f)[0]\n",
    "\n",
    "df = pd.DataFrame(columns = [\"Количество узлов\", \"Трапеции\"])\n",
    "\n",
    "N = [0] * m\n",
    "\n",
    "for i in range(m):\n",
    "    N[i] = int((b - a) / h1[i])\n",
    "    \n",
    "df[\"Количество узлов\"] = N  \n",
    "df[\"Трапеции\"] = runge_rule(2, a, b, trap, f)[2]\n",
    "\n",
    "df = pd.concat([df, pd.DataFrame(runge_rule(2, a, b, mean_rect, f)[2], columns=[\"Средние прямоугольники\"])], axis=1, verify_integrity=True).fillna('')\n",
    "df"
   ]
  },
  {
   "cell_type": "markdown",
   "id": "45bc1bf7-2032-43f7-95b8-4a697f1aa37e",
   "metadata": {},
   "source": [
    "Как можно заметить, с увеличением количества узлов значение остатка по правилу Рунге уменьшается как при использовании составной КФ средних прямоугольников, так и составной КФ трапеций, однако можно увидеть, что для КФ средних прямоугольников мы изначально начинали с меньшего по модулю значения остатка и практически в два раза быстрее нам удалось достигнуть нужной точности."
   ]
  },
  {
   "cell_type": "markdown",
   "id": "abb616b8-81d4-4ee4-94ed-160578a6a2c9",
   "metadata": {},
   "source": [
    "\\subsection*{Задача 4}\n",
    "\n",
    "Для вычисления значения интеграла $$I = \\int\\limits_{-1}^1 \\frac{1}{\\sqrt{(1-x^2)}} \\dfrac{\\sin x^2}{1 + \\ln^2(x+1)}dx$$ с точностью $\\epsilon=10^{-4}$ воспользуемся квадратурными формулами наивысшей алгебраической степени точности, или квадратурные формулы типа Гаусса.\n",
    "\n",
    "Поскольку мы сразу можем выделить весовую функцию $p(x)=\\frac{1}{\\sqrt{(1-x^2)}}$ и мы имеем отрезок интегрирования $[a,b]=[-1,1]$, то мы сразу можем перейти к использованию квадратурной формулы Эрмита $$I(f)=\\int_{-1}^1 \\frac{1}{\\sqrt{1-x^2}}f(x)dx \\approx \\sum_{k=0}^nA_kf(x_k)$$\n",
    "В качестве узлов $x_k$ выбираются $$x_k=\\cos{\\frac{2k+1}{2n+2} \\pi}$$\n",
    "Для $$A_k=\\frac{\\pi}{n+1}$$\n",
    "Остаток имеет вид $$R_n(f) = \\frac{\\pi}{2^{2n+1}(2n+2)!} \\cdot f^{2n+2}(\\eta), \\eta \\in [-1,1].$$\n",
    "Таким образом, получаем, что КФ имеет вид\n",
    "$$I(f)=\\int_{-1}^1 \\frac{1}{\\sqrt{1-x^2}}f(x)dx \\approx \\frac{\\pi}{n+1}\\sum_{k=0}^nf(\\cos{\\frac{2k+1}{2n+2} \\pi})$$\n",
    "Подставим нашу функцию $$f(x) =  \\dfrac{\\sin x^2}{1 + \\ln^2(x+1)}$$ и получим $$I(f)=\\int_{-1}^1 \\frac{1}{\\sqrt{1-x^2}}f(x)dx \\approx \\frac{\\pi}{n+1}\\sum_{k=0}^n\\dfrac{\\sin (\\cos{\\frac{2k+1}{2n+2} \\pi})^2}{1 + \\ln^2(\\cos{\\frac{2k+1}{2n+2} \\pi}+1)}$$\n",
    "Погрешность будем оценивать следующим образом\n",
    "$$\\Delta = |I(f,n)-I(f,n-1)| < \\epsilon = 10^{-4}$$\n",
    "Из этого неравенства путем перебора найдем подходящее $n$.\n",
    "\n",
    "Перейдем к программной реализации."
   ]
  },
  {
   "cell_type": "code",
   "execution_count": 22,
   "id": "6a0f72cc-2655-40c6-b69d-f8f38464c959",
   "metadata": {
    "tags": []
   },
   "outputs": [],
   "source": [
    "def u(x):\n",
    "    return np.sin(x**2)/(1+np.log(x+1)**2)"
   ]
  },
  {
   "cell_type": "code",
   "execution_count": 23,
   "id": "2ff8fbf6-7534-4382-8dd0-a2ad26dc30b1",
   "metadata": {
    "tags": []
   },
   "outputs": [],
   "source": [
    "def hermite_quadrature_formula(f, epsilon=10e-4):\n",
    "    n = 1\n",
    "    \n",
    "    I_new = np.inf\n",
    "    I_last = 0\n",
    "    \n",
    "    while abs(I_new - I_last) >= epsilon:\n",
    "        I_last = I_new\n",
    "        I_new = 0\n",
    "        \n",
    "        for k in range(n + 1):\n",
    "            x_k = np.cos((2 * k + 1) / (2 * n + 2) * np.pi)\n",
    "            \n",
    "            A_k = np.pi / (n + 1)\n",
    "            \n",
    "            I_new += A_k * f(x_k)\n",
    "            \n",
    "        n += 1\n",
    "        \n",
    "    return I_new, n"
   ]
  },
  {
   "cell_type": "code",
   "execution_count": 24,
   "id": "177b2e5c-8157-4b31-9b29-f9d56c88b292",
   "metadata": {
    "tags": []
   },
   "outputs": [
    {
     "data": {
      "text/plain": [
       "(0.6831692972144928, 7)"
      ]
     },
     "execution_count": 24,
     "metadata": {},
     "output_type": "execute_result"
    }
   ],
   "source": [
    "hermite_quadrature_formula(u)"
   ]
  },
  {
   "cell_type": "markdown",
   "id": "83d0269b-482e-4ef9-9e63-ee9cdeab4de4",
   "metadata": {},
   "source": [
    "Таким образом, получаем, что приближенное значение интеграла равно $$I(f) \\approx 0.6832$$ и получено оно было при $n=7$ узлах."
   ]
  },
  {
   "cell_type": "markdown",
   "id": "1af705db-0381-496a-a375-e139016776e7",
   "metadata": {},
   "source": [
    "\\subsection*{Задача 5}\n",
    "\n",
    "Перепишем наше уравнение $$\\int\\limits_{0}^X (t-1)^6 (\\lg \\sqrt{t^2 + 1} + 2)dt = 5$$\n",
    "в виде\n",
    "\n",
    "$$\\int\\limits_{0}^X (t-1)^6 (\\lg \\sqrt{t^2 + 1} + 2)dt - 5 = f(x). $$\n",
    "\n",
    "Таким образом, решение этого уравнения совпадает с решением нелинейного уравнения $$f(x)=0,$$ которое будем решать методом Ньютона."
   ]
  },
  {
   "cell_type": "markdown",
   "id": "f0cf60cb-1973-49bf-9bde-5ff78cfd9fa6",
   "metadata": {},
   "source": [
    "Вспомним первую лабораторную работу, уравнение будет иметь единственный корень на отрезке $[a, b]$, если функция на концах отрезка имеет разные по знаку значения и является монотонной.\n",
    "\n",
    "Начнем с монотонности функции, для этого рассмотрим ее производную, вычисленную по теореме Барроу\n",
    "$$f'(x) = (x-1)^6 (\\lg \\sqrt{x^2 + 1} + 2).$$\n",
    "\n",
    "Поскольку функции $(x-1)^6$ и $\\lg \\sqrt{x^2 + 1} + 2$ являются строго положительными на отрезке $[0, +\\infty),$ тогда и $$f'(x)>0, \\ x \\in [0, +\\infty],$$\n",
    "следовательно, наша исходная функци монотонна на нашем множестве.\n",
    "\n",
    "Для определения знака на концах отрезка, необходимо приближенно вычислить интеграл $$\\int\\limits_{0}^X (t-1)^6 (\\lg \\sqrt{t^2 + 1} + 2)dt.$$\n",
    "\n",
    "Для этого определим подынтегральную функцию $$g(x) = (t-1)^6 (\\lg \\sqrt{t^2 + 1} + 2).$$"
   ]
  },
  {
   "cell_type": "code",
   "execution_count": 28,
   "id": "37289ed5-f282-47c3-bbc6-da75fabe8788",
   "metadata": {
    "tags": []
   },
   "outputs": [],
   "source": [
    "def g(x):\n",
    "    return (x - 1)**6 * (np.log(np.sqrt(x**2 + 1)) + 2)"
   ]
  },
  {
   "cell_type": "markdown",
   "id": "b3c9ef6b-9dcf-4ef7-8f91-e47540be854c",
   "metadata": {},
   "source": [
    "Для вычисления интеграла воспользуемся правилом Рунге, а именно приближенное значение будем искать в виде\n",
    "$$\\int\\limits_{0}^X (t-1)^6 (\\lg \\sqrt{t^2 + 1} + 2)dt \\approx I_h(f) + R(h,f),$$ где $I_h(f)$ - квадратурная формула, $R(h,f)$ - остаток составной квадратурной формулы.\n",
    "\n",
    "Опираясь на заданее 3, будем использовать составную формулу средних прямоугольников, поскольку этот метод сошелся быстрее в рассматриваемом случае, для $\\epsilon = 10^{-4}$.\n",
    "\n",
    "Возьмем значение $x=2$"
   ]
  },
  {
   "cell_type": "code",
   "execution_count": 30,
   "id": "ba10a475-e9c9-4d2a-ab0c-ff438ac16964",
   "metadata": {
    "tags": []
   },
   "outputs": [],
   "source": [
    "def f(x):\n",
    "    return runge_rule(2, 0, x, mean_rect, g)[3] - 5"
   ]
  },
  {
   "cell_type": "code",
   "execution_count": 31,
   "id": "fd3a92a2-9ef6-4d60-94d8-013f44ddfafd",
   "metadata": {
    "tags": []
   },
   "outputs": [
    {
     "name": "stdout",
     "output_type": "stream",
     "text": [
      "-4.3192581929823355\n"
     ]
    }
   ],
   "source": [
    "print(f(2))"
   ]
  },
  {
   "cell_type": "markdown",
   "id": "25fe4507-fb6d-462c-a0f1-32dc2b946843",
   "metadata": {},
   "source": [
    "То есть $$f(2) < 0.$$ Так как мы помним, что наша функция является момнотонно возрастающей, то все значения слева будут точно отрицательными. \n",
    "\n",
    "Для рассмотрения правого конца отрезка возьмем значение из отрезка $(2, +\\infty)$, например, $x=2.5$"
   ]
  },
  {
   "cell_type": "code",
   "execution_count": 33,
   "id": "b214f72d-04d6-4d17-a446-255342df213e",
   "metadata": {
    "tags": []
   },
   "outputs": [
    {
     "name": "stdout",
     "output_type": "stream",
     "text": [
      "2.4209735145471107\n"
     ]
    }
   ],
   "source": [
    "print(f(2.5))"
   ]
  },
  {
   "cell_type": "markdown",
   "id": "9e490ad1-8a3e-48dc-80ec-4c192cdb3ea0",
   "metadata": {
    "tags": []
   },
   "source": [
    "Таким образом, $$f(2.5) > 0,$$ что, опираясь на монотонность функции гарантирует, что во всех точках находящихся правее, значения функции будут положительны. \n",
    "\n",
    "Следовательно, мы получили, что на отрезке $[2, 2.5]$ наша функция монотонна и имеет разные по знаку значения на его концах, что говорит о том, что на данном отрезке есть единственный корень.\n",
    "\n",
    "Сведем наш отрезок к минимум, применив метод деления отрезка пополам"
   ]
  },
  {
   "cell_type": "code",
   "execution_count": 35,
   "id": "5affa3c7-8a18-4d9b-af59-9483e5b750ee",
   "metadata": {
    "tags": []
   },
   "outputs": [
    {
     "data": {
      "text/html": [
       "<div>\n",
       "<style scoped>\n",
       "    .dataframe tbody tr th:only-of-type {\n",
       "        vertical-align: middle;\n",
       "    }\n",
       "\n",
       "    .dataframe tbody tr th {\n",
       "        vertical-align: top;\n",
       "    }\n",
       "\n",
       "    .dataframe thead th {\n",
       "        text-align: right;\n",
       "    }\n",
       "</style>\n",
       "<table border=\"1\" class=\"dataframe\">\n",
       "  <thead>\n",
       "    <tr style=\"text-align: right;\">\n",
       "      <th></th>\n",
       "      <th>a</th>\n",
       "      <th>b</th>\n",
       "      <th>b-a</th>\n",
       "      <th>f(a)</th>\n",
       "      <th>f(b)</th>\n",
       "      <th>(a+b)/2</th>\n",
       "    </tr>\n",
       "  </thead>\n",
       "  <tbody>\n",
       "    <tr>\n",
       "      <th>0</th>\n",
       "      <td>2.000</td>\n",
       "      <td>2.5000</td>\n",
       "      <td>0.5000</td>\n",
       "      <td>-4.319258</td>\n",
       "      <td>2.420974</td>\n",
       "      <td>2.25000</td>\n",
       "    </tr>\n",
       "    <tr>\n",
       "      <th>1</th>\n",
       "      <td>2.250</td>\n",
       "      <td>2.5000</td>\n",
       "      <td>0.2500</td>\n",
       "      <td>-2.777520</td>\n",
       "      <td>2.420974</td>\n",
       "      <td>2.37500</td>\n",
       "    </tr>\n",
       "    <tr>\n",
       "      <th>2</th>\n",
       "      <td>2.375</td>\n",
       "      <td>2.5000</td>\n",
       "      <td>0.1250</td>\n",
       "      <td>-0.886550</td>\n",
       "      <td>2.420974</td>\n",
       "      <td>2.43750</td>\n",
       "    </tr>\n",
       "    <tr>\n",
       "      <th>3</th>\n",
       "      <td>2.375</td>\n",
       "      <td>2.4375</td>\n",
       "      <td>0.0625</td>\n",
       "      <td>-0.886550</td>\n",
       "      <td>0.546931</td>\n",
       "      <td>2.40625</td>\n",
       "    </tr>\n",
       "  </tbody>\n",
       "</table>\n",
       "</div>"
      ],
      "text/plain": [
       "       a       b     b-a      f(a)      f(b)  (a+b)/2\n",
       "0  2.000  2.5000  0.5000 -4.319258  2.420974  2.25000\n",
       "1  2.250  2.5000  0.2500 -2.777520  2.420974  2.37500\n",
       "2  2.375  2.5000  0.1250 -0.886550  2.420974  2.43750\n",
       "3  2.375  2.4375  0.0625 -0.886550  0.546931  2.40625"
      ]
     },
     "execution_count": 35,
     "metadata": {},
     "output_type": "execute_result"
    }
   ],
   "source": [
    "a, b = 2, 2.5\n",
    "epsilon_2 = 1e-1\n",
    "\n",
    "dichotomy_table = [[a, b, b - a, f(a), f(b) , (a + b)/2]]\n",
    "c = 0\n",
    "\n",
    "while b - a > epsilon_2:\n",
    "    c = (a + b) / 2\n",
    "    \n",
    "    if f(c) * f(a) >= 0:\n",
    "        a = c\n",
    "        \n",
    "    else:\n",
    "        b = c\n",
    "        \n",
    "    dichotomy_table.append([a, b, b - a, f(a), f(b) , (a + b) / 2])\n",
    "    \n",
    "pd.DataFrame(dichotomy_table, columns = ['a', 'b', 'b-a', 'f(a)', 'f(b)', '(a+b)/2'])"
   ]
  },
  {
   "cell_type": "markdown",
   "id": "828458eb-2d22-4f36-b561-d821e8f3538c",
   "metadata": {},
   "source": [
    "Таким образом, получаем, что корень находится на отрезке $[2.375, 2,4375]$.\n",
    "\n",
    "Вспоминая метод Ньютона, имеем следующую формулу\n",
    "$$x^{k+1} = x^k - \\dfrac{f(x^k)}{f'(x^0)},\\quad k = 0,1,\\ldots;\\quad x_0$$\n",
    "Так же рассмотрим теорему о сходимости метода Ньютона \n",
    "\\begin{theorem}[о сходимости метода Ньютона]\n",
    "Пусть выполняются следующие условия:\n",
    "\\begin{enumerate}\n",
    "\\item Функция $f(x)$ определена и дважды непрерывно дифференцируема на отрезке $$s_0 = [x^0; x^0 + 2h_0],\\quad h_0 =- \\dfrac{f(x^0)}{f'(x^0)}.$$ При этом на концах отрезка $f(x)f'(x)\\ne 0$.\n",
    "\\item Для начального приближения $x^0$ выполняется неравенство $$2|h_0|M \\leq |f'(x_0)|,\\quad M = \\underset{x\\in s_0}{\\max}|f''(x)|.$$\n",
    "\\end{enumerate}\n",
    "Тогда справедливы следующие утверждения: \n",
    "\\begin{enumerate}\n",
    "\\item Внутри отрезка $s_0$ уравнение $f(x) = 0$ имеет корень $x^*$ и при этом этот корень единственный.\n",
    "\\item Последовательность приближений $x^k$, $k=1,2,\\ldots$ может быть построена по формуле с заданным приближением $x^0$.\n",
    "\\item Последовательность $x^k$ сходится к корню $x^*$, то есть $x^k \\xrightarrow[k\\to\\infty]{}x^*$.\n",
    "\\item Скорость сходимости характеризуется неравенством $$|x^* - x^{k+1}|\\leq |x^{k+1} - x^k|\\leq \\dfrac{M}{2|f'(x^*)|}\\cdot (x^k-x^{k-1})^2,\\quad k=0,1,2,\\ldots\\eqno(4)$$\n",
    "\\end{enumerate}\n",
    "\\end{theorem}\n",
    "\n",
    "Выберем $x_0$ из нашего отрезка, $x_0 = 2.4$ и перейдем к проверке условий теоремы"
   ]
  },
  {
   "cell_type": "code",
   "execution_count": 37,
   "id": "7f0aba89-c0dd-4c61-8227-fd6704411440",
   "metadata": {
    "tags": []
   },
   "outputs": [
    {
     "name": "stdout",
     "output_type": "stream",
     "text": [
      "Начальное приближение: 2.4\n",
      "h_0: 0.016167695083937752\n",
      "s_0 = [ 2.4 ; 2.4323353901678755 ]\n"
     ]
    }
   ],
   "source": [
    "x0 = 2.4\n",
    "print(f'Начальное приближение: {x0}')\n",
    "\n",
    "h0 = -f(x0) / g(x0)\n",
    "print(f'h_0: {h0}')\n",
    "\n",
    "s0 = np.linspace(x0, x0 + 2 * h0, 1000)\n",
    "print('s_0 = [', s0[0], ';', s0[-1], ']')"
   ]
  },
  {
   "cell_type": "markdown",
   "id": "f622bad1-cab6-44be-a780-0630d46fad3d",
   "metadata": {
    "tags": []
   },
   "source": [
    "Проверяем, чтобы на концах отрезка значение функции и ее производной не обращались в ноль одновременно:"
   ]
  },
  {
   "cell_type": "code",
   "execution_count": 39,
   "id": "61171a0b-e1c8-4710-9955-8648d837e09c",
   "metadata": {
    "tags": []
   },
   "outputs": [
    {
     "data": {
      "text/plain": [
       "-8.00663128232867"
      ]
     },
     "execution_count": 39,
     "metadata": {},
     "output_type": "execute_result"
    }
   ],
   "source": [
    "f(s0[0]) * g(s0[0])"
   ]
  },
  {
   "cell_type": "code",
   "execution_count": 40,
   "id": "fdb61d98-02d6-4593-8038-dc4d02384e62",
   "metadata": {
    "tags": []
   },
   "outputs": [
    {
     "data": {
      "text/plain": [
       "9.193737292660943"
      ]
     },
     "execution_count": 40,
     "metadata": {},
     "output_type": "execute_result"
    }
   ],
   "source": [
    "f(s0[-1]) * g(s0[0])"
   ]
  },
  {
   "cell_type": "markdown",
   "id": "03a36b24-035a-43de-be22-49ca736ff0d2",
   "metadata": {},
   "source": [
    "Функция на концах отрезка не обращается в ноль.\n",
    "\n",
    "Вычислим вторую производную для функции $f(x)$:\n",
    "\n",
    "$$f''(x) = 3(x-1)^5 \\ln{(x^2+1)} + \\frac{(x-1)^5(12x^2+12)+(x-1)^6x}{x^2+1}$$"
   ]
  },
  {
   "cell_type": "code",
   "execution_count": 42,
   "id": "9e6016b5-3d15-4386-95ec-09a179340cc3",
   "metadata": {
    "tags": []
   },
   "outputs": [],
   "source": [
    "def f_second_derivative(x):\n",
    "    return 3 * (x - 1)**5 * np.log(x**2 + 1) + ((x - 1)**5 * (12 * x**2 + 12) + (x - 1)**6 * x) / (x**2 + 1)"
   ]
  },
  {
   "cell_type": "markdown",
   "id": "7e45d89f-7926-4212-9e84-e8f60a1b6404",
   "metadata": {},
   "source": [
    "Найдем $$M = \\max_{x \\in s_0}|f''(x)|$$ и сразу проверим выполнение условия"
   ]
  },
  {
   "cell_type": "code",
   "execution_count": 44,
   "id": "7d218d34-cf91-4f6a-9660-5149e42269d8",
   "metadata": {
    "tags": []
   },
   "outputs": [
    {
     "name": "stdout",
     "output_type": "stream",
     "text": [
      "M: 110.3574648416153\n"
     ]
    },
    {
     "data": {
      "text/plain": [
       "True"
      ]
     },
     "execution_count": 44,
     "metadata": {},
     "output_type": "execute_result"
    }
   ],
   "source": [
    "M = np.max(np.absolute(f_second_derivative(s0)))\n",
    "print(f'M: {M}')\n",
    "\n",
    "2 * np.absolute(h0) * M <= np.absolute(g(x0))"
   ]
  },
  {
   "cell_type": "markdown",
   "id": "17a306bc-7dab-4717-b2d1-dffda0280419",
   "metadata": {},
   "source": [
    "Таким образом, получаем $M = 110.35$, и необходимое уловие выполняется. Что говорит о том, что все условия теоремы выполняются, следовательно, метод Ньютона на отрезке $[2.375, 2.475]$ сойдется.\n",
    "\n",
    "Перейдем непосредственно к реализации метода Ньютона"
   ]
  },
  {
   "cell_type": "code",
   "execution_count": 46,
   "id": "af882852-1545-4512-83b0-9e2cabc7e68a",
   "metadata": {
    "tags": []
   },
   "outputs": [
    {
     "data": {
      "text/html": [
       "<div>\n",
       "<style scoped>\n",
       "    .dataframe tbody tr th:only-of-type {\n",
       "        vertical-align: middle;\n",
       "    }\n",
       "\n",
       "    .dataframe tbody tr th {\n",
       "        vertical-align: top;\n",
       "    }\n",
       "\n",
       "    .dataframe thead th {\n",
       "        text-align: right;\n",
       "    }\n",
       "</style>\n",
       "<table border=\"1\" class=\"dataframe\">\n",
       "  <thead>\n",
       "    <tr style=\"text-align: right;\">\n",
       "      <th></th>\n",
       "      <th>Решение</th>\n",
       "      <th>Погрешность</th>\n",
       "    </tr>\n",
       "  </thead>\n",
       "  <tbody>\n",
       "    <tr>\n",
       "      <th>0</th>\n",
       "      <td>2.416168</td>\n",
       "      <td>1.616770e-02</td>\n",
       "    </tr>\n",
       "    <tr>\n",
       "      <th>1</th>\n",
       "      <td>2.415621</td>\n",
       "      <td>5.471378e-04</td>\n",
       "    </tr>\n",
       "    <tr>\n",
       "      <th>2</th>\n",
       "      <td>2.415620</td>\n",
       "      <td>6.582152e-07</td>\n",
       "    </tr>\n",
       "  </tbody>\n",
       "</table>\n",
       "</div>"
      ],
      "text/plain": [
       "    Решение   Погрешность\n",
       "0  2.416168  1.616770e-02\n",
       "1  2.415621  5.471378e-04\n",
       "2  2.415620  6.582152e-07"
      ]
     },
     "execution_count": 46,
     "metadata": {},
     "output_type": "execute_result"
    }
   ],
   "source": [
    "def newton_method(x0, epsilon=1e-4, max_iterations=100):\n",
    "    x_prev = x0\n",
    "    x_next = x_prev - f(x_prev) / g(x_prev)\n",
    "    iterations = 1\n",
    "    \n",
    "    x_k = []\n",
    "    \n",
    "    while abs(x_next - x_prev) > epsilon and iterations < max_iterations:\n",
    "        x_k.append([x_next, abs(x_next - x_prev)])\n",
    "        \n",
    "        x_prev = x_next\n",
    "        x_next = x_prev - f(x_prev) / g(x_prev)\n",
    "        iterations += 1\n",
    "\n",
    "    if iterations == max_iterations:\n",
    "        print(\"Максимальное количество итераций достигнуто!\")\n",
    "    \n",
    "    x_k.append([x_next, abs(x_next - x_prev)])\n",
    "    return x_k, x_next\n",
    "\n",
    "x_k, x = newton_method(x0)\n",
    "\n",
    "df = pd.DataFrame(x_k, columns=['Решение', 'Погрешность'])\n",
    "df"
   ]
  },
  {
   "cell_type": "markdown",
   "id": "4208d793-957c-4bd3-a1ed-958a4af2fd45",
   "metadata": {},
   "source": [
    "Таким образом, мы смогли достичь нужной степени точности за три итерации, и корнем нашего уравнения является значение $$x \\approx 2.415620.$$\n",
    "\n",
    "Выполним проверку"
   ]
  },
  {
   "cell_type": "code",
   "execution_count": 48,
   "id": "cdbb364c-b4fd-472c-bc2f-0776516e6013",
   "metadata": {
    "tags": []
   },
   "outputs": [
    {
     "data": {
      "text/plain": [
       "2.4042705257798502e-06"
      ]
     },
     "execution_count": 48,
     "metadata": {},
     "output_type": "execute_result"
    }
   ],
   "source": [
    "f(2.415620)"
   ]
  },
  {
   "cell_type": "markdown",
   "id": "ff890a92-7cca-4d20-b605-39b3e85f7a1e",
   "metadata": {},
   "source": [
    "Полученное решение действительно является решением уравнения при заданной точности $\\epsilon = 10^{-4}$."
   ]
  }
 ],
 "metadata": {
  "kernelspec": {
   "display_name": "Python 3 (ipykernel)",
   "language": "python",
   "name": "python3"
  },
  "language_info": {
   "codemirror_mode": {
    "name": "ipython",
    "version": 3
   },
   "file_extension": ".py",
   "mimetype": "text/x-python",
   "name": "python",
   "nbconvert_exporter": "python",
   "pygments_lexer": "ipython3",
   "version": "3.11.7"
  }
 },
 "nbformat": 4,
 "nbformat_minor": 5
}
