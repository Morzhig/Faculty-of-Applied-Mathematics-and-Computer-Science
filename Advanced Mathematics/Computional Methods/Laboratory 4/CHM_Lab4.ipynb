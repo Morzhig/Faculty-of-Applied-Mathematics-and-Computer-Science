{
 "cells": [
  {
   "cell_type": "markdown",
   "id": "a90df298-906d-41ba-8ebc-c221f01f667b",
   "metadata": {},
   "source": [
    "/section*{Численное интегрирование}\n",
    "\n",
    "/subsection*{Постановка задач}\n",
    "1. Построить квадратурную формулу максимально возможной степени точности вида  $$\\int\\limits_a^b f(x)dx \\approx A_0 f(a) + A_1 f(b) + A_2 f'(a) + A_3 f'(b).$$\n",
    "2. Определить алгебраическую степень точности указанной квадратурной формулы $$\\int\\limits_{-1}^1 f(x)dx \\approx \\dfrac{1}{6}[f(-1) + f(1)] + \\dfrac{5}{6}[f(-\\dfrac{1}{\\sqrt5}) + f(\\dfrac{1}{\\sqrt5})].$$\n",
    "3. Используя правило Рунге, провести сравнительный анализ квадратурных формул средних прямоугольников и трапеций на примере вычисления интеграла $$I = \\int\\limits_1^3 \\dfrac{\\ln(\\sin^2x + 3)}{x^2+2x-1}dx.$$\n",
    "4. Вычислить с точностью $\\epsilon = 10^{-4}$ интеграл $$I = \\int\\limits_{-1}^1 \\sqrt{(1-x^2)} \\dfrac{\\sin x^2}{1 + \\ln^2(x+1)}dx.$$\n",
    "5. Найти с точностью до $\\epsilon = 10^{-4}$ решение уравнения $$\\int\\limits_{0}^X (t-1)^6 (\\lg \\sqrt{t^2 + 1} + 2)dt = 5. $$"
   ]
  },
  {
   "cell_type": "markdown",
   "id": "d28eda37-71ab-46b7-94de-5ae95fa6ee79",
   "metadata": {},
   "source": [
    "\\subsection*{Задача 1}\n",
    "\n",
    "Для построения квадратурной формы с алгребраической степенью точности $m$ необходимо составить соотношения\n",
    "\\begin{eqnarray}\n",
    "\\begin{cases}\n",
    "\\int\\limits_a^b \\rho(x) x^idx = \\sum\\limits_{k=0}^{n}A_kx^i_k,\\quad i=\\overline{0,m},\\\\\n",
    "\\int\\limits_a^b \\rho(x) x^{m+1}dx \\ne \\sum\\limits_{k=0}^{n}A_kx^i_k;\n",
    "\\end{cases}\n",
    "\\end{eqnarray}\n",
    "Из этих соотношений можно составить систему для нахождения коэффициентов $A_0, A_1, A_2, A_3$\n",
    "\\begin{cases}\n",
    "x^0: \\int\\limits_a^b 1 dx = A_0 + A_1,\\\\\n",
    "x^1: \\int\\limits_a^b x dx = A_0a + A_1b + A_2 + A_3, \\\\\n",
    "x^2: \\int\\limits_a^b x^2 dx = A_0a^2 + A_1b^2 + 2A_2a + 2A_3b,\\\\\n",
    "x^3: \\int\\limits_a^b x^3 dx = A_0a^3 + A_1b^3 + 3A_2a^2 + 3A_3b^2.\n",
    "\\end{cases}\n",
    "Раскроем интегралы и получим\n",
    "\\begin{cases}\n",
    "b-a = A_0 + A_1,\\\\\n",
    "\\frac{(b-a)^2}{2} = A_0a + A_1b + A_2 + A_3, \\\\\n",
    "\\frac{(b-a)^3}{3} = A_0a^2 + A_1b^2 + 2A_2a + 2A_3b,\\\\\n",
    "\\frac{(b-a)^4}{4} = A_0a^3 + A_1b^3 + 3A_2a^2 + 3A_3b^2.\n",
    "\\end{cases}\n",
    "Найдем решение системы программно, используя инструменты языка Python"
   ]
  },
  {
   "cell_type": "code",
   "execution_count": 3,
   "id": "4826c87e-1f08-4606-b642-063e38ac1c22",
   "metadata": {
    "tags": []
   },
   "outputs": [
    {
     "name": "stdout",
     "output_type": "stream",
     "text": [
      "A0: (-3*a**3 - a**2*b - a*b**2 + b**3)/(2*(a**2 - 2*a*b + b**2))\n",
      "A1: (a**3 + 7*a**2*b - 5*a*b**2 + b**3)/(2*(a**2 - 2*a*b + b**2))\n",
      "A2: (7*a**3 + 3*a**2*b + 3*a*b**2 - b**3)/(12*(a - b))\n",
      "A3: (17*a**3 - 3*a**2*b - 3*a*b**2 + b**3)/(12*(a - b))\n"
     ]
    }
   ],
   "source": [
    "import sympy as sp\n",
    "\n",
    "a, b, A0, A1, A2, A3 = sp.symbols('a b A0 A1 A2 A3')\n",
    "\n",
    "eq1 = sp.Eq(b - a, A0 + A1)\n",
    "eq2 = sp.Eq(((b - a)**2)/2, A0*a + A1*b + A2 + A3)\n",
    "eq3 = sp.Eq(((b - a)**3)/3, A0*a**2 + A1*b**2 + 2*A2*a + 2*A3*b)\n",
    "eq4 = sp.Eq(((b - a)**4)/4, A0*a**3 + A1*b**3 + 3*A2*a**2 + 3*A3*b**2)\n",
    "\n",
    "solution = sp.solve((eq1, eq2, eq3, eq4), (A0, A1, A2, A3))\n",
    "\n",
    "simplified_solution = {key: sp.simplify(value) for key, value in solution.items()}\n",
    "\n",
    "for key, value in simplified_solution.items():\n",
    "    print(f\"{key}: {value}\")"
   ]
  },
  {
   "cell_type": "markdown",
   "id": "9c2df123-8fb0-4eaa-9c0a-4e4118de73bb",
   "metadata": {},
   "source": [
    "Получили, что $$A_0 = \\frac{(-3) a^3 - a^2b-ab^2+b^3}{2(a^2-2ab+b^2)},$$\n",
    "$$A_1 = \\frac{a^3+7a^2b-5ab^2+b^3}{2(a^2-2ab+b^2)},$$\n",
    "$$A_2 = \\frac{7a^3+3a^2b+3ab^2-b^3}{12(a-b)},$$\n",
    "$$A_3 = \\frac{17a^3-3a^2b-3ab^2+b^3}{12(a-b)}.$$\n",
    "Проверим полученное решение с помощью тех же инструментов Python"
   ]
  },
  {
   "cell_type": "code",
   "execution_count": 5,
   "id": "3b8e46c3-148f-489d-80c0-0f9ef29cc8e7",
   "metadata": {
    "tags": []
   },
   "outputs": [
    {
     "name": "stdout",
     "output_type": "stream",
     "text": [
      "True\n",
      "True\n",
      "True\n",
      "True\n"
     ]
    }
   ],
   "source": [
    "eq1_sub = sp.simplify(eq1.subs(solution))\n",
    "eq2_sub = sp.simplify(eq2.subs(solution))\n",
    "eq3_sub = sp.simplify(eq3.subs(solution))\n",
    "eq4_sub = sp.simplify(eq4.subs(solution))\n",
    "\n",
    "print(eq1_sub)\n",
    "print(eq2_sub)\n",
    "print(eq3_sub)\n",
    "print(eq4_sub)"
   ]
  },
  {
   "cell_type": "markdown",
   "id": "05b9ce25-a86c-45bd-9731-f9b7f4d0e54e",
   "metadata": {},
   "source": [
    "Таким образом, решение получено правильно и, соответственно, квадратурная форма будет иметь вид:\n",
    "$$\\int\\limits_a^b f(x)dx \\approx \\frac{(-3) a^3 - a^2b-ab^2+b^3}{2(a^2-2ab+b^2)} f(a) + \\frac{a^3+7a^2b-5ab^2+b^3}{2(a^2-2ab+b^2)} f(b) + \\frac{7a^3+3a^2b+3ab^2-b^3}{12(a-b)} f'(a) + \\frac{17a^3-3a^2b-3ab^2+b^3}{12(a-b)} f'(b)$$\n",
    "Найдем АСТ для получившейся квадратурной формулы, для этого построим соотношение $x^4:$\n",
    "$$\\int\\limits_a^b x^4 dx = A_0a^4 + A_1b^4 + 4A_2a^3 + 4A_3b^3.$$\n",
    "Подставим коэффициенты и вычислим интеграл\n",
    "$$\\frac{(b-a)^5}{5} = \\frac{(-3) a^3 - a^2b-ab^2+b^3}{2(a^2-2ab+b^2)} a^4 + \\frac{a^3+7a^2b-5ab^2+b^3}{2(a^2-2ab+b^2)} b^4 + 4 \\frac{7a^3+3a^2b+3ab^2-b^3}{12(a-b)} a^3 + 4\\frac{17a^3-3a^2b-3ab^2+b^3}{12(a-b)} b^3$$\n",
    "Посмотрим, выполняется ли равенство"
   ]
  },
  {
   "cell_type": "code",
   "execution_count": 7,
   "id": "b712c868-e62f-4d30-9a10-7bb9ff0d5465",
   "metadata": {
    "tags": []
   },
   "outputs": [
    {
     "name": "stdout",
     "output_type": "stream",
     "text": [
      "Eq((a - b)**5/5, -(10*a**6 - 12*a**5*b - 18*a**4*b**2 + 23*a**3*b**3 - 27*a**2*b**4 + 15*a*b**5 - 3*b**6)/(12*(a - b)))\n"
     ]
    }
   ],
   "source": [
    "eq5 = sp.Eq(((b - a)**5)/5, A0*a**4 + A1*b**4 + 4*A2*a**3 + 3*A3*b**3)\n",
    "eq5_sub = sp.simplify(eq5.subs(solution))\n",
    "\n",
    "print(eq5_sub)"
   ]
  },
  {
   "cell_type": "markdown",
   "id": "5f28eec6-73cc-493f-a8b6-8266d7e5f824",
   "metadata": {},
   "source": [
    "При подстановке мы получаем следующее\n",
    "$$\\frac{(a-b)^5}{5} \\overset{?}{=} -\\frac{10a^6-12a^5b-18a^4b^2+23a^3b^3-27a^2b^4+15ab^5-3b^6}{12(a-b)}.$$\n",
    "Раскроем левую часть\n",
    "$$\\frac{(a-b)^5}{5} = \\frac{a^5-5a^4b+10a^3b^2-10a^2b^3+5ab^4-b^5}{5}$$\n",
    "$$\\frac{a^5-5a^4b+10a^3b^2-10a^2b^3+5ab^4-b^5}{5} \\neq -\\frac{10a^6-12a^5b-18a^4b^2+23a^3b^3-27a^2b^4+15ab^5-3b^6}{12(a-b)}$$\n",
    "Таким образом алгебраическая степень точности равна 4."
   ]
  },
  {
   "cell_type": "markdown",
   "id": "006492f0-c1b0-4a84-a717-1059551a6eb3",
   "metadata": {},
   "source": [
    "\\subsection*{Задача 2}\n",
    "\n",
    "Рассмотрим обший вид квадратурной формулы\n",
    "$$I(f) = \\int\\limits_a^b \\rho(x)f(x)dx \\approx A_0 f(x_0) + A_1 f(x_1) + A_2 f(x_2) + A_3 f(x_3).$$\n",
    "\n",
    "Для построения квадратурной формы с алгребраической степенью точности $m$ необходимо составить соотношения\n",
    "\\begin{eqnarray}\n",
    "\\begin{cases}\n",
    "\\int\\limits_a^b \\rho(x) x^idx = \\sum\\limits_{k=0}^{n}A_kx^i_k,\\quad i=\\overline{0,m},\\\\\n",
    "\\int\\limits_a^b \\rho(x) x^{m+1}dx \\ne \\sum\\limits_{k=0}^{n}A_kx^i_k;\n",
    "\\end{cases}\n",
    "\\end{eqnarray}\n",
    "\n",
    "Таким образом, в нашем примере мы имеем $$[a, b] = [-1, 1], \\ \\rho(x) = 1,$$\n",
    "$$A_0 = A_1 = \\frac{1}{6},\\  A_2 = A_3 = \\frac{5}{6},$$\n",
    "$$x_0 = -1, \\ x_1 = 1, \\ x_2 = -\\frac{1}{\\sqrt{5}},\\  x_3 = \\frac{1}{\\sqrt{5}}.$$\n",
    "Для определения алгебраической степени точности, необходимо строить по одному уравнению из нашего соотношения до тех пор, пока равенство не обратится в неравенство.\n",
    "\n",
    "Найдем решение интеграла для любого $i:$\n",
    "$$\\int\\limits_{-1}^1 x^i dx = \\dfrac{x^{i+1}}{i+1}\\bigg|^{1}_{-1} = \\dfrac{1 - (-1)^{i+1}}{i+1}$$\n",
    "Подставим соотношение для $i-$го порядка:\n",
    "$$\\dfrac{1 - (-1)^{i+1}}{i+1} = \\frac{1}{6} \\cdot (-1)^{i} + \\frac{1}{6} \\cdot 1 + \\frac{5}{6} \\cdot \\Bigr(-\\frac{1}{\\sqrt{5}} \\Bigl)^i + \\frac{5}{6} \\cdot \\Bigr(\\frac{1}{\\sqrt{5}} \\Bigl)^i$$\n",
    "Нетрудно заметить, что при нечетных $i$ и левая, и правая части будут равны $0$, поэтому сразу будем рассматривать четные $i$, при которых получим\n",
    "$$\\dfrac{2}{i+1} = \\frac{1}{3} + \\frac{5}{3 \\cdot(\\sqrt{5})^i}$$\n",
    "\n",
    "Начнем с $i=0:$\n",
    "$$x^0: 2 \\overset{?}{=} \\frac{1}{6} + \\frac{1}{6} + \\frac{5}{6} + \\frac{5}{6} = 2 \\Rightarrow \\text{Равенство выполняется}.$$\n",
    "$$x^2: \\dfrac{2}{3} \\overset{?}{=} \\frac{1}{3} + \\frac{5}{3 \\cdot 5} = \\dfrac{2}{3}\\Rightarrow \\text{Равенство выполняется}.$$\n",
    "$$x^4: \\dfrac{2}{5} \\overset{?}{=} \\frac{1}{3} + \\frac{5}{3 \\cdot 5 \\cdot {\\sqrt5}} = \\frac{1}{3} + \\frac{1}{3 \\cdot {\\sqrt5}} \\neq \\dfrac{2}{5} \\Rightarrow \\text{Равенство не выполняется}.$$\n",
    "\n",
    "Таким образом, АСТ нашей квадратурной формулы равна 3."
   ]
  },
  {
   "cell_type": "markdown",
   "id": "d0b20943-c7f8-4e41-a3a2-399fd0722248",
   "metadata": {},
   "source": [
    "\\subsection*{Задача 3}\n",
    "\n",
    "Зададим нашу функцию $f(x)=\\dfrac{\\ln(\\sin^2x + 3)}{x^2+2x-1}$ программно"
   ]
  },
  {
   "cell_type": "code",
   "execution_count": 11,
   "id": "eb6dd8d6-b3bd-4a3d-aeaa-d1c931cd1428",
   "metadata": {},
   "outputs": [],
   "source": [
    "import math\n",
    "\n",
    "def f(x):\n",
    "    return math.log(math.sin(x)**2 + 3) / (x**2 + 2*x - 1)\n",
    "\n",
    "a, b, n = 1, 3, 10"
   ]
  },
  {
   "cell_type": "markdown",
   "id": "c18b8fc2-5908-4c8b-8c1a-7246028f6aaa",
   "metadata": {},
   "source": [
    "Рассмотрим общий вид составной квадратурной формулы средних прямоугольников\n",
    "$$I_{\\text{сс}}=h \\sum_{k=0}^{N-1} f(a+(k + \\dfrac{1}{2}h)),$$\n",
    "и зададим его программно."
   ]
  },
  {
   "cell_type": "code",
   "execution_count": 21,
   "id": "9ab0aefb-ef8f-4527-8843-0113875b12bf",
   "metadata": {},
   "outputs": [],
   "source": [
    "def mean_rect(a, b, f, h):\n",
    "    I = 0\n",
    "    N = int((b - a) / h)\n",
    "    \n",
    "    for k in range(N):\n",
    "        I += f(a + (k + 1/2 * h))\n",
    "        \n",
    "    return h * I"
   ]
  },
  {
   "cell_type": "markdown",
   "id": "d47687eb-5fad-45db-a1a8-9bad560fec58",
   "metadata": {},
   "source": [
    "Рассмотрим так же составную квадратурную формулу трапеций\n",
    "$$I_{\\text{тс}} = h \\Bigr[ \\dfrac{f(a) + f(b)}{2} + \\sum_{k=0}^{N-1}f(x_k)  \\Bigl]$$"
   ]
  },
  {
   "cell_type": "code",
   "execution_count": 24,
   "id": "59475737-9274-4e20-a96e-af2732fbe0b4",
   "metadata": {},
   "outputs": [],
   "source": [
    "def trap(a, b, f, h):\n",
    "    I = 0\n",
    "    N = int((b - a) / h)\n",
    "    \n",
    "    x = np.linspace(a, b, N)\n",
    "    \n",
    "    for k in range(N):\n",
    "        I += f(x[k])\n",
    "\n",
    "    return h * ((f(a) + f(b)) / 2 + I)"
   ]
  },
  {
   "cell_type": "markdown",
   "id": "ee9d2c38-9bb2-4630-9c52-f1877aa0e9c1",
   "metadata": {},
   "source": [
    "Для использования правила Рунге используем выражение для главной части остатка квадратурной формулы\n",
    "$$R(h, f) \\approx \\dfrac{I_{h_2} - I_{h_1}}{1 - \\Bigr( \\dfrac{h_2}{h_1} \\Bigl)^m}$$\n",
    "\n",
    "$m \\ -$ алгебраическая степень точности методов, которая в нашем случае равна $1$ для каждого метода.\n",
    "\n",
    "Подбирать шаги будем следующим образом $$h_1 = \\dfrac{b-a}{N}, \\ h_2 = \\dfrac{h_1}{2}$$\n",
    "\n",
    "Посмотрим, для какой квадратурной формулы мы быстрее сможем подобрать такие шаги $h_1, h_2$, при которых $$|R(h,f)| \\leq \\epsilon$$. Погрешность в этом задании возьмем $\\epsilon = 10^{-4}$, начальные шаги $$h_1=b-a, h_2 = \\frac{h_1}{2}$$ подбор будем делать по правилу $$|R(h,f)| \\nleq \\epsilon \\Rightarrow h_1 = h_2, h_2 = \\frac{h_1}{2}$$\n",
    "Если же неравенство будет выполняться, то мы подобрали шаг при котором, достигается нужная точность.\n",
    "Зададим правило Рунге программно"
   ]
  },
  {
   "cell_type": "code",
   "execution_count": 211,
   "id": "d6c3de38-73f1-4d9a-9d7f-6aea762f43f5",
   "metadata": {},
   "outputs": [],
   "source": [
    "import numpy as np\n",
    "import pandas as pd\n",
    "\n",
    "def runge_rule(a, b, I, epsilon = 1e-4):\n",
    "    h1 = b - a\n",
    "    h2 = h1 / 2\n",
    "    \n",
    "    R = (I(a, b, f, h1) - I(a, b, f, h2)) / (1 - (h2 / h1))\n",
    "    array = [R]\n",
    "    h_1 = [h1]\n",
    "    h_2 = [h2]\n",
    "    \n",
    "    while abs(R) > epsilon:\n",
    "        h1 = h2\n",
    "        h2 = h1 / 2\n",
    "        \n",
    "        R = (I(a, b, f, h1) - I(a, b, f, h2)) / (1 - (h2 / h1))\n",
    "        \n",
    "        array.append(R)\n",
    "        \n",
    "        h_1.append(h1)\n",
    "        h_2.append(h2)\n",
    "        \n",
    "    return h_1, h_2, array"
   ]
  },
  {
   "cell_type": "code",
   "execution_count": 215,
   "id": "24d39f17-94c4-41cf-b8b1-cef374f7e0f9",
   "metadata": {
    "tags": []
   },
   "outputs": [
    {
     "data": {
      "text/html": [
       "<div>\n",
       "<style scoped>\n",
       "    .dataframe tbody tr th:only-of-type {\n",
       "        vertical-align: middle;\n",
       "    }\n",
       "\n",
       "    .dataframe tbody tr th {\n",
       "        vertical-align: top;\n",
       "    }\n",
       "\n",
       "    .dataframe thead th {\n",
       "        text-align: right;\n",
       "    }\n",
       "</style>\n",
       "<table border=\"1\" class=\"dataframe\">\n",
       "  <thead>\n",
       "    <tr style=\"text-align: right;\">\n",
       "      <th></th>\n",
       "      <th>Количество узлов</th>\n",
       "      <th>Средние прямоугольники</th>\n",
       "      <th>Трапеции</th>\n",
       "    </tr>\n",
       "  </thead>\n",
       "  <tbody>\n",
       "    <tr>\n",
       "      <th>0</th>\n",
       "      <td>1</td>\n",
       "      <td>-0.121278</td>\n",
       "      <td>1.886824</td>\n",
       "    </tr>\n",
       "    <tr>\n",
       "      <th>1</th>\n",
       "      <td>2</td>\n",
       "      <td>0.173059</td>\n",
       "      <td>0.692306</td>\n",
       "    </tr>\n",
       "    <tr>\n",
       "      <th>2</th>\n",
       "      <td>4</td>\n",
       "      <td>0.252260</td>\n",
       "      <td>0.291435</td>\n",
       "    </tr>\n",
       "    <tr>\n",
       "      <th>3</th>\n",
       "      <td>8</td>\n",
       "      <td>0.198618</td>\n",
       "      <td>0.133741</td>\n",
       "    </tr>\n",
       "    <tr>\n",
       "      <th>4</th>\n",
       "      <td>16</td>\n",
       "      <td>0.122705</td>\n",
       "      <td>0.064204</td>\n",
       "    </tr>\n",
       "    <tr>\n",
       "      <th>5</th>\n",
       "      <td>32</td>\n",
       "      <td>0.068250</td>\n",
       "      <td>0.031489</td>\n",
       "    </tr>\n",
       "    <tr>\n",
       "      <th>6</th>\n",
       "      <td>64</td>\n",
       "      <td>0.035984</td>\n",
       "      <td>0.015598</td>\n",
       "    </tr>\n",
       "    <tr>\n",
       "      <th>7</th>\n",
       "      <td>128</td>\n",
       "      <td>0.018474</td>\n",
       "      <td>0.007763</td>\n",
       "    </tr>\n",
       "    <tr>\n",
       "      <th>8</th>\n",
       "      <td>256</td>\n",
       "      <td>0.009360</td>\n",
       "      <td>0.003873</td>\n",
       "    </tr>\n",
       "    <tr>\n",
       "      <th>9</th>\n",
       "      <td>512</td>\n",
       "      <td>0.004711</td>\n",
       "      <td>0.001934</td>\n",
       "    </tr>\n",
       "    <tr>\n",
       "      <th>10</th>\n",
       "      <td>1024</td>\n",
       "      <td>0.002363</td>\n",
       "      <td>0.000967</td>\n",
       "    </tr>\n",
       "    <tr>\n",
       "      <th>11</th>\n",
       "      <td>2048</td>\n",
       "      <td>0.001184</td>\n",
       "      <td>0.000483</td>\n",
       "    </tr>\n",
       "    <tr>\n",
       "      <th>12</th>\n",
       "      <td>4096</td>\n",
       "      <td>0.000592</td>\n",
       "      <td>0.000242</td>\n",
       "    </tr>\n",
       "    <tr>\n",
       "      <th>13</th>\n",
       "      <td>8192</td>\n",
       "      <td>0.000296</td>\n",
       "      <td>0.000121</td>\n",
       "    </tr>\n",
       "    <tr>\n",
       "      <th>14</th>\n",
       "      <td>16384</td>\n",
       "      <td>0.000148</td>\n",
       "      <td>0.00006</td>\n",
       "    </tr>\n",
       "    <tr>\n",
       "      <th>15</th>\n",
       "      <td>32768</td>\n",
       "      <td>0.000074</td>\n",
       "      <td></td>\n",
       "    </tr>\n",
       "  </tbody>\n",
       "</table>\n",
       "</div>"
      ],
      "text/plain": [
       "    Количество узлов  Средние прямоугольники  Трапеции\n",
       "0                  1               -0.121278  1.886824\n",
       "1                  2                0.173059  0.692306\n",
       "2                  4                0.252260  0.291435\n",
       "3                  8                0.198618  0.133741\n",
       "4                 16                0.122705  0.064204\n",
       "5                 32                0.068250  0.031489\n",
       "6                 64                0.035984  0.015598\n",
       "7                128                0.018474  0.007763\n",
       "8                256                0.009360  0.003873\n",
       "9                512                0.004711  0.001934\n",
       "10              1024                0.002363  0.000967\n",
       "11              2048                0.001184  0.000483\n",
       "12              4096                0.000592  0.000242\n",
       "13              8192                0.000296  0.000121\n",
       "14             16384                0.000148   0.00006\n",
       "15             32768                0.000074          "
      ]
     },
     "execution_count": 215,
     "metadata": {},
     "output_type": "execute_result"
    }
   ],
   "source": [
    "m = max(len(runge_rule(a, b, mean_rect)[2]), len(runge_rule(a, b, trap)[2]))\n",
    "\n",
    "df = pd.DataFrame(columns = [\"Количество узлов\", \"Средние прямоугольники\"])\n",
    "\n",
    "N = [0]*m\n",
    "\n",
    "for i in range(m):\n",
    "    N[i] = int((b - a) / h1[i])\n",
    "    \n",
    "df[\"Количество узлов\"] = N  \n",
    "df[\"Средние прямоугольники\"] = runge_rule(a, b, mean_rect)[2]\n",
    "\n",
    "df = pd.concat([df, pd.DataFrame(runge_rule(a, b, trap)[2], columns=[\"Трапеции\"])], axis=1, verify_integrity=True).fillna('')\n",
    "df"
   ]
  },
  {
   "cell_type": "code",
   "execution_count": null,
   "id": "a1efcc93-0e5d-46c8-85ee-a09020e9746d",
   "metadata": {},
   "outputs": [],
   "source": []
  },
  {
   "cell_type": "code",
   "execution_count": null,
   "id": "f70fd180-6695-4d3e-aee9-62fec2730a6b",
   "metadata": {},
   "outputs": [],
   "source": [
    "import pandas as pd\n",
    "import numpy as np\n",
    "\n",
    "df = pd.DataFrame(columns = [\"Количество узлов\", \"Средние прямоугольники\", \"Трапеции\"])\n",
    "\n",
    "mean_rect_res = []\n",
    "trap_res = []\n",
    "\n",
    "for n in N:\n",
    "    mean_rect_res.append((mean_rect(a, b, n, f) - mean_rect(a, b, 2 * n, f)) / (1 - (((b - a) / n)) / ((b - 1) / 2 * n)))\n",
    "    trap_res.append((trap(a, b, n, f) - trap(a, b, 2 * n, f)) / (1 - (((b - a) / n)) / ((b - 1) / 2 * n)))\n",
    "\n",
    "df[\"Количество узлов\"] = N\n",
    "df[\"Средние прямоугольники\"] =  mean_rect_res\n",
    "df[\"Трапеции\"] = trap_res\n",
    "df = df.set_index(\"Количество узлов\")\n",
    "\n",
    "\n",
    "df"
   ]
  },
  {
   "cell_type": "markdown",
   "id": "45bc1bf7-2032-43f7-95b8-4a697f1aa37e",
   "metadata": {},
   "source": [
    "Как можно заметить, с увеличением количества узлов значение остатка по правилу Рунге уменьшается как при использовании составной КФ средних прямоугольников, так и составной КФ трапеций, однако можно увидеть, что для КФ трапеций значения примерно в $2$ раза меньше, чем для средних прямоугольников."
   ]
  },
  {
   "cell_type": "markdown",
   "id": "abb616b8-81d4-4ee4-94ed-160578a6a2c9",
   "metadata": {},
   "source": [
    "\\subsection*{Задача 4}\n",
    "\n"
   ]
  },
  {
   "cell_type": "code",
   "execution_count": null,
   "id": "98361861-5e62-485f-a9aa-90e05067752a",
   "metadata": {},
   "outputs": [],
   "source": []
  }
 ],
 "metadata": {
  "kernelspec": {
   "display_name": "Python 3 (ipykernel)",
   "language": "python",
   "name": "python3"
  },
  "language_info": {
   "codemirror_mode": {
    "name": "ipython",
    "version": 3
   },
   "file_extension": ".py",
   "mimetype": "text/x-python",
   "name": "python",
   "nbconvert_exporter": "python",
   "pygments_lexer": "ipython3",
   "version": "3.11.4"
  }
 },
 "nbformat": 4,
 "nbformat_minor": 5
}
