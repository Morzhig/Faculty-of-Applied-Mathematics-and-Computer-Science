{
 "cells": [
  {
   "cell_type": "markdown",
   "id": "a90df298-906d-41ba-8ebc-c221f01f667b",
   "metadata": {},
   "source": [
    "/section*{Численное интегрирование}\n",
    "\n",
    "/subsection*{Постановка задач}\n",
    "1. Построить квадратурную формулу максимально возможной степени точности вида  $$\\int\\limits_a^b f(x)dx \\approx A_0 f(a) + A_1 f(b) + A_2 f'(a) + A_3 f'(b).$$\n",
    "2. Определить алгебраическую степень точности указанной квадратурной формулы $$\\int\\limits_{-1}^1 f(x)dx \\approx \\dfrac{1}{6}[f(-1) + f(1)] + \\dfrac{5}{6}[f(-\\dfrac{1}{\\sqrt5}) + f(\\dfrac{1}{\\sqrt5})].$$\n",
    "3. Используя правило Рунге, провести сравнительный анализ квадратурных формул средних прямоугольников и трапеций на примере вычисления интеграла $$I = \\int\\limits_1^3 \\dfrac{\\ln(\\sin^2x + 3)}{x^2+2x-1}dx.$$\n",
    "4. Вычислить с точностью $\\epsilon = 10^{-4}$ интеграл $$I = \\int\\limits_{-1}^1 \\sqrt{(1-x^2)} \\dfrac{\\sin x^2}{1 + \\ln^2(x+1)}dx.$$\n",
    "5. Найти с точностью до $\\epsilon = 10^{-4}$ решение уравнения $$\\int\\limits_{0}^X (t-1)^6 (\\lg \\sqrt{t^2 + 1} + 2)dt = 5. $$"
   ]
  },
  {
   "cell_type": "markdown",
   "id": "d28eda37-71ab-46b7-94de-5ae95fa6ee79",
   "metadata": {},
   "source": [
    "\\subsection*{Задача 1}\n",
    "\n",
    "Для построения квадратурной формы с алгребраической степенью точности $m$ необходимо составить соотношения\n",
    "\\begin{eqnarray}\n",
    "\\begin{cases}\n",
    "\\int\\limits_a^b \\rho(x) x^idx = \\sum\\limits_{k=0}^{n}A_kx^i_k,\\quad i=\\overline{0,m},\\\\\n",
    "\\int\\limits_a^b \\rho(x) x^{m+1}dx \\ne \\sum\\limits_{k=0}^{n}A_kx^i_k;\n",
    "\\end{cases}\n",
    "\\end{eqnarray}\n",
    "Из этих соотношений можно составить систему для нахождения коэффициентов $A_0, A_1, A_2, A_3$.\n",
    "\n",
    "После разрешения системы необходимо следующее выражение"
   ]
  },
  {
   "cell_type": "markdown",
   "id": "006492f0-c1b0-4a84-a717-1059551a6eb3",
   "metadata": {},
   "source": [
    "\\subsection*{Задача 2}\n",
    "\n",
    "Рассмотрим обший вид квадратурной формулы\n",
    "$$I(f) = \\int\\limits_a^b \\rho(x)f(x)dx \\approx A_0 f(x_0) + A_1 f(x_1) + A_2 f(x_2) + A_3 f(x_3).$$\n",
    "\n",
    "Для построения квадратурной формы с алгребраической степенью точности $m$ необходимо составить соотношения\n",
    "\\begin{eqnarray}\n",
    "\\begin{cases}\n",
    "\\int\\limits_a^b \\rho(x) x^idx = \\sum\\limits_{k=0}^{n}A_kx^i_k,\\quad i=\\overline{0,m},\\\\\n",
    "\\int\\limits_a^b \\rho(x) x^{m+1}dx \\ne \\sum\\limits_{k=0}^{n}A_kx^i_k;\n",
    "\\end{cases}\n",
    "\\end{eqnarray}\n",
    "\n",
    "Таким образом, в нашем примере мы имеем $$[a, b] = [-1, 1], \\ \\rho(x) = 1,$$\n",
    "$$A_0 = A_1 = \\frac{1}{6},\\  A_2 = A_3 = \\frac{5}{6},$$\n",
    "$$x_0 = -1, \\ x_1 = 1, \\ x_2 = -\\frac{1}{\\sqrt{5}},\\  x_3 = \\frac{1}{\\sqrt{5}}.$$\n",
    "Для определения алгебраической степени точности, необходимо строить по одному уравнению из нашего соотношения до тех пор, пока равенство не обратится в неравенство.\n",
    "\n",
    "Найдем решение интеграла для любого $i:$\n",
    "$$\\int\\limits_{-1}^1 x^i dx = \\dfrac{x^{i+1}}{i+1}\\bigg|^{1}_{-1} = \\dfrac{1 - (-1)^{i+1}}{i+1}$$\n",
    "Подставим соотношение для $i-$го порядка:\n",
    "$$\\dfrac{1 - (-1)^{i+1}}{i+1} = \\frac{1}{6} \\cdot (-1)^{i} + \\frac{1}{6} \\cdot 1 + \\frac{5}{6} \\cdot \\Bigr(-\\frac{1}{\\sqrt{5}} \\Bigl)^i + \\frac{5}{6} \\cdot \\Bigr(\\frac{1}{\\sqrt{5}} \\Bigl)^i$$\n",
    "Нетрудно заметить, что при нечетных $i$ и левая, и правая части будут равны $0$, поэтому сразу будем рассматривать четные $i$, при которых получим\n",
    "$$\\dfrac{2}{i+1} = \\frac{1}{3} + \\frac{5}{3 \\cdot(\\sqrt{5})^i}$$\n",
    "\n",
    "Начнем с $i=0:$\n",
    "$$x^0: 2 \\overset{?}{=} \\frac{1}{6} + \\frac{1}{6} + \\frac{5}{6} + \\frac{5}{6} = 2 \\Rightarrow \\text{Равенство выполняется}.$$\n",
    "$$x^2: \\dfrac{2}{3} \\overset{?}{=} \\frac{1}{3} + \\frac{5}{3 \\cdot 5} = \\dfrac{2}{3}\\Rightarrow \\text{Равенство выполняется}.$$\n",
    "$$x^4: \\dfrac{2}{5} \\overset{?}{=} \\frac{1}{3} + \\frac{5}{3 \\cdot 5 \\cdot {\\sqrt5}} = \\frac{1}{3} + \\frac{1}{3 \\cdot {\\sqrt5}} \\neq \\dfrac{2}{5} \\Rightarrow \\text{Равенство не выполняется}.$$\n",
    "\n",
    "Таким образом, АСТ нашей квадратурной формулы равна 3."
   ]
  },
  {
   "cell_type": "markdown",
   "id": "d0b20943-c7f8-4e41-a3a2-399fd0722248",
   "metadata": {},
   "source": [
    "\\subsection*{Задача 3}\n",
    "\n",
    "Зададим нашу функцию $f(x)=\\dfrac{\\ln(\\sin^2x + 3)}{x^2+2x-1}$ программно"
   ]
  },
  {
   "cell_type": "code",
   "execution_count": 20,
   "id": "eb6dd8d6-b3bd-4a3d-aeaa-d1c931cd1428",
   "metadata": {},
   "outputs": [],
   "source": [
    "import math\n",
    "\n",
    "def f(x):\n",
    "    return math.log(math.sin(x)**2 + 3) / (x**2 + 2*x - 1)\n",
    "\n",
    "a, b, n = 1, 3, 10\n",
    "\n",
    "h = (b - a) / n"
   ]
  },
  {
   "cell_type": "markdown",
   "id": "c18b8fc2-5908-4c8b-8c1a-7246028f6aaa",
   "metadata": {},
   "source": [
    "Рассмотрим общий вид составной квадратурной формулы средних прямоугольников\n",
    "$$I_{\\text{сс}}=h \\sum_{k=0}^{N-1} f(a+(k + \\dfrac{1}{2}h)),$$\n",
    "где $h = \\dfrac{b-a}{N}.$"
   ]
  },
  {
   "cell_type": "code",
   "execution_count": 24,
   "id": "9ab0aefb-ef8f-4527-8843-0113875b12bf",
   "metadata": {},
   "outputs": [],
   "source": [
    "def mean_rect(a, b, N, f):\n",
    "    I = 0\n",
    "    \n",
    "    for k in range(N):\n",
    "        I += f(a + (k + 1/2 * h))\n",
    "    return (b - a) / N * I"
   ]
  },
  {
   "cell_type": "markdown",
   "id": "d47687eb-5fad-45db-a1a8-9bad560fec58",
   "metadata": {},
   "source": [
    "Рассмотрим так же составную квадратурную формулу трапеций\n",
    "$$I_{\\text{тс}} = h \\Bigr[ \\dfrac{f(a) + f(b)}{2} + \\sum_{k=0}^{N-1}f(x_k)  \\Bigl]$$"
   ]
  },
  {
   "cell_type": "code",
   "execution_count": 64,
   "id": "59475737-9274-4e20-a96e-af2732fbe0b4",
   "metadata": {},
   "outputs": [],
   "source": [
    "def trap(a, b, N, f):\n",
    "    I = 0\n",
    "    x = np.linspace(a, b, N)\n",
    "    \n",
    "    for k in range(N):\n",
    "    \n",
    "        I += f(x[k])\n",
    "\n",
    "    return (b - a) / N * ((f(a) + f(b)) / 2 + I)"
   ]
  },
  {
   "cell_type": "markdown",
   "id": "ee9d2c38-9bb2-4630-9c52-f1877aa0e9c1",
   "metadata": {},
   "source": [
    "Для использования правила Рунге используем выражение для главной части остатка квадратурной формулы\n",
    "$$R(h, f) \\approx \\dfrac{I_{h_2} - I_{h_1}}{1 - \\Bigr( \\dfrac{h_2}{h_1} \\Bigl)^m}$$\n",
    "\n",
    "$m \\ -$ алгебраическая степень точности методов, которая в нашем случае равна $1$ для каждого метода.\n",
    "\n",
    "Подбирать шаги будем следующим образом $$h_1 = \\dfrac{b-a}{N}, \\ h_2 = \\dfrac{h_1}{2}$$\n",
    "\n",
    "Вычисления будем проводить для разного количества узлов $N = [10, 20, 30, 40, 50, 60, 70, 80, 90, 100].$"
   ]
  },
  {
   "cell_type": "code",
   "execution_count": 71,
   "id": "f70fd180-6695-4d3e-aee9-62fec2730a6b",
   "metadata": {},
   "outputs": [
    {
     "data": {
      "text/html": [
       "<div>\n",
       "<style scoped>\n",
       "    .dataframe tbody tr th:only-of-type {\n",
       "        vertical-align: middle;\n",
       "    }\n",
       "\n",
       "    .dataframe tbody tr th {\n",
       "        vertical-align: top;\n",
       "    }\n",
       "\n",
       "    .dataframe thead th {\n",
       "        text-align: right;\n",
       "    }\n",
       "</style>\n",
       "<table border=\"1\" class=\"dataframe\">\n",
       "  <thead>\n",
       "    <tr style=\"text-align: right;\">\n",
       "      <th></th>\n",
       "      <th>Средние прямоугольники</th>\n",
       "      <th>Трапеции</th>\n",
       "    </tr>\n",
       "    <tr>\n",
       "      <th>Количество узлов</th>\n",
       "      <th></th>\n",
       "      <th></th>\n",
       "    </tr>\n",
       "  </thead>\n",
       "  <tbody>\n",
       "    <tr>\n",
       "      <th>10</th>\n",
       "      <td>0.094280</td>\n",
       "      <td>0.053692</td>\n",
       "    </tr>\n",
       "    <tr>\n",
       "      <th>20</th>\n",
       "      <td>0.050129</td>\n",
       "      <td>0.025610</td>\n",
       "    </tr>\n",
       "    <tr>\n",
       "      <th>30</th>\n",
       "      <td>0.034229</td>\n",
       "      <td>0.016853</td>\n",
       "    </tr>\n",
       "    <tr>\n",
       "      <th>40</th>\n",
       "      <td>0.025994</td>\n",
       "      <td>0.012564</td>\n",
       "    </tr>\n",
       "    <tr>\n",
       "      <th>50</th>\n",
       "      <td>0.020957</td>\n",
       "      <td>0.010017</td>\n",
       "    </tr>\n",
       "    <tr>\n",
       "      <th>60</th>\n",
       "      <td>0.017557</td>\n",
       "      <td>0.008329</td>\n",
       "    </tr>\n",
       "    <tr>\n",
       "      <th>70</th>\n",
       "      <td>0.015107</td>\n",
       "      <td>0.007128</td>\n",
       "    </tr>\n",
       "    <tr>\n",
       "      <th>80</th>\n",
       "      <td>0.013258</td>\n",
       "      <td>0.006230</td>\n",
       "    </tr>\n",
       "    <tr>\n",
       "      <th>90</th>\n",
       "      <td>0.011812</td>\n",
       "      <td>0.005533</td>\n",
       "    </tr>\n",
       "    <tr>\n",
       "      <th>100</th>\n",
       "      <td>0.010650</td>\n",
       "      <td>0.004976</td>\n",
       "    </tr>\n",
       "  </tbody>\n",
       "</table>\n",
       "</div>"
      ],
      "text/plain": [
       "                  Средние прямоугольники  Трапеции\n",
       "Количество узлов                                  \n",
       "10                              0.094280  0.053692\n",
       "20                              0.050129  0.025610\n",
       "30                              0.034229  0.016853\n",
       "40                              0.025994  0.012564\n",
       "50                              0.020957  0.010017\n",
       "60                              0.017557  0.008329\n",
       "70                              0.015107  0.007128\n",
       "80                              0.013258  0.006230\n",
       "90                              0.011812  0.005533\n",
       "100                             0.010650  0.004976"
      ]
     },
     "execution_count": 71,
     "metadata": {},
     "output_type": "execute_result"
    }
   ],
   "source": [
    "import pandas as pd\n",
    "import numpy as np\n",
    "\n",
    "df = pd.DataFrame(columns = [\"Количество узлов\", \"Средние прямоугольники\", \"Трапеции\"])\n",
    "\n",
    "N = [10, 20, 30, 40, 50, 60, 70, 80, 90, 100]\n",
    "\n",
    "mean_rect_res = []\n",
    "trap_res = []\n",
    "\n",
    "for n in N:\n",
    "    mean_rect_res.append((mean_rect(a, b, n, f) - mean_rect(a, b, 2 * n, f)) / (1 - (((b - a) / n)) / ((b - 1) / 2 * n)))\n",
    "    trap_res.append((trap(a, b, n, f) - trap(a, b, 2 * n, f)) / (1 - (((b - a) / n)) / ((b - 1) / 2 * n)))\n",
    "\n",
    "df[\"Количество узлов\"] = N\n",
    "df[\"Средние прямоугольники\"] =  mean_rect_res\n",
    "df[\"Трапеции\"] = trap_res\n",
    "df = df.set_index(\"Количество узлов\")\n",
    "\n",
    "\n",
    "df"
   ]
  },
  {
   "cell_type": "markdown",
   "id": "45bc1bf7-2032-43f7-95b8-4a697f1aa37e",
   "metadata": {},
   "source": [
    "Как можно заметить, с увеличением количества узлов значение остатка по правилу Рунге уменьшается как при использовании составной КФ средних прямоугольников, так и составной КФ трапеций, однако можно увидеть, что для КФ трапеций значения примерно в $2$ раза меньше, чем для средних прямоугольников."
   ]
  },
  {
   "cell_type": "markdown",
   "id": "abb616b8-81d4-4ee4-94ed-160578a6a2c9",
   "metadata": {},
   "source": [
    "\\subsection*{Задача 4}\n",
    "\n"
   ]
  },
  {
   "cell_type": "code",
   "execution_count": null,
   "id": "98361861-5e62-485f-a9aa-90e05067752a",
   "metadata": {},
   "outputs": [],
   "source": []
  }
 ],
 "metadata": {
  "kernelspec": {
   "display_name": "Python 3 (ipykernel)",
   "language": "python",
   "name": "python3"
  },
  "language_info": {
   "codemirror_mode": {
    "name": "ipython",
    "version": 3
   },
   "file_extension": ".py",
   "mimetype": "text/x-python",
   "name": "python",
   "nbconvert_exporter": "python",
   "pygments_lexer": "ipython3",
   "version": "3.11.4"
  }
 },
 "nbformat": 4,
 "nbformat_minor": 5
}
