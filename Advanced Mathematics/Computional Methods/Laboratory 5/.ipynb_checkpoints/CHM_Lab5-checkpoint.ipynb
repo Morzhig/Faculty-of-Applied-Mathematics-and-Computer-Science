{
 "cells": [
  {
   "cell_type": "markdown",
   "id": "fc22be04-a64b-4a82-b174-6bbd7b00de0b",
   "metadata": {},
   "source": [
    "\\section*{Методы решения ОДУ}\n",
    "\n",
    "\\subsection*{Постановка задач}\n",
    "1. Построить экстраполяционный метод Адамса пятого порядка (дать представление в двух формах).\n",
    "2. Определить порядок точности метода\n",
    "$$\\begin{cases}\n",
    "y_{j+1}=y_j+\\frac{\\tau}{6}(f_j+4f_{j+\\frac{1}{2}}+f_{j+1}),\\\\\n",
    "y_j=y_{j+1}-\\tau f_{j+\\frac{1}{2}}, \\\\\n",
    "y_{j+\\frac{1}{2}}=y_{j+1}-\\frac{\\tau}{2}f_{j+1}.\n",
    "\\end{cases}$$\n",
    "3. Найти интервал устойчивости метода из п. 1;\n",
    "4. С заданной точность $\\epsilon=10^{-4}$ найти решение задачи Коши с помощью: а) метода последовательного повышения порядка точности четвертого порядка; б) явного метода Рунге-Кутта третьего порядка; в) интерполяционого метода Адамса третьнго порядка\n",
    "$$\\begin{cases}\n",
    "u'=\\frac{1}{5}\\begin{pmatrix}-104 & -198 \\\\\n",
    "-198 & -401 \\end{pmatrix} u, t \\in [0; 5], \\\\\n",
    "u(0)=\\begin{pmatrix}5 \\\\ 10 \\end{pmatrix}.\n",
    "\\end{cases}$$"
   ]
  },
  {
   "cell_type": "markdown",
   "id": "5a366aa0-7cef-47b3-9f70-8a2197fbeab0",
   "metadata": {},
   "source": [
    "\\subsection*{Задача 1}\n",
    "\n",
    "Экстраполяционным методом Адамса называется метод, получаемый по формуле\n",
    "$$y_{j+1} = y_j + h\\sum_{i=0}^{k}A_i f(x_{j-i}, y_{j-i}),$$\n",
    "где коэффициенты вычисляются через интегралы $$A_i = \\dfrac{(-1)^i}{i! (k-i)!}\\int\\limits_0^1 \\dfrac{\\alpha(\\alpha+1)\\ldots (\\alpha+k)}{\\alpha+i}d\\alpha.$$\n",
    "В случае метода пятого порядка, нам необходимо посчитать интегралы $A_i$ для всех $i=\\overline{0,k}.$ Поскольку нас интересует метод пятого порядка, то выберем $k=4$"
   ]
  },
  {
   "cell_type": "markdown",
   "id": "701c79ad-d445-42f8-8af3-0553b7a184ce",
   "metadata": {},
   "source": [
    "$$i=0: A_0 = \\frac{1}{24}\\int_0^1(\\alpha+1)(\\alpha+2)(\\alpha+3)(\\alpha+4)d\\alpha;$$\n",
    "$$i=1: A_1 = -\\frac{1}{6}\\int_0^1\\alpha(\\alpha+2)(\\alpha+3)(\\alpha+4)d\\alpha;$$\n",
    "$$i=2: A_2 = \\frac{1}{4}\\int_0^1\\alpha(\\alpha+1)(\\alpha+3)(\\alpha+4)d\\alpha;$$\n",
    "$$i=3: A_3 = -\\frac{1}{6}\\int_0^1\\alpha(\\alpha+1)(\\alpha+2)(\\alpha+4)d\\alpha;$$\n",
    "$$i=4: A_4 = \\frac{1}{24}\\int_0^1\\alpha(\\alpha+1)(\\alpha+2)(\\alpha+3)d\\alpha;$$\n",
    "Для вычисления данных интегралов воспользуемся помощью инструментов Python"
   ]
  },
  {
   "cell_type": "code",
   "execution_count": 16,
   "id": "4043e5fd-be0a-4457-9b34-0bb0fa4a71f9",
   "metadata": {
    "tags": []
   },
   "outputs": [
    {
     "name": "stdout",
     "output_type": "stream",
     "text": [
      "Интеграл 0 равен: 2.6402777777777775\n",
      "Интеграл 1 равен: -3.852777777777778\n",
      "Интеграл 2 равен: 3.6333333333333337\n",
      "Интеграл 3 равен: -1.7694444444444442\n",
      "Интеграл 4 равен: 0.3486111111111112\n"
     ]
    }
   ],
   "source": [
    "from scipy import integrate\n",
    "import math\n",
    "\n",
    "k = 4\n",
    "\n",
    "def f(x, k, n=4):\n",
    "    res = 1\n",
    "    \n",
    "    for i in range(n + 1):\n",
    "       res *= (x + i)\n",
    "    \n",
    "    return res / (x + k)\n",
    "\n",
    "for i in range(k + 1):\n",
    "    print(f'Интеграл {i} равен: {((-1)**i) / (math.factorial(i) * math.factorial(k - i)) * integrate.quad(f, 0, 1, args=(i,))[0]}')"
   ]
  },
  {
   "cell_type": "markdown",
   "id": "9d69f9f9-cf90-43dc-9e4e-c44c13766cd8",
   "metadata": {},
   "source": [
    "Таким образом, получаем $A_0 \\approx 2.64, A_1 \\approx -3.85, A_2 \\approx 3.63, A_3 \\approx -1.77, A_4 \\approx 0.35$. Тогда метод Адамса пятого порядка будет иметь вид\n",
    "\n",
    "$$y_{j+1} = y_j + h(2.64f_j - 3.85 f_{j-1} + 3.63 f_{j-2} - 1.77 f_{j-3} + 0.35 f_{j-4}).$$\n",
    "\n",
    "Получим представление метода Адамса пятого порядка через конечные разности, формула для этого метода имеет вид \n",
    "$$y_{j+1} = y_j + h\\sum_{i=0}^{k}C_i \\Delta ^i f_{j-i},$$\n",
    "\t $$C_i = \\dfrac{1}{i!}\\int\\limits_0^1 \\alpha(\\alpha+1)\\ldots(\\alpha+i-1)d\\alpha.$$\n",
    "Аналогичным образом, найдем все $C_i$ для $i=\\overline{0,k},$ $k$ выбираем то же"
   ]
  },
  {
   "cell_type": "markdown",
   "id": "ffd8974f-0d02-4561-95b9-de59c5b2d06c",
   "metadata": {},
   "source": [
    "$$i=0: C_0 = 0;$$\n",
    "$$i=1: C_1 = \\int_0^1\\alpha d\\alpha = 1;$$\n",
    "$$i=2: C_2 = \\frac{1}{2!}\\int_0^1\\alpha(\\alpha+1)d\\alpha = \\frac{1}{2}\\int_0^1(\\alpha^2+\\alpha) d\\alpha = \\frac{5}{12};$$\n",
    "$$i=3: C_3 = \\frac{1}{3!}\\int_0^1\\alpha(\\alpha+1)(\\alpha+2)d\\alpha=\\frac{1}{6}\\int_0^1 (\\alpha^3+3\\alpha^2+2\\alpha) d\\alpha = \\frac{3}{8};$$\n",
    "$$i=4: C_4 = \\frac{1}{4!}\\int_0^1\\alpha(\\alpha+1)(\\alpha+2)(\\alpha+3) d\\alpha = \\frac{1}{24}\\int_0^1(\\alpha^4+6\\alpha^3+11\\alpha^2+6\\alpha) d\\alpha = \\frac{1}{24}\\Bigl(\\frac{1}{5}+\\frac{3}{2}+\\frac{11}{3}+3\\Bigr) = \\frac{251}{720};$$"
   ]
  },
  {
   "cell_type": "markdown",
   "id": "45f6267e-98b1-40df-aaa2-35d33c3f70ca",
   "metadata": {},
   "source": [
    "Таким образом, можем составить экстраполяционый метод Адамса пятого порядка через конечные разности\n",
    "$$y_{j+1}=y_j+h\\Bigl( \\Delta^1 f_{j-1} + \\frac{5}{12} \\Delta^2 f_{j-2} + \\frac{3}{8} \\Delta^3 f_{j-3} + \\frac{251}{720} \\Delta^4 f_{j-4}\\Bigr).$$"
   ]
  },
  {
   "cell_type": "markdown",
   "id": "b0e516c5-6663-4e36-9da9-2883dde2c710",
   "metadata": {},
   "source": [
    "\\subsection*{Задача 2}\n",
    "\n",
    "Для определения порядка точности нашего метода первым делом оценим локальные погрешности, определяемые следующим образом\n",
    "$$r(t_j, \\tau)=u(t_{j+1})-F\\big(u(t_{j-q}),\\ldots, u(t_j), u(t_{j+1}),\\ldots,u(t_{j+s})\\big).\\eqno(2.1)$$\n",
    "Для удобства переопределим $u(t_j)=u_j.$\n",
    "Тогда, переходя к нашему методу, будем поочередно рассматривать уравнения от меньшего порядка к большему. Приступим к рассмотрению третьего уравнения\n",
    "$$y_{j+\\frac{1}{2}}=y_{j+1}-\\frac{\\tau}{2}f_{j+1}$$\n",
    "Тогда, применяя формулу (2.1), получим\n",
    "$$r(t_j,\\tau)=u_{j+\\frac{1}{2}}-u_{j+1}+\\frac{\\tau}{2}f_{j+1}$$\n",
    "Для оценки погрешности разложим функции по степеням $\\tau$\n",
    "$$u_{j+\\frac{1}{2}}\\approx u(t_j+\\frac{\\tau}{2}) = u_j + \\frac{\\tau}{2\\cdot 1!}u'_j+\\frac{\\tau^2}{4 \\cdot 2!}u''_j+O(\\tau^3);$$\n",
    "$$u_{j+1} \\approx u(t_j+\\tau)=u_j+\\frac{\\tau}{1!}u'_j+\\frac{\\tau^2}{2!}u''_j+O(\\tau^3);$$\n",
    "Для того, чтобы разложить $f_{j+1}$ по степеням $\\tau$ воспользуемся тем, что мы решаем задачу Коши вида\n",
    "$$f(x,u(x)) = u'(x),\\  u|_{x=x_0}=u_0.$$\n",
    "Тогда\n",
    "$$f_{j+1} \\approx f(t_j+\\tau, u(t_j)) = u'(t_j+\\tau)=u'_j+\\frac{\\tau}{1!}u''_j+\\frac{\\tau^2}{2!}u'''_j+O(\\tau^3).$$\n",
    "Подставим полученные разложения в рассматриваемое уравнение"
   ]
  },
  {
   "cell_type": "markdown",
   "id": "ac318e3b-a482-4d64-966d-ce5302aab217",
   "metadata": {},
   "source": [
    "$$r(t_j,\\tau)\\approx u_j + \\frac{\\tau}{2}u'_j+\\frac{\\tau^2}{8}u''_j -u_j-\\tau u'_j-\\frac{\\tau^2}{2}u''_j+\\frac{\\tau}{2}\\Bigl( u'_j+\\tau u''_j+\\frac{\\tau^2}{2}u'''_j \\Bigr) + O(\\tau^3)=\\frac{\\tau}{2}u'_j-\\tau u'_j + \\frac{\\tau}{2}u'_j+\\frac{\\tau^2}{8}u''_j-\\frac{\\tau^2}{2}u''_j+\\frac{\\tau^2}{2}u''_j+\\frac{\\tau^3}{4}u'''_j+O(\\tau^3)=\\frac{\\tau^2}{8}u''_j+\\frac{\\tau^3}{4}u'''_j+O(\\tau^3)=O(\\tau^2).$$\n",
    "Таким образом, локальная погрешность равна $r(t_j,\\tau)=O(\\tau^2).$ Перейдем к следующему уравнению\n",
    "$$y_j=y_{j+1}-\\tau f_{j+\\frac{1}{2}}.$$\n",
    "Проделаем ту же процедуру\n",
    "$$r(t_j,\\tau)=u_{j}-u_{j+1}+\\tau f_{j+\\frac{1}{2}}$$\n",
    "Приступим к разложению по степеням $\\tau$. Поскольку мы уже раскладывали $u_{j+1},$ а разложение $u_j$ приведет нас к $u_j$, то сразу перейдем к разложению третьего слагаемого\n",
    "$$f_{j+\\frac{1}{2}}\\approx u'(t_j+\\frac{\\tau}{2}) = u'_j+\\frac{\\tau}{2}u''_j+\\frac{\\tau^2}{8}u'''_j+O(\\tau^3).$$\n",
    "Подставим "
   ]
  },
  {
   "cell_type": "markdown",
   "id": "dbc92dc0-e9db-4541-a01f-f40c0d5a094f",
   "metadata": {},
   "source": [
    "$$r(t_j, \\tau) \\approx u_j - u_j - \\tau u'_j - \\frac{\\tau^2}{2}u''_j+\\tau \\Bigl( u'_j+\\frac{\\tau}{2}u''_j+\\frac{\\tau^2}{8}u'''_j \\Bigr) + O(\\tau^3)=\\frac{\\tau^3}{8}u'''_j + O(\\tau^3) = O(\\tau^3).$$\n",
    "Таким образом, локальная погрешность в этом случае равна $r(t_j, \\tau) = O(\\tau^3)$. Перейдем к последнему(первому) уравнению\n",
    "$$r(t_j, \\tau) = u_{j+1}-u_j-\\frac{\\tau}{6}(f_j+4f_{j+\\frac{1}{2}}+f_{j+1}).$$\n",
    "Аналогично предыдущему уравнению, сразу перейдем к подстановке, учитвая, что $f_j \\approx u'_j$\n",
    "$$r(t_j, \\tau) \\approx u_j+\\tau u'_j+\\frac{\\tau^2}{2}u''_j - u_j - \\frac{\\tau}{6}\\Bigl(u'_j + 4 \\Bigl(u'_j+\\frac{\\tau}{2}u''_j+\\frac{\\tau^2}{8}u'''_j\\Bigr) + u'_j+\\tau u''_j+\\frac{\\tau^2}{2}u'''_j\\Bigr) + O(\\tau^3)=O(\\tau^3).$$\n",
    "Таким образом, мы получили, что у нас сократились все слагаемые, поэтому нам необходимо увеличить количество членов разложения, скажем, до третьей степени, сразу выполним подстановку с учетом полученных результатов\n",
    "$$r(t_j, \\tau) \\approx \\frac{\\tau^3}{6}u'''_j-\\frac{\\tau}{6}\\Bigl( \\frac{4\\tau^3}{12}u^{(4)}_j+\\frac{\\tau^3}{6}u^{(4)}_j\\Bigr) + O(\\tau^4) = O(\\tau^3).$$\n",
    "Таким образом, локальная погрешность равна $r(t_j, \\tau)=O(\\tau^3),$ найдем глобальную погрешность нашего метода\n",
    "$$\\psi(t_j, \\tau) = \\dfrac{O(\\tau^3)}{\\tau} = O(\\tau^2).$$\n",
    "Отсюда следует, что рассматриваемый метод является методом второго порядка точности."
   ]
  },
  {
   "cell_type": "code",
   "execution_count": null,
   "id": "bab6adfc-7c99-4123-b130-baa83224dd5f",
   "metadata": {},
   "outputs": [],
   "source": []
  }
 ],
 "metadata": {
  "kernelspec": {
   "display_name": "Python 3 (ipykernel)",
   "language": "python",
   "name": "python3"
  },
  "language_info": {
   "codemirror_mode": {
    "name": "ipython",
    "version": 3
   },
   "file_extension": ".py",
   "mimetype": "text/x-python",
   "name": "python",
   "nbconvert_exporter": "python",
   "pygments_lexer": "ipython3",
   "version": "3.11.7"
  }
 },
 "nbformat": 4,
 "nbformat_minor": 5
}
