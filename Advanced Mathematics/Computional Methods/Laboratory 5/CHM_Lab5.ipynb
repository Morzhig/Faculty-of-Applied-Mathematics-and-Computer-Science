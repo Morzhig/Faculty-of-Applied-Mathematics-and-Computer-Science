{
 "cells": [
  {
   "cell_type": "markdown",
   "id": "fc22be04-a64b-4a82-b174-6bbd7b00de0b",
   "metadata": {},
   "source": [
    "# Методы решения ОДУ\n",
    "\n",
    "## Постановка задач\n",
    "1. Построить экстраполяционный метод Адамса пятого порядка (дать представление в двух формах).\n",
    "2. Определить порядок точности метода\n",
    "$$\\begin{cases}\n",
    "y_{j+1}=y_j+\\frac{\\tau}{6}(f_j+4f_{j+\\frac{1}{2}}+f_{j+1}),\\\\\n",
    "y_j=y_{j+1}-\\tau f_{j+\\frac{1}{2}}, \\\\\n",
    "y_{j+\\frac{1}{2}}=y_{j+1}-\\frac{\\tau}{2}f_{j+1}.\n",
    "\\end{cases}$$\n",
    "3. Найти интервал устойчивости метода из п. 1;\n",
    "4. С заданной точность $\\varepsilon=10^{-4}$ найти решение задачи Коши с помощью: а) метода последовательного повышения порядка точности четвертого порядка; б) явного метода Рунге-Кутта третьего порядка; в) интерполяционого метода Адамса третьнго порядка\n",
    "$$\\begin{cases}\n",
    "u'=\\frac{1}{5}\\begin{pmatrix}-104 & -198 \\\\\n",
    "-198 & -401 \\end{pmatrix} u, t \\in [0; 5], \\\\\n",
    "u(0)=\\begin{pmatrix}5 \\\\ 10 \\end{pmatrix}.\n",
    "\\end{cases}$$"
   ]
  },
  {
   "cell_type": "markdown",
   "id": "5a366aa0-7cef-47b3-9f70-8a2197fbeab0",
   "metadata": {},
   "source": [
    "## Задача 1\n",
    "\n",
    "Экстраполяционным методом Адамса называется метод, получаемый по формуле\n",
    "$$y_{j+1} = y_j + h\\sum_{i=0}^{k}A_i f(x_{j-i}, y_{j-i}),$$\n",
    "где коэффициенты вычисляются через интегралы $$A_i = \\dfrac{(-1)^i}{i! (k-i)!}\\int\\limits_0^1 \\dfrac{\\alpha(\\alpha+1)\\ldots (\\alpha+k)}{\\alpha+i}d\\alpha.$$\n",
    "В случае метода пятого порядка, нам необходимо посчитать интегралы $A_i$ для всех $i=\\overline{0,k}.$ Поскольку нас интересует метод пятого порядка, то выберем $k=4$"
   ]
  },
  {
   "cell_type": "markdown",
   "id": "701c79ad-d445-42f8-8af3-0553b7a184ce",
   "metadata": {},
   "source": [
    "$$i=0: A_0 = \\frac{1}{24}\\int_0^1(\\alpha+1)(\\alpha+2)(\\alpha+3)(\\alpha+4)d\\alpha=\\frac{1901}{720} \\approx 2.64;$$\n",
    "$$i=1: A_1 = -\\frac{1}{6}\\int_0^1\\alpha(\\alpha+2)(\\alpha+3)(\\alpha+4)d\\alpha=-\\frac{1387}{360} \\approx -3.85;$$\n",
    "$$i=2: A_2 = \\frac{1}{4}\\int_0^1\\alpha(\\alpha+1)(\\alpha+3)(\\alpha+4)d\\alpha=\\frac{109}{30} \\approx 3.63;$$\n",
    "$$i=3: A_3 = -\\frac{1}{6}\\int_0^1\\alpha(\\alpha+1)(\\alpha+2)(\\alpha+4)d\\alpha=-\\frac{637}{360}\\approx -1.77;$$\n",
    "$$i=4: A_4 = \\frac{1}{24}\\int_0^1\\alpha(\\alpha+1)(\\alpha+2)(\\alpha+3)d\\alpha=\\frac{251}{720}\\approx 0.35;$$\n",
    "Проверим вычисленные значения с помощью инструментов Python"
   ]
  },
  {
   "cell_type": "code",
   "execution_count": 68,
   "id": "4043e5fd-be0a-4457-9b34-0bb0fa4a71f9",
   "metadata": {
    "tags": []
   },
   "outputs": [
    {
     "name": "stdout",
     "output_type": "stream",
     "text": [
      "Интеграл 0 равен: 2.6402777777777775\n",
      "Интеграл 1 равен: -3.852777777777778\n",
      "Интеграл 2 равен: 3.6333333333333337\n",
      "Интеграл 3 равен: -1.7694444444444442\n",
      "Интеграл 4 равен: 0.3486111111111112\n"
     ]
    }
   ],
   "source": [
    "from scipy import integrate\n",
    "import math\n",
    "\n",
    "k = 4\n",
    "\n",
    "def f(x, k, n=4):\n",
    "    res = 1\n",
    "    \n",
    "    for i in range(n + 1):\n",
    "       res *= (x + i)\n",
    "    \n",
    "    return res / (x + k)\n",
    "\n",
    "for i in range(k + 1):\n",
    "    print(f'Интеграл {i} равен: {((-1)**i) / (math.factorial(i) * math.factorial(k - i)) * integrate.quad(f, 0, 1, args=(i,))[0]}')"
   ]
  },
  {
   "cell_type": "markdown",
   "id": "9d69f9f9-cf90-43dc-9e4e-c44c13766cd8",
   "metadata": {},
   "source": [
    "Таким образом, получаем $A_0 \\approx 2.64, A_1 \\approx -3.85, A_2 \\approx 3.63, A_3 \\approx -1.77, A_4 \\approx 0.35$. Тогда метод Адамса пятого порядка будет иметь вид\n",
    "\n",
    "$$y_{j+1} = y_j + h(\\frac{1901}{720}f_j -\\frac{1387}{360} f_{j-1} + \\frac{109}{30} f_{j-2}-\\frac{637}{360} f_{j-3} +\\frac{251}{720} f_{j-4}).$$\n",
    "\n",
    "Получим представление метода Адамса пятого порядка через конечные разности, формула для этого метода имеет вид \n",
    "$$y_{j+1} = y_j + h\\sum_{i=0}^{k}C_i \\Delta ^i f_{j-i},$$\n",
    "\t $$C_i = \\dfrac{1}{i!}\\int\\limits_0^1 \\alpha(\\alpha+1)\\ldots(\\alpha+i-1)d\\alpha.$$\n",
    "Аналогичным образом, найдем все $C_i$ для $i=\\overline{0,k},$ $k$ выбираем то же"
   ]
  },
  {
   "cell_type": "markdown",
   "id": "ffd8974f-0d02-4561-95b9-de59c5b2d06c",
   "metadata": {},
   "source": [
    "$$i=0: C_0 = 0;$$\n",
    "$$i=1: C_1 = \\int_0^1\\alpha d\\alpha = 1;$$\n",
    "$$i=2: C_2 = \\frac{1}{2!}\\int_0^1\\alpha(\\alpha+1)d\\alpha = \\frac{1}{2}\\int_0^1(\\alpha^2+\\alpha) d\\alpha = \\frac{5}{12};$$\n",
    "$$i=3: C_3 = \\frac{1}{3!}\\int_0^1\\alpha(\\alpha+1)(\\alpha+2)d\\alpha=\\frac{1}{6}\\int_0^1 (\\alpha^3+3\\alpha^2+2\\alpha) d\\alpha = \\frac{3}{8};$$\n",
    "$$i=4: C_4 = \\frac{1}{4!}\\int_0^1\\alpha(\\alpha+1)(\\alpha+2)(\\alpha+3) d\\alpha = \\frac{1}{24}\\int_0^1(\\alpha^4+6\\alpha^3+11\\alpha^2+6\\alpha) d\\alpha = \\frac{1}{24}\\Bigl(\\frac{1}{5}+\\frac{3}{2}+\\frac{11}{3}+3\\Bigr) = \\frac{251}{720};$$"
   ]
  },
  {
   "cell_type": "markdown",
   "id": "45f6267e-98b1-40df-aaa2-35d33c3f70ca",
   "metadata": {},
   "source": [
    "Таким образом, можем составить экстраполяционый метод Адамса пятого порядка через конечные разности\n",
    "$$y_{j+1}=y_j+h\\Bigl( \\Delta^1 f_{j-1} + \\frac{5}{12} \\Delta^2 f_{j-2} + \\frac{3}{8} \\Delta^3 f_{j-3} + \\frac{251}{720} \\Delta^4 f_{j-4}\\Bigr).$$"
   ]
  },
  {
   "cell_type": "markdown",
   "id": "b0e516c5-6663-4e36-9da9-2883dde2c710",
   "metadata": {},
   "source": [
    "## Задача 2\n",
    "\n",
    "Для определения порядка точности нашего метода первым делом оценим локальные погрешности, определяемые следующим образом\n",
    "$$r(t_j, \\tau)=u(t_{j+1})-F\\big(u(t_{j-q}),\\ldots, u(t_j), u(t_{j+1}),\\ldots,u(t_{j+s})\\big).\\eqno(2.1)$$\n",
    "Для удобства переопределим $u(t_j)=u_j.$\n",
    "Тогда, переходя к нашему методу, будем поочередно рассматривать уравнения от меньшего порядка к большему. Приступим к рассмотрению третьего уравнения\n",
    "$$y_{j+\\frac{1}{2}}=y_{j+1}-\\frac{\\tau}{2}f_{j+1}$$\n",
    "Тогда, применяя формулу (2.1), получим\n",
    "$$r(t_j,\\tau)=u_{j+\\frac{1}{2}}-u_{j+1}+\\frac{\\tau}{2}f_{j+1}$$\n",
    "Для оценки погрешности разложим функции по степеням $\\tau$\n",
    "$$u_{j+\\frac{1}{2}}\\approx u(t_j+\\frac{\\tau}{2}) = u_j + \\frac{\\tau}{2\\cdot 1!}u'_j+\\frac{\\tau^2}{4 \\cdot 2!}u''_j+O(\\tau^3);$$\n",
    "$$u_{j+1} \\approx u(t_j+\\tau)=u_j+\\frac{\\tau}{1!}u'_j+\\frac{\\tau^2}{2!}u''_j+O(\\tau^3);$$\n",
    "Для того, чтобы разложить $f_{j+1}$ по степеням $\\tau$ воспользуемся тем, что мы решаем задачу Коши вида\n",
    "$$f(x,u(x)) = u'(x),\\  u|_{x=x_0}=u_0.$$\n",
    "Тогда\n",
    "$$f_{j+1} \\approx f(t_j+\\tau, u(t_j)) = u'(t_j+\\tau)=u'_j+\\frac{\\tau}{1!}u''_j+\\frac{\\tau^2}{2!}u'''_j+O(\\tau^3).$$\n",
    "Подставим полученные разложения в рассматриваемое уравнение"
   ]
  },
  {
   "cell_type": "markdown",
   "id": "ac318e3b-a482-4d64-966d-ce5302aab217",
   "metadata": {},
   "source": [
    "$$r(t_j,\\tau)\\approx u_j + \\frac{\\tau}{2}u'_j+\\frac{\\tau^2}{8}u''_j -u_j-\\tau u'_j-\\frac{\\tau^2}{2}u''_j+\\frac{\\tau}{2}\\Bigl( u'_j+\\tau u''_j+\\frac{\\tau^2}{2}u'''_j \\Bigr) + O(\\tau^3)=\\frac{\\tau}{2}u'_j-\\tau u'_j + \\frac{\\tau}{2}u'_j+\\frac{\\tau^2}{8}u''_j-\\frac{\\tau^2}{2}u''_j+\\frac{\\tau^2}{2}u''_j+\\frac{\\tau^3}{4}u'''_j+O(\\tau^3)=\\frac{\\tau^2}{8}u''_j+\\frac{\\tau^3}{4}u'''_j+O(\\tau^3)=O(\\tau^2).$$\n",
    "Таким образом, локальная погрешность равна $r(t_j,\\tau)=O(\\tau^2).$ Перейдем к следующему уравнению\n",
    "$$y_j=y_{j+1}-\\tau f_{j+\\frac{1}{2}}.$$\n",
    "Проделаем ту же процедуру\n",
    "$$r(t_j,\\tau)=u_{j}-u_{j+1}+\\tau f_{j+\\frac{1}{2}}$$\n",
    "Приступим к разложению по степеням $\\tau$. Поскольку мы уже раскладывали $u_{j+1},$ а разложение $u_j$ приведет нас к $u_j$, то сразу перейдем к разложению третьего слагаемого\n",
    "$$f_{j+\\frac{1}{2}}\\approx u'(t_j+\\frac{\\tau}{2}) = u'_j+\\frac{\\tau}{2}u''_j+\\frac{\\tau^2}{8}u'''_j+O(\\tau^3).$$\n",
    "Подставим "
   ]
  },
  {
   "cell_type": "markdown",
   "id": "dbc92dc0-e9db-4541-a01f-f40c0d5a094f",
   "metadata": {},
   "source": [
    "$$r(t_j, \\tau) \\approx u_j - u_j - \\tau u'_j - \\frac{\\tau^2}{2}u''_j+\\tau \\Bigl( u'_j+\\frac{\\tau}{2}u''_j+\\frac{\\tau^2}{8}u'''_j \\Bigr) + O(\\tau^3)=\\frac{\\tau^3}{8}u'''_j + O(\\tau^3) = O(\\tau^3).$$\n",
    "Таким образом, локальная погрешность в этом случае равна $r(t_j, \\tau) = O(\\tau^3)$. Перейдем к последнему(первому) уравнению\n",
    "$$r(t_j, \\tau) = u_{j+1}-u_j-\\frac{\\tau}{6}(f_j+4f_{j+\\frac{1}{2}}+f_{j+1}).$$\n",
    "Аналогично предыдущему уравнению, сразу перейдем к подстановке, учитвая, что $f_j \\approx u'_j$\n",
    "$$r(t_j, \\tau) \\approx u_j+\\tau u'_j+\\frac{\\tau^2}{2}u''_j - u_j - \\frac{\\tau}{6}\\Bigl(u'_j + 4 \\Bigl(u'_j+\\frac{\\tau}{2}u''_j+\\frac{\\tau^2}{8}u'''_j\\Bigr) + u'_j+\\tau u''_j+\\frac{\\tau^2}{2}u'''_j\\Bigr) + O(\\tau^3)=O(\\tau^3).$$\n",
    "Таким образом, мы получили, что у нас сократились все слагаемые, поэтому нам необходимо увеличить количество членов разложения, скажем, до третьей степени, сразу выполним подстановку с учетом полученных результатов\n",
    "$$r(t_j, \\tau) \\approx \\frac{\\tau^3}{6}u'''_j-\\frac{\\tau}{6}\\Bigl( \\frac{4\\tau^3}{12}u^{(4)}_j+\\frac{\\tau^3}{6}u^{(4)}_j\\Bigr) + O(\\tau^4) = O(\\tau^3).$$\n",
    "Таким образом, локальная погрешность равна $r(t_j, \\tau)=O(\\tau^3),$ найдем глобальную погрешность нашего метода\n",
    "$$\\psi(t_j, \\tau) = \\dfrac{O(\\tau^3)}{\\tau} = O(\\tau^2).$$\n",
    "Отсюда следует, что рассматриваемый метод является методом второго порядка точности."
   ]
  },
  {
   "cell_type": "markdown",
   "id": "bee554e4-0a2c-437c-8d05-f3072cc82524",
   "metadata": {},
   "source": [
    "## Задача 3\n",
    "\n",
    "Для нахождения интервала устойчивости для метода Адамса четвертого порядка\n",
    "$$y_{j+1} = y_j + h(\\frac{1901}{720}f_j -\\frac{1387}{360} f_{j-1} + \\frac{109}{30} f_{j-2}-\\frac{637}{360} f_{j-3} +\\frac{251}{720} f_{j-4})$$\n",
    "применим модельное уравнение вида $$u'(x) = \\lambda u(x),\\quad \\lambda \\in \\mathbb C,\\ \\operatorname{Re} \\lambda < 0,\\quad (1)$$ для которого известно, что задача Коши является устойчивой.\n",
    "Учтем обозначения $$u(x_j)=y_j, \\ u'(x_j)=f(x_j, u(x_j))=f_j.$$ Тогда модельное уравнения (1) можно переписать в виде $$f_j=\\lambda y_j.$$ Тогда наш метод можно переписать в виде $$y_{j+1} = y_j + h(\\frac{1901}{720}\\lambda y_j -\\frac{1387}{360}\\lambda y_{j-1} + \\frac{109}{30}\\lambda y_{j-2}-\\frac{637}{360}\\lambda y_{j-3} +\\frac{251}{720}\\lambda y_{j-4}).$$\n",
    "Перенесём все слагаемые в левую сторону $$y_{j+1} - y_j - h(\\frac{1901}{720}\\lambda y_j -\\frac{1387}{360}\\lambda y_{j-1} + \\frac{109}{30}\\lambda y_{j-2}-\\frac{637}{360}\\lambda y_{j-3} +\\frac{251}{720}\\lambda y_{j-4})=0.$$\n",
    "Воспользуемся заменой $z=\\lambda h,$ тогда получим\n",
    "$$y_{j+1} - y_j - \\frac{1901}{720}z y_j +\\frac{1387}{360}z y_{j-1} - \\frac{109}{30}z y_{j-2}+\\frac{637}{360}z y_{j-3} -\\frac{251}{720}z y_{j-4}=0.$$\n",
    "Вынесем общие множители за скобки\n",
    "$$y_{j+1} - y_j(1 + \\frac{1901}{720}z) +\\frac{1387}{360}z y_{j-1} - \\frac{109}{30}z y_{j-2}+\\frac{637}{360}z y_{j-3} -\\frac{251}{720}z y_{j-4}=0.$$\n",
    "Запишем для этого уравнения характеристического уравнение\n",
    "$$q^5 - q^4(1 + \\frac{1901}{720}z) +\\frac{1387}{360}z q^3 - \\frac{109}{30}z q^2+\\frac{637}{360}z q -\\frac{251}{720}z =0.$$\n",
    "Попробуем выразить отсюда $z$.\n",
    "$$q^5 - q^4 + z(- \\frac{1901}{720}q^4 +\\frac{1387}{360} q^3 - \\frac{109}{30} q^2+\\frac{637}{360} q -\\frac{251}{720}) =0;$$\n",
    "\n",
    "$$z(- \\frac{1901}{720}q^4 +\\frac{1387}{360} q^3 - \\frac{109}{30} q^2+\\frac{637}{360} q -\\frac{251}{720}) =q^4-q^5;$$\n",
    "\n",
    "$$z=\\frac{q^4-q^5}{(- \\frac{1901}{720}q^4 +\\frac{1387}{360} q^3 - \\frac{109}{30} q^2+\\frac{637}{360} q -\\frac{251}{720})}.$$\n",
    "\n",
    "Введем обозначение $q=e^{i\\varphi}$ и тогда получим\n",
    "$$z=z(\\varphi)=\\frac{e^{4i\\varphi}-e^{5i\\varphi}}{(- \\frac{1901}{720}e^{4i\\varphi} +\\frac{1387}{360} e^{3i\\varphi} - \\frac{109}{30} e^{2i\\varphi}+\\frac{637}{360} e^{i\\varphi} -\\frac{251}{720})}, \\varphi \\in [0, 2\\pi].$$\n",
    "Тогда\n",
    "$$z(0)=0, \\ z(\\pi)=\\frac{\\cos{4\\pi}-\\cos5\\pi}{(- \\frac{1901}{720}\\cos{4\\pi} +\\frac{1387}{360} \\cos{3\\pi} - \\frac{109}{30} \\cos{2\\pi}+\\frac{637}{360} \\cos{\\pi} -\\frac{251}{720})}=-\\frac{91}{551}.$$\n",
    "Таким образом, мы получили следующий интервал устойчивости $$\\Bigl[-\\frac{91}{551}; 0\\Bigr].$$"
   ]
  },
  {
   "cell_type": "markdown",
   "id": "ccf737e0-f728-4480-b46b-c12e3e24aeb7",
   "metadata": {},
   "source": [
    "## Задача 4\n",
    "\n",
    "Перепишем нашу задачу Коши\n",
    "$$\\begin{cases}\n",
    "u'=\\frac{1}{5}\\begin{pmatrix}-104 & -198 \\\\\n",
    "-198 & -401 \\end{pmatrix} u, t \\in [0; 5], \\\\\n",
    "u(0)=\\begin{pmatrix}5 \\\\ 10 \\end{pmatrix}.\n",
    "\\end{cases}$$\n",
    "в более удобном виде\n",
    "$$\\begin{cases}\n",
    "u'_1(t)=\\frac{1}{5}(-104u_1(t)-198u_2(t)), t \\in [0;5],\\\\\n",
    "u'_2(t)=\\frac{1}{5}(-198u_1(t)-401u_2(t)), t\\in [0;5],\\\\\n",
    "u_1(0)=5, \\\\ \n",
    "u_2(0)=10. \\end{cases}$$\n",
    "Зададим данную дифференциальную модель программно"
   ]
  },
  {
   "cell_type": "code",
   "execution_count": 118,
   "id": "ce83fff4-85ff-4681-b96d-362785a1311e",
   "metadata": {
    "tags": []
   },
   "outputs": [],
   "source": [
    "import numpy as np\n",
    "import matplotlib.pyplot as plt\n",
    "\n",
    "def model(u, t):\n",
    "    u_1, u_2 = u\n",
    "    \n",
    "    deriv_u_1 = 1 / 5  * (-104 * u_1 - 198 * u_2)\n",
    "    deriv_u_2 = 1 / 5 * (-198 * u_1 - 401 * u_2)\n",
    "    \n",
    "    return np.array([deriv_u_1, deriv_u_2])\n",
    "\n",
    "u_1 = 5\n",
    "u_2 = 10\n",
    "\n",
    "t_start = 0\n",
    "t_end = 5\n",
    "N = 100\n",
    "t = np.linspace(t_start, t_end, N)"
   ]
  },
  {
   "cell_type": "markdown",
   "id": "ad9067fe-cd98-435b-bafa-ca21cc2995ea",
   "metadata": {},
   "source": [
    "### Метод последовательного повышения порядка точности четвертого порядка\n"
   ]
  },
  {
   "cell_type": "markdown",
   "id": "4f7e7443-c00a-48f4-820f-2216f77b51db",
   "metadata": {},
   "source": [
    "### Явный метод Рунге-Кутта третьего порядка\n",
    "\n",
    "Запишем более экономичный с точки зрения количства операций метод Рунге-Кутта третьего порядка\n",
    "\t\t\t$$\\begin{cases}\n",
    "\t\t\t\ty_{j+1} = y_j + \\dfrac14 (\\varphi_0 + 3\\varphi_2),\\\\\n",
    "\t\t\t\t\\varphi_0 = hf(x_j, y_j),\\\\\n",
    "\t\t\t\t\\varphi_1 = hf\\left(x_j + \\dfrac13h, y_j + \\dfrac13 \\varphi_0\\right),\\\\\n",
    "\t\t\t\t\\varphi_2 = hf\\left(x_j + \\dfrac23h, y_j + \\dfrac23\\varphi_1\\right).\n",
    "\t\t\t\\end{cases}$$"
   ]
  },
  {
   "cell_type": "code",
   "execution_count": 122,
   "id": "f7267bd7-a904-41ab-877f-254387ee744c",
   "metadata": {
    "tags": []
   },
   "outputs": [],
   "source": [
    "def third_order_runge_kutta(f, y0, t, epsilon):\n",
    "    d = len(f(y0, t[0]))\n",
    "    N = t.size\n",
    "    y = np.zeros((N, d))\n",
    "    y[0] = y0\n",
    "    h = t[1] - t[0]\n",
    "    \n",
    "    for j in range(N-1):\n",
    "        h_current = h\n",
    "        \n",
    "        while True:\n",
    "            phi_0 = h_current * f(y[j], t[j])\n",
    "            phi_1 = h_current * f(y[j] + 1/3 * phi_0, t[j] + 1/3 * h)\n",
    "            phi_2 = h_current * f(y[j] + 2/3 * phi_1, t[j] + 2/3 * h)\n",
    "            y_current = y[j] + 1/4 * (phi_0 + 3*phi_2)\n",
    "\n",
    "            h_new = h_current / 2\n",
    "            phi_0_new = h_new * f(y[j], t[j])\n",
    "            phi_1_new = h_new * f(y[j] + 1/3 * phi_0_new, t[j] + 1/3 * h_new)\n",
    "            phi_2_new = h_new * f(y[j] + 2/3 * phi_1_new, t[j] + 2/3 * h_new)\n",
    "            y_new = y[j] + 1/4 * (phi_0 + 3*phi_2)\n",
    "        \n",
    "            error = np.max(np.abs(y_current - y_new))\n",
    "\n",
    "            if error <= epsilon:\n",
    "                y[j+1] = y_current\n",
    "                break\n",
    "            else:\n",
    "                h_current = h_current / 2\n",
    "\n",
    "        h = h_current\n",
    "    return y"
   ]
  },
  {
   "cell_type": "code",
   "execution_count": 124,
   "id": "b71e672b-8e00-49e3-a55a-eff98cfcec57",
   "metadata": {
    "tags": []
   },
   "outputs": [],
   "source": [
    "u0 = [u_1, u_2]\n",
    "sol = third_order_runge_kutta(model, u0, t, 1e-4)"
   ]
  },
  {
   "cell_type": "code",
   "execution_count": 128,
   "id": "95d4e789-ea05-41d1-83dc-9d0b1a96414b",
   "metadata": {
    "tags": []
   },
   "outputs": [
    {
     "data": {
      "image/png": "[encoded data removed]",
      "text/plain": [
       "<Figure size 1000x500 with 1 Axes>"
      ]
     },
     "metadata": {},
     "output_type": "display_data"
    }
   ],
   "source": [
    "plt.figure(figsize=(10, 5))\n",
    "plt.plot(t, sol[:, 0], label='u_1(t)')\n",
    "plt.plot(t, sol[:, 1], label='u_2(t)')\n",
    "plt.grid(True)\n",
    "plt.xlabel('t')\n",
    "plt.ylabel('u(t)')\n",
    "plt.legend()\n",
    "plt.show()"
   ]
  },
  {
   "cell_type": "markdown",
   "id": "432fc5ae-206d-4847-90de-13696f45f87f",
   "metadata": {},
   "source": [
    "### Интерполяционный метод Адамса третьего порядка"
   ]
  },
  {
   "cell_type": "code",
   "execution_count": null,
   "id": "b31c9429-2b0c-44f4-9515-b98d794f9489",
   "metadata": {},
   "outputs": [],
   "source": []
  }
 ],
 "metadata": {
  "kernelspec": {
   "display_name": "Python 3 (ipykernel)",
   "language": "python",
   "name": "python3"
  },
  "language_info": {
   "codemirror_mode": {
    "name": "ipython",
    "version": 3
   },
   "file_extension": ".py",
   "mimetype": "text/x-python",
   "name": "python",
   "nbconvert_exporter": "python",
   "pygments_lexer": "ipython3",
   "version": "3.11.7"
  }
 },
 "nbformat": 4,
 "nbformat_minor": 5
}
