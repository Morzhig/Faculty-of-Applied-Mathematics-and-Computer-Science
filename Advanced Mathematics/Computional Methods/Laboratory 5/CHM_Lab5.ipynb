{
 "cells": [
  {
   "cell_type": "markdown",
   "id": "fc22be04-a64b-4a82-b174-6bbd7b00de0b",
   "metadata": {
    "tags": []
   },
   "source": [
    "# Методы решения ОДУ"
   ]
  },
  {
   "cell_type": "markdown",
   "id": "0df1df4e-b30e-406e-97af-8d13e3cd21c7",
   "metadata": {
    "jp-MarkdownHeadingCollapsed": true,
    "tags": []
   },
   "source": [
    "## Постановка задач"
   ]
  },
  {
   "cell_type": "markdown",
   "id": "0eb38887-02ff-429e-b5f9-e84db17dbbec",
   "metadata": {},
   "source": [
    "1. Построить экстраполяционный метод Адамса пятого порядка (дать представление в двух формах).\n",
    "2. Определить порядок точности метода\n",
    "$$\\begin{cases}\n",
    "y_{j+1}=y_j+\\frac{\\tau}{6}(f_j+4f_{j+\\frac{1}{2}}+f_{j+1}),\\\\\n",
    "y_j=y_{j+1}-\\tau f_{j+\\frac{1}{2}}, \\\\\n",
    "y_{j+\\frac{1}{2}}=y_{j+1}-\\frac{\\tau}{2}f_{j+1}.\n",
    "\\end{cases}$$\n",
    "3. Найти интервал устойчивости метода из п. 1;\n",
    "4. С заданной точность $\\varepsilon=10^{-4}$ найти решение задачи Коши с помощью: а) метода последовательного повышения порядка точности четвертого порядка; б) явного метода Рунге-Кутта третьего порядка; в) интерполяционого метода Адамса третьего порядка\n",
    "$$\\begin{cases}\n",
    "u'=\\frac{1}{5}\\begin{pmatrix}-104 & -198 \\\\\n",
    "-198 & -401 \\end{pmatrix} u, t \\in [0; 5], \\\\\n",
    "u(0)=\\begin{pmatrix}5 \\\\ 10 \\end{pmatrix}.\n",
    "\\end{cases}$$"
   ]
  },
  {
   "cell_type": "markdown",
   "id": "480170d2-7a63-48af-a9d6-3bca046860a9",
   "metadata": {
    "jp-MarkdownHeadingCollapsed": true,
    "tags": []
   },
   "source": [
    "## Задача 1"
   ]
  },
  {
   "cell_type": "markdown",
   "id": "5a366aa0-7cef-47b3-9f70-8a2197fbeab0",
   "metadata": {
    "tags": []
   },
   "source": [
    "Экстраполяционным методом Адамса называется метод, получаемый по формуле\n",
    "$$y_{j+1} = y_j + h\\sum_{i=0}^{k}A_i f(x_{j-i}, y_{j-i}),$$\n",
    "где коэффициенты вычисляются через интегралы $$A_i = \\dfrac{(-1)^i}{i! (k-i)!}\\int\\limits_0^1 \\dfrac{\\alpha(\\alpha+1)\\ldots (\\alpha+k)}{\\alpha+i}d\\alpha.$$\n",
    "В случае метода пятого порядка, нам необходимо посчитать интегралы $A_i$ для всех $i=\\overline{0,k}.$ Поскольку нас интересует метод пятого порядка, то выберем $k=4$\n",
    "$$i=0: A_0 = \\frac{1}{24}\\int_0^1(\\alpha+1)(\\alpha+2)(\\alpha+3)(\\alpha+4)d\\alpha=\\frac{1901}{720} \\approx 2.64;$$\n",
    "$$i=1: A_1 = -\\frac{1}{6}\\int_0^1\\alpha(\\alpha+2)(\\alpha+3)(\\alpha+4)d\\alpha=-\\frac{1387}{360} \\approx -3.85;$$\n",
    "$$i=2: A_2 = \\frac{1}{4}\\int_0^1\\alpha(\\alpha+1)(\\alpha+3)(\\alpha+4)d\\alpha=\\frac{109}{30} \\approx 3.63;$$\n",
    "$$i=3: A_3 = -\\frac{1}{6}\\int_0^1\\alpha(\\alpha+1)(\\alpha+2)(\\alpha+4)d\\alpha=-\\frac{637}{360}\\approx -1.77;$$\n",
    "$$i=4: A_4 = \\frac{1}{24}\\int_0^1\\alpha(\\alpha+1)(\\alpha+2)(\\alpha+3)d\\alpha=\\frac{251}{720}\\approx 0.35;$$\n",
    "Проверим вычисленные значения с помощью инструментов Python"
   ]
  },
  {
   "cell_type": "code",
   "execution_count": 6,
   "id": "4043e5fd-be0a-4457-9b34-0bb0fa4a71f9",
   "metadata": {
    "tags": []
   },
   "outputs": [
    {
     "name": "stdout",
     "output_type": "stream",
     "text": [
      "Интеграл 0 равен: 2.6402777777777775\n",
      "Интеграл 1 равен: -3.852777777777778\n",
      "Интеграл 2 равен: 3.6333333333333337\n",
      "Интеграл 3 равен: -1.7694444444444442\n",
      "Интеграл 4 равен: 0.3486111111111112\n"
     ]
    }
   ],
   "source": [
    "from scipy import integrate\n",
    "import math\n",
    "\n",
    "k = 4\n",
    "\n",
    "def f(x, k, n=4):\n",
    "    res = 1\n",
    "    \n",
    "    for i in range(n + 1):\n",
    "       res *= (x + i)\n",
    "    \n",
    "    return res / (x + k)\n",
    "\n",
    "for i in range(k + 1):\n",
    "    print(f'Интеграл {i} равен: {((-1)**i) / (math.factorial(i) * math.factorial(k - i)) * integrate.quad(f, 0, 1, args=(i,))[0]}')"
   ]
  },
  {
   "cell_type": "markdown",
   "id": "9d69f9f9-cf90-43dc-9e4e-c44c13766cd8",
   "metadata": {},
   "source": [
    "Таким образом, получаем $A_0 \\approx 2.64, A_1 \\approx -3.85, A_2 \\approx 3.63, A_3 \\approx -1.77, A_4 \\approx 0.35$. Тогда метод Адамса пятого порядка будет иметь вид\n",
    "\n",
    "$$y_{j+1} = y_j + h(\\frac{1901}{720}f_j -\\frac{1387}{360} f_{j-1} + \\frac{109}{30} f_{j-2}-\\frac{637}{360} f_{j-3} +\\frac{251}{720} f_{j-4}).$$\n",
    "\n",
    "Получим представление метода Адамса пятого порядка через конечные разности, формула для этого метода имеет вид \n",
    "$$y_{j+1} = y_j + h\\sum_{i=0}^{k}C_i \\Delta ^i f_{j-i},$$\n",
    "\t $$C_i = \\dfrac{1}{i!}\\int\\limits_0^1 \\alpha(\\alpha+1)\\ldots(\\alpha+i-1)d\\alpha.$$\n",
    "Аналогичным образом, найдем все $C_i$ для $i=\\overline{0,k},$ $k$ выбираем то же\n",
    "$$i=0: C_0 = 0;$$\n",
    "$$i=1: C_1 = \\int_0^1\\alpha d\\alpha = 1;$$\n",
    "$$i=2: C_2 = \\frac{1}{2!}\\int_0^1\\alpha(\\alpha+1)d\\alpha = \\frac{1}{2}\\int_0^1(\\alpha^2+\\alpha) d\\alpha = \\frac{5}{12};$$\n",
    "$$i=3: C_3 = \\frac{1}{3!}\\int_0^1\\alpha(\\alpha+1)(\\alpha+2)d\\alpha=\\frac{1}{6}\\int_0^1 (\\alpha^3+3\\alpha^2+2\\alpha) d\\alpha = \\frac{3}{8};$$\n",
    "$$i=4: C_4 = \\frac{1}{4!}\\int_0^1\\alpha(\\alpha+1)(\\alpha+2)(\\alpha+3) d\\alpha = \\frac{1}{24}\\int_0^1(\\alpha^4+6\\alpha^3+11\\alpha^2+6\\alpha) d\\alpha = \\frac{1}{24}\\Bigl(\\frac{1}{5}+\\frac{3}{2}+\\frac{11}{3}+3\\Bigr) = \\frac{251}{720};$$\n",
    "Таким образом, можем составить экстраполяционый метод Адамса пятого порядка через конечные разности\n",
    "$$y_{j+1}=y_j+h\\Bigl( \\Delta^1 f_{j-1} + \\frac{5}{12} \\Delta^2 f_{j-2} + \\frac{3}{8} \\Delta^3 f_{j-3} + \\frac{251}{720} \\Delta^4 f_{j-4}\\Bigr).$$"
   ]
  },
  {
   "cell_type": "markdown",
   "id": "0e0e638e-6680-4f74-98b6-c3fc2a836e67",
   "metadata": {
    "jp-MarkdownHeadingCollapsed": true,
    "tags": []
   },
   "source": [
    "## Задача 2"
   ]
  },
  {
   "cell_type": "markdown",
   "id": "b0e516c5-6663-4e36-9da9-2883dde2c710",
   "metadata": {
    "tags": []
   },
   "source": [
    "Для определения порядка точности нашего метода первым делом оценим локальные погрешности, определяемые следующим образом\n",
    "$$r(t_j, \\tau)=u(t_{j+1})-F\\big(u(t_{j-q}),\\ldots, u(t_j), u(t_{j+1}),\\ldots,u(t_{j+s})\\big).\\eqno(2.1)$$\n",
    "Для удобства переопределим $u(t_j)=u_j.$\n",
    "Тогда, переходя к нашему методу, будем поочередно рассматривать уравнения от меньшего порядка к большему. Приступим к рассмотрению третьего уравнения\n",
    "$$y_{j+\\frac{1}{2}}=y_{j+1}-\\frac{\\tau}{2}f_{j+1}$$\n",
    "Тогда, применяя формулу (2.1), получим\n",
    "$$r(t_j,\\tau)=u_{j+\\frac{1}{2}}-u_{j+1}+\\frac{\\tau}{2}f_{j+1}$$\n",
    "Для оценки погрешности разложим функции по степеням $\\tau$\n",
    "$$u_{j+\\frac{1}{2}}\\approx u(t_j+\\frac{\\tau}{2}) = u_j + \\frac{\\tau}{2\\cdot 1!}u'_j+\\frac{\\tau^2}{4 \\cdot 2!}u''_j+O(\\tau^3);$$\n",
    "$$u_{j+1} \\approx u(t_j+\\tau)=u_j+\\frac{\\tau}{1!}u'_j+\\frac{\\tau^2}{2!}u''_j+O(\\tau^3);$$\n",
    "Для того, чтобы разложить $f_{j+1}$ по степеням $\\tau$ воспользуемся тем, что мы решаем задачу Коши вида\n",
    "$$f(x,u(x)) = u'(x),\\  u|_{x=x_0}=u_0.$$\n",
    "Тогда\n",
    "$$f_{j+1} \\approx f(t_j+\\tau, u(t_j)) = u'(t_j+\\tau)=u'_j+\\frac{\\tau}{1!}u''_j+\\frac{\\tau^2}{2!}u'''_j+O(\\tau^3).$$\n",
    "Подставим полученные разложения в рассматриваемое уравнение"
   ]
  },
  {
   "cell_type": "markdown",
   "id": "ac318e3b-a482-4d64-966d-ce5302aab217",
   "metadata": {},
   "source": [
    "$$r(t_j,\\tau)\\approx u_j + \\frac{\\tau}{2}u'_j+\\frac{\\tau^2}{8}u''_j -u_j-\\tau u'_j-\\frac{\\tau^2}{2}u''_j+\\frac{\\tau}{2}\\Bigl( u'_j+\\tau u''_j+\\frac{\\tau^2}{2}u'''_j \\Bigr) + O(\\tau^3)=\\frac{\\tau}{2}u'_j-\\tau u'_j + \\frac{\\tau}{2}u'_j+\\frac{\\tau^2}{8}u''_j-\\frac{\\tau^2}{2}u''_j+\\frac{\\tau^2}{2}u''_j+\\frac{\\tau^3}{4}u'''_j+O(\\tau^3)=\\frac{\\tau^2}{8}u''_j+\\frac{\\tau^3}{4}u'''_j+O(\\tau^3)=O(\\tau^2).$$\n",
    "Таким образом, локальная погрешность равна $r(t_j,\\tau)=O(\\tau^2).$ Перейдем к следующему уравнению\n",
    "$$y_j=y_{j+1}-\\tau f_{j+\\frac{1}{2}}.$$\n",
    "Проделаем ту же процедуру\n",
    "$$r(t_j,\\tau)=u_{j}-u_{j+1}+\\tau f_{j+\\frac{1}{2}}$$\n",
    "Приступим к разложению по степеням $\\tau$. Поскольку мы уже раскладывали $u_{j+1},$ а разложение $u_j$ приведет нас к $u_j$, то сразу перейдем к разложению третьего слагаемого\n",
    "$$f_{j+\\frac{1}{2}}\\approx u'(t_j+\\frac{\\tau}{2}) = u'_j+\\frac{\\tau}{2}u''_j+\\frac{\\tau^2}{8}u'''_j+O(\\tau^3).$$\n",
    "Подставим "
   ]
  },
  {
   "cell_type": "markdown",
   "id": "dbc92dc0-e9db-4541-a01f-f40c0d5a094f",
   "metadata": {},
   "source": [
    "$$r(t_j, \\tau) \\approx u_j - u_j - \\tau u'_j - \\frac{\\tau^2}{2}u''_j+\\tau \\Bigl( u'_j+\\frac{\\tau}{2}u''_j+\\frac{\\tau^2}{8}u'''_j \\Bigr) + O(\\tau^3)=\\frac{\\tau^3}{8}u'''_j + O(\\tau^3) = O(\\tau^3).$$\n",
    "Таким образом, локальная погрешность в этом случае равна $r(t_j, \\tau) = O(\\tau^3)$. Перейдем к последнему(первому) уравнению\n",
    "$$r(t_j, \\tau) = u_{j+1}-u_j-\\frac{\\tau}{6}(f_j+4f_{j+\\frac{1}{2}}+f_{j+1}).$$\n",
    "Аналогично предыдущему уравнению, сразу перейдем к подстановке, учитвая, что $f_j \\approx u'_j$\n",
    "$$r(t_j, \\tau) \\approx u_j+\\tau u'_j+\\frac{\\tau^2}{2}u''_j - u_j - \\frac{\\tau}{6}\\Bigl(u'_j + 4 \\Bigl(u'_j+\\frac{\\tau}{2}u''_j+\\frac{\\tau^2}{8}u'''_j\\Bigr) + u'_j+\\tau u''_j+\\frac{\\tau^2}{2}u'''_j\\Bigr) + O(\\tau^3)=O(\\tau^3).$$\n",
    "Таким образом, мы получили, что у нас сократились все слагаемые, поэтому нам необходимо увеличить количество членов разложения, скажем, до третьей степени, сразу выполним подстановку с учетом полученных результатов\n",
    "$$r(t_j, \\tau) \\approx \\frac{\\tau^3}{6}u'''_j-\\frac{\\tau}{6}\\Bigl( \\frac{4\\tau^3}{12}u^{(4)}_j+\\frac{\\tau^3}{6}u^{(4)}_j\\Bigr) + O(\\tau^4) = O(\\tau^3).$$\n",
    "Таким образом, локальная погрешность равна $r(t_j, \\tau)=O(\\tau^3),$ найдем глобальную погрешность нашего метода\n",
    "$$\\psi(t_j, \\tau) = \\dfrac{O(\\tau^3)}{\\tau} = O(\\tau^2).$$\n",
    "Отсюда следует, что рассматриваемый метод является методом второго порядка точности."
   ]
  },
  {
   "cell_type": "markdown",
   "id": "d6d00324-7f1f-49ae-aba6-76ee25ddd4d3",
   "metadata": {
    "jp-MarkdownHeadingCollapsed": true,
    "tags": []
   },
   "source": [
    "## Задача 3"
   ]
  },
  {
   "cell_type": "markdown",
   "id": "bee554e4-0a2c-437c-8d05-f3072cc82524",
   "metadata": {},
   "source": [
    "Для нахождения интервала устойчивости для метода Адамса четвертого порядка\n",
    "$$y_{j+1} = y_j + h(\\frac{1901}{720}f_j -\\frac{1387}{360} f_{j-1} + \\frac{109}{30} f_{j-2}-\\frac{637}{360} f_{j-3} +\\frac{251}{720} f_{j-4})$$\n",
    "применим модельное уравнение вида $$u'(x) = \\lambda u(x),\\quad \\lambda \\in \\mathbb C,\\ \\operatorname{Re} \\lambda < 0,\\quad (1)$$ для которого известно, что задача Коши является устойчивой.\n",
    "Учтем обозначения $$u(x_j)=y_j, \\ u'(x_j)=f(x_j, u(x_j))=f_j.$$ Тогда модельное уравнения (1) можно переписать в виде $$f_j=\\lambda y_j.$$ Тогда наш метод можно переписать в виде $$y_{j+1} = y_j + h(\\frac{1901}{720}\\lambda y_j -\\frac{1387}{360}\\lambda y_{j-1} + \\frac{109}{30}\\lambda y_{j-2}-\\frac{637}{360}\\lambda y_{j-3} +\\frac{251}{720}\\lambda y_{j-4}).$$\n",
    "Перенесём все слагаемые в левую сторону $$y_{j+1} - y_j - h(\\frac{1901}{720}\\lambda y_j -\\frac{1387}{360}\\lambda y_{j-1} + \\frac{109}{30}\\lambda y_{j-2}-\\frac{637}{360}\\lambda y_{j-3} +\\frac{251}{720}\\lambda y_{j-4})=0.$$\n",
    "Воспользуемся заменой $z=\\lambda h,$ тогда получим\n",
    "$$y_{j+1} - y_j - \\frac{1901}{720}z y_j +\\frac{1387}{360}z y_{j-1} - \\frac{109}{30}z y_{j-2}+\\frac{637}{360}z y_{j-3} -\\frac{251}{720}z y_{j-4}=0.$$\n",
    "Вынесем общие множители за скобки\n",
    "$$y_{j+1} - y_j(1 + \\frac{1901}{720}z) +\\frac{1387}{360}z y_{j-1} - \\frac{109}{30}z y_{j-2}+\\frac{637}{360}z y_{j-3} -\\frac{251}{720}z y_{j-4}=0.$$\n",
    "Запишем для этого уравнения характеристического уравнение\n",
    "$$q^5 - q^4(1 + \\frac{1901}{720}z) +\\frac{1387}{360}z q^3 - \\frac{109}{30}z q^2+\\frac{637}{360}z q -\\frac{251}{720}z =0.$$\n",
    "Попробуем выразить отсюда $z$.\n",
    "$$q^5 - q^4 + z(- \\frac{1901}{720}q^4 +\\frac{1387}{360} q^3 - \\frac{109}{30} q^2+\\frac{637}{360} q -\\frac{251}{720}) =0;$$\n",
    "\n",
    "$$z(- \\frac{1901}{720}q^4 +\\frac{1387}{360} q^3 - \\frac{109}{30} q^2+\\frac{637}{360} q -\\frac{251}{720}) =q^4-q^5;$$\n",
    "\n",
    "$$z=\\frac{q^4-q^5}{(- \\frac{1901}{720}q^4 +\\frac{1387}{360} q^3 - \\frac{109}{30} q^2+\\frac{637}{360} q -\\frac{251}{720})}.$$\n",
    "\n",
    "Введем обозначение $q=e^{i\\varphi}$ и тогда получим\n",
    "$$z=z(\\varphi)=\\frac{e^{4i\\varphi}-e^{5i\\varphi}}{(- \\frac{1901}{720}e^{4i\\varphi} +\\frac{1387}{360} e^{3i\\varphi} - \\frac{109}{30} e^{2i\\varphi}+\\frac{637}{360} e^{i\\varphi} -\\frac{251}{720})}, \\varphi \\in [0, 2\\pi].$$\n",
    "Тогда\n",
    "$$z(0)=0, \\ z(\\pi)=\\frac{\\cos{4\\pi}-\\cos5\\pi}{(- \\frac{1901}{720}\\cos{4\\pi} +\\frac{1387}{360} \\cos{3\\pi} - \\frac{109}{30} \\cos{2\\pi}+\\frac{637}{360} \\cos{\\pi} -\\frac{251}{720})}=-\\frac{91}{551}.$$\n",
    "Таким образом, мы получили следующий интервал устойчивости $$\\Bigl[-\\frac{91}{551}; 0\\Bigr].$$"
   ]
  },
  {
   "cell_type": "markdown",
   "id": "ccf737e0-f728-4480-b46b-c12e3e24aeb7",
   "metadata": {
    "tags": []
   },
   "source": [
    "## Задача 4"
   ]
  },
  {
   "cell_type": "markdown",
   "id": "e21cd79d-bd09-440b-8e8e-173f9e55ed5c",
   "metadata": {},
   "source": [
    "Перепишем нашу задачу Коши\n",
    "$$\\begin{cases}\n",
    "u'=\\frac{1}{5}\\begin{pmatrix}-104 & -198 \\\\\n",
    "-198 & -401 \\end{pmatrix} u, t \\in [0; 5], \\\\\n",
    "u(0)=\\begin{pmatrix}5 \\\\ 10 \\end{pmatrix}.\n",
    "\\end{cases}$$\n",
    "Зададим данную дифференциальную модель программно"
   ]
  },
  {
   "cell_type": "code",
   "execution_count": 16,
   "id": "ce83fff4-85ff-4681-b96d-362785a1311e",
   "metadata": {
    "tags": []
   },
   "outputs": [],
   "source": [
    "import numpy as np\n",
    "import matplotlib.pyplot as plt\n",
    "\n",
    "def model(u, t):\n",
    "    u_deriv = 1 / 5 * np.dot(np.array([[-104, -198], [-198, -401]]), u)\n",
    "    \n",
    "    return u_deriv\n",
    "\n",
    "u_0 = [5, 10]\n",
    "\n",
    "t_start = 0\n",
    "t_end = 5\n",
    "N = 1000\n",
    "\n",
    "t = np.linspace(t_start, t_end, N)"
   ]
  },
  {
   "cell_type": "markdown",
   "id": "115d685f-b2d2-4155-95fc-f4953571fc24",
   "metadata": {},
   "source": [
    "Аналитическое решение найдем с использованием инструментов WolframMathematica\n",
    "$$u_1(t) = 5e^{-100 t},\\ u_2(t) = 10e^{-100 t}.$$\n",
    "Зададим и изобразим ее программно, чтобы в дальнейшем сравнивать полученные решения."
   ]
  },
  {
   "cell_type": "code",
   "execution_count": 18,
   "id": "82386c15-3b05-4004-a870-0a7ffcd0f853",
   "metadata": {
    "tags": []
   },
   "outputs": [
    {
     "data": {
      "image/png": "[encoded data removed]",
      "text/plain": [
       "<Figure size 640x480 with 1 Axes>"
      ]
     },
     "metadata": {},
     "output_type": "display_data"
    }
   ],
   "source": [
    "def solution(nodes):\n",
    "    t = np.array(nodes)\n",
    "    return np.array([5 * np.e**(-100 * t), 10 * np.e**(-100 * t)]).T\n",
    "\n",
    "plt.plot(t, solution(t)[:, 0], label='u_1(t)')\n",
    "plt.plot(t, solution(t)[:, 1], label='u_2(t)')\n",
    "plt.grid(True)\n",
    "plt.xlabel('t')\n",
    "plt.ylabel('u(t)')\n",
    "plt.legend()\n",
    "plt.show()"
   ]
  },
  {
   "cell_type": "markdown",
   "id": "ad9067fe-cd98-435b-bafa-ca21cc2995ea",
   "metadata": {
    "tags": []
   },
   "source": [
    "### Метод последовательного повышения порядка точности четвертого порядка"
   ]
  },
  {
   "cell_type": "markdown",
   "id": "239e5e0d-53bd-4795-80a5-79df92c93e5f",
   "metadata": {},
   "source": [
    "#### Построение метода\n",
    "Первая проблема, с которой мы сталкиваемся, необходимость построения такого метода. Поскольку нам нужен метод четвертого порядка, то выбираем $k=4$ и получаем систему уравнения для коэффициентов\n",
    "$$\\sum_{i=0}^q A_i = 1,\\quad \\sum_{i=0}^q A_i \\alpha_i = \\dfrac12,\\quad \\sum_{i=0}^q A_i\\alpha_i^2 = \\dfrac13,\\quad \\sum_{i=0}^q A_i\\alpha_i^3=\\frac{1}{4}.$$\n",
    "Выберем $q=2,$ чтобы получить систему из четырех уравнений с четырьмя неизвестными\n",
    "$$\\begin{cases}\n",
    "A_0 + A_1 = 1,\\\\\n",
    "A_0\\alpha_0 + A_1\\alpha_1 = \\dfrac12,\\\\\n",
    "A_0 \\alpha_0^2 + A_1\\alpha_1^2 = \\dfrac13, \\\\\n",
    "A_0 \\alpha_0^3 + A_1\\alpha_1^3 = \\dfrac14.\n",
    "\\end{cases}$$\n",
    "Для решения данной системы домножим поочередно первое, второе, третье уравнения на $-\\alpha_0$ и соответственно сложим полученное со вторым, третьим и четвертым\n",
    "$$\\begin{cases}\n",
    "A_1\\alpha_1 - A_1\\alpha_0 = \\dfrac12-\\alpha_0,\\\\\n",
    "A_1 \\alpha_1^2 - A_1\\alpha_0 \\alpha_1 = \\dfrac13-\\frac{1}{2}\\alpha_0, \\\\\n",
    "A_1 \\alpha_1^3 - A_1\\alpha_0 \\alpha_1^2 = \\dfrac14-\\frac{1}{3}\\alpha_0.\n",
    "\\end{cases}$$\n",
    "Получили систему из трех уравнений, с которой проделаем аналогичную операцию, только домножать будем на $-\\alpha_1$, тогда получим следующую систему\n",
    "$$\\begin{cases}\n",
    "\\alpha_0 \\alpha_1 -\\frac{1}{2}\\alpha_0-\\frac{1}{2}\\alpha_1+\\frac{1}{3}=0,\\\\\n",
    "\\frac{1}{2}\\alpha_0 \\alpha_1 -\\frac{1}{3}\\alpha_0-\\frac{1}{3}\\alpha_1+\\frac{1}{4}=0.\n",
    "\\end{cases}$$\n",
    "Получили систему из двух уравнений с двумя неизвестными, для решения которой домножим первое уравнение на $-\\frac{1}{2}$ и прибавим его ко второму\n",
    "$$(\\alpha_0+\\alpha_1)(\\frac{1}{4}-\\frac{1}{3})-\\frac{1}{6}+\\frac{1}{4}=0 \\Rightarrow -(\\alpha_0+\\alpha_1)+\\frac{1}{12}=0 \\Rightarrow \\alpha_0+\\alpha_1=\\frac{1}{12}.$$\n",
    "Выразим отсюда $\\alpha_0=\\frac{1}{12}-\\alpha_1$ и подставим в первое уравнение\n",
    "$$\\alpha_1^2+\\frac{\\alpha_1}{12}-\\frac{7}{24}=0.$$\n",
    "Получили квадратное уравнение, корнями которого являются \n",
    "$$\\alpha_1 = \\frac{1}{2},\\quad \\alpha_1=-\\frac{7}{12}.$$\n",
    "Отсюда найдем пару $\\alpha_0$\n",
    "$$\\alpha_0 = -\\frac{5}{12},\\quad \\alpha_0 = \\frac{2}{3}.$$\n",
    "Выберем любую пару $\\alpha_0, \\alpha_1$\n",
    "$$\\alpha_0 = -\\frac{5}{12},\\quad \\alpha_1 = \\frac{1}{2}.$$\n",
    "Вернемся к нашей исходной системе и подставим эти значения в первые два уравнения\n",
    "$$\\begin{cases}\n",
    "A_0+A_1 = 1,\\\\\n",
    "-A_0\\frac{5}{12}+\\frac{1}{2}A_1=\\frac{1}{2}.\n",
    "\\end{cases} \\Rightarrow \\begin{cases}\n",
    "A_0=1-A_1,\\\\\n",
    "-(1-A_1)\\frac{5}{12}+\\frac{1}{2}A_1=\\frac{1}{2}.\n",
    "\\end{cases}\\Rightarrow A_1=1,\\quad A_0=0.$$\n",
    "Таким образом, имеем\n",
    "$$A_0=0,\\quad A_1=1,\\quad \\alpha_0 = -\\frac{5}{12},\\quad \\alpha_1 = \\frac{1}{2}.$$\n",
    "Подставим данные коэффициенты в формулу метода\n",
    "$$y_{j+1} = y_j + \\tau \\sum_{i=0}^{q}A_if(t_j + \\alpha_i \\tau, y(t_j + \\alpha_i \\tau)),$$\n",
    "получим неявный метод четвертого порядка  \n",
    "$$\\overset{[5]}y_{j+1}=\\overset{[5]}y_j+h\\overset{[5]}f_{j+\\frac{1}{2}}.$$\n",
    "Чтобы сделать метод явным, необходимо дополнить его методами более низкого порядка, например методом \"3/4\"\n",
    "$$\\begin{cases}\n",
    "\t\t\t\\overset{[4]}{y}_{j+1} = \\overset{[4]}{y}_j + \\dfrac{h}{4}\\left(\\overset{[4]}{f}_j +3 \\overset{[3]}{f}_{j+\\frac23}\\right),\\\\\n",
    "\t\t\\overset{[3]}{y}_{j+\\frac23} = \\overset{[4]}{y}_j + \\dfrac23h\\overset{[2]}{f}_{j+\\frac13},\\\\\n",
    "\t\t\\overset{[2]}{y}_{j+\\frac13} = \\overset{[4]}{y}_j + \\dfrac13h\\overset{[4]}{f}_{j}.\n",
    "\t\t\\end{cases}$$\n",
    "Для понижения порядка $\\overset{[5]}f_{j+\\frac{1}{2}}$ заменим в методе \"3/4\" $h=\\frac{1}{2}h$\n"
   ]
  },
  {
   "cell_type": "markdown",
   "id": "2c37fedc-2f91-4112-8fd1-12474873c54e",
   "metadata": {},
   "source": [
    "$$\\begin{cases}\n",
    "\\overset{[4]}{y}_{j+\\frac{1}{2}} = \\overset{[5]}{y}_j + \\dfrac{h}{8}\\left(\\overset{[5]}{f}_j +3 \\overset{[3]}{f}_{j+\\frac13}\\right),\\\\\n",
    "\\overset{[3]}{y}_{j+\\frac13} = \\overset{[5]}{y}_j + \\dfrac13h\\overset{[2]}{f}_{j+\\frac16},\\\\\n",
    "\\overset{[2]}{y}_{j+\\frac16} = \\overset{[5]}{y}_j + \\dfrac16h\\overset{[4]}{f}_{j}.\n",
    "\\end{cases}$$\n",
    "Соберем построенные методы и получим явный метод четвертого порядка\n",
    "$$\\begin{cases}\n",
    "\\overset{[5]}y_{j+1}=\\overset{[5]}y_j+h\\overset{[4]}f_{j+\\frac{1}{2}}, \\\\\n",
    "\\overset{[4]}{y}_{j+\\frac{1}{2}} = \\overset{[5]}{y}_j + \\dfrac{h}{8}\\left(\\overset{[5]}{f}_j +3 \\overset{[3]}{f}_{j+\\frac13}\\right),\\\\\n",
    "\\overset{[3]}{y}_{j+\\frac13} = \\overset{[5]}{y}_j + \\dfrac13h\\overset{[2]}{f}_{j+\\frac16},\\\\\n",
    "\\overset{[2]}{y}_{j+\\frac16} = \\overset{[5]}{y}_j + \\dfrac16h\\overset{[5]}{f}_{j}.\n",
    "\\end{cases}$$\n",
    "Программную реализацию я не осилил."
   ]
  },
  {
   "cell_type": "markdown",
   "id": "4f7e7443-c00a-48f4-820f-2216f77b51db",
   "metadata": {
    "tags": []
   },
   "source": [
    "### Явный метод Рунге-Кутта третьего порядка"
   ]
  },
  {
   "cell_type": "markdown",
   "id": "032a2cac-0639-4c43-8a04-0fc1457fadc1",
   "metadata": {},
   "source": [
    "Запишем более экономичный с точки зрения количства операций метод Рунге-Кутта третьего порядка\n",
    "\t\t\t$$\\begin{cases}\n",
    "\t\t\t\ty_{j+1} = y_j + \\dfrac14 (\\varphi_0 + 3\\varphi_2),\\\\\n",
    "\t\t\t\t\\varphi_0 = hf(x_j, y_j),\\\\\n",
    "\t\t\t\t\\varphi_1 = hf\\left(x_j + \\dfrac13h, y_j + \\dfrac13 \\varphi_0\\right),\\\\\n",
    "\t\t\t\t\\varphi_2 = hf\\left(x_j + \\dfrac23h, y_j + \\dfrac23\\varphi_1\\right).\n",
    "\t\t\t\\end{cases}$$"
   ]
  },
  {
   "cell_type": "code",
   "execution_count": 24,
   "id": "f7267bd7-a904-41ab-877f-254387ee744c",
   "metadata": {
    "tags": []
   },
   "outputs": [],
   "source": [
    "def runge_kutta(f, y0, t_start, t_end, epsilon):\n",
    "    y = [np.array(y0)]\n",
    "    t = t_start\n",
    "    nodes = [t_start]\n",
    "    j = 0\n",
    "    h1 = epsilon**(1/3)\n",
    "    k = 1.005\n",
    "    \n",
    "    while True:\n",
    "        \n",
    "        while True:\n",
    "            phi_0_h1 = h1 * f(y[j], t)\n",
    "            phi_1_h1 = h1 * f(y[j] + 1/3 * phi_0_h1, t + 1/3 * h1)\n",
    "            phi_2_h1 = h1 * f(y[j] + 2/3 * phi_1_h1, t + 2/3 * h1)\n",
    "            \n",
    "            y_h1 = y[j] + 1/4 * (phi_0_h1 + 3 * phi_2_h1)\n",
    "            \n",
    "            h2 = h1 / 2\n",
    "            phi_0_h2 = h2 * f(y[j], t)\n",
    "            phi_1_h2 = h2 * f(y[j] + 1/3 * phi_0_h2, t + 1/3 * h2)\n",
    "            phi_2_h2 = h2 * f(y[j] + 2/3 * phi_1_h2, t + 2/3 * h2)\n",
    "            \n",
    "            y_h2 = y[j] + 1/4 * (phi_0_h2 + 3 * phi_2_h2)\n",
    "            \n",
    "            if np.max(y_h2 - y_h1) / (1 - (h2 / h1)**3) < epsilon:\n",
    "                y.append(y_h1)\n",
    "                break \n",
    "            else:\n",
    "                h1 /= 2\n",
    "                \n",
    "        j += 1\n",
    "        if t + h1 > t_end: \n",
    "            nodes.append(t_end) \n",
    "            break\n",
    "        else:\n",
    "            t += h1 \n",
    "            nodes.append(t)\n",
    "            h1 *= k\n",
    "    \n",
    "    return np.stack(y, axis=0), nodes"
   ]
  },
  {
   "cell_type": "code",
   "execution_count": 25,
   "id": "985de6be-1264-40f6-afdd-feea417977e4",
   "metadata": {
    "tags": []
   },
   "outputs": [],
   "source": [
    "sol, t_0 = runge_kutta(model, u_0, t_start, t_end, 1e-4)"
   ]
  },
  {
   "cell_type": "markdown",
   "id": "f3241686-748e-47c3-b8c9-9fe09fbb1ae7",
   "metadata": {},
   "source": [
    "Построим полученное решение"
   ]
  },
  {
   "cell_type": "code",
   "execution_count": 27,
   "id": "95d4e789-ea05-41d1-83dc-9d0b1a96414b",
   "metadata": {
    "tags": []
   },
   "outputs": [
    {
     "data": {
      "image/png": "[encoded data removed]",
      "text/plain": [
       "<Figure size 1000x500 with 1 Axes>"
      ]
     },
     "metadata": {},
     "output_type": "display_data"
    }
   ],
   "source": [
    "plt.figure(figsize=(10, 5))\n",
    "plt.plot(t_0, sol[:, 0], label='u_1(t)')\n",
    "plt.plot(t_0, sol[:, 1], label='u_2(t)')\n",
    "plt.grid(True)\n",
    "plt.xlabel('t')\n",
    "plt.ylabel('u(t)')\n",
    "plt.legend()\n",
    "plt.show()"
   ]
  },
  {
   "cell_type": "markdown",
   "id": "1af86f43-b31d-446e-8c67-7718a30246fc",
   "metadata": {},
   "source": [
    "Как видим, полученное решение визуально совпадает с аналитическим решением."
   ]
  },
  {
   "cell_type": "markdown",
   "id": "432fc5ae-206d-4847-90de-13696f45f87f",
   "metadata": {},
   "source": [
    "### Интерполяционный метод Адамса третьего порядка"
   ]
  },
  {
   "cell_type": "markdown",
   "id": "45383e2f-1c16-46a0-8a28-2d130348b485",
   "metadata": {},
   "source": [
    "Интерполяционный метод Адамса третьего порядка имеет следующий вид\n",
    "$$y_{j+1}=y_j+\\frac{h}{12}(5f_{j+1}+8f_j-f_{j-1}).$$\n",
    "Поскольку для реализации данного метода нам потребуются значения $y_0, y_1$, то обратимся к предыдущему пункту, методу Рунге-Кутта 3-его порядка."
   ]
  },
  {
   "cell_type": "code",
   "execution_count": 30,
   "id": "66b5f5dc-4232-47d2-87d6-52cc6f392294",
   "metadata": {
    "tags": []
   },
   "outputs": [],
   "source": [
    "def adams(f, y0, t_0, t, epsilon):\n",
    "    y = y0.tolist()\n",
    "    t_new = t_0\n",
    "    j = 2\n",
    "    h_current = epsilon**(1/2)\n",
    "    k = 1.005\n",
    "\n",
    "    while True:\n",
    "        while True:\n",
    "            y_high_k = y[j]\n",
    "            y_high = y[j]\n",
    "\n",
    "            while True:\n",
    "                y_high = y[j] + h_current / 12 * (5 * f(y_high_k, t_new[j]+h_current) + 8 * f(y[j], t_new[j]) - f(y[j-1], t_new[j-1]))\n",
    "\n",
    "                if np.max(np.absolute(y_high - y_high_k)) < epsilon * 1e-3:\n",
    "                    break\n",
    "\n",
    "                y_high_k = y_high\n",
    "\n",
    "            h_half = 0.5 * h_current\n",
    "\n",
    "            y_low_k = y[j]\n",
    "            y_low = y[j]\n",
    "\n",
    "            while True:\n",
    "                y_low = y[j] + h_half / 12 * (5 * f(y_low_k, t_new[j]+h_half) + 8 * f(y[j], t_new[j]) - f(y[j-1], t_new[j-1]))\n",
    "\n",
    "                if np.max(np.absolute(y_low - y_low_k)) < epsilon * 1e-3:\n",
    "                    break\n",
    "\n",
    "                y_low_k = y_low\n",
    "\n",
    "            error = np.max(y_low - y_high) / (1 - (h_half / h_current)**3)\n",
    "\n",
    "            if error <= epsilon:\n",
    "                y.append(y_high)\n",
    "                break\n",
    "            else:\n",
    "                h_current *= 0.5\n",
    "\n",
    "        j += 1\n",
    "        \n",
    "        if t_new[j-1] + h_current > t[-1]:\n",
    "            t_new.append(t[-1])\n",
    "            break\n",
    "\n",
    "        else:\n",
    "            t_current = t_new[j-1] + h_current\n",
    "            t_new.append(t_current)\n",
    "            h_current *= k\n",
    "\n",
    "    return np.stack(y, axis=0), t_new"
   ]
  },
  {
   "cell_type": "code",
   "execution_count": 31,
   "id": "ee3221e7-0fb3-47cc-92e6-a7461824a3a6",
   "metadata": {
    "tags": []
   },
   "outputs": [],
   "source": [
    "solution, nodes = adams(model, sol, t_0, t, 1e-4)"
   ]
  },
  {
   "cell_type": "markdown",
   "id": "5ee10c22-c466-4186-a331-013eae405685",
   "metadata": {},
   "source": [
    "Построим полученное решение"
   ]
  },
  {
   "cell_type": "code",
   "execution_count": 67,
   "id": "b4f4161e-fb05-42e2-bc6a-8a7a4657ffb3",
   "metadata": {},
   "outputs": [
    {
     "data": {
      "image/png": "[encoded data removed]",
      "text/plain": [
       "<Figure size 1000x500 with 1 Axes>"
      ]
     },
     "metadata": {},
     "output_type": "display_data"
    }
   ],
   "source": [
    "plt.figure(figsize=(10, 5))\n",
    "plt.plot(nodes, solution[:, 0], label='u_1(t)')\n",
    "plt.plot(nodes, solution[:, 1], label='u_2(t)')\n",
    "plt.grid(True)\n",
    "plt.xlabel('t')\n",
    "plt.ylabel('u(t)')\n",
    "plt.legend()\n",
    "plt.show()"
   ]
  },
  {
   "cell_type": "markdown",
   "id": "07fbd966-bafb-41b1-b926-fed6ac37cd7c",
   "metadata": {},
   "source": [
    "Опять-таки, визуально график решения, полученного методом Адамса, совпадает с графиком аналитического решения."
   ]
  }
 ],
 "metadata": {
  "kernelspec": {
   "display_name": "Python 3 (ipykernel)",
   "language": "python",
   "name": "python3"
  },
  "language_info": {
   "codemirror_mode": {
    "name": "ipython",
    "version": 3
   },
   "file_extension": ".py",
   "mimetype": "text/x-python",
   "name": "python",
   "nbconvert_exporter": "python",
   "pygments_lexer": "ipython3",
   "version": "3.11.7"
  }
 },
 "nbformat": 4,
 "nbformat_minor": 5
}
