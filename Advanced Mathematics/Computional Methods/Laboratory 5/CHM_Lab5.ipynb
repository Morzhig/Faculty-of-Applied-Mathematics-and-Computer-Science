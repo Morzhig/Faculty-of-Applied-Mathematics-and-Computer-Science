{
 "cells": [
  {
   "cell_type": "markdown",
   "id": "fc22be04-a64b-4a82-b174-6bbd7b00de0b",
   "metadata": {},
   "source": [
    "\\section*{Методы решения ОДУ}\n",
    "\n",
    "\\subsection*{Постановка задач}\n",
    "1. Построить экстраполяционный метод Адамса пятого порядка (дать представление в двух формах).\n",
    "2. Определить порядок точности метода\n",
    "$$\\begin{cases}\n",
    "y_{j+1}=y_j+\\frac{\\tau}{6}(f_j+4f_{j+1\\frac{1}{2}}+f_{j+1}),\\\\\n",
    "y_j=y_{j+1}-\\tau f_{j+\\frac{1}{2}}, \\\\\n",
    "y_{j+\\frac{1}{2}}=y_{j+1}-\\frac{\\tau}{2}f_{j+1}.\n",
    "\\end{cases}$$\n",
    "3. Найти интервал устойчивости метода из п. 1;\n",
    "4. С заданной точность $\\epsilon=10^{-4}$ найти решение задачи Коши с помощью: а) метода последовательного повышения порядка точности четвертого порядка; б) явного метода Рунге-Кутта третьего порядка; в) интерполяционого метода Адамса третьнго порядка\n",
    "$$\\begin{cases}\n",
    "u'=\\frac{1}{5}\\begin{pmatrix}-104 & -198 \\\\\n",
    "-198 & -401 \\end{pmatrix} u, t \\in [0; 5], \\\\\n",
    "u(0)=\\begin{pmatrix}5 \\\\ 10 \\end{pmatrix}.\n",
    "\\end{cases}$$"
   ]
  },
  {
   "cell_type": "code",
   "execution_count": null,
   "id": "9a7b7e7e-75bf-43b0-9c04-2d4c9c609a28",
   "metadata": {},
   "outputs": [],
   "source": []
  }
 ],
 "metadata": {
  "kernelspec": {
   "display_name": "Python 3 (ipykernel)",
   "language": "python",
   "name": "python3"
  },
  "language_info": {
   "codemirror_mode": {
    "name": "ipython",
    "version": 3
   },
   "file_extension": ".py",
   "mimetype": "text/x-python",
   "name": "python",
   "nbconvert_exporter": "python",
   "pygments_lexer": "ipython3",
   "version": "3.11.7"
  }
 },
 "nbformat": 4,
 "nbformat_minor": 5
}
