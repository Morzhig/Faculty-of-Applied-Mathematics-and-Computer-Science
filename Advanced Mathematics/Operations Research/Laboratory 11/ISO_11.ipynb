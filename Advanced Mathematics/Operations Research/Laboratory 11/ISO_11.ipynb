{
 "cells": [
  {
   "cell_type": "code",
   "execution_count": 56,
   "id": "9afac7b7-9967-4d17-951d-81e24e49169c",
   "metadata": {
    "tags": []
   },
   "outputs": [
    {
     "name": "stdout",
     "output_type": "stream",
     "text": [
      "Максимальная сумма разностей для чисел от 1 до 4 равна: 7\n",
      "Порядок элементов для достижения максимальной суммы разностей: (2, 4, 1, 3)\n"
     ]
    }
   ],
   "source": [
    "from itertools import permutations\n",
    "\n",
    "def maximize_difference_sum(n):\n",
    "    max_sum = 0\n",
    "    max_order = None\n",
    "\n",
    "    for order in permutations(range(1, n+1)):\n",
    "        sum_of_differences = sum(abs(order[i] - order[i+1]) for i in range(n-1))\n",
    "        if sum_of_differences > max_sum:\n",
    "            max_sum = sum_of_differences\n",
    "            max_order = order\n",
    "\n",
    "    return max_sum, max_order\n",
    "\n",
    "n = 4\n",
    "max_sum, order = maximize_difference_sum(n)\n",
    "if max_sum is not None and order is not None:\n",
    "    print(f\"Максимальная сумма разностей для чисел от 1 до {n} равна: {max_sum}\")\n",
    "    print(\"Порядок элементов для достижения максимальной суммы разностей:\", order)\n",
    "else:\n",
    "    print(\"Решение не найдено.\")"
   ]
  },
  {
   "cell_type": "code",
   "execution_count": 58,
   "id": "274674c2-8ccb-4bd7-b2d1-f6d1e06d45a0",
   "metadata": {
    "tags": []
   },
   "outputs": [
    {
     "name": "stdout",
     "output_type": "stream",
     "text": [
      "Максимальная сумма разностей для чисел от 1 до 4 равна: 7\n",
      "Порядок элементов для достижения максимальной суммы разностей: (2, 4, 1, 3)\n",
      "Максимальная сумма разностей для чисел от 1 до 5 равна: 11\n",
      "Порядок элементов для достижения максимальной суммы разностей: (2, 4, 1, 5, 3)\n",
      "Максимальная сумма разностей для чисел от 1 до 6 равна: 17\n",
      "Порядок элементов для достижения максимальной суммы разностей: (3, 5, 1, 6, 2, 4)\n",
      "Максимальная сумма разностей для чисел от 1 до 7 равна: 23\n",
      "Порядок элементов для достижения максимальной суммы разностей: (3, 5, 1, 6, 2, 7, 4)\n",
      "Максимальная сумма разностей для чисел от 1 до 8 равна: 31\n",
      "Порядок элементов для достижения максимальной суммы разностей: (4, 6, 1, 7, 2, 8, 3, 5)\n",
      "Максимальная сумма разностей для чисел от 1 до 9 равна: 39\n",
      "Порядок элементов для достижения максимальной суммы разностей: (4, 6, 1, 7, 2, 8, 3, 9, 5)\n"
     ]
    }
   ],
   "source": [
    "for n in range(4, 10):\n",
    "    max_sum, order = maximize_difference_sum(n)\n",
    "    if max_sum is not None and order is not None:\n",
    "        print(f\"Максимальная сумма разностей для чисел от 1 до {n} равна: {max_sum}\")\n",
    "        print(\"Порядок элементов для достижения максимальной суммы разностей:\", order)\n",
    "    else:\n",
    "        print(\"Решение не найдено.\")"
   ]
  },
  {
   "cell_type": "code",
   "execution_count": null,
   "id": "b976aa34-92fc-4024-95c1-6d63ad65ad6c",
   "metadata": {},
   "outputs": [],
   "source": []
  }
 ],
 "metadata": {
  "kernelspec": {
   "display_name": "Python 3 (ipykernel)",
   "language": "python",
   "name": "python3"
  },
  "language_info": {
   "codemirror_mode": {
    "name": "ipython",
    "version": 3
   },
   "file_extension": ".py",
   "mimetype": "text/x-python",
   "name": "python",
   "nbconvert_exporter": "python",
   "pygments_lexer": "ipython3",
   "version": "3.11.4"
  }
 },
 "nbformat": 4,
 "nbformat_minor": 5
}
