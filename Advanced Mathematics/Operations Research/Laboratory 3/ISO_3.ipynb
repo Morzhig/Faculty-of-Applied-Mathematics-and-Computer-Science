{
 "cells": [
  {
   "cell_type": "code",
   "execution_count": 18,
   "id": "19aa1a3e-275d-4ff9-88b1-4e389fbdad05",
   "metadata": {
    "tags": []
   },
   "outputs": [],
   "source": [
    "import heapq\n",
    "\n",
    "def dijkstra(graph, start, end):\n",
    "    distances = {node: float('inf') for node in graph}\n",
    "    distances[start] = 0 \n",
    "    heap = [(0, start)]\n",
    "    \n",
    "    while heap:\n",
    "        current_distance, current_node = heapq.heappop(heap)\n",
    "        \n",
    "        if current_distance > distances[current_node]:\n",
    "            continue\n",
    "        \n",
    "        for neighbor, road_type, base_cost in graph[current_node]:\n",
    "            cost = current_distance + base_cost + (0.1 * base_cost if (current_node == start or neighbor != graph[current_node][-1][0]) else 0)\n",
    "            \n",
    "            if cost < distances[neighbor]:\n",
    "                distances[neighbor] = cost\n",
    "                heapq.heappush(heap, (cost, neighbor))\n",
    "    \n",
    "    if distances[end] == float('inf'):\n",
    "        return \"No\"\n",
    "    \n",
    "    return \"Yes\\n{:.2f}\".format(distances[end])\n",
    "\n",
    "\n",
    "with open('input.txt', 'r') as file:\n",
    "    lines = file.readlines()\n",
    "\n",
    "N = int(lines[0])\n",
    "M = int(lines[1])\n",
    "\n",
    "graph = {i: [] for i in range(1, N+1)}\n",
    "\n",
    "for line in lines[2:M + 2]:\n",
    "    x, y, t, p = map(int, line.split())\n",
    "    \n",
    "    graph[x].append((y, t, p))\n",
    "    graph[y].append((x, t, p))\n",
    "\n",
    "A, B = map(int, lines[M+2].split())\n",
    "\n",
    "result = dijkstra(graph, A, B)\n",
    "\n",
    "with open('output.txt', 'w') as file:\n",
    "    file.write(result)"
   ]
  },
  {
   "cell_type": "code",
   "execution_count": null,
   "id": "287a8ad5-8945-4532-b1b9-236e78baab37",
   "metadata": {},
   "outputs": [],
   "source": []
  }
 ],
 "metadata": {
  "kernelspec": {
   "display_name": "Python 3 (ipykernel)",
   "language": "python",
   "name": "python3"
  },
  "language_info": {
   "codemirror_mode": {
    "name": "ipython",
    "version": 3
   },
   "file_extension": ".py",
   "mimetype": "text/x-python",
   "name": "python",
   "nbconvert_exporter": "python",
   "pygments_lexer": "ipython3",
   "version": "3.11.4"
  }
 },
 "nbformat": 4,
 "nbformat_minor": 5
}
