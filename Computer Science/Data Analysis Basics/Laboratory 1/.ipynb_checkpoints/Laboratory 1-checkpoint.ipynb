{
 "cells": [
  {
   "cell_type": "markdown",
   "id": "193b5e4c-d002-4956-b3b8-6b4d0d61e968",
   "metadata": {},
   "source": [
    "# Лабораторная работа 1. Вариант 5."
   ]
  },
  {
   "cell_type": "code",
   "execution_count": 43,
   "id": "22ff14cd-5d91-4eac-a3a9-d3becc7c3e46",
   "metadata": {},
   "outputs": [],
   "source": [
    "import pandas as pd\n",
    "import numpy as np"
   ]
  },
  {
   "cell_type": "markdown",
   "id": "2f032eb5-589b-41de-a9d1-f623d923b9de",
   "metadata": {},
   "source": [
    "## Задание 1\n",
    "\n",
    "Загрузить данные из файла avianHabitat.csv. Подготовить данные для\r\n",
    "дальнейшего анализа, убрав нулевые элемент. \n",
    "\n",
    "Делать это будем с помощью встроенных функций библиотеки pandas.\r"
   ]
  },
  {
   "cell_type": "code",
   "execution_count": 27,
   "id": "65d7d686-9e47-48a2-b2f4-ed0f29e1ec54",
   "metadata": {},
   "outputs": [
    {
     "data": {
      "text/html": [
       "<div>\n",
       "<style scoped>\n",
       "    .dataframe tbody tr th:only-of-type {\n",
       "        vertical-align: middle;\n",
       "    }\n",
       "\n",
       "    .dataframe tbody tr th {\n",
       "        vertical-align: top;\n",
       "    }\n",
       "\n",
       "    .dataframe thead th {\n",
       "        text-align: right;\n",
       "    }\n",
       "</style>\n",
       "<table border=\"1\" class=\"dataframe\">\n",
       "  <thead>\n",
       "    <tr style=\"text-align: right;\">\n",
       "      <th></th>\n",
       "      <th>Site</th>\n",
       "      <th>Observer</th>\n",
       "      <th>Subpoint</th>\n",
       "      <th>VOR</th>\n",
       "      <th>PDB</th>\n",
       "      <th>DBHt</th>\n",
       "      <th>PW</th>\n",
       "      <th>WHt</th>\n",
       "      <th>PE</th>\n",
       "      <th>EHt</th>\n",
       "      <th>PA</th>\n",
       "      <th>AHt</th>\n",
       "      <th>PH</th>\n",
       "      <th>HHt</th>\n",
       "      <th>PL</th>\n",
       "      <th>LHt</th>\n",
       "      <th>PB</th>\n",
       "    </tr>\n",
       "  </thead>\n",
       "  <tbody>\n",
       "    <tr>\n",
       "      <th>0</th>\n",
       "      <td>BunkerHill27</td>\n",
       "      <td>RA</td>\n",
       "      <td>1</td>\n",
       "      <td>6.0</td>\n",
       "      <td>3</td>\n",
       "      <td>5.2</td>\n",
       "      <td>0</td>\n",
       "      <td>0.0</td>\n",
       "      <td>4</td>\n",
       "      <td>2.9</td>\n",
       "      <td>0</td>\n",
       "      <td>0.0</td>\n",
       "      <td>4</td>\n",
       "      <td>3.0</td>\n",
       "      <td>0</td>\n",
       "      <td>0.0</td>\n",
       "      <td>0</td>\n",
       "    </tr>\n",
       "    <tr>\n",
       "      <th>1</th>\n",
       "      <td>BunkerHill27</td>\n",
       "      <td>RA</td>\n",
       "      <td>2</td>\n",
       "      <td>4.5</td>\n",
       "      <td>2</td>\n",
       "      <td>3.1</td>\n",
       "      <td>3</td>\n",
       "      <td>4.7</td>\n",
       "      <td>3</td>\n",
       "      <td>4.1</td>\n",
       "      <td>0</td>\n",
       "      <td>0.0</td>\n",
       "      <td>3</td>\n",
       "      <td>3.5</td>\n",
       "      <td>2</td>\n",
       "      <td>1.0</td>\n",
       "      <td>0</td>\n",
       "    </tr>\n",
       "    <tr>\n",
       "      <th>2</th>\n",
       "      <td>BunkerHill27</td>\n",
       "      <td>RA</td>\n",
       "      <td>3</td>\n",
       "      <td>2.0</td>\n",
       "      <td>4</td>\n",
       "      <td>5.5</td>\n",
       "      <td>1</td>\n",
       "      <td>5.8</td>\n",
       "      <td>3</td>\n",
       "      <td>3.9</td>\n",
       "      <td>0</td>\n",
       "      <td>0.0</td>\n",
       "      <td>3</td>\n",
       "      <td>7.5</td>\n",
       "      <td>0</td>\n",
       "      <td>0.0</td>\n",
       "      <td>0</td>\n",
       "    </tr>\n",
       "    <tr>\n",
       "      <th>3</th>\n",
       "      <td>BunkerHill27</td>\n",
       "      <td>RA</td>\n",
       "      <td>4</td>\n",
       "      <td>2.5</td>\n",
       "      <td>3</td>\n",
       "      <td>6.2</td>\n",
       "      <td>0</td>\n",
       "      <td>0.0</td>\n",
       "      <td>3</td>\n",
       "      <td>4.0</td>\n",
       "      <td>0</td>\n",
       "      <td>0.0</td>\n",
       "      <td>4</td>\n",
       "      <td>5.0</td>\n",
       "      <td>0</td>\n",
       "      <td>0.0</td>\n",
       "      <td>0</td>\n",
       "    </tr>\n",
       "    <tr>\n",
       "      <th>4</th>\n",
       "      <td>BunkerHill27</td>\n",
       "      <td>RA</td>\n",
       "      <td>5</td>\n",
       "      <td>4.0</td>\n",
       "      <td>4</td>\n",
       "      <td>5.4</td>\n",
       "      <td>0</td>\n",
       "      <td>0.0</td>\n",
       "      <td>3</td>\n",
       "      <td>3.5</td>\n",
       "      <td>0</td>\n",
       "      <td>0.0</td>\n",
       "      <td>4</td>\n",
       "      <td>3.7</td>\n",
       "      <td>0</td>\n",
       "      <td>0.0</td>\n",
       "      <td>0</td>\n",
       "    </tr>\n",
       "    <tr>\n",
       "      <th>...</th>\n",
       "      <td>...</td>\n",
       "      <td>...</td>\n",
       "      <td>...</td>\n",
       "      <td>...</td>\n",
       "      <td>...</td>\n",
       "      <td>...</td>\n",
       "      <td>...</td>\n",
       "      <td>...</td>\n",
       "      <td>...</td>\n",
       "      <td>...</td>\n",
       "      <td>...</td>\n",
       "      <td>...</td>\n",
       "      <td>...</td>\n",
       "      <td>...</td>\n",
       "      <td>...</td>\n",
       "      <td>...</td>\n",
       "      <td>...</td>\n",
       "    </tr>\n",
       "    <tr>\n",
       "      <th>1065</th>\n",
       "      <td>McAdamCreek21</td>\n",
       "      <td>RR</td>\n",
       "      <td>6</td>\n",
       "      <td>1.0</td>\n",
       "      <td>0</td>\n",
       "      <td>0.0</td>\n",
       "      <td>3</td>\n",
       "      <td>1.0</td>\n",
       "      <td>2</td>\n",
       "      <td>2.2</td>\n",
       "      <td>0</td>\n",
       "      <td>0.0</td>\n",
       "      <td>4</td>\n",
       "      <td>3.3</td>\n",
       "      <td>0</td>\n",
       "      <td>0.0</td>\n",
       "      <td>0</td>\n",
       "    </tr>\n",
       "    <tr>\n",
       "      <th>1066</th>\n",
       "      <td>McAdamCreek21</td>\n",
       "      <td>RR</td>\n",
       "      <td>7</td>\n",
       "      <td>1.5</td>\n",
       "      <td>4</td>\n",
       "      <td>5.0</td>\n",
       "      <td>2</td>\n",
       "      <td>1.3</td>\n",
       "      <td>2</td>\n",
       "      <td>1.7</td>\n",
       "      <td>0</td>\n",
       "      <td>0.0</td>\n",
       "      <td>3</td>\n",
       "      <td>5.4</td>\n",
       "      <td>2</td>\n",
       "      <td>0.6</td>\n",
       "      <td>0</td>\n",
       "    </tr>\n",
       "    <tr>\n",
       "      <th>1067</th>\n",
       "      <td>McAdamCreek21</td>\n",
       "      <td>RR</td>\n",
       "      <td>8</td>\n",
       "      <td>8.0</td>\n",
       "      <td>0</td>\n",
       "      <td>0.0</td>\n",
       "      <td>5</td>\n",
       "      <td>10.2</td>\n",
       "      <td>3</td>\n",
       "      <td>1.5</td>\n",
       "      <td>0</td>\n",
       "      <td>0.0</td>\n",
       "      <td>1</td>\n",
       "      <td>2.6</td>\n",
       "      <td>1</td>\n",
       "      <td>0.7</td>\n",
       "      <td>0</td>\n",
       "    </tr>\n",
       "    <tr>\n",
       "      <th>1068</th>\n",
       "      <td>McAdamCreek21</td>\n",
       "      <td>RR</td>\n",
       "      <td>9</td>\n",
       "      <td>3.0</td>\n",
       "      <td>0</td>\n",
       "      <td>0.0</td>\n",
       "      <td>5</td>\n",
       "      <td>10.1</td>\n",
       "      <td>3</td>\n",
       "      <td>3.1</td>\n",
       "      <td>0</td>\n",
       "      <td>0.0</td>\n",
       "      <td>3</td>\n",
       "      <td>2.2</td>\n",
       "      <td>0</td>\n",
       "      <td>0.0</td>\n",
       "      <td>0</td>\n",
       "    </tr>\n",
       "    <tr>\n",
       "      <th>1069</th>\n",
       "      <td>McAdamCreek21</td>\n",
       "      <td>RR</td>\n",
       "      <td>10</td>\n",
       "      <td>1.0</td>\n",
       "      <td>0</td>\n",
       "      <td>0.0</td>\n",
       "      <td>3</td>\n",
       "      <td>0.8</td>\n",
       "      <td>1</td>\n",
       "      <td>1.4</td>\n",
       "      <td>0</td>\n",
       "      <td>0.0</td>\n",
       "      <td>4</td>\n",
       "      <td>2.3</td>\n",
       "      <td>0</td>\n",
       "      <td>0.0</td>\n",
       "      <td>0</td>\n",
       "    </tr>\n",
       "  </tbody>\n",
       "</table>\n",
       "<p>1070 rows × 17 columns</p>\n",
       "</div>"
      ],
      "text/plain": [
       "               Site Observer  Subpoint  VOR  PDB  DBHt  PW   WHt  PE  EHt  PA  \\\n",
       "0      BunkerHill27       RA         1  6.0    3   5.2   0   0.0   4  2.9   0   \n",
       "1      BunkerHill27       RA         2  4.5    2   3.1   3   4.7   3  4.1   0   \n",
       "2      BunkerHill27       RA         3  2.0    4   5.5   1   5.8   3  3.9   0   \n",
       "3      BunkerHill27       RA         4  2.5    3   6.2   0   0.0   3  4.0   0   \n",
       "4      BunkerHill27       RA         5  4.0    4   5.4   0   0.0   3  3.5   0   \n",
       "...             ...      ...       ...  ...  ...   ...  ..   ...  ..  ...  ..   \n",
       "1065  McAdamCreek21       RR         6  1.0    0   0.0   3   1.0   2  2.2   0   \n",
       "1066  McAdamCreek21       RR         7  1.5    4   5.0   2   1.3   2  1.7   0   \n",
       "1067  McAdamCreek21       RR         8  8.0    0   0.0   5  10.2   3  1.5   0   \n",
       "1068  McAdamCreek21       RR         9  3.0    0   0.0   5  10.1   3  3.1   0   \n",
       "1069  McAdamCreek21       RR        10  1.0    0   0.0   3   0.8   1  1.4   0   \n",
       "\n",
       "      AHt  PH  HHt  PL  LHt  PB  \n",
       "0     0.0   4  3.0   0  0.0   0  \n",
       "1     0.0   3  3.5   2  1.0   0  \n",
       "2     0.0   3  7.5   0  0.0   0  \n",
       "3     0.0   4  5.0   0  0.0   0  \n",
       "4     0.0   4  3.7   0  0.0   0  \n",
       "...   ...  ..  ...  ..  ...  ..  \n",
       "1065  0.0   4  3.3   0  0.0   0  \n",
       "1066  0.0   3  5.4   2  0.6   0  \n",
       "1067  0.0   1  2.6   1  0.7   0  \n",
       "1068  0.0   3  2.2   0  0.0   0  \n",
       "1069  0.0   4  2.3   0  0.0   0  \n",
       "\n",
       "[1070 rows x 17 columns]"
      ]
     },
     "execution_count": 27,
     "metadata": {},
     "output_type": "execute_result"
    }
   ],
   "source": [
    "df = pd.DataFrame(pd.read_csv(r'avianHabitat.csv'))\n",
    "\n",
    "df"
   ]
  },
  {
   "cell_type": "markdown",
   "id": "3cca1b17-8379-46d0-9ebd-23f8fa7afe66",
   "metadata": {},
   "source": [
    "Посчитаем количество нулевых элементов"
   ]
  },
  {
   "cell_type": "code",
   "execution_count": 35,
   "id": "9165c240-5058-4e81-b5a2-ef5599293207",
   "metadata": {},
   "outputs": [
    {
     "data": {
      "text/plain": [
       "Site        0\n",
       "Observer    0\n",
       "Subpoint    0\n",
       "VOR         0\n",
       "PDB         0\n",
       "DBHt        0\n",
       "PW          0\n",
       "WHt         0\n",
       "PE          0\n",
       "EHt         0\n",
       "PA          0\n",
       "AHt         0\n",
       "PH          0\n",
       "HHt         0\n",
       "PL          0\n",
       "LHt         0\n",
       "PB          0\n",
       "dtype: int64"
      ]
     },
     "execution_count": 35,
     "metadata": {},
     "output_type": "execute_result"
    }
   ],
   "source": [
    "df.isna().sum()"
   ]
  },
  {
   "cell_type": "markdown",
   "id": "2a454411-df02-48fa-b665-7b1ec830ff20",
   "metadata": {},
   "source": [
    "Как можем увидеть, пустых полей у нас нет, поэтому можем сразу перейти к анализу данных.\n",
    "\n",
    "## Задание 2\n",
    "\n",
    "Рассчитать для переменных, описывающих высоту растений (*Ht), следующие значения(по вариантам):\n",
    "+ Максимальное и минимальное значения;\n",
    "+ Размах распределения;\n",
    "+ Среднее значения;\n",
    "+ Медиану;\n",
    "+ Моду;\n",
    "+ Дисперсию;\n",
    "+ Среднеквадратическое отклонение;\n",
    "+ Первый и третий квартиль;\n",
    "+ Интерквартильный размах;\n",
    "+ Ассиметрию;\n",
    "+ Эксцесс.\n",
    "\n",
    "Большинство из данных значений можно получить с помощью функции df.describe(), которая выведет нам описательные статистики выбранной переменной. По варианту будем рассматривать переменную HHt"
   ]
  },
  {
   "cell_type": "code",
   "execution_count": 46,
   "id": "9c511132-2028-4cad-96a2-efc0fd6b3dfc",
   "metadata": {},
   "outputs": [
    {
     "data": {
      "text/plain": [
       "count    1070.000000\n",
       "mean        2.321028\n",
       "std         1.280982\n",
       "min         0.000000\n",
       "25%         1.400000\n",
       "50%         2.300000\n",
       "75%         3.100000\n",
       "max         8.200000\n",
       "Name: HHt, dtype: float64"
      ]
     },
     "execution_count": 46,
     "metadata": {},
     "output_type": "execute_result"
    }
   ],
   "source": [
    "df['HHt'].describe()"
   ]
  },
  {
   "cell_type": "markdown",
   "id": "5155ae43-4355-464c-beca-f34b6c0fee97",
   "metadata": {},
   "source": [
    "Отсюда видно, что:\n",
    "+ Максимальное значение = 8.2, минимальное значение = 0;\n",
    "+ Размах распределение = max - min = 8.2;\n",
    "+ Среднее значение = 2.321028;\n",
    "+ Первый квартиль = 1.4, третий квартиль = 3.1;\n",
    "+ Интерквартильный размах = 3.1 - 1.4 = 1.7;\n",
    "  \n",
    "Для вычисления оставшихся значений воспользуемся функциями pandas."
   ]
  },
  {
   "cell_type": "code",
   "execution_count": 70,
   "id": "ff1de7e0-6e5d-4c3f-a6e1-700ef10f7dad",
   "metadata": {},
   "outputs": [
    {
     "name": "stdout",
     "output_type": "stream",
     "text": [
      "Медиана = 2.3\n",
      "Мода = 0    2.2\n",
      "Name: HHt, dtype: float64\n",
      "Дисперсия = 1.640913815864245\n",
      "Среднеквадратичное отклонение = 1.2809815829527935\n",
      "Ассиметрия = 0.5319323371016482\n",
      "Эксцесс = 0.8309991831944887\n"
     ]
    }
   ],
   "source": [
    "print(f'Медиана = {df['HHt'].median()}')\n",
    "print(f'Мода = {df['HHt'].mode()}')\n",
    "print(f'Дисперсия = {df['HHt'].var()}')\n",
    "print(f'Среднеквадратичное отклонение = {df['HHt'].var()**(1/2)}')\n",
    "print(f'Ассиметрия = {df['HHt'].skew()}')\n",
    "print(f'Эксцесс = {df['HHt'].kurtosis()}')"
   ]
  },
  {
   "cell_type": "markdown",
   "id": "02181de5-8458-45dd-8b62-9c6d358385b9",
   "metadata": {},
   "source": [
    "## Задание 3\n",
    "\n",
    "Построить диаграмму с усами (boxplot) для Ваших данных.\n",
    "\n",
    "Строить диаграмму будем с помощью библиотеки Seaborn"
   ]
  },
  {
   "cell_type": "code",
   "execution_count": 78,
   "id": "9d60aa68-5c94-4439-be2c-15b3c2a6df23",
   "metadata": {},
   "outputs": [
    {
     "data": {
      "text/plain": [
       "<Axes: ylabel='HHt'>"
      ]
     },
     "execution_count": 78,
     "metadata": {},
     "output_type": "execute_result"
    },
    {
     "data": {
      "image/png": "[encoded data removed]",
      "text/plain": [
       "<Figure size 640x480 with 1 Axes>"
      ]
     },
     "metadata": {},
     "output_type": "display_data"
    }
   ],
   "source": [
    "import seaborn as sns\n",
    "\n",
    "sns.boxplot(df['HHt'])"
   ]
  },
  {
   "cell_type": "markdown",
   "id": "0f0117a4-f248-4451-8612-0191c3125e92",
   "metadata": {},
   "source": [
    "## Задание 4\n",
    "\n",
    "Построить на одном рисунке диаграммы с усами Вашего и соседнего варианта.\n",
    "\n",
    "Дополнительно построим ящик с усами шестого варианта 6 (LHt)."
   ]
  },
  {
   "cell_type": "code",
   "execution_count": 81,
   "id": "f2fa300c-1c6f-4f27-b0dd-217cc3ac852d",
   "metadata": {},
   "outputs": [
    {
     "data": {
      "text/plain": [
       "<Axes: >"
      ]
     },
     "execution_count": 81,
     "metadata": {},
     "output_type": "execute_result"
    },
    {
     "data": {
      "image/png": "[encoded data removed]",
      "text/plain": [
       "<Figure size 640x480 with 1 Axes>"
      ]
     },
     "metadata": {},
     "output_type": "display_data"
    }
   ],
   "source": [
    "sns.boxplot(df[['HHt','LHt']])"
   ]
  },
  {
   "cell_type": "markdown",
   "id": "42ba4ac6-5c4a-41a9-932a-e1709fbd7a27",
   "metadata": {},
   "source": [
    "## Задание 5\n",
    "\n",
    "Построить эмпирическую функцию распределения (построить самим и\r\n",
    "воспользоваться реализованными функциями (при наличии), сравнить\r\n",
    "результат\n",
    "\n",
    "Строить эмпирическую функцию будем путем деления каждого элемента нашего столбца на общее число элементов..\r"
   ]
  },
  {
   "cell_type": "code",
   "execution_count": 89,
   "id": "314353c2-c36f-4e01-9d78-21064149e195",
   "metadata": {},
   "outputs": [
    {
     "data": {
      "text/html": [
       "<div>\n",
       "<style scoped>\n",
       "    .dataframe tbody tr th:only-of-type {\n",
       "        vertical-align: middle;\n",
       "    }\n",
       "\n",
       "    .dataframe tbody tr th {\n",
       "        vertical-align: top;\n",
       "    }\n",
       "\n",
       "    .dataframe thead th {\n",
       "        text-align: right;\n",
       "    }\n",
       "</style>\n",
       "<table border=\"1\" class=\"dataframe\">\n",
       "  <thead>\n",
       "    <tr style=\"text-align: right;\">\n",
       "      <th></th>\n",
       "      <th>0</th>\n",
       "      <th>1</th>\n",
       "    </tr>\n",
       "  </thead>\n",
       "  <tbody>\n",
       "    <tr>\n",
       "      <th>0</th>\n",
       "      <td>0.0</td>\n",
       "      <td>0.000000</td>\n",
       "    </tr>\n",
       "    <tr>\n",
       "      <th>1</th>\n",
       "      <td>0.0</td>\n",
       "      <td>0.000935</td>\n",
       "    </tr>\n",
       "    <tr>\n",
       "      <th>2</th>\n",
       "      <td>0.0</td>\n",
       "      <td>0.001869</td>\n",
       "    </tr>\n",
       "    <tr>\n",
       "      <th>3</th>\n",
       "      <td>0.0</td>\n",
       "      <td>0.002804</td>\n",
       "    </tr>\n",
       "    <tr>\n",
       "      <th>4</th>\n",
       "      <td>0.0</td>\n",
       "      <td>0.003738</td>\n",
       "    </tr>\n",
       "    <tr>\n",
       "      <th>...</th>\n",
       "      <td>...</td>\n",
       "      <td>...</td>\n",
       "    </tr>\n",
       "    <tr>\n",
       "      <th>1065</th>\n",
       "      <td>6.9</td>\n",
       "      <td>0.995327</td>\n",
       "    </tr>\n",
       "    <tr>\n",
       "      <th>1066</th>\n",
       "      <td>6.9</td>\n",
       "      <td>0.996262</td>\n",
       "    </tr>\n",
       "    <tr>\n",
       "      <th>1067</th>\n",
       "      <td>7.3</td>\n",
       "      <td>0.997196</td>\n",
       "    </tr>\n",
       "    <tr>\n",
       "      <th>1068</th>\n",
       "      <td>7.5</td>\n",
       "      <td>0.998131</td>\n",
       "    </tr>\n",
       "    <tr>\n",
       "      <th>1069</th>\n",
       "      <td>8.2</td>\n",
       "      <td>0.999065</td>\n",
       "    </tr>\n",
       "  </tbody>\n",
       "</table>\n",
       "<p>1070 rows × 2 columns</p>\n",
       "</div>"
      ],
      "text/plain": [
       "        0         1\n",
       "0     0.0  0.000000\n",
       "1     0.0  0.000935\n",
       "2     0.0  0.001869\n",
       "3     0.0  0.002804\n",
       "4     0.0  0.003738\n",
       "...   ...       ...\n",
       "1065  6.9  0.995327\n",
       "1066  6.9  0.996262\n",
       "1067  7.3  0.997196\n",
       "1068  7.5  0.998131\n",
       "1069  8.2  0.999065\n",
       "\n",
       "[1070 rows x 2 columns]"
      ]
     },
     "execution_count": 89,
     "metadata": {},
     "output_type": "execute_result"
    }
   ],
   "source": [
    "df_sorted = sorted(df['HHt'])\n",
    "\n",
    "cdf = pd.DataFrame( {0: df_sorted, 1:np.arange(len(df_sorted))/len(df_sorted)} )\n",
    "cdf"
   ]
  },
  {
   "cell_type": "markdown",
   "id": "32b23d55-4e00-4e7b-b845-ff316909e4a8",
   "metadata": {},
   "source": [
    "Построим график полученной эмпирической функции."
   ]
  },
  {
   "cell_type": "code",
   "execution_count": 109,
   "id": "ee707c25-ab16-4a69-9fb4-7fa375460ec9",
   "metadata": {},
   "outputs": [
    {
     "data": {
      "text/plain": [
       "<Axes: xlabel='Высота травяных растений'>"
      ]
     },
     "execution_count": 109,
     "metadata": {},
     "output_type": "execute_result"
    },
    {
     "data": {
      "image/png": "[encoded data removed]",
      "text/plain": [
       "<Figure size 640x480 with 1 Axes>"
      ]
     },
     "metadata": {},
     "output_type": "display_data"
    }
   ],
   "source": [
    "cdf.plot(0,1, grid=True, label='ЭФР', xlabel='Высота травяных растений')"
   ]
  },
  {
   "cell_type": "code",
   "execution_count": null,
   "id": "f4a5ab21-889a-44ee-8a89-c3adb47bb392",
   "metadata": {},
   "outputs": [],
   "source": []
  }
 ],
 "metadata": {
  "kernelspec": {
   "display_name": "Python 3 (ipykernel)",
   "language": "python",
   "name": "python3"
  },
  "language_info": {
   "codemirror_mode": {
    "name": "ipython",
    "version": 3
   },
   "file_extension": ".py",
   "mimetype": "text/x-python",
   "name": "python",
   "nbconvert_exporter": "python",
   "pygments_lexer": "ipython3",
   "version": "3.12.4"
  }
 },
 "nbformat": 4,
 "nbformat_minor": 5
}
