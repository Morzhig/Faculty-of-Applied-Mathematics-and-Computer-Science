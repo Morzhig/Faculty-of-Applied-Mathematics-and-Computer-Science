{
 "cells": [
  {
   "cell_type": "markdown",
   "metadata": {},
   "source": [
    "# Лабораторная работа 3."
   ]
  },
  {
   "cell_type": "code",
   "execution_count": 1,
   "metadata": {},
   "outputs": [],
   "source": [
    "import pandas as pd\n",
    "import numpy as np\n",
    "import matplotlib.pyplot as plt\n",
    "import seaborn as sns\n",
    "\n",
    "from scipy.stats import binomtest, ttest_ind"
   ]
  },
  {
   "cell_type": "markdown",
   "metadata": {},
   "source": [
    "## Задание 1.\n",
    "Загрузить данные из файла data.csv."
   ]
  },
  {
   "cell_type": "code",
   "execution_count": 2,
   "metadata": {},
   "outputs": [
    {
     "data": {
      "text/html": [
       "<div>\n",
       "<style scoped>\n",
       "    .dataframe tbody tr th:only-of-type {\n",
       "        vertical-align: middle;\n",
       "    }\n",
       "\n",
       "    .dataframe tbody tr th {\n",
       "        vertical-align: top;\n",
       "    }\n",
       "\n",
       "    .dataframe thead th {\n",
       "        text-align: right;\n",
       "    }\n",
       "</style>\n",
       "<table border=\"1\" class=\"dataframe\">\n",
       "  <thead>\n",
       "    <tr style=\"text-align: right;\">\n",
       "      <th></th>\n",
       "      <th>is_stud</th>\n",
       "      <th>group</th>\n",
       "      <th>sex</th>\n",
       "      <th>work_status</th>\n",
       "      <th>fav_year</th>\n",
       "      <th>visit_freq</th>\n",
       "      <th>usd_pred</th>\n",
       "      <th>random_value</th>\n",
       "    </tr>\n",
       "  </thead>\n",
       "  <tbody>\n",
       "    <tr>\n",
       "      <th>0</th>\n",
       "      <td>Нет</td>\n",
       "      <td>13</td>\n",
       "      <td>М</td>\n",
       "      <td>Да, неполная ставка</td>\n",
       "      <td>1-2</td>\n",
       "      <td>10</td>\n",
       "      <td>3.31</td>\n",
       "      <td>0.56</td>\n",
       "    </tr>\n",
       "    <tr>\n",
       "      <th>1</th>\n",
       "      <td>Нет</td>\n",
       "      <td>другая</td>\n",
       "      <td>Ж</td>\n",
       "      <td>Да, полная ставка</td>\n",
       "      <td>3-4</td>\n",
       "      <td>8</td>\n",
       "      <td>3.30</td>\n",
       "      <td>0.50</td>\n",
       "    </tr>\n",
       "    <tr>\n",
       "      <th>2</th>\n",
       "      <td>Нет</td>\n",
       "      <td>другая</td>\n",
       "      <td>М</td>\n",
       "      <td>Да, неполная ставка</td>\n",
       "      <td>1-2</td>\n",
       "      <td>1</td>\n",
       "      <td>5.00</td>\n",
       "      <td>0.00</td>\n",
       "    </tr>\n",
       "    <tr>\n",
       "      <th>3</th>\n",
       "      <td>Да</td>\n",
       "      <td>13</td>\n",
       "      <td>М</td>\n",
       "      <td>Да, полная ставка</td>\n",
       "      <td>3-4</td>\n",
       "      <td>6</td>\n",
       "      <td>3.20</td>\n",
       "      <td>0.04</td>\n",
       "    </tr>\n",
       "    <tr>\n",
       "      <th>4</th>\n",
       "      <td>Да</td>\n",
       "      <td>12</td>\n",
       "      <td>Ж</td>\n",
       "      <td>Нет</td>\n",
       "      <td>3-4</td>\n",
       "      <td>10</td>\n",
       "      <td>2.00</td>\n",
       "      <td>0.98</td>\n",
       "    </tr>\n",
       "    <tr>\n",
       "      <th>5</th>\n",
       "      <td>Да</td>\n",
       "      <td>другая</td>\n",
       "      <td>М</td>\n",
       "      <td>Да, неполная ставка</td>\n",
       "      <td>1-2</td>\n",
       "      <td>5</td>\n",
       "      <td>3.20</td>\n",
       "      <td>0.66</td>\n",
       "    </tr>\n",
       "    <tr>\n",
       "      <th>6</th>\n",
       "      <td>Да</td>\n",
       "      <td>другая</td>\n",
       "      <td>М</td>\n",
       "      <td>Нет</td>\n",
       "      <td>3-4</td>\n",
       "      <td>10</td>\n",
       "      <td>3.30</td>\n",
       "      <td>0.46</td>\n",
       "    </tr>\n",
       "  </tbody>\n",
       "</table>\n",
       "</div>"
      ],
      "text/plain": [
       "  is_stud   group sex          work_status fav_year  visit_freq  usd_pred  \\\n",
       "0     Нет      13   М  Да, неполная ставка      1-2          10      3.31   \n",
       "1     Нет  другая   Ж    Да, полная ставка      3-4           8      3.30   \n",
       "2     Нет  другая   М  Да, неполная ставка      1-2           1      5.00   \n",
       "3      Да      13   М    Да, полная ставка      3-4           6      3.20   \n",
       "4      Да      12   Ж                  Нет      3-4          10      2.00   \n",
       "5      Да  другая   М  Да, неполная ставка      1-2           5      3.20   \n",
       "6      Да  другая   М                  Нет      3-4          10      3.30   \n",
       "\n",
       "   random_value  \n",
       "0          0.56  \n",
       "1          0.50  \n",
       "2          0.00  \n",
       "3          0.04  \n",
       "4          0.98  \n",
       "5          0.66  \n",
       "6          0.46  "
      ]
     },
     "execution_count": 2,
     "metadata": {},
     "output_type": "execute_result"
    }
   ],
   "source": [
    "df = pd.read_csv(r'data.csv')\n",
    "\n",
    "df.head(7)"
   ]
  },
  {
   "cell_type": "code",
   "execution_count": 3,
   "metadata": {},
   "outputs": [
    {
     "name": "stdout",
     "output_type": "stream",
     "text": [
      "<class 'pandas.core.frame.DataFrame'>\n",
      "RangeIndex: 51 entries, 0 to 50\n",
      "Data columns (total 8 columns):\n",
      " #   Column        Non-Null Count  Dtype  \n",
      "---  ------        --------------  -----  \n",
      " 0   is_stud       51 non-null     object \n",
      " 1   group         51 non-null     object \n",
      " 2   sex           51 non-null     object \n",
      " 3   work_status   51 non-null     object \n",
      " 4   fav_year      51 non-null     object \n",
      " 5   visit_freq    51 non-null     int64  \n",
      " 6   usd_pred      51 non-null     float64\n",
      " 7   random_value  51 non-null     float64\n",
      "dtypes: float64(2), int64(1), object(5)\n",
      "memory usage: 3.3+ KB\n"
     ]
    }
   ],
   "source": [
    "df.info()"
   ]
  },
  {
   "cell_type": "code",
   "execution_count": 4,
   "metadata": {},
   "outputs": [
    {
     "data": {
      "text/plain": [
       "is_stud         0\n",
       "group           0\n",
       "sex             0\n",
       "work_status     0\n",
       "fav_year        0\n",
       "visit_freq      0\n",
       "usd_pred        0\n",
       "random_value    0\n",
       "dtype: int64"
      ]
     },
     "execution_count": 4,
     "metadata": {},
     "output_type": "execute_result"
    }
   ],
   "source": [
    "df.isna().sum()"
   ]
  },
  {
   "cell_type": "markdown",
   "metadata": {},
   "source": [
    "## Задание 2.\n",
    "\n",
    "Визуализировать данные таблицы, рассчитать некоторые базовые\n",
    "статистики. Дать описание используемых в п.3-п.4 данных (например,\n",
    "кол-во студентов в группах, кол-во по полу, доля работающих в\n",
    "группах и т.п.)"
   ]
  },
  {
   "cell_type": "code",
   "execution_count": 5,
   "metadata": {},
   "outputs": [
    {
     "data": {
      "text/html": [
       "<div>\n",
       "<style scoped>\n",
       "    .dataframe tbody tr th:only-of-type {\n",
       "        vertical-align: middle;\n",
       "    }\n",
       "\n",
       "    .dataframe tbody tr th {\n",
       "        vertical-align: top;\n",
       "    }\n",
       "\n",
       "    .dataframe thead th {\n",
       "        text-align: right;\n",
       "    }\n",
       "</style>\n",
       "<table border=\"1\" class=\"dataframe\">\n",
       "  <thead>\n",
       "    <tr style=\"text-align: right;\">\n",
       "      <th></th>\n",
       "      <th>visit_freq</th>\n",
       "      <th>usd_pred</th>\n",
       "      <th>random_value</th>\n",
       "    </tr>\n",
       "  </thead>\n",
       "  <tbody>\n",
       "    <tr>\n",
       "      <th>count</th>\n",
       "      <td>51.000000</td>\n",
       "      <td>51.000000</td>\n",
       "      <td>51.000000</td>\n",
       "    </tr>\n",
       "    <tr>\n",
       "      <th>mean</th>\n",
       "      <td>6.627451</td>\n",
       "      <td>3.478459</td>\n",
       "      <td>0.600816</td>\n",
       "    </tr>\n",
       "    <tr>\n",
       "      <th>std</th>\n",
       "      <td>2.591994</td>\n",
       "      <td>0.468136</td>\n",
       "      <td>0.314528</td>\n",
       "    </tr>\n",
       "    <tr>\n",
       "      <th>min</th>\n",
       "      <td>1.000000</td>\n",
       "      <td>2.000000</td>\n",
       "      <td>0.000000</td>\n",
       "    </tr>\n",
       "    <tr>\n",
       "      <th>25%</th>\n",
       "      <td>5.000000</td>\n",
       "      <td>3.300000</td>\n",
       "      <td>0.450000</td>\n",
       "    </tr>\n",
       "    <tr>\n",
       "      <th>50%</th>\n",
       "      <td>7.000000</td>\n",
       "      <td>3.400000</td>\n",
       "      <td>0.640000</td>\n",
       "    </tr>\n",
       "    <tr>\n",
       "      <th>75%</th>\n",
       "      <td>8.000000</td>\n",
       "      <td>3.575000</td>\n",
       "      <td>0.880000</td>\n",
       "    </tr>\n",
       "    <tr>\n",
       "      <th>max</th>\n",
       "      <td>10.000000</td>\n",
       "      <td>5.000000</td>\n",
       "      <td>0.990000</td>\n",
       "    </tr>\n",
       "  </tbody>\n",
       "</table>\n",
       "</div>"
      ],
      "text/plain": [
       "       visit_freq   usd_pred  random_value\n",
       "count   51.000000  51.000000     51.000000\n",
       "mean     6.627451   3.478459      0.600816\n",
       "std      2.591994   0.468136      0.314528\n",
       "min      1.000000   2.000000      0.000000\n",
       "25%      5.000000   3.300000      0.450000\n",
       "50%      7.000000   3.400000      0.640000\n",
       "75%      8.000000   3.575000      0.880000\n",
       "max     10.000000   5.000000      0.990000"
      ]
     },
     "execution_count": 5,
     "metadata": {},
     "output_type": "execute_result"
    }
   ],
   "source": [
    "df.describe()"
   ]
  },
  {
   "cell_type": "code",
   "execution_count": 6,
   "metadata": {},
   "outputs": [
    {
     "data": {
      "text/html": [
       "<div>\n",
       "<style scoped>\n",
       "    .dataframe tbody tr th:only-of-type {\n",
       "        vertical-align: middle;\n",
       "    }\n",
       "\n",
       "    .dataframe tbody tr th {\n",
       "        vertical-align: top;\n",
       "    }\n",
       "\n",
       "    .dataframe thead th {\n",
       "        text-align: right;\n",
       "    }\n",
       "</style>\n",
       "<table border=\"1\" class=\"dataframe\">\n",
       "  <thead>\n",
       "    <tr style=\"text-align: right;\">\n",
       "      <th></th>\n",
       "      <th>is_stud</th>\n",
       "      <th>group</th>\n",
       "      <th>sex</th>\n",
       "      <th>work_status</th>\n",
       "      <th>fav_year</th>\n",
       "      <th>visit_freq</th>\n",
       "      <th>usd_pred</th>\n",
       "      <th>random_value</th>\n",
       "    </tr>\n",
       "  </thead>\n",
       "  <tbody>\n",
       "    <tr>\n",
       "      <th>0</th>\n",
       "      <td>False</td>\n",
       "      <td>13</td>\n",
       "      <td>М</td>\n",
       "      <td>True</td>\n",
       "      <td>1-2</td>\n",
       "      <td>10</td>\n",
       "      <td>3.31</td>\n",
       "      <td>0.56</td>\n",
       "    </tr>\n",
       "    <tr>\n",
       "      <th>1</th>\n",
       "      <td>False</td>\n",
       "      <td>другая</td>\n",
       "      <td>Ж</td>\n",
       "      <td>True</td>\n",
       "      <td>3-4</td>\n",
       "      <td>8</td>\n",
       "      <td>3.30</td>\n",
       "      <td>0.50</td>\n",
       "    </tr>\n",
       "    <tr>\n",
       "      <th>2</th>\n",
       "      <td>False</td>\n",
       "      <td>другая</td>\n",
       "      <td>М</td>\n",
       "      <td>True</td>\n",
       "      <td>1-2</td>\n",
       "      <td>1</td>\n",
       "      <td>5.00</td>\n",
       "      <td>0.00</td>\n",
       "    </tr>\n",
       "    <tr>\n",
       "      <th>3</th>\n",
       "      <td>True</td>\n",
       "      <td>13</td>\n",
       "      <td>М</td>\n",
       "      <td>True</td>\n",
       "      <td>3-4</td>\n",
       "      <td>6</td>\n",
       "      <td>3.20</td>\n",
       "      <td>0.04</td>\n",
       "    </tr>\n",
       "    <tr>\n",
       "      <th>4</th>\n",
       "      <td>True</td>\n",
       "      <td>12</td>\n",
       "      <td>Ж</td>\n",
       "      <td>False</td>\n",
       "      <td>3-4</td>\n",
       "      <td>10</td>\n",
       "      <td>2.00</td>\n",
       "      <td>0.98</td>\n",
       "    </tr>\n",
       "    <tr>\n",
       "      <th>5</th>\n",
       "      <td>True</td>\n",
       "      <td>другая</td>\n",
       "      <td>М</td>\n",
       "      <td>True</td>\n",
       "      <td>1-2</td>\n",
       "      <td>5</td>\n",
       "      <td>3.20</td>\n",
       "      <td>0.66</td>\n",
       "    </tr>\n",
       "    <tr>\n",
       "      <th>6</th>\n",
       "      <td>True</td>\n",
       "      <td>другая</td>\n",
       "      <td>М</td>\n",
       "      <td>False</td>\n",
       "      <td>3-4</td>\n",
       "      <td>10</td>\n",
       "      <td>3.30</td>\n",
       "      <td>0.46</td>\n",
       "    </tr>\n",
       "  </tbody>\n",
       "</table>\n",
       "</div>"
      ],
      "text/plain": [
       "   is_stud   group sex  work_status fav_year  visit_freq  usd_pred  \\\n",
       "0    False      13   М         True      1-2          10      3.31   \n",
       "1    False  другая   Ж         True      3-4           8      3.30   \n",
       "2    False  другая   М         True      1-2           1      5.00   \n",
       "3     True      13   М         True      3-4           6      3.20   \n",
       "4     True      12   Ж        False      3-4          10      2.00   \n",
       "5     True  другая   М         True      1-2           5      3.20   \n",
       "6     True  другая   М        False      3-4          10      3.30   \n",
       "\n",
       "   random_value  \n",
       "0          0.56  \n",
       "1          0.50  \n",
       "2          0.00  \n",
       "3          0.04  \n",
       "4          0.98  \n",
       "5          0.66  \n",
       "6          0.46  "
      ]
     },
     "execution_count": 6,
     "metadata": {},
     "output_type": "execute_result"
    }
   ],
   "source": [
    "for col in ['is_stud', 'work_status']:\n",
    "    df[col] = [True if a[0] == 'Да' else False for a in df[col].str.split(',')]\n",
    "\n",
    "df.head(7)"
   ]
  },
  {
   "cell_type": "code",
   "execution_count": 7,
   "metadata": {},
   "outputs": [
    {
     "name": "stdout",
     "output_type": "stream",
     "text": [
      "Количество студентов по группам:\n",
      " group\n",
      "12        22\n",
      "другая    17\n",
      "13         7\n",
      "Name: count, dtype: int64\n"
     ]
    }
   ],
   "source": [
    "students = pd.DataFrame(data=df[df['is_stud']])\n",
    "dict_stud = students['group'].value_counts()\n",
    "\n",
    "print('Количество студентов по группам:\\n', dict_stud)"
   ]
  },
  {
   "cell_type": "code",
   "execution_count": 8,
   "metadata": {},
   "outputs": [
    {
     "name": "stdout",
     "output_type": "stream",
     "text": [
      "Количество студентов по полу:\n",
      " sex\n",
      "М    30\n",
      "Ж    16\n",
      "Name: count, dtype: int64\n"
     ]
    }
   ],
   "source": [
    "print('Количество студентов по полу:\\n', students['sex'].value_counts())"
   ]
  },
  {
   "cell_type": "code",
   "execution_count": 9,
   "metadata": {},
   "outputs": [
    {
     "name": "stdout",
     "output_type": "stream",
     "text": [
      "Доля работающих студентов в 12 группе: 0.5\n",
      "Доля работающих студентов в другая группе: 0.5294117647058824\n",
      "Доля работающих студентов в 13 группе: 0.7142857142857143\n"
     ]
    }
   ],
   "source": [
    "df_working_students = pd.DataFrame(data=df['group'].unique(), columns=['group'])\n",
    "df_working_students['ratio'] = 0.0 \n",
    "\n",
    "for key in dict_stud.keys():\n",
    "    ratio = students[(students['work_status']) & (students['group'] == key)]['group'].count() / students[students['group'] == key]['group'].count()\n",
    "    df_working_students.loc[df_working_students['group'] == key, 'ratio'] = ratio\n",
    "    \n",
    "    print(f'Доля работающих студентов в {key} группе: {ratio}')"
   ]
  },
  {
   "cell_type": "code",
   "execution_count": 10,
   "metadata": {},
   "outputs": [
    {
     "data": {
      "image/png": "[encoded data removed]",
      "text/plain": [
       "<Figure size 1000x600 with 1 Axes>"
      ]
     },
     "metadata": {},
     "output_type": "display_data"
    }
   ],
   "source": [
    "plt.figure(figsize=(10,6))\n",
    "\n",
    "sns.countplot(x='group', data=students)\n",
    "\n",
    "plt.title('Количество студентов в каждой группе')\n",
    "plt.show()"
   ]
  },
  {
   "cell_type": "code",
   "execution_count": 11,
   "metadata": {},
   "outputs": [
    {
     "data": {
      "image/png": "[encoded data removed]",
      "text/plain": [
       "<Figure size 1000x600 with 1 Axes>"
      ]
     },
     "metadata": {},
     "output_type": "display_data"
    }
   ],
   "source": [
    "plt.figure(figsize=(10,6))\n",
    "\n",
    "plt.plot(df['random_value'])\n",
    "plt.xlabel('Student')\n",
    "plt.ylabel('Value')\n",
    "plt.title('График рандомного значения')\n",
    "\n",
    "plt.show()"
   ]
  },
  {
   "cell_type": "code",
   "execution_count": 12,
   "metadata": {},
   "outputs": [],
   "source": [
    "df['fav_year_split'] = [int(a[0]) for a in df['fav_year'].str.split('-')]"
   ]
  },
  {
   "cell_type": "code",
   "execution_count": 13,
   "metadata": {},
   "outputs": [
    {
     "data": {
      "image/png": "[encoded data removed]",
      "text/plain": [
       "<Figure size 1000x600 with 1 Axes>"
      ]
     },
     "metadata": {},
     "output_type": "display_data"
    }
   ],
   "source": [
    "plt.figure(figsize=(10, 6))\n",
    "\n",
    "plt.hist(df['fav_year_split'], bins=5, edgecolor='black')\n",
    "plt.xlabel('Год обучения')\n",
    "plt.ylabel('Частота')\n",
    "plt.title('Гистограмма года обучения')\n",
    "plt.show()"
   ]
  },
  {
   "cell_type": "markdown",
   "metadata": {},
   "source": [
    "## Задание 3.\n",
    "\n",
    "Выдвинуть 2 гипотезы относительно влияния фактора на бинарную\n",
    "метрику. С помощью Биномиального теста (логику теста реализовать\n",
    "самому) проверить гипотезы, дать интерпретацию полученных\n",
    "результатов."
   ]
  },
  {
   "cell_type": "code",
   "execution_count": 14,
   "metadata": {},
   "outputs": [],
   "source": [
    "def factorial(n):\n",
    "    if n == 0:\n",
    "        return 1\n",
    "    \n",
    "    return n * factorial(n - 1)\n",
    "\n",
    "def binomial_coefficient(n, k):\n",
    "    return factorial(n) // (factorial(k) * factorial(n - k))\n",
    "\n",
    "def binomial_test(observed_successes, total_trials, hypothesized_prob):\n",
    "    p_value = 0\n",
    "    \n",
    "    for k in range(observed_successes, total_trials + 1):\n",
    "        p_value += binomial_coefficient(total_trials, k) * (hypothesized_prob ** k) * ((1 - hypothesized_prob) ** (total_trials - k))\n",
    "    \n",
    "    return p_value"
   ]
  },
  {
   "cell_type": "markdown",
   "metadata": {},
   "source": [
    "### Гипотеза 1\n",
    "\n",
    "Предположим, что каждый студент с некоторой вероятностью $p_1$приходит на занятие.\n",
    "\n",
    "Студентов можно разделить на 2 группы по половому признаку.\n",
    "$X_1$ – мужчины, $X_2$ – женщины.\n",
    "\n",
    "Хотим проверить, одинакова ли частота посещения пар среди групп.\n",
    "$H_0:p_1=p_2.$\n",
    "\n",
    "Предположим, что у нас было 100 наблюдений."
   ]
  },
  {
   "cell_type": "code",
   "execution_count": 15,
   "metadata": {},
   "outputs": [
    {
     "data": {
      "text/html": [
       "<div>\n",
       "<style scoped>\n",
       "    .dataframe tbody tr th:only-of-type {\n",
       "        vertical-align: middle;\n",
       "    }\n",
       "\n",
       "    .dataframe tbody tr th {\n",
       "        vertical-align: top;\n",
       "    }\n",
       "\n",
       "    .dataframe thead th {\n",
       "        text-align: right;\n",
       "    }\n",
       "</style>\n",
       "<table border=\"1\" class=\"dataframe\">\n",
       "  <thead>\n",
       "    <tr style=\"text-align: right;\">\n",
       "      <th></th>\n",
       "      <th>is_stud</th>\n",
       "      <th>group</th>\n",
       "      <th>sex</th>\n",
       "      <th>work_status</th>\n",
       "      <th>fav_year</th>\n",
       "      <th>visit_freq</th>\n",
       "      <th>usd_pred</th>\n",
       "      <th>random_value</th>\n",
       "    </tr>\n",
       "  </thead>\n",
       "  <tbody>\n",
       "    <tr>\n",
       "      <th>3</th>\n",
       "      <td>True</td>\n",
       "      <td>13</td>\n",
       "      <td>М</td>\n",
       "      <td>True</td>\n",
       "      <td>3-4</td>\n",
       "      <td>0.6</td>\n",
       "      <td>3.2</td>\n",
       "      <td>0.04</td>\n",
       "    </tr>\n",
       "    <tr>\n",
       "      <th>4</th>\n",
       "      <td>True</td>\n",
       "      <td>12</td>\n",
       "      <td>Ж</td>\n",
       "      <td>False</td>\n",
       "      <td>3-4</td>\n",
       "      <td>1.0</td>\n",
       "      <td>2.0</td>\n",
       "      <td>0.98</td>\n",
       "    </tr>\n",
       "    <tr>\n",
       "      <th>5</th>\n",
       "      <td>True</td>\n",
       "      <td>другая</td>\n",
       "      <td>М</td>\n",
       "      <td>True</td>\n",
       "      <td>1-2</td>\n",
       "      <td>0.5</td>\n",
       "      <td>3.2</td>\n",
       "      <td>0.66</td>\n",
       "    </tr>\n",
       "    <tr>\n",
       "      <th>6</th>\n",
       "      <td>True</td>\n",
       "      <td>другая</td>\n",
       "      <td>М</td>\n",
       "      <td>False</td>\n",
       "      <td>3-4</td>\n",
       "      <td>1.0</td>\n",
       "      <td>3.3</td>\n",
       "      <td>0.46</td>\n",
       "    </tr>\n",
       "    <tr>\n",
       "      <th>7</th>\n",
       "      <td>True</td>\n",
       "      <td>другая</td>\n",
       "      <td>Ж</td>\n",
       "      <td>True</td>\n",
       "      <td>1-2</td>\n",
       "      <td>0.6</td>\n",
       "      <td>3.9</td>\n",
       "      <td>0.63</td>\n",
       "    </tr>\n",
       "    <tr>\n",
       "      <th>8</th>\n",
       "      <td>True</td>\n",
       "      <td>12</td>\n",
       "      <td>Ж</td>\n",
       "      <td>True</td>\n",
       "      <td>1-2</td>\n",
       "      <td>0.8</td>\n",
       "      <td>5.0</td>\n",
       "      <td>0.82</td>\n",
       "    </tr>\n",
       "    <tr>\n",
       "      <th>10</th>\n",
       "      <td>True</td>\n",
       "      <td>12</td>\n",
       "      <td>Ж</td>\n",
       "      <td>False</td>\n",
       "      <td>3-4</td>\n",
       "      <td>0.7</td>\n",
       "      <td>3.8</td>\n",
       "      <td>0.99</td>\n",
       "    </tr>\n",
       "  </tbody>\n",
       "</table>\n",
       "</div>"
      ],
      "text/plain": [
       "    is_stud   group sex  work_status fav_year  visit_freq  usd_pred  \\\n",
       "3      True      13   М         True      3-4         0.6       3.2   \n",
       "4      True      12   Ж        False      3-4         1.0       2.0   \n",
       "5      True  другая   М         True      1-2         0.5       3.2   \n",
       "6      True  другая   М        False      3-4         1.0       3.3   \n",
       "7      True  другая   Ж         True      1-2         0.6       3.9   \n",
       "8      True      12   Ж         True      1-2         0.8       5.0   \n",
       "10     True      12   Ж        False      3-4         0.7       3.8   \n",
       "\n",
       "    random_value  \n",
       "3           0.04  \n",
       "4           0.98  \n",
       "5           0.66  \n",
       "6           0.46  \n",
       "7           0.63  \n",
       "8           0.82  \n",
       "10          0.99  "
      ]
     },
     "execution_count": 15,
     "metadata": {},
     "output_type": "execute_result"
    }
   ],
   "source": [
    "students['visit_freq'] = students['visit_freq'] / 10\n",
    "\n",
    "students.head(7)"
   ]
  },
  {
   "cell_type": "code",
   "execution_count": 16,
   "metadata": {},
   "outputs": [
    {
     "name": "stdout",
     "output_type": "stream",
     "text": [
      "p-value:  0.03015645269049514\n",
      "Встроенный биномиальный тест:  0.030156452690495154\n"
     ]
    }
   ],
   "source": [
    "p1, p2 = np.mean(students[students['sex']=='М']['visit_freq']), np.mean(students[students['sex']=='Ж']['visit_freq'])\n",
    "\n",
    "total_trials = 100\n",
    "observed_successes = int(p2 * total_trials)\n",
    "\n",
    "print('p-value: ', binomial_test(observed_successes, total_trials, p1))\n",
    "print('Встроенный биномиальный тест: ', binomtest(observed_successes, total_trials, p1, alternative='greater').pvalue)"
   ]
  },
  {
   "cell_type": "markdown",
   "metadata": {},
   "source": [
    "### Гипотеза 2.\n",
    "\n",
    "Предположим, что каждый студент не принадлежит ни 12, ни 13 группе с вероятностью p1.\n",
    "\n",
    "Студентов можно разделить на 2 группы по половому признаку.\n",
    "$X_1$ – работающие, $X_2$ – не работающие.\n",
    "\n",
    "Хотим проверить, одинакова ли вероянтность того, что студент работает, среди групп.\n",
    "$H_0:p_1=p_2.$"
   ]
  },
  {
   "cell_type": "code",
   "execution_count": 17,
   "metadata": {},
   "outputs": [
    {
     "name": "stdout",
     "output_type": "stream",
     "text": [
      "p-value:  0.7670773734713453\n",
      "Встроенный биномиальный тест:  0.7670773734713454\n"
     ]
    }
   ],
   "source": [
    "p1 = students[(students['work_status']) & (students['group'] == 'другая')]['group'].count() / students[students['group'] == 'другая']['group'].count() \n",
    "p2 = students[(students['work_status'] == False) & (students['group'] == 'другая')]['group'].count() / students[students['group'] == 'другая']['group'].count()\n",
    "\n",
    "total_trials = students[students['group'] == 'другая']['group'].count()\n",
    "observed_successes = int(p2 * total_trials)\n",
    "\n",
    "print('p-value: ', binomial_test(observed_successes, total_trials, p1))\n",
    "print('Встроенный биномиальный тест: ', binomtest(observed_successes, total_trials, p1, alternative='greater').pvalue)"
   ]
  },
  {
   "cell_type": "markdown",
   "metadata": {},
   "source": [
    "## Задание 4. \n",
    "Выдвинуть 2 гипотезы относительно влияния фактора на непрерывную\n",
    "метрику. С помощью t-критерия Стьюдента проверить гипотезы, дать\n",
    "интерпретацию полученных результатов.\n",
    "### Гипотеза 1 \n",
    "$H_0:$ средние значения столбца usd_pred не различаются в зависимости от того, работает человек или нет."
   ]
  },
  {
   "cell_type": "code",
   "execution_count": 18,
   "metadata": {},
   "outputs": [
    {
     "name": "stdout",
     "output_type": "stream",
     "text": [
      "t-статистика: 0.7856462774268993\n",
      "p-значение: 0.4358574033704037\n"
     ]
    }
   ],
   "source": [
    "group1 = df[df['work_status']]['usd_pred'].astype(float)\n",
    "group2 = df[df['work_status'] == False]['usd_pred'].astype(float)\n",
    "\n",
    "t_stat, p_val = ttest_ind(group1, group2)\n",
    "\n",
    "print(\"t-статистика:\", t_stat)\n",
    "print(\"p-значение:\", p_val)"
   ]
  },
  {
   "cell_type": "markdown",
   "metadata": {},
   "source": [
    "### Гипотеза 2\n",
    "$H_0:$ средние значения столбца random_value не различаются в зависимости от того, какой год обучения для студента был любимым."
   ]
  },
  {
   "cell_type": "code",
   "execution_count": 19,
   "metadata": {},
   "outputs": [
    {
     "name": "stdout",
     "output_type": "stream",
     "text": [
      "t-статистика: 0.4783168678440111\n",
      "p-значение: 0.6345519778186559\n"
     ]
    }
   ],
   "source": [
    "group1 = df[df['fav_year'] == '1-2']['random_value'].astype(float)\n",
    "group2 = df[df['fav_year'] == '3-4']['random_value'].astype(float)\n",
    "\n",
    "t_stat, p_val = ttest_ind(group1, group2)\n",
    "\n",
    "print(\"t-статистика:\", t_stat)\n",
    "print(\"p-значение:\", p_val)"
   ]
  }
 ],
 "metadata": {
  "kernelspec": {
   "display_name": "base",
   "language": "python",
   "name": "python3"
  },
  "language_info": {
   "codemirror_mode": {
    "name": "ipython",
    "version": 3
   },
   "file_extension": ".py",
   "mimetype": "text/x-python",
   "name": "python",
   "nbconvert_exporter": "python",
   "pygments_lexer": "ipython3",
   "version": "3.12.4"
  }
 },
 "nbformat": 4,
 "nbformat_minor": 2
}
