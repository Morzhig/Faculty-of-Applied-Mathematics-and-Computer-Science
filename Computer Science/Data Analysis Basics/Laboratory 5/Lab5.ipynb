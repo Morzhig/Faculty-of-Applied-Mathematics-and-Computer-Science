{
 "cells": [
  {
   "cell_type": "markdown",
   "metadata": {},
   "source": [
    "# Лабораторная работа 5. \n",
    "Рассматривается задача бинарной классификации. Пусть заданы два\n",
    "класса, распределение которых является многомерным нормальным ($\\mu^+ \\in R^2 -$ параметр положительного класса (+1), $\\mu^- -$ отрицательного (-1), $\\Sigma \\in R^{2\\times 2} - $общая для классов ковариационная матрица)."
   ]
  },
  {
   "cell_type": "code",
   "execution_count": 24,
   "metadata": {},
   "outputs": [],
   "source": [
    "import numpy as np\n",
    "import pandas as pd\n",
    "import matplotlib.pyplot as plt\n",
    "\n",
    "from sklearn.metrics import mean_squared_error, roc_curve, roc_auc_score\n",
    "from sklearn.model_selection import train_test_split\n",
    "from sklearn.linear_model import LogisticRegression"
   ]
  },
  {
   "cell_type": "markdown",
   "metadata": {},
   "source": [
    "## Задача 1.\n",
    "Подобрать параметры распределений таким образом, чтобы классы\n",
    "немного пересекались (нельзя было разделить их линейной функцией).\n",
    "## Задача 2. \n",
    "Сгенерировать по N = 30 объектов каждого класса. Разделить данные\n",
    "каждого класса на 3 равные по объему выборки (тренировочную,\n",
    "валидационную и тестовую)."
   ]
  },
  {
   "cell_type": "code",
   "execution_count": 25,
   "metadata": {},
   "outputs": [
    {
     "data": {
      "text/html": [
       "<div>\n",
       "<style scoped>\n",
       "    .dataframe tbody tr th:only-of-type {\n",
       "        vertical-align: middle;\n",
       "    }\n",
       "\n",
       "    .dataframe tbody tr th {\n",
       "        vertical-align: top;\n",
       "    }\n",
       "\n",
       "    .dataframe thead th {\n",
       "        text-align: right;\n",
       "    }\n",
       "</style>\n",
       "<table border=\"1\" class=\"dataframe\">\n",
       "  <thead>\n",
       "    <tr style=\"text-align: right;\">\n",
       "      <th></th>\n",
       "      <th>feature_1</th>\n",
       "      <th>feature_2</th>\n",
       "      <th>target</th>\n",
       "    </tr>\n",
       "  </thead>\n",
       "  <tbody>\n",
       "    <tr>\n",
       "      <th>0</th>\n",
       "      <td>2.083012</td>\n",
       "      <td>2.498853</td>\n",
       "      <td>0</td>\n",
       "    </tr>\n",
       "    <tr>\n",
       "      <th>1</th>\n",
       "      <td>1.137483</td>\n",
       "      <td>1.911200</td>\n",
       "      <td>1</td>\n",
       "    </tr>\n",
       "    <tr>\n",
       "      <th>2</th>\n",
       "      <td>1.395455</td>\n",
       "      <td>4.511237</td>\n",
       "      <td>0</td>\n",
       "    </tr>\n",
       "    <tr>\n",
       "      <th>3</th>\n",
       "      <td>-0.708621</td>\n",
       "      <td>0.262115</td>\n",
       "      <td>1</td>\n",
       "    </tr>\n",
       "    <tr>\n",
       "      <th>4</th>\n",
       "      <td>2.312179</td>\n",
       "      <td>3.537429</td>\n",
       "      <td>0</td>\n",
       "    </tr>\n",
       "    <tr>\n",
       "      <th>5</th>\n",
       "      <td>2.847586</td>\n",
       "      <td>2.753419</td>\n",
       "      <td>0</td>\n",
       "    </tr>\n",
       "    <tr>\n",
       "      <th>6</th>\n",
       "      <td>0.319603</td>\n",
       "      <td>0.536369</td>\n",
       "      <td>1</td>\n",
       "    </tr>\n",
       "  </tbody>\n",
       "</table>\n",
       "</div>"
      ],
      "text/plain": [
       "   feature_1  feature_2  target\n",
       "0   2.083012   2.498853       0\n",
       "1   1.137483   1.911200       1\n",
       "2   1.395455   4.511237       0\n",
       "3  -0.708621   0.262115       1\n",
       "4   2.312179   3.537429       0\n",
       "5   2.847586   2.753419       0\n",
       "6   0.319603   0.536369       1"
      ]
     },
     "execution_count": 25,
     "metadata": {},
     "output_type": "execute_result"
    }
   ],
   "source": [
    "mu_plus = np.array([1, 1])\n",
    "mu_minus = np.array([3, 3])\n",
    "cov_matrix = np.array([[1, 0.2], [0.2, 1]])\n",
    "\n",
    "np.random.seed(42)\n",
    "\n",
    "data_plus = np.random.multivariate_normal(mu_plus, cov_matrix, 30)\n",
    "data_minus = np.random.multivariate_normal(mu_minus, cov_matrix, 30)\n",
    "y = np.array([1]*30)\n",
    "\n",
    "df = pd.DataFrame(data=np.concatenate((data_plus, data_minus), axis=0), columns=['feature_1', 'feature_2'])\n",
    "df['target'] = np.concatenate((y, np.array([0]*30)), axis=0)\n",
    "\n",
    "df = df.sample(frac=1).reset_index(drop=True)\n",
    "\n",
    "df.head(7)"
   ]
  },
  {
   "cell_type": "code",
   "execution_count": 26,
   "metadata": {},
   "outputs": [
    {
     "data": {
      "image/png": "[encoded data removed]",
      "text/plain": [
       "<Figure size 1000x600 with 1 Axes>"
      ]
     },
     "metadata": {},
     "output_type": "display_data"
    }
   ],
   "source": [
    "plt.figure(figsize=(10,6))\n",
    "\n",
    "plt.title('Распределение')\n",
    "\n",
    "plt.scatter(data_plus[:, 0], data_plus[:, 1], label='Положительный класс')\n",
    "plt.scatter(data_minus[:, 0], data_minus[:, 1], label='Отрицательный класс')\n",
    "plt.legend()\n",
    "plt.show()"
   ]
  },
  {
   "cell_type": "code",
   "execution_count": 27,
   "metadata": {},
   "outputs": [],
   "source": [
    "X, y = df.drop(columns='target'), df.target\n",
    "\n",
    "X_train, X_test, y_train, y_test = train_test_split(X, y, test_size=1/3, random_state=42)\n",
    "X_train, X_val, y_train, y_val = train_test_split(X_train, y_train, test_size=1/2, random_state=42)"
   ]
  },
  {
   "cell_type": "code",
   "execution_count": 28,
   "metadata": {},
   "outputs": [
    {
     "name": "stdout",
     "output_type": "stream",
     "text": [
      "20 20 20\n"
     ]
    }
   ],
   "source": [
    "print(len(X_train), len(X_test), len(X_val))"
   ]
  },
  {
   "cell_type": "markdown",
   "metadata": {},
   "source": [
    "## Задача 3.\n",
    "Реализовать и обучить модель логистической регрессии (логику\n",
    "написать самим). Построить на графике полученную разделяющую\n",
    "поверхность. Для нескольких объектов из обоих классов вывести оценки\n",
    "вероятностей их распределения по классам."
   ]
  },
  {
   "cell_type": "code",
   "execution_count": 29,
   "metadata": {},
   "outputs": [],
   "source": [
    "class MyLogisticRegression:\n",
    "    X = []\n",
    "    y = []\n",
    "    weights = []\n",
    "    bias = []\n",
    "\n",
    "    @staticmethod\n",
    "    def sigmoid(x):\n",
    "        return 1 / (1 + np.exp(-x))\n",
    "\n",
    "    def __init__(self):\n",
    "        self.X = []\n",
    "        self.y = []\n",
    "        self.weights = None\n",
    "        self.bias = None\n",
    "\n",
    "    def fit(self, X, y, alpha=0.03, num_iterations=1000):\n",
    "        weights = np.zeros(X.shape[1] + 1)\n",
    "        bias = np.ones(X.shape[0])\n",
    "        X = np.insert(X, 2, bias, axis=1)\n",
    "        \n",
    "        for _ in range(num_iterations):\n",
    "            x = np.dot(X, weights)\n",
    "            h = self.sigmoid(x)\n",
    "            grad = 2  / y.size * np.dot(X.T, (h - y))\n",
    "            weights -= alpha * grad\n",
    "\n",
    "        self.X = X\n",
    "        self.y = y \n",
    "        self.weights = weights\n",
    "        self.bias = bias\n",
    "\n",
    "    def predict_probabilities(self, X):\n",
    "        return self.sigmoid(np.dot(np.insert(X, 2, self.bias, axis=1), self.weights))\n",
    "\n",
    "    def predict(self, X):\n",
    "        probability = self.predict_probabilities(X)\n",
    "        y_pred = (probability >= 0.5).astype(int)\n",
    "\n",
    "        return y_pred\n",
    "    \n",
    "    def plot(self):\n",
    "        plt.figure(figsize=(15, 6))\n",
    "        plt.title('Разделяющая плокскость')\n",
    "\n",
    "        plt.scatter(self.X[:, 0], self.X[:, 1], c=self.y)\n",
    "\n",
    "        x = np.sort(self.X)\n",
    "        y = -(self.weights[0] * x + self.weights[2]) / self.weights[1]\n",
    "\n",
    "        plt.plot(x, y, color='red')\n",
    "        plt.title('Logistic Regression Decision Boundary')\n",
    "        plt.show()\n",
    "    "
   ]
  },
  {
   "cell_type": "code",
   "execution_count": 30,
   "metadata": {},
   "outputs": [],
   "source": [
    "model = MyLogisticRegression()\n",
    "model.fit(X_train, y_train)\n",
    "\n",
    "y_pred = model.predict(X_test)"
   ]
  },
  {
   "cell_type": "code",
   "execution_count": 31,
   "metadata": {},
   "outputs": [
    {
     "name": "stdout",
     "output_type": "stream",
     "text": [
      "MSE для моей логистической регрессии:  0.05\n",
      "MSE для встроенной логистической регрессии:  0.05\n",
      "MSE между двумя версиями:  0.0\n"
     ]
    }
   ],
   "source": [
    "print('MSE для моей логистической регрессии: ', mean_squared_error(y_test, y_pred))\n",
    "print('MSE для встроенной логистической регрессии: ', mean_squared_error(y_test, LogisticRegression().fit(X_train, y_train).predict(X_test)))\n",
    "print('MSE между двумя версиями: ', mean_squared_error(y_pred, LogisticRegression().fit(X_train, y_train).predict(X_test)))"
   ]
  },
  {
   "cell_type": "code",
   "execution_count": 32,
   "metadata": {},
   "outputs": [
    {
     "data": {
      "image/png": "[encoded data removed]",
      "text/plain": [
       "<Figure size 1500x600 with 1 Axes>"
      ]
     },
     "metadata": {},
     "output_type": "display_data"
    }
   ],
   "source": [
    "model.plot()"
   ]
  },
  {
   "cell_type": "code",
   "execution_count": 33,
   "metadata": {},
   "outputs": [
    {
     "data": {
      "text/html": [
       "<div>\n",
       "<style scoped>\n",
       "    .dataframe tbody tr th:only-of-type {\n",
       "        vertical-align: middle;\n",
       "    }\n",
       "\n",
       "    .dataframe tbody tr th {\n",
       "        vertical-align: top;\n",
       "    }\n",
       "\n",
       "    .dataframe thead th {\n",
       "        text-align: right;\n",
       "    }\n",
       "</style>\n",
       "<table border=\"1\" class=\"dataframe\">\n",
       "  <thead>\n",
       "    <tr style=\"text-align: right;\">\n",
       "      <th></th>\n",
       "      <th>feature_1</th>\n",
       "      <th>feature_2</th>\n",
       "      <th>target</th>\n",
       "      <th>probability</th>\n",
       "    </tr>\n",
       "  </thead>\n",
       "  <tbody>\n",
       "    <tr>\n",
       "      <th>0</th>\n",
       "      <td>2.083012</td>\n",
       "      <td>2.498853</td>\n",
       "      <td>0</td>\n",
       "      <td>0.338409</td>\n",
       "    </tr>\n",
       "    <tr>\n",
       "      <th>5</th>\n",
       "      <td>2.847586</td>\n",
       "      <td>2.753419</td>\n",
       "      <td>0</td>\n",
       "      <td>0.174371</td>\n",
       "    </tr>\n",
       "    <tr>\n",
       "      <th>36</th>\n",
       "      <td>4.185971</td>\n",
       "      <td>1.671873</td>\n",
       "      <td>0</td>\n",
       "      <td>0.299782</td>\n",
       "    </tr>\n",
       "    <tr>\n",
       "      <th>45</th>\n",
       "      <td>2.869387</td>\n",
       "      <td>3.380476</td>\n",
       "      <td>0</td>\n",
       "      <td>0.076182</td>\n",
       "    </tr>\n",
       "    <tr>\n",
       "      <th>13</th>\n",
       "      <td>1.653944</td>\n",
       "      <td>2.129168</td>\n",
       "      <td>1</td>\n",
       "      <td>0.540151</td>\n",
       "    </tr>\n",
       "    <tr>\n",
       "      <th>54</th>\n",
       "      <td>3.772870</td>\n",
       "      <td>2.758061</td>\n",
       "      <td>0</td>\n",
       "      <td>0.101798</td>\n",
       "    </tr>\n",
       "    <tr>\n",
       "      <th>33</th>\n",
       "      <td>2.022642</td>\n",
       "      <td>-0.397488</td>\n",
       "      <td>1</td>\n",
       "      <td>0.974583</td>\n",
       "    </tr>\n",
       "  </tbody>\n",
       "</table>\n",
       "</div>"
      ],
      "text/plain": [
       "    feature_1  feature_2  target  probability\n",
       "0    2.083012   2.498853       0     0.338409\n",
       "5    2.847586   2.753419       0     0.174371\n",
       "36   4.185971   1.671873       0     0.299782\n",
       "45   2.869387   3.380476       0     0.076182\n",
       "13   1.653944   2.129168       1     0.540151\n",
       "54   3.772870   2.758061       0     0.101798\n",
       "33   2.022642  -0.397488       1     0.974583"
      ]
     },
     "execution_count": 33,
     "metadata": {},
     "output_type": "execute_result"
    }
   ],
   "source": [
    "df_X = X_test.copy()\n",
    "df_X['target'] = y_test\n",
    "df_X['probability'] = model.predict_probabilities(X_test)\n",
    "\n",
    "df_X.head(7)"
   ]
  },
  {
   "cell_type": "markdown",
   "metadata": {},
   "source": [
    "## Задача 4.\n",
    "Определить оптимальный порог $t$, при котором на валидационной\n",
    "выборке определяются не менее $60%$ от поступающих положительных\n",
    "объектов:\n",
    "\n",
    "$$\\hat{p}(y = +1|x) ≡ a(x) > t.$$"
   ]
  },
  {
   "cell_type": "code",
   "execution_count": 34,
   "metadata": {},
   "outputs": [
    {
     "name": "stdout",
     "output_type": "stream",
     "text": [
      "Оптимальный порог: 0.7368536403383442\n"
     ]
    }
   ],
   "source": [
    "p_hat = model.predict_probabilities(X_val)\n",
    "\n",
    "fpr, tpr, thresholds = roc_curve(y_val, p_hat)\n",
    "auc = roc_auc_score(y_val, p_hat)\n",
    "\n",
    "optimal_threshold = thresholds[np.argmax(tpr >= 0.6)]\n",
    "\n",
    "print(\"Оптимальный порог:\", optimal_threshold)"
   ]
  },
  {
   "cell_type": "markdown",
   "metadata": {},
   "source": [
    "## Задача 5. \n",
    "На тестовой выборке оценить качество полученного алгоритма,\n",
    "рассчитав метрики (расчет метрик реализовать самим):\n",
    "\n",
    "5.1. Accuracy;\n",
    "\n",
    "5.2. Матрица ошибок;\n",
    "\n",
    "5.3. Precision, Recall;\n",
    "\n",
    "5.4. ROC – кривая, ROC-AUC."
   ]
  },
  {
   "cell_type": "code",
   "execution_count": 35,
   "metadata": {},
   "outputs": [],
   "source": [
    "def accuracy(y_true, y_pred):\n",
    "    return np.sum(y_true == y_pred) / len(y_true)\n",
    "\n",
    "def precision(y_true, y_pred):\n",
    "    tp = np.sum((y_true == 1) & (y_pred == 1))\n",
    "    fp = np.sum((y_true == 0) & (y_pred == 1)) \n",
    "    return tp / (tp + fp) if (tp + fp) > 0 else 0\n",
    "\n",
    "def recall(y_true, y_pred):\n",
    "    tp = np.sum((y_true == 1) & (y_pred == 1))\n",
    "    fn = np.sum((y_true == 1) & (y_pred == 0))\n",
    "    return tp / (tp + fn) if (tp + fn) > 0 else 0\n",
    "\n",
    "def confusion_matrix(y_true, y_pred):\n",
    "    tp = np.sum((y_true == 1) & (y_pred == 1))\n",
    "    fp = np.sum((y_true == 0) & (y_pred == 1))\n",
    "    tn = np.sum((y_true == 0) & (y_pred == 0))\n",
    "    fn = np.sum((y_true == 1) & (y_pred == 0))\n",
    "    return np.array([[tn, fp], [fn, tp]])\n",
    "\n",
    "def roc_auc(y_true, y_score):\n",
    "    sorted_indices = np.argsort(y_score)[::-1]\n",
    "    y_true_sorted = y_true[sorted_indices]\n",
    "    tpr = np.cumsum(y_true_sorted) / np.sum(y_true_sorted)\n",
    "    fpr = np.cumsum(1 - y_true_sorted) / np.sum(1 - y_true_sorted)\n",
    "    roc_auc = np.sum((tpr[1:] + tpr[:-1]) * (fpr[:-1] - fpr[1:]) / 2)\n",
    "    return roc_auc, fpr, tpr"
   ]
  },
  {
   "cell_type": "code",
   "execution_count": 36,
   "metadata": {},
   "outputs": [
    {
     "name": "stdout",
     "output_type": "stream",
     "text": [
      "Accuracy:  0.95\n",
      "\n",
      "Precision:  1.0\n",
      "\n",
      "Recall:  0.9\n",
      "\n",
      "Матрица ошибок:\n",
      " [[10  0]\n",
      " [ 1  9]]\n",
      "\n",
      "ROC-AUC:  -0.93\n"
     ]
    }
   ],
   "source": [
    "print('Accuracy: ', accuracy(y_test, y_pred))\n",
    "print('\\nPrecision: ', precision(y_test, y_pred))\n",
    "print('\\nRecall: ', recall(y_test, y_pred))\n",
    "print('\\nМатрица ошибок:\\n', confusion_matrix(y_test, y_pred))\n",
    "\n",
    "roc, fpr, tpr = roc_auc(y_test.to_numpy(), y_pred)\n",
    "print('\\nROC-AUC: ', roc)"
   ]
  },
  {
   "cell_type": "code",
   "execution_count": 37,
   "metadata": {},
   "outputs": [
    {
     "data": {
      "image/png": "[encoded data removed]",
      "text/plain": [
       "<Figure size 1500x600 with 1 Axes>"
      ]
     },
     "metadata": {},
     "output_type": "display_data"
    }
   ],
   "source": [
    "plt.figure(figsize=(15, 6))\n",
    "plt.title('ROC-кривая')\n",
    "\n",
    "lw = 2\n",
    "\n",
    "plt.plot(fpr, tpr, color='darkorange', lw=lw, label=f'ROC curve (area = {roc})')\n",
    "plt.plot([0, 1], [0, 1], color='navy', lw=lw, linestyle='--')\n",
    "plt.xlabel('FP-rate')\n",
    "plt.ylabel('TP-rate')\n",
    "plt.legend()\n",
    "plt.show()"
   ]
  },
  {
   "cell_type": "code",
   "execution_count": null,
   "metadata": {},
   "outputs": [],
   "source": []
  }
 ],
 "metadata": {
  "kernelspec": {
   "display_name": "base",
   "language": "python",
   "name": "python3"
  },
  "language_info": {
   "codemirror_mode": {
    "name": "ipython",
    "version": 3
   },
   "file_extension": ".py",
   "mimetype": "text/x-python",
   "name": "python",
   "nbconvert_exporter": "python",
   "pygments_lexer": "ipython3",
   "version": "3.12.4"
  }
 },
 "nbformat": 4,
 "nbformat_minor": 2
}
