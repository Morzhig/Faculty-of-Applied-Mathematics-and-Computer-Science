{
 "cells": [
  {
   "cell_type": "markdown",
   "id": "ba40d7b9-2d0a-4acb-ad74-5fc5849dea67",
   "metadata": {},
   "source": [
    "# Лабораторная работа 3. Проверка качества данных."
   ]
  },
  {
   "cell_type": "code",
   "execution_count": 2,
   "id": "bc555a1c-75c9-4f79-8e22-d33d51dc20d2",
   "metadata": {},
   "outputs": [],
   "source": [
    "import pandas as pd\n",
    "import numpy as np\n",
    "import matplotlib.pyplot as plt\n",
    "\n",
    "from datetime import date, datetime"
   ]
  },
  {
   "cell_type": "markdown",
   "id": "37526139-6774-4e51-bb62-774b6d6a8662",
   "metadata": {},
   "source": [
    "## Задание 1: Проверка целостности данных.\r\n",
    "Используйте набор данных о продажах и проверьте, заполнены ли все необходимые поля. Если обнаружены пропущенные значения, определите, какой процент они составляют от общего количества данных\n",
    " \r\n",
    "Набор данных для использования: \"Online Retail\" на Kaggle. Этот набор данных представляет собой транзакции, произошедшие в период с декабря 2010 по октябре 2011 года и зарегистрированные розничной компанией из Великобритании.\r\n",
    "Ссылка: https://www.kaggle.com/mashlyn/online-retail-ii-uci\r\n"
   ]
  },
  {
   "cell_type": "code",
   "execution_count": 4,
   "id": "882bdcca-5cbd-4d54-9580-c3217beadd0c",
   "metadata": {},
   "outputs": [],
   "source": [
    "df_retail = pd.read_csv(r'D:/Faculty-of-Applied-Mathematics-and-Computer-Science/Computer Science/Methods and Algorithms of Data Analysis/Laboratory 3/Datasets/online_retail_II.csv')"
   ]
  },
  {
   "cell_type": "code",
   "execution_count": 5,
   "id": "1164763a-c4f5-447a-9776-2ee582bc77a7",
   "metadata": {},
   "outputs": [
    {
     "name": "stdout",
     "output_type": "stream",
     "text": [
      "<class 'pandas.core.frame.DataFrame'>\n",
      "RangeIndex: 1067371 entries, 0 to 1067370\n",
      "Data columns (total 8 columns):\n",
      " #   Column       Non-Null Count    Dtype  \n",
      "---  ------       --------------    -----  \n",
      " 0   Invoice      1067371 non-null  object \n",
      " 1   StockCode    1067371 non-null  object \n",
      " 2   Description  1062989 non-null  object \n",
      " 3   Quantity     1067371 non-null  int64  \n",
      " 4   InvoiceDate  1067371 non-null  object \n",
      " 5   Price        1067371 non-null  float64\n",
      " 6   Customer ID  824364 non-null   float64\n",
      " 7   Country      1067371 non-null  object \n",
      "dtypes: float64(2), int64(1), object(5)\n",
      "memory usage: 65.1+ MB\n"
     ]
    }
   ],
   "source": [
    "df_retail.head()\n",
    "df_retail.info()"
   ]
  },
  {
   "cell_type": "markdown",
   "id": "f81e4ad6-67a4-40e8-b243-029ce41c151a",
   "metadata": {},
   "source": [
    "Как можно заметить из общей информации о датасете, в столбцах Customer ID и Desctiprion общее число не пустых значений меньше, чем в остальных. \n",
    "\n",
    "Для достоверности посчитаем количество пустых полей в каждом из столбцов"
   ]
  },
  {
   "cell_type": "code",
   "execution_count": 7,
   "id": "46e1f983-99e7-41b7-bd38-0f83e918576a",
   "metadata": {},
   "outputs": [
    {
     "name": "stdout",
     "output_type": "stream",
     "text": [
      "Пустых полей в колонке Invoice: 0\n",
      "Пустых полей в колонке StockCode: 0\n",
      "Пустых полей в колонке Description: 4382\n",
      "Пустых полей в колонке Quantity: 0\n",
      "Пустых полей в колонке InvoiceDate: 0\n",
      "Пустых полей в колонке Price: 0\n",
      "Пустых полей в колонке Customer ID: 243007\n",
      "Пустых полей в колонке Country: 0\n"
     ]
    }
   ],
   "source": [
    "for a in df_retail.columns:\n",
    "    print(f'Пустых полей в колонке {a}: {df_retail[a].isna().sum()}')"
   ]
  },
  {
   "cell_type": "markdown",
   "id": "cbaac3c0-90f0-4f71-9338-1f06f5b15f96",
   "metadata": {},
   "source": [
    "Отсюда действительно видно, что в столбцах Description и Customer ID есть некотоорое число пустых полей. \n",
    "\n",
    "Для определения того, какой процент они составляют от общей массы, просто разделим количестов пустых полей на общее число данных."
   ]
  },
  {
   "cell_type": "code",
   "execution_count": 9,
   "id": "ff1ccdec-fd59-4fe7-93a7-6cecbe25fa68",
   "metadata": {},
   "outputs": [
    {
     "name": "stdout",
     "output_type": "stream",
     "text": [
      "Пустые поля в Description составляют 0.4122338048653373%\n",
      "Пустые поля в Customer ID составляют 29.478118889228544%\n"
     ]
    }
   ],
   "source": [
    "for a in df_retail.columns:\n",
    "    if any(df_retail[a].isna()):\n",
    "        print(f'Пустые поля в {a} составляют {df_retail[a].isna().sum()/df_retail[a].count() * 100}%')"
   ]
  },
  {
   "cell_type": "markdown",
   "id": "01b2435e-2906-4f25-a9b7-ba65d4be04eb",
   "metadata": {},
   "source": [
    "Таким образом, 0.41% описаний является пустым и ~29% айди также пусты."
   ]
  },
  {
   "cell_type": "markdown",
   "id": "04734e19-69ac-49b6-990e-20bed0221393",
   "metadata": {},
   "source": [
    "## Задание 2. Проверка консистентности данных.\n",
    "\n",
    "Рассмотрите набор данных о климате и проверьте, соблюдаются ли форматы дат во всех записях. \n",
    "\r\n",
    "Набор данных для использования: \"Climate Change: Earth Surface Temperature Data\" на Kaggle. \r\n",
    "Ссылка: https://www.kaggle.com/berkeleyearth/climate-change-earth-surface-temperature-data\r\n"
   ]
  },
  {
   "cell_type": "code",
   "execution_count": 48,
   "id": "3b9098ac-63ba-4368-9151-275565e118d7",
   "metadata": {},
   "outputs": [],
   "source": [
    "df_temperatures = pd.read_csv(r'D:/Faculty-of-Applied-Mathematics-and-Computer-Science/Computer Science/Methods and Algorithms of Data Analysis/Laboratory 3/Datasets/GlobalTemperatures.csv')"
   ]
  },
  {
   "cell_type": "code",
   "execution_count": 50,
   "id": "07bba094-4854-408d-8dbb-5e84b738b328",
   "metadata": {},
   "outputs": [
    {
     "data": {
      "text/html": [
       "<div>\n",
       "<style scoped>\n",
       "    .dataframe tbody tr th:only-of-type {\n",
       "        vertical-align: middle;\n",
       "    }\n",
       "\n",
       "    .dataframe tbody tr th {\n",
       "        vertical-align: top;\n",
       "    }\n",
       "\n",
       "    .dataframe thead th {\n",
       "        text-align: right;\n",
       "    }\n",
       "</style>\n",
       "<table border=\"1\" class=\"dataframe\">\n",
       "  <thead>\n",
       "    <tr style=\"text-align: right;\">\n",
       "      <th></th>\n",
       "      <th>dt</th>\n",
       "      <th>LandAverageTemperature</th>\n",
       "      <th>LandAverageTemperatureUncertainty</th>\n",
       "      <th>LandMaxTemperature</th>\n",
       "      <th>LandMaxTemperatureUncertainty</th>\n",
       "      <th>LandMinTemperature</th>\n",
       "      <th>LandMinTemperatureUncertainty</th>\n",
       "      <th>LandAndOceanAverageTemperature</th>\n",
       "      <th>LandAndOceanAverageTemperatureUncertainty</th>\n",
       "    </tr>\n",
       "  </thead>\n",
       "  <tbody>\n",
       "    <tr>\n",
       "      <th>0</th>\n",
       "      <td>1750-01-01</td>\n",
       "      <td>3.034</td>\n",
       "      <td>3.574</td>\n",
       "      <td>NaN</td>\n",
       "      <td>NaN</td>\n",
       "      <td>NaN</td>\n",
       "      <td>NaN</td>\n",
       "      <td>NaN</td>\n",
       "      <td>NaN</td>\n",
       "    </tr>\n",
       "    <tr>\n",
       "      <th>1</th>\n",
       "      <td>1750-02-01</td>\n",
       "      <td>3.083</td>\n",
       "      <td>3.702</td>\n",
       "      <td>NaN</td>\n",
       "      <td>NaN</td>\n",
       "      <td>NaN</td>\n",
       "      <td>NaN</td>\n",
       "      <td>NaN</td>\n",
       "      <td>NaN</td>\n",
       "    </tr>\n",
       "    <tr>\n",
       "      <th>2</th>\n",
       "      <td>1750-03-01</td>\n",
       "      <td>5.626</td>\n",
       "      <td>3.076</td>\n",
       "      <td>NaN</td>\n",
       "      <td>NaN</td>\n",
       "      <td>NaN</td>\n",
       "      <td>NaN</td>\n",
       "      <td>NaN</td>\n",
       "      <td>NaN</td>\n",
       "    </tr>\n",
       "    <tr>\n",
       "      <th>3</th>\n",
       "      <td>1750-04-01</td>\n",
       "      <td>8.490</td>\n",
       "      <td>2.451</td>\n",
       "      <td>NaN</td>\n",
       "      <td>NaN</td>\n",
       "      <td>NaN</td>\n",
       "      <td>NaN</td>\n",
       "      <td>NaN</td>\n",
       "      <td>NaN</td>\n",
       "    </tr>\n",
       "    <tr>\n",
       "      <th>4</th>\n",
       "      <td>1750-05-01</td>\n",
       "      <td>11.573</td>\n",
       "      <td>2.072</td>\n",
       "      <td>NaN</td>\n",
       "      <td>NaN</td>\n",
       "      <td>NaN</td>\n",
       "      <td>NaN</td>\n",
       "      <td>NaN</td>\n",
       "      <td>NaN</td>\n",
       "    </tr>\n",
       "  </tbody>\n",
       "</table>\n",
       "</div>"
      ],
      "text/plain": [
       "           dt  LandAverageTemperature  LandAverageTemperatureUncertainty  \\\n",
       "0  1750-01-01                   3.034                              3.574   \n",
       "1  1750-02-01                   3.083                              3.702   \n",
       "2  1750-03-01                   5.626                              3.076   \n",
       "3  1750-04-01                   8.490                              2.451   \n",
       "4  1750-05-01                  11.573                              2.072   \n",
       "\n",
       "   LandMaxTemperature  LandMaxTemperatureUncertainty  LandMinTemperature  \\\n",
       "0                 NaN                            NaN                 NaN   \n",
       "1                 NaN                            NaN                 NaN   \n",
       "2                 NaN                            NaN                 NaN   \n",
       "3                 NaN                            NaN                 NaN   \n",
       "4                 NaN                            NaN                 NaN   \n",
       "\n",
       "   LandMinTemperatureUncertainty  LandAndOceanAverageTemperature  \\\n",
       "0                            NaN                             NaN   \n",
       "1                            NaN                             NaN   \n",
       "2                            NaN                             NaN   \n",
       "3                            NaN                             NaN   \n",
       "4                            NaN                             NaN   \n",
       "\n",
       "   LandAndOceanAverageTemperatureUncertainty  \n",
       "0                                        NaN  \n",
       "1                                        NaN  \n",
       "2                                        NaN  \n",
       "3                                        NaN  \n",
       "4                                        NaN  "
      ]
     },
     "execution_count": 50,
     "metadata": {},
     "output_type": "execute_result"
    }
   ],
   "source": [
    "df_temperatures.head()"
   ]
  },
  {
   "cell_type": "code",
   "execution_count": 52,
   "id": "c6a57b88-f114-4c7b-bd62-75b12cd76b2c",
   "metadata": {},
   "outputs": [
    {
     "name": "stdout",
     "output_type": "stream",
     "text": [
      "<class 'pandas.core.frame.DataFrame'>\n",
      "RangeIndex: 3192 entries, 0 to 3191\n",
      "Data columns (total 9 columns):\n",
      " #   Column                                     Non-Null Count  Dtype  \n",
      "---  ------                                     --------------  -----  \n",
      " 0   dt                                         3192 non-null   object \n",
      " 1   LandAverageTemperature                     3180 non-null   float64\n",
      " 2   LandAverageTemperatureUncertainty          3180 non-null   float64\n",
      " 3   LandMaxTemperature                         1992 non-null   float64\n",
      " 4   LandMaxTemperatureUncertainty              1992 non-null   float64\n",
      " 5   LandMinTemperature                         1992 non-null   float64\n",
      " 6   LandMinTemperatureUncertainty              1992 non-null   float64\n",
      " 7   LandAndOceanAverageTemperature             1992 non-null   float64\n",
      " 8   LandAndOceanAverageTemperatureUncertainty  1992 non-null   float64\n",
      "dtypes: float64(8), object(1)\n",
      "memory usage: 224.6+ KB\n"
     ]
    }
   ],
   "source": [
    "df_temperatures.info()"
   ]
  },
  {
   "cell_type": "code",
   "execution_count": 66,
   "id": "6fd996a4-9e15-441a-a719-50a5d37e1d33",
   "metadata": {},
   "outputs": [
    {
     "data": {
      "text/plain": [
       "format\n",
       "Correct format    3192\n",
       "Name: count, dtype: int64"
      ]
     },
     "execution_count": 66,
     "metadata": {},
     "output_type": "execute_result"
    }
   ],
   "source": [
    "def format(df):\n",
    "    list = []\n",
    "    \n",
    "    for a in df['dt']:\n",
    "        if not (datetime.strptime(a, '%Y-%M-%d')):\n",
    "            list.append('Wrong format')\n",
    "        else:\n",
    "            list.append('Correct format')\n",
    "    df['format'] = list\n",
    "\n",
    "format(df_temperatures)\n",
    "\n",
    "df_temperatures['format'].value_counts()"
   ]
  },
  {
   "cell_type": "markdown",
   "id": "0ac90d97-46f9-4703-8b47-cff3767c37be",
   "metadata": {},
   "source": [
    "Все даты в предложенном датасете удовлетворяют формату ГГ-ММ-ДД."
   ]
  },
  {
   "cell_type": "markdown",
   "id": "2e0497e5-55c9-4725-ad84-cc5347b1b194",
   "metadata": {},
   "source": [
    "## Задание 3. Проверка актуальности данных.\n",
    "\n",
    "Анализируя набор данных о твитах, проверьте даты публикации твитов и определите, какие из них актуальны на текущий момент.\n",
    "\r\n",
    "Набор данных для использования: \"COVID19 Tweets\" на Kaggle, включающий твиты о пандемии COVID-19.\r\n",
    "Ссылка: https://www.kaggle.com/gpreda/covid19-twees\r\n"
   ]
  },
  {
   "cell_type": "code",
   "execution_count": 13,
   "id": "48ac1486-4a49-4c5d-9119-a45d1dd6acfb",
   "metadata": {},
   "outputs": [],
   "source": [
    "df_covid = pd.read_csv(r'D:/Faculty-of-Applied-Mathematics-and-Computer-Science/Computer Science/Methods and Algorithms of Data Analysis/Laboratory 3/Datasets/covid19_tweets.csv')"
   ]
  },
  {
   "cell_type": "code",
   "execution_count": 14,
   "id": "554e996c-b601-4288-99e3-f00c20024dc7",
   "metadata": {},
   "outputs": [
    {
     "data": {
      "text/html": [
       "<div>\n",
       "<style scoped>\n",
       "    .dataframe tbody tr th:only-of-type {\n",
       "        vertical-align: middle;\n",
       "    }\n",
       "\n",
       "    .dataframe tbody tr th {\n",
       "        vertical-align: top;\n",
       "    }\n",
       "\n",
       "    .dataframe thead th {\n",
       "        text-align: right;\n",
       "    }\n",
       "</style>\n",
       "<table border=\"1\" class=\"dataframe\">\n",
       "  <thead>\n",
       "    <tr style=\"text-align: right;\">\n",
       "      <th></th>\n",
       "      <th>user_name</th>\n",
       "      <th>user_location</th>\n",
       "      <th>user_description</th>\n",
       "      <th>user_created</th>\n",
       "      <th>user_followers</th>\n",
       "      <th>user_friends</th>\n",
       "      <th>user_favourites</th>\n",
       "      <th>user_verified</th>\n",
       "      <th>date</th>\n",
       "      <th>text</th>\n",
       "      <th>hashtags</th>\n",
       "      <th>source</th>\n",
       "      <th>is_retweet</th>\n",
       "    </tr>\n",
       "  </thead>\n",
       "  <tbody>\n",
       "    <tr>\n",
       "      <th>0</th>\n",
       "      <td>ᏉᎥ☻լꂅϮ</td>\n",
       "      <td>astroworld</td>\n",
       "      <td>wednesday addams as a disney princess keepin i...</td>\n",
       "      <td>2017-05-26 05:46:42</td>\n",
       "      <td>624</td>\n",
       "      <td>950</td>\n",
       "      <td>18775</td>\n",
       "      <td>False</td>\n",
       "      <td>2020-07-25 12:27:21</td>\n",
       "      <td>If I smelled the scent of hand sanitizers toda...</td>\n",
       "      <td>NaN</td>\n",
       "      <td>Twitter for iPhone</td>\n",
       "      <td>False</td>\n",
       "    </tr>\n",
       "    <tr>\n",
       "      <th>1</th>\n",
       "      <td>Tom Basile 🇺🇸</td>\n",
       "      <td>New York, NY</td>\n",
       "      <td>Husband, Father, Columnist &amp; Commentator. Auth...</td>\n",
       "      <td>2009-04-16 20:06:23</td>\n",
       "      <td>2253</td>\n",
       "      <td>1677</td>\n",
       "      <td>24</td>\n",
       "      <td>True</td>\n",
       "      <td>2020-07-25 12:27:17</td>\n",
       "      <td>Hey @Yankees @YankeesPR and @MLB - wouldn't it...</td>\n",
       "      <td>NaN</td>\n",
       "      <td>Twitter for Android</td>\n",
       "      <td>False</td>\n",
       "    </tr>\n",
       "    <tr>\n",
       "      <th>2</th>\n",
       "      <td>Time4fisticuffs</td>\n",
       "      <td>Pewee Valley, KY</td>\n",
       "      <td>#Christian #Catholic #Conservative #Reagan #Re...</td>\n",
       "      <td>2009-02-28 18:57:41</td>\n",
       "      <td>9275</td>\n",
       "      <td>9525</td>\n",
       "      <td>7254</td>\n",
       "      <td>False</td>\n",
       "      <td>2020-07-25 12:27:14</td>\n",
       "      <td>@diane3443 @wdunlap @realDonaldTrump Trump nev...</td>\n",
       "      <td>['COVID19']</td>\n",
       "      <td>Twitter for Android</td>\n",
       "      <td>False</td>\n",
       "    </tr>\n",
       "    <tr>\n",
       "      <th>3</th>\n",
       "      <td>ethel mertz</td>\n",
       "      <td>Stuck in the Middle</td>\n",
       "      <td>#Browns #Indians #ClevelandProud #[]_[] #Cavs ...</td>\n",
       "      <td>2019-03-07 01:45:06</td>\n",
       "      <td>197</td>\n",
       "      <td>987</td>\n",
       "      <td>1488</td>\n",
       "      <td>False</td>\n",
       "      <td>2020-07-25 12:27:10</td>\n",
       "      <td>@brookbanktv The one gift #COVID19 has give me...</td>\n",
       "      <td>['COVID19']</td>\n",
       "      <td>Twitter for iPhone</td>\n",
       "      <td>False</td>\n",
       "    </tr>\n",
       "    <tr>\n",
       "      <th>4</th>\n",
       "      <td>DIPR-J&amp;K</td>\n",
       "      <td>Jammu and Kashmir</td>\n",
       "      <td>🖊️Official Twitter handle of Department of Inf...</td>\n",
       "      <td>2017-02-12 06:45:15</td>\n",
       "      <td>101009</td>\n",
       "      <td>168</td>\n",
       "      <td>101</td>\n",
       "      <td>False</td>\n",
       "      <td>2020-07-25 12:27:08</td>\n",
       "      <td>25 July : Media Bulletin on Novel #CoronaVirus...</td>\n",
       "      <td>['CoronaVirusUpdates', 'COVID19']</td>\n",
       "      <td>Twitter for Android</td>\n",
       "      <td>False</td>\n",
       "    </tr>\n",
       "  </tbody>\n",
       "</table>\n",
       "</div>"
      ],
      "text/plain": [
       "         user_name         user_location  \\\n",
       "0           ᏉᎥ☻լꂅϮ            astroworld   \n",
       "1    Tom Basile 🇺🇸          New York, NY   \n",
       "2  Time4fisticuffs      Pewee Valley, KY   \n",
       "3      ethel mertz  Stuck in the Middle    \n",
       "4         DIPR-J&K     Jammu and Kashmir   \n",
       "\n",
       "                                    user_description         user_created  \\\n",
       "0  wednesday addams as a disney princess keepin i...  2017-05-26 05:46:42   \n",
       "1  Husband, Father, Columnist & Commentator. Auth...  2009-04-16 20:06:23   \n",
       "2  #Christian #Catholic #Conservative #Reagan #Re...  2009-02-28 18:57:41   \n",
       "3  #Browns #Indians #ClevelandProud #[]_[] #Cavs ...  2019-03-07 01:45:06   \n",
       "4  🖊️Official Twitter handle of Department of Inf...  2017-02-12 06:45:15   \n",
       "\n",
       "   user_followers  user_friends  user_favourites  user_verified  \\\n",
       "0             624           950            18775          False   \n",
       "1            2253          1677               24           True   \n",
       "2            9275          9525             7254          False   \n",
       "3             197           987             1488          False   \n",
       "4          101009           168              101          False   \n",
       "\n",
       "                  date                                               text  \\\n",
       "0  2020-07-25 12:27:21  If I smelled the scent of hand sanitizers toda...   \n",
       "1  2020-07-25 12:27:17  Hey @Yankees @YankeesPR and @MLB - wouldn't it...   \n",
       "2  2020-07-25 12:27:14  @diane3443 @wdunlap @realDonaldTrump Trump nev...   \n",
       "3  2020-07-25 12:27:10  @brookbanktv The one gift #COVID19 has give me...   \n",
       "4  2020-07-25 12:27:08  25 July : Media Bulletin on Novel #CoronaVirus...   \n",
       "\n",
       "                            hashtags               source  is_retweet  \n",
       "0                                NaN   Twitter for iPhone       False  \n",
       "1                                NaN  Twitter for Android       False  \n",
       "2                        ['COVID19']  Twitter for Android       False  \n",
       "3                        ['COVID19']   Twitter for iPhone       False  \n",
       "4  ['CoronaVirusUpdates', 'COVID19']  Twitter for Android       False  "
      ]
     },
     "execution_count": 14,
     "metadata": {},
     "output_type": "execute_result"
    }
   ],
   "source": [
    "df_covid.head()"
   ]
  },
  {
   "cell_type": "markdown",
   "id": "13c21e6f-06ce-49b8-8734-cc3efb923059",
   "metadata": {},
   "source": [
    "Для проверки актуальности твита нас интересует только дата, поэтому в столбце date отрежем время публикации."
   ]
  },
  {
   "cell_type": "code",
   "execution_count": 16,
   "id": "fa21f0b4-f1e5-4f36-937d-3d7fba865142",
   "metadata": {},
   "outputs": [],
   "source": [
    "df_covid['date'] = [datetime.strptime(a, \"%Y-%m-%d %H:%M:%S\").date() for a in df_covid['date']]"
   ]
  },
  {
   "cell_type": "markdown",
   "id": "7b82cd44-64ac-4911-a75b-909dd665d099",
   "metadata": {},
   "source": [
    "Твиты будем считать актуальными, если с момента их публикации до настоящего момента прошло менее 14 дней. "
   ]
  },
  {
   "cell_type": "code",
   "execution_count": 42,
   "id": "677b7752-3712-4941-af10-b2fb6785fb88",
   "metadata": {},
   "outputs": [
    {
     "data": {
      "text/plain": [
       "Freshness\n",
       "Outdated    179108\n",
       "Name: count, dtype: int64"
      ]
     },
     "execution_count": 42,
     "metadata": {},
     "output_type": "execute_result"
    }
   ],
   "source": [
    "def is_fresh(df):\n",
    "    today = date.today()\n",
    "    list = []\n",
    "    \n",
    "    for a in df['date']:\n",
    "        if (today - a).days > 14:\n",
    "            list.append('Outdated')\n",
    "        else:\n",
    "            list.append('Fresh')\n",
    "    df['Freshness'] = list\n",
    "\n",
    "is_fresh(df_covid)\n",
    "\n",
    "df_covid['Freshness'].value_counts()"
   ]
  },
  {
   "cell_type": "markdown",
   "id": "35c2b723-c364-41cf-afe5-8c96a0c877f6",
   "metadata": {},
   "source": [
    "Отсюда видим, что все посты были сделаны больше 14 дней назад."
   ]
  },
  {
   "cell_type": "markdown",
   "id": "fae187e8-f04d-467b-bae6-a1fb82f332fc",
   "metadata": {},
   "source": [
    "## Задание 4. Проверка полноты данных. \n",
    "\n",
    "Рассмотрите набор данных о заболеваемости раком, проанализируйте, приведены ли данные по всем странам или некоторые из них отсутствуют. \n",
    "\n",
    "Набор данных для использования: \"Global Cancer Statistics 2018 (GLOBOCAN 2018)\" на Kaggle.\n",
    "Ссылка: https://www.kaggle.com/ashkhagan/global-cancer-statistics-2018-globocan-2018\n"
   ]
  },
  {
   "cell_type": "code",
   "execution_count": null,
   "id": "9b530ab2-3946-4fa6-96f2-ccdf68d5b942",
   "metadata": {},
   "outputs": [],
   "source": []
  }
 ],
 "metadata": {
  "kernelspec": {
   "display_name": "Python 3 (ipykernel)",
   "language": "python",
   "name": "python3"
  },
  "language_info": {
   "codemirror_mode": {
    "name": "ipython",
    "version": 3
   },
   "file_extension": ".py",
   "mimetype": "text/x-python",
   "name": "python",
   "nbconvert_exporter": "python",
   "pygments_lexer": "ipython3",
   "version": "3.12.4"
  }
 },
 "nbformat": 4,
 "nbformat_minor": 5
}
