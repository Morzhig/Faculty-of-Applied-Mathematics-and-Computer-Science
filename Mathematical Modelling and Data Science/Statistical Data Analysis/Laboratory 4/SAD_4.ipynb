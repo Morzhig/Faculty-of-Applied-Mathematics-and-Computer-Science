{
 "cells": [
  {
   "cell_type": "markdown",
   "id": "2aae2c89-d81d-4ba8-ac8c-e134e5b6ccf1",
   "metadata": {},
   "source": [
    "<h2> Лабораторная работа 4 </h2>\n",
    "<h3> Дискриминантный анализ неоднородных данных </h3>"
   ]
  },
  {
   "cell_type": "markdown",
   "id": "e7599932-54fc-4802-a0d4-a191d7986e04",
   "metadata": {
    "tags": []
   },
   "source": [
    "Опираясь на процесс предварительного анализа в лабораторной работе 3, можно точно сказать, что мы имеем четкое разделение на два кластера."
   ]
  },
  {
   "cell_type": "code",
   "execution_count": 4,
   "id": "2625797b-dba8-4bc7-a6c4-87fc68377f50",
   "metadata": {
    "tags": []
   },
   "outputs": [],
   "source": [
    "import matplotlib.pyplot as plt\n",
    "import pandas as pd\n",
    "import numpy as np\n",
    "\n",
    "from sklearn.model_selection import train_test_split\n",
    "from sklearn.model_selection import RepeatedStratifiedKFold\n",
    "from sklearn.model_selection import cross_val_score\n",
    "from sklearn.discriminant_analysis import LinearDiscriminantAnalysis, QuadraticDiscriminantAnalysis \n",
    "from sklearn.preprocessing import LabelEncoder\n",
    "from sklearn import datasets\n",
    "from sklearn import tree\n",
    "from matplotlib import pyplot"
   ]
  },
  {
   "cell_type": "markdown",
   "id": "42f104a1-5ea7-4027-b3e1-32c6e3309414",
   "metadata": {},
   "source": [
    "Подгрузили необходимый dataset, создали dataframe с необходимыми нам видами ириса \"setosa\" и \"virginica\". Так же для более удобной работы переименовали переменные."
   ]
  },
  {
   "cell_type": "code",
   "execution_count": 5,
   "id": "c77d5b95-712f-49b0-aecb-c8b31cdd483e",
   "metadata": {
    "tags": []
   },
   "outputs": [
    {
     "data": {
      "text/html": [
       "<div>\n",
       "<style scoped>\n",
       "    .dataframe tbody tr th:only-of-type {\n",
       "        vertical-align: middle;\n",
       "    }\n",
       "\n",
       "    .dataframe tbody tr th {\n",
       "        vertical-align: top;\n",
       "    }\n",
       "\n",
       "    .dataframe thead th {\n",
       "        text-align: right;\n",
       "    }\n",
       "</style>\n",
       "<table border=\"1\" class=\"dataframe\">\n",
       "  <thead>\n",
       "    <tr style=\"text-align: right;\">\n",
       "      <th></th>\n",
       "      <th>sepallen</th>\n",
       "      <th>sepalwid</th>\n",
       "      <th>petallen</th>\n",
       "      <th>petalwid</th>\n",
       "      <th>target_name</th>\n",
       "    </tr>\n",
       "  </thead>\n",
       "  <tbody>\n",
       "    <tr>\n",
       "      <th>0</th>\n",
       "      <td>5.1</td>\n",
       "      <td>3.5</td>\n",
       "      <td>1.4</td>\n",
       "      <td>0.2</td>\n",
       "      <td>setosa</td>\n",
       "    </tr>\n",
       "    <tr>\n",
       "      <th>1</th>\n",
       "      <td>4.9</td>\n",
       "      <td>3.0</td>\n",
       "      <td>1.4</td>\n",
       "      <td>0.2</td>\n",
       "      <td>setosa</td>\n",
       "    </tr>\n",
       "    <tr>\n",
       "      <th>2</th>\n",
       "      <td>4.7</td>\n",
       "      <td>3.2</td>\n",
       "      <td>1.3</td>\n",
       "      <td>0.2</td>\n",
       "      <td>setosa</td>\n",
       "    </tr>\n",
       "    <tr>\n",
       "      <th>3</th>\n",
       "      <td>4.6</td>\n",
       "      <td>3.1</td>\n",
       "      <td>1.5</td>\n",
       "      <td>0.2</td>\n",
       "      <td>setosa</td>\n",
       "    </tr>\n",
       "    <tr>\n",
       "      <th>4</th>\n",
       "      <td>5.0</td>\n",
       "      <td>3.6</td>\n",
       "      <td>1.4</td>\n",
       "      <td>0.2</td>\n",
       "      <td>setosa</td>\n",
       "    </tr>\n",
       "    <tr>\n",
       "      <th>...</th>\n",
       "      <td>...</td>\n",
       "      <td>...</td>\n",
       "      <td>...</td>\n",
       "      <td>...</td>\n",
       "      <td>...</td>\n",
       "    </tr>\n",
       "    <tr>\n",
       "      <th>95</th>\n",
       "      <td>6.7</td>\n",
       "      <td>3.0</td>\n",
       "      <td>5.2</td>\n",
       "      <td>2.3</td>\n",
       "      <td>virginica</td>\n",
       "    </tr>\n",
       "    <tr>\n",
       "      <th>96</th>\n",
       "      <td>6.3</td>\n",
       "      <td>2.5</td>\n",
       "      <td>5.0</td>\n",
       "      <td>1.9</td>\n",
       "      <td>virginica</td>\n",
       "    </tr>\n",
       "    <tr>\n",
       "      <th>97</th>\n",
       "      <td>6.5</td>\n",
       "      <td>3.0</td>\n",
       "      <td>5.2</td>\n",
       "      <td>2.0</td>\n",
       "      <td>virginica</td>\n",
       "    </tr>\n",
       "    <tr>\n",
       "      <th>98</th>\n",
       "      <td>6.2</td>\n",
       "      <td>3.4</td>\n",
       "      <td>5.4</td>\n",
       "      <td>2.3</td>\n",
       "      <td>virginica</td>\n",
       "    </tr>\n",
       "    <tr>\n",
       "      <th>99</th>\n",
       "      <td>5.9</td>\n",
       "      <td>3.0</td>\n",
       "      <td>5.1</td>\n",
       "      <td>1.8</td>\n",
       "      <td>virginica</td>\n",
       "    </tr>\n",
       "  </tbody>\n",
       "</table>\n",
       "<p>100 rows × 5 columns</p>\n",
       "</div>"
      ],
      "text/plain": [
       "   sepallen sepalwid petallen petalwid target_name\n",
       "0       5.1      3.5      1.4      0.2      setosa\n",
       "1       4.9      3.0      1.4      0.2      setosa\n",
       "2       4.7      3.2      1.3      0.2      setosa\n",
       "3       4.6      3.1      1.5      0.2      setosa\n",
       "4       5.0      3.6      1.4      0.2      setosa\n",
       "..      ...      ...      ...      ...         ...\n",
       "95      6.7      3.0      5.2      2.3   virginica\n",
       "96      6.3      2.5      5.0      1.9   virginica\n",
       "97      6.5      3.0      5.2      2.0   virginica\n",
       "98      6.2      3.4      5.4      2.3   virginica\n",
       "99      5.9      3.0      5.1      1.8   virginica\n",
       "\n",
       "[100 rows x 5 columns]"
      ]
     },
     "execution_count": 5,
     "metadata": {},
     "output_type": "execute_result"
    }
   ],
   "source": [
    "ds = datasets.load_iris()\n",
    "\n",
    "ext_target = ds.target[:, None]\n",
    "df = pd.DataFrame(\n",
    "    np.concatenate((ds.data, ds.target_names[ext_target]), axis=1),\n",
    "    columns=ds.feature_names + ['target_name'])\n",
    "\n",
    "df = df.loc[df['target_name'] != 'versicolor'].reset_index(drop=True)\n",
    "\n",
    "df = df.rename(columns={\n",
    "    'sepal width (cm)': 'sepalwid', \n",
    "    'sepal length (cm)': 'sepallen', \n",
    "    'petal length (cm)': 'petallen', \n",
    "    'petal width (cm)':'petalwid'})\n",
    "\n",
    "df"
   ]
  },
  {
   "cell_type": "markdown",
   "id": "894cc127-321e-4b39-97d6-f8072f257ad6",
   "metadata": {},
   "source": [
    "Для применения необходимых нам алгоритмов разделим выборку на обучающую и тестовую в соотношении 80 на 20."
   ]
  },
  {
   "cell_type": "code",
   "execution_count": 6,
   "id": "39cacf4c-f816-43b3-823b-80190c779c09",
   "metadata": {
    "tags": []
   },
   "outputs": [],
   "source": [
    "features = df.drop(columns=['target_name'], axis=1)\n",
    "labels = df[\"target_name\"]\n",
    "\n",
    "X_train, X_test, y_train, y_test = train_test_split(features, labels,  test_size=0.20, random_state=0)"
   ]
  },
  {
   "cell_type": "markdown",
   "id": "d7e78a1a-8792-4859-8b4c-c19efcb25009",
   "metadata": {},
   "source": [
    "Создадим модель линейного дискриминантного анализа, который обучается на ранее созданной обучающей выборке признаков X_train и векторе меток классов y_train. Это позволяет модели изучить зависимости между признаками и классами с целью классификации данных.\n",
    "Для оценки качества построенной модели выполняется кросс-валидация модели LDA на тестовых данных, представленных в матрице признаков X_test и векторе меток классов y_test. Кросс-валидация разбивает данные на k блоков, обучает модель на k-1 блоке и оценивает ее производительность на оставшемся блоке. Это повторяется несколько раз для более надежной оценки.\n",
    "И вычисляем среднее значение оценок, показывающее то, насколько точно наша модель может предсказывать исход по полученным данным."
   ]
  },
  {
   "cell_type": "code",
   "execution_count": 7,
   "id": "e49e84fb",
   "metadata": {},
   "outputs": [
    {
     "data": {
      "text/plain": [
       "26       setosa\n",
       "86    virginica\n",
       "2        setosa\n",
       "55    virginica\n",
       "75    virginica\n",
       "93    virginica\n",
       "16       setosa\n",
       "73    virginica\n",
       "54    virginica\n",
       "95    virginica\n",
       "53    virginica\n",
       "92    virginica\n",
       "78    virginica\n",
       "13       setosa\n",
       "7        setosa\n",
       "30       setosa\n",
       "22       setosa\n",
       "24       setosa\n",
       "33       setosa\n",
       "8        setosa\n",
       "Name: target_name, dtype: object"
      ]
     },
     "execution_count": 7,
     "metadata": {},
     "output_type": "execute_result"
    }
   ],
   "source": [
    "y_test"
   ]
  },
  {
   "cell_type": "code",
   "execution_count": 8,
   "id": "d6e28440-82be-4a8b-a31f-625312b55048",
   "metadata": {
    "tags": []
   },
   "outputs": [
    {
     "name": "stdout",
     "output_type": "stream",
     "text": [
      "1.0\n"
     ]
    }
   ],
   "source": [
    "LDA = LinearDiscriminantAnalysis()\n",
    "LDA.fit(X_train, y_train)\n",
    "\n",
    "cv = RepeatedStratifiedKFold(n_splits=5)\n",
    "\n",
    "scores = cross_val_score(LDA, X_test, y_test, scoring='accuracy', cv=cv, n_jobs=-1)\n",
    "mean_accuracy = np.mean(scores)\n",
    "\n",
    "print(mean_accuracy)"
   ]
  },
  {
   "cell_type": "markdown",
   "id": "fea59050-7733-4461-926c-b4f9a3292577",
   "metadata": {},
   "source": [
    "В нашем случае оценка равна 1.0, что говорит о том, что наша модель способна идеально предсказать вид ириса.\n",
    "\n",
    "Проверим этот факт, выведя таблицу заданных видов и того, что выдала модель."
   ]
  },
  {
   "cell_type": "code",
   "execution_count": null,
   "id": "02f7e126-fa8a-42dc-9eb8-f83aab69f06e",
   "metadata": {},
   "outputs": [
    {
     "name": "stdout",
     "output_type": "stream",
     "text": [
      "   sepallen sepalwid petallen petalwid      Given Prediction  Accuracy\n",
      "26      5.0      3.4      1.6      0.4     setosa     setosa      True\n",
      "86      6.3      3.4      5.6      2.4  virginica  virginica      True\n",
      "2       4.7      3.2      1.3      0.2     setosa     setosa      True\n",
      "55      7.6      3.0      6.6      2.1  virginica  virginica      True\n",
      "75      7.2      3.2      6.0      1.8  virginica  virginica      True\n",
      "93      6.8      3.2      5.9      2.3  virginica  virginica      True\n",
      "16      5.4      3.9      1.3      0.4     setosa     setosa      True\n",
      "73      6.3      2.7      4.9      1.8  virginica  virginica      True\n",
      "54      6.5      3.0      5.8      2.2  virginica  virginica      True\n",
      "95      6.7      3.0      5.2      2.3  virginica  virginica      True\n",
      "53      6.3      2.9      5.6      1.8  virginica  virginica      True\n",
      "92      5.8      2.7      5.1      1.9  virginica  virginica      True\n",
      "78      6.4      2.8      5.6      2.1  virginica  virginica      True\n",
      "13      4.3      3.0      1.1      0.1     setosa     setosa      True\n",
      "7       5.0      3.4      1.5      0.2     setosa     setosa      True\n",
      "30      4.8      3.1      1.6      0.2     setosa     setosa      True\n",
      "22      4.6      3.6      1.0      0.2     setosa     setosa      True\n",
      "24      4.8      3.4      1.9      0.2     setosa     setosa      True\n",
      "33      5.5      4.2      1.4      0.2     setosa     setosa      True\n",
      "8       4.4      2.9      1.4      0.2     setosa     setosa      True\n"
     ]
    }
   ],
   "source": [
    "predictions = LDA.predict(X_test)\n",
    "\n",
    "df_ = pd.DataFrame(X_test.copy())\n",
    "df_['Given'] = y_test\n",
    "df_['Prediction'] = predictions\n",
    "df_['Accuracy'] = df_['Given'] == df_['Prediction']\n",
    "\n",
    "print(df_)"
   ]
  },
  {
   "cell_type": "markdown",
   "id": "29dbd46d-c635-4371-8551-a45faca16db2",
   "metadata": {},
   "source": [
    "В колонке \"Accuracy\" видно, что для всех 20 элементов предсказание было точным.\n",
    "\n",
    "Отобразим результаты анализа."
   ]
  },
  {
   "cell_type": "code",
   "execution_count": null,
   "id": "555f5b9c-32e2-4780-9d1d-7dc56423b515",
   "metadata": {},
   "outputs": [
    {
     "data": {
      "image/png": "[encoded data removed]",
      "text/plain": [
       "<Figure size 640x480 with 1 Axes>"
      ]
     },
     "metadata": {},
     "output_type": "display_data"
    }
   ],
   "source": [
    "X = df.drop(columns=['target_name'], axis=1)\n",
    "y = df[\"target_name\"]\n",
    "\n",
    "data_plot = LDA.fit_transform(X, y)\n",
    "\n",
    "target_names = ['setosa', 'virginica']\n",
    "\n",
    "plt.figure()\n",
    "colors = ['red', 'green']\n",
    "lw = 1\n",
    "for color, target_name in zip(colors, target_names):\n",
    "    plt.scatter(data_plot[y == target_name, 0], np.zeros_like(data_plot[y == target_name, 0]), alpha=0.8, color=color,\n",
    "                label=target_name)\n",
    "\n",
    "plt.legend(loc='best', shadow=False, scatterpoints=1)\n",
    "\n",
    "plt.show()"
   ]
  },
  {
   "cell_type": "markdown",
   "id": "e57fe6f7-1854-4c46-93d7-84409e58156d",
   "metadata": {},
   "source": [
    "На графике точно видны два класса.\n",
    "\n",
    "Создадим модель квадратичного дискриминантного анализа, который обучается по тому же принципу, что и LDA. Проверка так же идентична LDA."
   ]
  },
  {
   "cell_type": "code",
   "execution_count": null,
   "id": "67e89e23-54f4-4a9c-b0b6-db4f97525f61",
   "metadata": {
    "tags": []
   },
   "outputs": [
    {
     "name": "stdout",
     "output_type": "stream",
     "text": [
      "1.0\n"
     ]
    }
   ],
   "source": [
    "QDA = QuadraticDiscriminantAnalysis()\n",
    "QDA.fit(X_train, y_train)\n",
    "\n",
    "cv = RepeatedStratifiedKFold(n_splits=5)\n",
    "\n",
    "scores = cross_val_score(QDA, X_test, y_test, scoring='accuracy', cv=cv, n_jobs=-1)\n",
    "mean_accuracy = np.mean(scores)\n",
    "\n",
    "print(mean_accuracy)"
   ]
  },
  {
   "cell_type": "markdown",
   "id": "2a9e3601-dbb2-4be9-aef8-d45154e9607b",
   "metadata": {},
   "source": [
    "В нашем случае оценка равна 1.0, что говорит о том, что наша модель способна идеально предсказать вид ириса.\n",
    "\n",
    "Проверим этот факт, выведя таблицу заданных видов и того, что выдала модель."
   ]
  },
  {
   "cell_type": "code",
   "execution_count": null,
   "id": "2e448937-733a-413d-9e56-9d23496c99eb",
   "metadata": {
    "tags": []
   },
   "outputs": [
    {
     "name": "stdout",
     "output_type": "stream",
     "text": [
      "   sepallen sepalwid petallen petalwid      Given Prediction  Accuracy\n",
      "26      5.0      3.4      1.6      0.4     setosa     setosa      True\n",
      "86      6.3      3.4      5.6      2.4  virginica  virginica      True\n",
      "2       4.7      3.2      1.3      0.2     setosa     setosa      True\n",
      "55      7.6      3.0      6.6      2.1  virginica  virginica      True\n",
      "75      7.2      3.2      6.0      1.8  virginica  virginica      True\n",
      "93      6.8      3.2      5.9      2.3  virginica  virginica      True\n",
      "16      5.4      3.9      1.3      0.4     setosa     setosa      True\n",
      "73      6.3      2.7      4.9      1.8  virginica  virginica      True\n",
      "54      6.5      3.0      5.8      2.2  virginica  virginica      True\n",
      "95      6.7      3.0      5.2      2.3  virginica  virginica      True\n",
      "53      6.3      2.9      5.6      1.8  virginica  virginica      True\n",
      "92      5.8      2.7      5.1      1.9  virginica  virginica      True\n",
      "78      6.4      2.8      5.6      2.1  virginica  virginica      True\n",
      "13      4.3      3.0      1.1      0.1     setosa     setosa      True\n",
      "7       5.0      3.4      1.5      0.2     setosa     setosa      True\n",
      "30      4.8      3.1      1.6      0.2     setosa     setosa      True\n",
      "22      4.6      3.6      1.0      0.2     setosa     setosa      True\n",
      "24      4.8      3.4      1.9      0.2     setosa     setosa      True\n",
      "33      5.5      4.2      1.4      0.2     setosa     setosa      True\n",
      "8       4.4      2.9      1.4      0.2     setosa     setosa      True\n"
     ]
    }
   ],
   "source": [
    "predictions = QDA.predict(X_test)\n",
    "\n",
    "df_ = pd.DataFrame(X_test.copy())\n",
    "df_['Given'] = y_test\n",
    "df_['Prediction'] = predictions\n",
    "df_['Accuracy'] = df_['Given'] == df_['Prediction']\n",
    "\n",
    "print(df_)"
   ]
  },
  {
   "cell_type": "markdown",
   "id": "bb860eaf-6ff5-40d9-9d85-b589af85f62a",
   "metadata": {},
   "source": [
    "В колонке \"Accuracy\" видно, что для всех 20 элементов предсказание было точным.\n",
    "\n",
    "Отобразим результаты анализа."
   ]
  },
  {
   "cell_type": "code",
   "execution_count": null,
   "id": "7289886d-d055-40f7-b7df-68febedcd0f0",
   "metadata": {
    "tags": []
   },
   "outputs": [
    {
     "data": {
      "image/png": "[encoded data removed]",
      "text/plain": [
       "<Figure size 640x480 with 1 Axes>"
      ]
     },
     "metadata": {},
     "output_type": "display_data"
    }
   ],
   "source": [
    "data_plot = QDA.fit(X, y).predict(X)\n",
    "\n",
    "target_names = ['setosa', 'virginica']\n",
    "\n",
    "plt.figure()\n",
    "colors = ['red', 'green']\n",
    "lw = 1\n",
    "for color, target_name in zip(colors, target_names):\n",
    "    plt.scatter(X.loc[y == target_name, 'sepallen'], X.loc[y == target_name, 'sepalwid'], \n",
    "                s=50, alpha=0.8, color=color, label=target_name)\n",
    "\n",
    "plt.legend(loc='best', shadow=False, scatterpoints=1)\n",
    "\n",
    "plt.show()"
   ]
  },
  {
   "cell_type": "markdown",
   "id": "5c4a9691-3a4b-4b2d-89c7-7d47247156d8",
   "metadata": {},
   "source": [
    "Получили неоднозначный график, однако всё же возможно провести непрерывную кривую, которая будет четко отделять один класс от другого. \n",
    "На этом заканчивается дискриминатный анализ, результатами которого стала идеальная точность прогноза."
   ]
  },
  {
   "cell_type": "markdown",
   "id": "797509cb-0ccb-4458-9902-369e9429295e",
   "metadata": {},
   "source": [
    "### Деревья решений\n",
    "\n",
    "Рассмотрим такие модели прогнозирования, как деревья решений, а именно классификационное и регрессионное. Начнём с классификационного дерева решений."
   ]
  },
  {
   "cell_type": "code",
   "execution_count": null,
   "id": "d5df50db-53cb-473a-9323-1ea49d2641c6",
   "metadata": {
    "tags": []
   },
   "outputs": [],
   "source": [
    "dtc = tree.DecisionTreeClassifier()\n",
    "dtc = dtc.fit(X_train, y_train)"
   ]
  },
  {
   "cell_type": "markdown",
   "id": "58610644-9a0a-4969-9367-607ad40371aa",
   "metadata": {},
   "source": [
    "Отобразим на графике то, как наша модель распределила важность переменных в составлении прогноза."
   ]
  },
  {
   "cell_type": "code",
   "execution_count": null,
   "id": "23b0e6a8-e1e8-440e-bbce-a63d94b03f54",
   "metadata": {
    "tags": []
   },
   "outputs": [
    {
     "name": "stdout",
     "output_type": "stream",
     "text": [
      "sepallen:, Score: 0.0\n",
      "sepalwid:, Score: 0.0\n",
      "petallen:, Score: 0.0\n",
      "petalwid:, Score: 1.0\n"
     ]
    },
    {
     "data": {
      "image/png": "[encoded data removed]",
      "text/plain": [
       "<Figure size 640x480 with 1 Axes>"
      ]
     },
     "metadata": {},
     "output_type": "display_data"
    }
   ],
   "source": [
    "importance = dtc.feature_importances_\n",
    "\n",
    "features = ['sepallen', 'sepalwid', 'petallen', 'petalwid']\n",
    "\n",
    "for i,v in enumerate(importance):\n",
    "     print(f'{features[i]}:, Score: {v}')\n",
    "\n",
    "x = np.array([0, 1, 2, 3])\n",
    "pyplot.bar([y for y in range(len(importance))], importance)\n",
    "plt.xticks(x, features)\n",
    "pyplot.show()"
   ]
  },
  {
   "cell_type": "markdown",
   "id": "ef4c407a-af6c-45c0-b1b6-925918d73fd6",
   "metadata": {},
   "source": [
    "На графике видно, что наиболее важным явялется переменная PETALWID.\n",
    "\n",
    "Рассмотрим непосредственно полученное дерево решений."
   ]
  },
  {
   "cell_type": "code",
   "execution_count": null,
   "id": "d13bbb39-3496-4245-9d0e-fffa2126a758",
   "metadata": {
    "tags": []
   },
   "outputs": [
    {
     "data": {
      "text/plain": [
       "[Text(0.5, 0.75, 'petalwid <= 1.0\\ngini = 0.5\\nsamples = 80\\nvalue = [40, 40]\\nclass = setosa'),\n",
       " Text(0.25, 0.25, 'gini = 0.0\\nsamples = 40\\nvalue = [40, 0]\\nclass = setosa'),\n",
       " Text(0.75, 0.25, 'gini = 0.0\\nsamples = 40\\nvalue = [0, 40]\\nclass = virginica')]"
      ]
     },
     "execution_count": 12,
     "metadata": {},
     "output_type": "execute_result"
    },
    {
     "data": {
      "image/png": "[encoded data removed]",
      "text/plain": [
       "<Figure size 640x480 with 1 Axes>"
      ]
     },
     "metadata": {},
     "output_type": "display_data"
    }
   ],
   "source": [
    "tree.plot_tree(dtc, \n",
    "              feature_names=['sepallen', 'sepalwid', 'petallen', 'petalwid'],\n",
    "              filled=True,\n",
    "              class_names=target_names,\n",
    "              fontsize=10)"
   ]
  },
  {
   "cell_type": "markdown",
   "id": "d29514b7-6803-4a37-817b-d996f1bea410",
   "metadata": {},
   "source": [
    "Что представлено на графике:\n",
    "+ В первой строчке корня можно увидеть условие, по которому модель определяет вид ириса. В данном случае, если petalwid <= 1, то ирис у нас вида \"setosa\", в противном случае - \"virginica\";\n",
    "+ Во второй строчке можно увидеть коэффициент примеси Gini, который указывает на то, насколько у нас засорен класс. В корне класс был выбран \"setosa\", и коэффициент равен 0.5. Алгоритм останавливает, когда gini = 0, это условие достигается уже на первом уровне, потому и глубина дерева равна двум;\n",
    "+ В третье строке общее число объектов;\n",
    "+ В четвертой строке показано число объектов каждого из классов.\n",
    "\n",
    "Рассмотрим таблицу, показывающую результаты предсказания модели."
   ]
  },
  {
   "cell_type": "code",
   "execution_count": null,
   "id": "a2c0f269-fc27-453f-8dad-d1f3f22c7826",
   "metadata": {
    "tags": []
   },
   "outputs": [
    {
     "name": "stdout",
     "output_type": "stream",
     "text": [
      "   sepallen sepalwid petallen petalwid      Given Prediction  Accuracy\n",
      "26      5.0      3.4      1.6      0.4     setosa     setosa      True\n",
      "86      6.3      3.4      5.6      2.4  virginica  virginica      True\n",
      "2       4.7      3.2      1.3      0.2     setosa     setosa      True\n",
      "55      7.6      3.0      6.6      2.1  virginica  virginica      True\n",
      "75      7.2      3.2      6.0      1.8  virginica  virginica      True\n",
      "93      6.8      3.2      5.9      2.3  virginica  virginica      True\n",
      "16      5.4      3.9      1.3      0.4     setosa     setosa      True\n",
      "73      6.3      2.7      4.9      1.8  virginica  virginica      True\n",
      "54      6.5      3.0      5.8      2.2  virginica  virginica      True\n",
      "95      6.7      3.0      5.2      2.3  virginica  virginica      True\n",
      "53      6.3      2.9      5.6      1.8  virginica  virginica      True\n",
      "92      5.8      2.7      5.1      1.9  virginica  virginica      True\n",
      "78      6.4      2.8      5.6      2.1  virginica  virginica      True\n",
      "13      4.3      3.0      1.1      0.1     setosa     setosa      True\n",
      "7       5.0      3.4      1.5      0.2     setosa     setosa      True\n",
      "30      4.8      3.1      1.6      0.2     setosa     setosa      True\n",
      "22      4.6      3.6      1.0      0.2     setosa     setosa      True\n",
      "24      4.8      3.4      1.9      0.2     setosa     setosa      True\n",
      "33      5.5      4.2      1.4      0.2     setosa     setosa      True\n",
      "8       4.4      2.9      1.4      0.2     setosa     setosa      True\n"
     ]
    }
   ],
   "source": [
    "df_ = pd.DataFrame(X_test.copy())\n",
    "df_['Given'] = y_test\n",
    "df_['Prediction'] = dtc.predict(X_test)\n",
    "df_['Accuracy'] = df_['Given'] == df_['Prediction']\n",
    "\n",
    "print(df_)"
   ]
  },
  {
   "cell_type": "markdown",
   "id": "c22f93b2-85e0-4912-9d17-86ed8a4bc4ac",
   "metadata": {},
   "source": [
    "В таблице все значения были предсказаны правильно, однако такой способ проверки не является достаточно точным, поэтому проведем проверку с помощью кросс-валидации и вычислим среднее значение оценок, показывающее то, насколько точно наша модель может предсказывать исход по полученным данным."
   ]
  },
  {
   "cell_type": "code",
   "execution_count": null,
   "id": "82fb2c7c-9532-473a-b15e-f9f70652a9bd",
   "metadata": {
    "tags": []
   },
   "outputs": [
    {
     "name": "stdout",
     "output_type": "stream",
     "text": [
      "0.98\n"
     ]
    }
   ],
   "source": [
    "cv = RepeatedStratifiedKFold(n_splits=5)\n",
    "\n",
    "scores = cross_val_score(dtc, X_test, y_test, scoring='accuracy', cv=cv, n_jobs=-1)\n",
    "mean_accuracy = np.mean(scores)\n",
    "\n",
    "print(mean_accuracy)"
   ]
  },
  {
   "cell_type": "markdown",
   "id": "22669d03-5ea3-4319-a468-3732a1fdbd91",
   "metadata": {},
   "source": [
    "Получили оценку равную 0.98, что говорит о том, что наша модель точна на 98%, что является достаточно большим значением, и можно сказать, что модель достаточно точна в своих предсказаниях.\n",
    "\n",
    "Рассмотрим регрессионное дерево решений."
   ]
  },
  {
   "cell_type": "code",
   "execution_count": null,
   "id": "3850045d-3b29-46b0-8279-b05f528c2c6c",
   "metadata": {},
   "outputs": [],
   "source": [
    "le = LabelEncoder()\n",
    "y_train_encoded = le.fit_transform(y_train)\n",
    "\n",
    "dtr = tree.DecisionTreeRegressor()\n",
    "dtr = dtr.fit(X_train, y_train_encoded)"
   ]
  },
  {
   "cell_type": "markdown",
   "id": "e13e7531-9727-48f0-82ac-05cd0025a99e",
   "metadata": {},
   "source": [
    "Отобразим на графике то, как наша модель распределила важность переменных в составлении прогноза."
   ]
  },
  {
   "cell_type": "code",
   "execution_count": null,
   "id": "a4e86bf4-3e9e-43df-8bd5-d6549741503a",
   "metadata": {
    "tags": []
   },
   "outputs": [
    {
     "name": "stdout",
     "output_type": "stream",
     "text": [
      "sepallen:, Score: 0.0\n",
      "sepalwid:, Score: 0.0\n",
      "petallen:, Score: 0.0\n",
      "petalwid:, Score: 1.0\n"
     ]
    },
    {
     "data": {
      "image/png": "[encoded data removed]",
      "text/plain": [
       "<Figure size 640x480 with 1 Axes>"
      ]
     },
     "metadata": {},
     "output_type": "display_data"
    }
   ],
   "source": [
    "importance = dtr.feature_importances_\n",
    "\n",
    "features = ['sepallen', 'sepalwid', 'petallen', 'petalwid']\n",
    "\n",
    "for i,v in enumerate(importance):\n",
    "     print(f'{features[i]}:, Score: {v}')\n",
    "\n",
    "x = np.array([0, 1, 2, 3])\n",
    "pyplot.bar([y for y in range(len(importance))], importance)\n",
    "plt.xticks(x, features)\n",
    "pyplot.show()"
   ]
  },
  {
   "cell_type": "markdown",
   "id": "645a542f-76fe-4b1f-b476-22c05c3a5f2e",
   "metadata": {},
   "source": [
    "На графике видно, что наиболее важным явялется переменная PETALWID.\n",
    "\n",
    "Рассмотрим непосредственно полученное дерево решений."
   ]
  },
  {
   "cell_type": "code",
   "execution_count": null,
   "id": "5be5b01d-629d-435b-8a8a-7bddb447ddae",
   "metadata": {
    "tags": []
   },
   "outputs": [
    {
     "data": {
      "text/plain": [
       "[Text(0.5, 0.75, 'petalwid <= 1.0\\nsquared_error = 0.25\\nsamples = 80\\nvalue = 0.5'),\n",
       " Text(0.25, 0.25, 'squared_error = 0.0\\nsamples = 40\\nvalue = 0.0'),\n",
       " Text(0.75, 0.25, 'squared_error = 0.0\\nsamples = 40\\nvalue = 1.0')]"
      ]
     },
     "execution_count": 18,
     "metadata": {},
     "output_type": "execute_result"
    },
    {
     "data": {
      "image/png": "[encoded data removed]",
      "text/plain": [
       "<Figure size 640x480 with 1 Axes>"
      ]
     },
     "metadata": {},
     "output_type": "display_data"
    }
   ],
   "source": [
    "tree.plot_tree(dtr, \n",
    "              feature_names=['sepallen', 'sepalwid', 'petallen', 'petalwid'],\n",
    "              filled=True,\n",
    "              class_names=target_names,\n",
    "              fontsize=10)"
   ]
  },
  {
   "cell_type": "markdown",
   "id": "b3aa1968-c98b-4078-b739-8ecbeb5aa255",
   "metadata": {},
   "source": [
    "Получили очень дерево, похожее на классификационное дерево решений, однако в данном случае для определения точности используется не коэффициент Gini, а квадратичная ошибка, которая применяется аналогичным образом.\n",
    "\n",
    "Рассмотрим таблицу, показывающую результаты предсказания модели, основываясь на тестовой выборке."
   ]
  },
  {
   "cell_type": "code",
   "execution_count": null,
   "id": "f01641a5-7d64-4c6c-b44d-b9c441daa0ba",
   "metadata": {
    "tags": []
   },
   "outputs": [
    {
     "name": "stdout",
     "output_type": "stream",
     "text": [
      "   sepallen sepalwid petallen petalwid      Given Prediction  Accuracy\n",
      "26      5.0      3.4      1.6      0.4     setosa     setosa      True\n",
      "86      6.3      3.4      5.6      2.4  virginica  virginica      True\n",
      "2       4.7      3.2      1.3      0.2     setosa     setosa      True\n",
      "55      7.6      3.0      6.6      2.1  virginica  virginica      True\n",
      "75      7.2      3.2      6.0      1.8  virginica  virginica      True\n",
      "93      6.8      3.2      5.9      2.3  virginica  virginica      True\n",
      "16      5.4      3.9      1.3      0.4     setosa     setosa      True\n",
      "73      6.3      2.7      4.9      1.8  virginica  virginica      True\n",
      "54      6.5      3.0      5.8      2.2  virginica  virginica      True\n",
      "95      6.7      3.0      5.2      2.3  virginica  virginica      True\n",
      "53      6.3      2.9      5.6      1.8  virginica  virginica      True\n",
      "92      5.8      2.7      5.1      1.9  virginica  virginica      True\n",
      "78      6.4      2.8      5.6      2.1  virginica  virginica      True\n",
      "13      4.3      3.0      1.1      0.1     setosa     setosa      True\n",
      "7       5.0      3.4      1.5      0.2     setosa     setosa      True\n",
      "30      4.8      3.1      1.6      0.2     setosa     setosa      True\n",
      "22      4.6      3.6      1.0      0.2     setosa     setosa      True\n",
      "24      4.8      3.4      1.9      0.2     setosa     setosa      True\n",
      "33      5.5      4.2      1.4      0.2     setosa     setosa      True\n",
      "8       4.4      2.9      1.4      0.2     setosa     setosa      True\n"
     ]
    }
   ],
   "source": [
    "df_ = pd.DataFrame(X_test.copy())\n",
    "df_['Given'] = y_test\n",
    "df_['Prediction'] = le.inverse_transform(dtr.predict(X_test).astype('int'))\n",
    "df_['Accuracy'] = df_['Given'] == df_['Prediction']\n",
    "\n",
    "print(df_)"
   ]
  },
  {
   "cell_type": "markdown",
   "id": "5d98e489-4233-478d-b444-c69796f3cd9e",
   "metadata": {},
   "source": [
    "В таблице все значения были предсказаны правильно, однако такой способ проверки не является достаточно точным, поэтому проведем проверку с помощью кросс-валидации и вычислим среднее значение оценок, показывающее то, насколько точно наша модель может предсказывать исход по полученным данным."
   ]
  },
  {
   "cell_type": "code",
   "execution_count": null,
   "id": "9b8df503-95ce-4ac2-aadb-8e78c4074084",
   "metadata": {
    "tags": []
   },
   "outputs": [
    {
     "name": "stdout",
     "output_type": "stream",
     "text": [
      "0.97\n"
     ]
    }
   ],
   "source": [
    "cv = RepeatedStratifiedKFold(n_splits=5)\n",
    "\n",
    "y_test_encoded = le.fit_transform(y_test)\n",
    "\n",
    "scores = cross_val_score(dtr, X_test, y_test_encoded, scoring='accuracy', cv=cv, n_jobs=-1)\n",
    "mean_accuracy = np.mean(scores)\n",
    "\n",
    "print(mean_accuracy)"
   ]
  },
  {
   "cell_type": "markdown",
   "id": "88b30a9a-9a0e-4daa-ac19-4a9a852af7c8",
   "metadata": {},
   "source": [
    "Получили оценку равную 0.97, что говорит о том, что наша модель точна на 97%, что является достаточно большим значением, и можно сказать, что модель достаточно точна в своих предсказаниях.\n",
    "\n",
    "### Вывод\n",
    "\n",
    "В результате лабораторной работы можно сделать вывод о том, что лучше всего для нашей выборки работает именно дискриминантный анализ, не допуская ошибок, в то время, как деревья решений хоть и точны, но не идеальны."
   ]
  },
  {
   "cell_type": "code",
   "execution_count": null,
   "id": "a10e1aa8-1801-41b8-98a0-f0405ca5403f",
   "metadata": {},
   "outputs": [],
   "source": []
  }
 ],
 "metadata": {
  "kernelspec": {
   "display_name": "base",
   "language": "python",
   "name": "python3"
  },
  "language_info": {
   "codemirror_mode": {
    "name": "ipython",
    "version": 3
   },
   "file_extension": ".py",
   "mimetype": "text/x-python",
   "name": "python",
   "nbconvert_exporter": "python",
   "pygments_lexer": "ipython3",
   "version": "3.12.4"
  }
 },
 "nbformat": 4,
 "nbformat_minor": 5
}
