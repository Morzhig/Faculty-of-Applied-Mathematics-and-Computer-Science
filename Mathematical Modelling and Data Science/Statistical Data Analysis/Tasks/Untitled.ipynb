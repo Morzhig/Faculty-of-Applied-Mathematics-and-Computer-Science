{
 "cells": [
  {
   "cell_type": "code",
   "execution_count": 7,
   "id": "704fd55e-4d3b-429c-bbd3-4b709dd3ca91",
   "metadata": {
    "tags": []
   },
   "outputs": [
    {
     "name": "stdout",
     "output_type": "stream",
     "text": [
      "Accuracy: 1.0\n"
     ]
    }
   ],
   "source": [
    "import pandas as pd\n",
    "from sklearn.linear_model import LogisticRegression\n",
    "from sklearn.model_selection import train_test_split\n",
    "\n",
    "# Чтение данных из файла или создание DataFrame, если у вас данные уже в формате DataFrame\n",
    "data = pd.read_excel(r'D:\\Lab1.xlsx')\n",
    "\n",
    "# Преобразование данных в числовой формат\n",
    "data = data.replace(',', '.', regex=True)\n",
    "data = data.astype(float)\n",
    "\n",
    "# Добавление 0.1N к параметрам, отмеченным *\n",
    "N = 1  # Замените на свой номер варианта\n",
    "data['x3*'] = data['x3*'] + 0.1 * N\n",
    "data['x6*'] = data['x6*'] + 0.1 * N\n",
    "\n",
    "# Разделение данных на обучающую и контрольную выборки\n",
    "train_data = data[:90]\n",
    "test_data = data[90:]\n",
    "\n",
    "# Разделение на независимые переменные (X) и группирующую переменную (Y)\n",
    "X_train = train_data[['x1', 'x2', 'x3*', 'x4', 'x5', 'x6*']]\n",
    "Y_train = train_data['Y']\n",
    "X_test = test_data[['x1', 'x2', 'x3*', 'x4', 'x5', 'x6*']]\n",
    "Y_test = test_data['Y']\n",
    "\n",
    "# Обучение модели логистической регрессии\n",
    "model = LogisticRegression()\n",
    "model.fit(X_train, Y_train)\n",
    "\n",
    "# Предсказание на контрольных данных\n",
    "predictions = model.predict(X_test)\n",
    "\n",
    "# Оценка производительности модели\n",
    "accuracy = model.score(X_test, Y_test)\n",
    "print(\"Accuracy:\", accuracy)"
   ]
  },
  {
   "cell_type": "code",
   "execution_count": 10,
   "id": "8836b76d-176f-4a02-b7ee-df487e1b913a",
   "metadata": {
    "tags": []
   },
   "outputs": [
    {
     "name": "stdout",
     "output_type": "stream",
     "text": [
      "[[-0.86699711 -0.41536761  0.06640627 -0.04312919 -0.00473307 -0.49532055]]\n",
      "[24.04996459]\n"
     ]
    }
   ],
   "source": [
    "coefficients = model.coef_  # Коэффициенты дискриминантных функций\n",
    "intercepts = model.intercept_  # Свободные члены дискриминантных функций\n",
    "\n",
    "print(coefficients)\n",
    "print(intercepts)"
   ]
  },
  {
   "cell_type": "code",
   "execution_count": 15,
   "id": "3ff794bf-cbc7-4cf9-999f-bcad6b7e7dc6",
   "metadata": {
    "tags": []
   },
   "outputs": [
    {
     "name": "stdout",
     "output_type": "stream",
     "text": [
      "Optimization terminated successfully.\n",
      "         Current function value: 0.092238\n",
      "         Iterations 12\n",
      "                          MNLogit Regression Results                          \n",
      "==============================================================================\n",
      "Dep. Variable:                      Y   No. Observations:                  100\n",
      "Model:                        MNLogit   Df Residuals:                       93\n",
      "Method:                           MLE   Df Model:                            6\n",
      "Date:                Sun, 22 Oct 2023   Pseudo R-squ.:                  0.8611\n",
      "Time:                        19:34:42   Log-Likelihood:                -9.2238\n",
      "converged:                       True   LL-Null:                       -66.406\n",
      "Covariance Type:            nonrobust   LLR p-value:                 2.481e-22\n",
      "==============================================================================\n",
      "       Y=1       coef    std err          z      P>|z|      [0.025      0.975]\n",
      "------------------------------------------------------------------------------\n",
      "const         52.6630     81.708      0.645      0.519    -107.483     212.809\n",
      "x1            -1.0352      0.683     -1.516      0.129      -2.373       0.303\n",
      "x2            -0.4037      0.195     -2.072      0.038      -0.786      -0.022\n",
      "x3*            0.1618      0.471      0.344      0.731      -0.761       1.084\n",
      "x4            -3.4198     10.407     -0.329      0.742     -23.816      16.977\n",
      "x5            -3.3276     26.741     -0.124      0.901     -55.738      49.083\n",
      "x6*           -0.7013      0.713     -0.984      0.325      -2.099       0.696\n",
      "==============================================================================\n"
     ]
    }
   ],
   "source": [
    "import pandas as pd\n",
    "import statsmodels.api as sm\n",
    "\n",
    "# Предположим, у вас есть независимые переменные X и группирующая переменная Y\n",
    "X = data[['x1', 'x2', 'x3*', 'x4', 'x5', 'x6*']]\n",
    "Y = data['Y']\n",
    "\n",
    "# Добавление константы к независимым переменным\n",
    "X = sm.add_constant(X)\n",
    "\n",
    "# Создание модели мультиномиальной логистической регрессии\n",
    "model = sm.MNLogit(Y, X)\n",
    "\n",
    "# Обучение модели и получение результатов\n",
    "results = model.fit()\n",
    "\n",
    "# Вывод результатов\n",
    "print(results.summary())"
   ]
  },
  {
   "cell_type": "code",
   "execution_count": 13,
   "id": "ae682ca3-1100-47f3-88ea-55d6ebf76c69",
   "metadata": {},
   "outputs": [
    {
     "name": "stdout",
     "output_type": "stream",
     "text": [
      " -4265.52 + 4.4*1.50 - 5.96*26.00 - 13.75*14.50 + 1121.25*7.21 + 564.44*0.75 + 11.02*9.10\n"
     ]
    }
   ],
   "source": [
    "print((' -4265,52 + 4,4*1,50 - 5,96*26,00 - 13,75*14,50 + 1121,25*7,21 + 564,44*0,75 + 11,02*9,10'.replace(',', '.')))"
   ]
  },
  {
   "cell_type": "code",
   "execution_count": 14,
   "id": "423f0b15-85a7-4a4f-968a-6b521ad3c62b",
   "metadata": {
    "tags": []
   },
   "outputs": [
    {
     "name": "stdout",
     "output_type": "stream",
     "text": [
      "3994.5694999999996\n"
     ]
    }
   ],
   "source": [
    "print(-4265.52 + 4.4*1.50 - 5.96*26.00 - 13.75*14.50 + 1121.25*7.21 + 564.44*0.75 + 11.02*9.10)"
   ]
  },
  {
   "cell_type": "code",
   "execution_count": 19,
   "id": "77df2aac-b88c-4e0e-8bca-9eec94b4ba22",
   "metadata": {
    "tags": []
   },
   "outputs": [
    {
     "data": {
      "text/plain": [
       "0.9999640555528141"
      ]
     },
     "execution_count": 19,
     "metadata": {},
     "output_type": "execute_result"
    }
   ],
   "source": [
    "import math\n",
    "\n",
    "1/(1+math.exp((-67.99+1.01*1.50+0.38*26.00-0.20*14.50+5.5*7.21+3.83*0.75+0.74*9.10)))"
   ]
  },
  {
   "cell_type": "code",
   "execution_count": null,
   "id": "21697e25-221d-4b7f-989f-62c5bb89aeb1",
   "metadata": {},
   "outputs": [],
   "source": []
  }
 ],
 "metadata": {
  "kernelspec": {
   "display_name": "Python 3 (ipykernel)",
   "language": "python",
   "name": "python3"
  },
  "language_info": {
   "codemirror_mode": {
    "name": "ipython",
    "version": 3
   },
   "file_extension": ".py",
   "mimetype": "text/x-python",
   "name": "python",
   "nbconvert_exporter": "python",
   "pygments_lexer": "ipython3",
   "version": "3.11.4"
  }
 },
 "nbformat": 4,
 "nbformat_minor": 5
}
